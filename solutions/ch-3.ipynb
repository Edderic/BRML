{
 "cells": [
  {
   "cell_type": "markdown",
   "id": "2f765f39",
   "metadata": {
    "toc": "true"
   },
   "source": [
    "<h1>Table of Contents<span class=\"tocSkip\"></span></h1>\n",
    "<div class=\"toc\"><ul class=\"toc-item\"><li><span><a href=\"#Chapter-3\" data-toc-modified-id=\"Chapter-3-1\"><span class=\"toc-item-num\">1&nbsp;&nbsp;</span>Chapter 3</a></span><ul class=\"toc-item\"><li><span><a href=\"#Ex-1\" data-toc-modified-id=\"Ex-1-1.1\"><span class=\"toc-item-num\">1.1&nbsp;&nbsp;</span>Ex 1</a></span></li><li><span><a href=\"#Ex-2\" data-toc-modified-id=\"Ex-2-1.2\"><span class=\"toc-item-num\">1.2&nbsp;&nbsp;</span>Ex 2</a></span><ul class=\"toc-item\"><li><span><a href=\"#Part-I\" data-toc-modified-id=\"Part-I-1.2.1\"><span class=\"toc-item-num\">1.2.1&nbsp;&nbsp;</span>Part I</a></span><ul class=\"toc-item\"><li><span><a href=\"#Ans\" data-toc-modified-id=\"Ans-1.2.1.1\"><span class=\"toc-item-num\">1.2.1.1&nbsp;&nbsp;</span>Ans</a></span></li></ul></li><li><span><a href=\"#Part-II\" data-toc-modified-id=\"Part-II-1.2.2\"><span class=\"toc-item-num\">1.2.2&nbsp;&nbsp;</span>Part II</a></span><ul class=\"toc-item\"><li><span><a href=\"#Ans\" data-toc-modified-id=\"Ans-1.2.2.1\"><span class=\"toc-item-num\">1.2.2.1&nbsp;&nbsp;</span>Ans</a></span></li></ul></li></ul></li><li><span><a href=\"#Ex-3\" data-toc-modified-id=\"Ex-3-1.3\"><span class=\"toc-item-num\">1.3&nbsp;&nbsp;</span>Ex 3</a></span><ul class=\"toc-item\"><li><span><a href=\"#Part-I\" data-toc-modified-id=\"Part-I-1.3.1\"><span class=\"toc-item-num\">1.3.1&nbsp;&nbsp;</span>Part I</a></span><ul class=\"toc-item\"><li><span><a href=\"#Ans\" data-toc-modified-id=\"Ans-1.3.1.1\"><span class=\"toc-item-num\">1.3.1.1&nbsp;&nbsp;</span>Ans</a></span></li></ul></li></ul></li><li><span><a href=\"#Ex-6\" data-toc-modified-id=\"Ex-6-1.4\"><span class=\"toc-item-num\">1.4&nbsp;&nbsp;</span>Ex 6</a></span></li><li><span><a href=\"#Ex-8\" data-toc-modified-id=\"Ex-8-1.5\"><span class=\"toc-item-num\">1.5&nbsp;&nbsp;</span>Ex 8</a></span><ul class=\"toc-item\"><li><span><a href=\"#Part-I\" data-toc-modified-id=\"Part-I-1.5.1\"><span class=\"toc-item-num\">1.5.1&nbsp;&nbsp;</span>Part I</a></span></li><li><span><a href=\"#Part-II\" data-toc-modified-id=\"Part-II-1.5.2\"><span class=\"toc-item-num\">1.5.2&nbsp;&nbsp;</span>Part II</a></span></li></ul></li><li><span><a href=\"#Ex-3.14\" data-toc-modified-id=\"Ex-3.14-1.6\"><span class=\"toc-item-num\">1.6&nbsp;&nbsp;</span>Ex 3.14</a></span><ul class=\"toc-item\"><li><span><a href=\"#Ans\" data-toc-modified-id=\"Ans-1.6.1\"><span class=\"toc-item-num\">1.6.1&nbsp;&nbsp;</span>Ans</a></span></li></ul></li><li><span><a href=\"#Ex-3.15\" data-toc-modified-id=\"Ex-3.15-1.7\"><span class=\"toc-item-num\">1.7&nbsp;&nbsp;</span>Ex 3.15</a></span><ul class=\"toc-item\"><li><span><a href=\"#Part-I\" data-toc-modified-id=\"Part-I-1.7.1\"><span class=\"toc-item-num\">1.7.1&nbsp;&nbsp;</span>Part I</a></span><ul class=\"toc-item\"><li><span><a href=\"#Ans\" data-toc-modified-id=\"Ans-1.7.1.1\"><span class=\"toc-item-num\">1.7.1.1&nbsp;&nbsp;</span>Ans</a></span></li></ul></li><li><span><a href=\"#Part-II\" data-toc-modified-id=\"Part-II-1.7.2\"><span class=\"toc-item-num\">1.7.2&nbsp;&nbsp;</span>Part II</a></span><ul class=\"toc-item\"><li><span><a href=\"#Ans\" data-toc-modified-id=\"Ans-1.7.2.1\"><span class=\"toc-item-num\">1.7.2.1&nbsp;&nbsp;</span>Ans</a></span></li></ul></li></ul></li><li><span><a href=\"#Ex-3.17\" data-toc-modified-id=\"Ex-3.17-1.8\"><span class=\"toc-item-num\">1.8&nbsp;&nbsp;</span>Ex 3.17</a></span><ul class=\"toc-item\"><li><span><a href=\"#Part-I\" data-toc-modified-id=\"Part-I-1.8.1\"><span class=\"toc-item-num\">1.8.1&nbsp;&nbsp;</span>Part I</a></span><ul class=\"toc-item\"><li><span><a href=\"#Ans\" data-toc-modified-id=\"Ans-1.8.1.1\"><span class=\"toc-item-num\">1.8.1.1&nbsp;&nbsp;</span>Ans</a></span></li></ul></li></ul></li><li><span><a href=\"#Ex-3.20\" data-toc-modified-id=\"Ex-3.20-1.9\"><span class=\"toc-item-num\">1.9&nbsp;&nbsp;</span>Ex 3.20</a></span></li><li><span><a href=\"#Ex-3.21\" data-toc-modified-id=\"Ex-3.21-1.10\"><span class=\"toc-item-num\">1.10&nbsp;&nbsp;</span>Ex 3.21</a></span><ul class=\"toc-item\"><li><span><a href=\"#1.\" data-toc-modified-id=\"1.-1.10.1\"><span class=\"toc-item-num\">1.10.1&nbsp;&nbsp;</span>1.</a></span><ul class=\"toc-item\"><li><span><a href=\"#Ans\" data-toc-modified-id=\"Ans-1.10.1.1\"><span class=\"toc-item-num\">1.10.1.1&nbsp;&nbsp;</span>Ans</a></span></li></ul></li><li><span><a href=\"#2.\" data-toc-modified-id=\"2.-1.10.2\"><span class=\"toc-item-num\">1.10.2&nbsp;&nbsp;</span>2.</a></span><ul class=\"toc-item\"><li><span><a href=\"#Ans\" data-toc-modified-id=\"Ans-1.10.2.1\"><span class=\"toc-item-num\">1.10.2.1&nbsp;&nbsp;</span>Ans</a></span></li></ul></li><li><span><a href=\"#3.\" data-toc-modified-id=\"3.-1.10.3\"><span class=\"toc-item-num\">1.10.3&nbsp;&nbsp;</span>3.</a></span></li><li><span><a href=\"#4.\" data-toc-modified-id=\"4.-1.10.4\"><span class=\"toc-item-num\">1.10.4&nbsp;&nbsp;</span>4.</a></span></li></ul></li><li><span><a href=\"#Ex-3.22\" data-toc-modified-id=\"Ex-3.22-1.11\"><span class=\"toc-item-num\">1.11&nbsp;&nbsp;</span>Ex 3.22</a></span></li><li><span><a href=\"#Ex-3.23\" data-toc-modified-id=\"Ex-3.23-1.12\"><span class=\"toc-item-num\">1.12&nbsp;&nbsp;</span>Ex 3.23</a></span><ul class=\"toc-item\"><li><span><a href=\"#Part-I\" data-toc-modified-id=\"Part-I-1.12.1\"><span class=\"toc-item-num\">1.12.1&nbsp;&nbsp;</span>Part I</a></span></li><li><span><a href=\"#Part-II\" data-toc-modified-id=\"Part-II-1.12.2\"><span class=\"toc-item-num\">1.12.2&nbsp;&nbsp;</span>Part II</a></span><ul class=\"toc-item\"><li><span><a href=\"#Ans\" data-toc-modified-id=\"Ans-1.12.2.1\"><span class=\"toc-item-num\">1.12.2.1&nbsp;&nbsp;</span>Ans</a></span></li></ul></li><li><span><a href=\"#Part-III\" data-toc-modified-id=\"Part-III-1.12.3\"><span class=\"toc-item-num\">1.12.3&nbsp;&nbsp;</span>Part III</a></span></li><li><span><a href=\"#Part-IV\" data-toc-modified-id=\"Part-IV-1.12.4\"><span class=\"toc-item-num\">1.12.4&nbsp;&nbsp;</span>Part IV</a></span></li></ul></li><li><span><a href=\"#Ex-3.26\" data-toc-modified-id=\"Ex-3.26-1.13\"><span class=\"toc-item-num\">1.13&nbsp;&nbsp;</span>Ex 3.26</a></span><ul class=\"toc-item\"><li><span><a href=\"#Part-I\" data-toc-modified-id=\"Part-I-1.13.1\"><span class=\"toc-item-num\">1.13.1&nbsp;&nbsp;</span>Part I</a></span></li><li><span><a href=\"#Part-2\" data-toc-modified-id=\"Part-2-1.13.2\"><span class=\"toc-item-num\">1.13.2&nbsp;&nbsp;</span>Part 2</a></span></li><li><span><a href=\"#Part-3\" data-toc-modified-id=\"Part-3-1.13.3\"><span class=\"toc-item-num\">1.13.3&nbsp;&nbsp;</span>Part 3</a></span></li></ul></li></ul></li></ul></div>"
   ]
  },
  {
   "cell_type": "markdown",
   "id": "667f9aa0",
   "metadata": {},
   "source": [
    "# Chapter 3"
   ]
  },
  {
   "cell_type": "markdown",
   "id": "5ab1ca20",
   "metadata": {},
   "source": [
    "## Ex 1\n",
    "\n",
    "(Party Animal). The party animal problem corresponds to the network in fig(3.14). The boss is angry and the worker has a headache – what is the probability the worker has been to a party? To complete the specifications, the probabilities are given as follows:\n",
    "\n",
    "| ------------------------------------ | ------------------------------------ | ------------------------------------ |\n",
    "|-|-|-|\n",
    "| $p(U=tr|P=tr,D=tr)=0.999$ | $p(U=tr|P=fa,D=tr)=0.9$ | $p(H=tr|P=tr)=0.9$ |\n",
    "| $p(U = tr|P = tr, D = fa) = 0.9$ | $p(U = tr|P = fa, D = fa) = 0.01$ | $p(H = tr|P = fa) = 0.2$ |\n",
    "| $p(A=tr|U =tr)=0.95$ | $p(A=tr|U =fa)=0.5$ |  $p(P =tr)=0.2, p(D=tr)=0.4$ |\n"
   ]
  },
  {
   "cell_type": "code",
   "execution_count": 1,
   "id": "43929061",
   "metadata": {},
   "outputs": [
    {
     "data": {
      "image/svg+xml": [
       "<?xml version=\"1.0\" encoding=\"UTF-8\" standalone=\"no\"?>\n",
       "<!DOCTYPE svg PUBLIC \"-//W3C//DTD SVG 1.1//EN\"\n",
       " \"http://www.w3.org/Graphics/SVG/1.1/DTD/svg11.dtd\">\n",
       "<!-- Generated by graphviz version 2.47.0 (0)\n",
       " -->\n",
       "<!-- Pages: 1 -->\n",
       "<svg width=\"134pt\" height=\"188pt\"\n",
       " viewBox=\"0.00 0.00 134.00 188.00\" xmlns=\"http://www.w3.org/2000/svg\" xmlns:xlink=\"http://www.w3.org/1999/xlink\">\n",
       "<g id=\"graph0\" class=\"graph\" transform=\"scale(1 1) rotate(0) translate(4 184)\">\n",
       "<polygon fill=\"white\" stroke=\"transparent\" points=\"-4,4 -4,-184 130,-184 130,4 -4,4\"/>\n",
       "<!-- P -->\n",
       "<g id=\"node1\" class=\"node\">\n",
       "<title>P</title>\n",
       "<ellipse fill=\"none\" stroke=\"black\" cx=\"99\" cy=\"-162\" rx=\"27\" ry=\"18\"/>\n",
       "<text text-anchor=\"middle\" x=\"99\" y=\"-158.3\" font-family=\"Times,serif\" font-size=\"14.00\">P</text>\n",
       "</g>\n",
       "<!-- U -->\n",
       "<g id=\"node2\" class=\"node\">\n",
       "<title>U</title>\n",
       "<ellipse fill=\"none\" stroke=\"black\" cx=\"27\" cy=\"-90\" rx=\"27\" ry=\"18\"/>\n",
       "<text text-anchor=\"middle\" x=\"27\" y=\"-86.3\" font-family=\"Times,serif\" font-size=\"14.00\">U</text>\n",
       "</g>\n",
       "<!-- P&#45;&gt;U -->\n",
       "<g id=\"edge1\" class=\"edge\">\n",
       "<title>P&#45;&gt;U</title>\n",
       "<path fill=\"none\" stroke=\"black\" d=\"M84.43,-146.83C74.25,-136.94 60.48,-123.55 48.97,-112.36\"/>\n",
       "<polygon fill=\"black\" stroke=\"black\" points=\"51.41,-109.85 41.8,-105.38 46.53,-114.87 51.41,-109.85\"/>\n",
       "</g>\n",
       "<!-- H -->\n",
       "<g id=\"node3\" class=\"node\">\n",
       "<title>H</title>\n",
       "<ellipse fill=\"none\" stroke=\"black\" cx=\"99\" cy=\"-90\" rx=\"27\" ry=\"18\"/>\n",
       "<text text-anchor=\"middle\" x=\"99\" y=\"-86.3\" font-family=\"Times,serif\" font-size=\"14.00\">H</text>\n",
       "</g>\n",
       "<!-- P&#45;&gt;H -->\n",
       "<g id=\"edge2\" class=\"edge\">\n",
       "<title>P&#45;&gt;H</title>\n",
       "<path fill=\"none\" stroke=\"black\" d=\"M99,-143.7C99,-135.98 99,-126.71 99,-118.11\"/>\n",
       "<polygon fill=\"black\" stroke=\"black\" points=\"102.5,-118.1 99,-108.1 95.5,-118.1 102.5,-118.1\"/>\n",
       "</g>\n",
       "<!-- A -->\n",
       "<g id=\"node4\" class=\"node\">\n",
       "<title>A</title>\n",
       "<ellipse fill=\"none\" stroke=\"black\" cx=\"27\" cy=\"-18\" rx=\"27\" ry=\"18\"/>\n",
       "<text text-anchor=\"middle\" x=\"27\" y=\"-14.3\" font-family=\"Times,serif\" font-size=\"14.00\">A</text>\n",
       "</g>\n",
       "<!-- U&#45;&gt;A -->\n",
       "<g id=\"edge3\" class=\"edge\">\n",
       "<title>U&#45;&gt;A</title>\n",
       "<path fill=\"none\" stroke=\"black\" d=\"M27,-71.7C27,-63.98 27,-54.71 27,-46.11\"/>\n",
       "<polygon fill=\"black\" stroke=\"black\" points=\"30.5,-46.1 27,-36.1 23.5,-46.1 30.5,-46.1\"/>\n",
       "</g>\n",
       "<!-- D -->\n",
       "<g id=\"node5\" class=\"node\">\n",
       "<title>D</title>\n",
       "<ellipse fill=\"none\" stroke=\"black\" cx=\"27\" cy=\"-162\" rx=\"27\" ry=\"18\"/>\n",
       "<text text-anchor=\"middle\" x=\"27\" y=\"-158.3\" font-family=\"Times,serif\" font-size=\"14.00\">D</text>\n",
       "</g>\n",
       "<!-- D&#45;&gt;U -->\n",
       "<g id=\"edge4\" class=\"edge\">\n",
       "<title>D&#45;&gt;U</title>\n",
       "<path fill=\"none\" stroke=\"black\" d=\"M27,-143.7C27,-135.98 27,-126.71 27,-118.11\"/>\n",
       "<polygon fill=\"black\" stroke=\"black\" points=\"30.5,-118.1 27,-108.1 23.5,-118.1 30.5,-118.1\"/>\n",
       "</g>\n",
       "</g>\n",
       "</svg>\n"
      ],
      "text/plain": [
       "<graphviz.dot.Digraph at 0x10dc23cd0>"
      ]
     },
     "execution_count": 1,
     "metadata": {},
     "output_type": "execute_result"
    }
   ],
   "source": [
    "from graphviz import Digraph\n",
    "dag = Digraph()\n",
    "dag.edge('P', 'U')\n",
    "dag.edge('P', 'H')\n",
    "dag.edge('U', 'A')\n",
    "dag.edge('D', 'U')\n",
    "dag"
   ]
  },
  {
   "cell_type": "markdown",
   "id": "62606d9f",
   "metadata": {},
   "source": [
    "$$\n",
    "\\begin{equation}\n",
    "\\begin{aligned}\n",
    "P(P=1 \\mid H=1, A=1)\n",
    "&= \\sum_u \\sum_d P(P=1, U=u, D=d \\mid H=1, A=1) \\\\\n",
    "&= \\sum_u \\sum_d \\frac{P(H=1, A=1 \\mid P=1, U=u, D=d) \\cdot P(P=1, U=u, D=d)}{P(H=1, A=1)} \\\\\n",
    "&= \\sum_u \\sum_d \\frac{P(H=1 \\mid P=1, U=u, D=d) \\cdot P(A=1 \\mid P=1, U=u, D=d) \\cdot P(P=1, U=u, D=d)}{P(H=1, A=1)} & \\text{Once we know the parents of $H$ and $A$, they are independent from each other.}\\\\\n",
    "&= \\sum_u \\sum_d \\frac{P(H=1 \\mid P=1) \\cdot P(A=1 \\mid U=u) \\cdot P(P=1, U=u, D=d)}{P(H=1, A=1)} & \\text{Once we know the parents of $H$ and $A$, they are independent of the d-separated from the other vars.}\\\\\n",
    "&= \\sum_u \\sum_d \\frac{P(H=1 \\mid P=1) \\cdot P(A=1 \\mid U=u) \\cdot P(U=u \\mid P=1, D=d) \\cdot P(P=1) \\cdot P(D=d)}{P(H=1, A=1)} \\\\\n",
    "&=\\frac{ \\sum_u \\sum_d P(H=1 \\mid P=1) \\cdot P(A=1 \\mid U=u) \\cdot P(U=u \\mid P=1, D=d) \\cdot P(P=1) \\cdot P(D=d)}{\\sum_p \\sum_u \\sum_d P(H=1 \\mid P=p) \\cdot P(A=1 \\mid U=u) \\cdot P(U=u \\mid P=p, D=d) \\cdot P(P=p) \\cdot P(D=d)} \\\\\n",
    "&=\\frac{ P(P=1) \\cdot P(H=1 \\mid P=1) \\cdot \\sum_u P(A=1 \\mid U=u) \\cdot \\sum_d P(U=u \\mid P=1, D=d) \\cdot P(D=d)}{ \\sum_p P(P=p) \\cdot P(H=1 \\mid P=p) \\cdot \\sum_u P(A=1 \\mid U=u) \\cdot \\sum_d P(U=u \\mid P=p, D=d) \\cdot P(D=d)} \\\\\n",
    "\\end{aligned}\n",
    "\\end{equation}\n",
    "$$\n",
    "\n",
    "Numerator:\n",
    "$$\n",
    "\\begin{equation}\n",
    "\\begin{aligned}\n",
    " P(P=1) \\cdot P(H=1 \\mid P=1) \\cdot \\sum_u P(A=1 \\mid U=u) \\cdot \\sum_d P(U=u \\mid P=1, D=d) \\cdot P(D=d)\n",
    " &= 0.2 \\cdot 0.9 \\cdot \\sum_u P(A=1 \\mid U=u) \\cdot \\sum_d P(U=u \\mid P=1, D=d) \\cdot P(D=d) \\\\\n",
    " &= 0.2 \\cdot 0.9 \\cdot  \\\\\n",
    " &\\qquad [P(A=1 \\mid U=0) \\cdot (P(U=0 \\mid P=1, D=0) \\cdot P(D=0)  \\\\\n",
    " &\\qquad + P(U=0 \\mid P=1, D=1) \\cdot P(D=1))  \\\\\n",
    " &\\qquad + P(A=1 \\mid U=1) \\cdot (P(U=1 \\mid P=1, D=0) \\cdot P(D=0)  \\\\\n",
    " &\\qquad + P(U=1 \\mid P=1, D=1) \\cdot P(D=1))] \\\\\n",
    "&= 0.2 \\cdot 0.9 \\cdot 0.5 \\cdot (0.1 \\cdot 0.6 + 0.001 \\cdot 0.4) + 0.95 \\cdot (0.9 \\cdot 0.6 + 0.999 \\cdot 0.4) \\\\\n",
    "&\\approx 0.898056\n",
    "\\end{aligned}\n",
    "\\end{equation}\n",
    "$$\n",
    "\n",
    "Denominator:\n",
    "$$\n",
    "\\begin{equation}\n",
    "\\begin{aligned}\n",
    " \\sum_p P(P=p) \\cdot P(H=1 \\mid P=p) \\cdot \\sum_u P(A=1 \\mid U=u) \\cdot \\sum_d P(U=u \\mid P=p, D=d) \\cdot P(D=d)\n",
    "&= 0.898056 + P(P=0) \\cdot P(H=1 \\mid P=0) \\cdot \\sum_u P(A=1 \\mid U=u) \\cdot \\sum_d P(U=u \\mid P=0, D=d) \\cdot P(D=d)  \\\\\n",
    "&= 0.898056 + 0.8 \\cdot 0.2 \\cdot P(A=1 \\mid U=0) \\cdot \\sum_d P(U=0 \\mid P=0, D=d) \\cdot P(D=d) \\\\\n",
    "&\\qquad + P(A=1 \\mid U=1) \\cdot \\sum_d P(U=1 \\mid P=0, D=d) \\cdot P(D=d) \\\\\n",
    "&= 0.898056 + 0.8 \\cdot 0.2 \\cdot P(A=1 \\mid U=0) \\cdot [P(U=0 \\mid P=0, D=0) \\cdot P(D=0) + P(U=0 \\mid P=0, D=1) \\cdot P(D=1)] \\\\\n",
    "&\\qquad + P(A=1 \\mid U=1) \\cdot [P(U=1 \\mid P=0, D=0) \\cdot P(D=0) + P(U=1 \\mid P=0, D=1) \\cdot P(D=1)] \\\\\n",
    "&= 0.898056 + 0.8 \\cdot 0.2 \\cdot 0.5 \\cdot (0.99 \\cdot 0.6 + 0.1 \\cdot 0.4) + 0.95 \\cdot (0.01 \\cdot 0.6 + 0.9 \\cdot 0.4) \\\\\n",
    "&= 2.194532\n",
    "\\end{aligned}\n",
    "\\end{equation}\n",
    "$$\n",
    "\n",
    "Thus, $P(P=1 \\mid H=1, A=1) = \\frac{0.898056}{2.194532} \\approx 41\\%.$ \n",
    "\n",
    "\n",
    "\n"
   ]
  },
  {
   "cell_type": "code",
   "execution_count": 3,
   "id": "56a085cb",
   "metadata": {},
   "outputs": [],
   "source": [
    "numerator = 0.2*0.9*0.5*(0.1*0.6+0.001*0.4)+0.95*(0.9*0.6+0.999*0.4)"
   ]
  },
  {
   "cell_type": "code",
   "execution_count": 4,
   "id": "c874bf81",
   "metadata": {},
   "outputs": [
    {
     "data": {
      "text/plain": [
       "0.898056"
      ]
     },
     "execution_count": 4,
     "metadata": {},
     "output_type": "execute_result"
    }
   ],
   "source": [
    "numerator"
   ]
  },
  {
   "cell_type": "code",
   "execution_count": 5,
   "id": "8d3e7285",
   "metadata": {},
   "outputs": [],
   "source": [
    "denominator = numerator + 0.898056 + 0.8 * 0.2 * 0.5 * (0.99 * 0.6 + 0.1 * 0.4) + 0.95 * (0.01 * 0.6 + 0.9 * 0.4)"
   ]
  },
  {
   "cell_type": "code",
   "execution_count": 6,
   "id": "985e1fce",
   "metadata": {},
   "outputs": [
    {
     "data": {
      "text/plain": [
       "2.194532"
      ]
     },
     "execution_count": 6,
     "metadata": {},
     "output_type": "execute_result"
    }
   ],
   "source": [
    "denominator"
   ]
  },
  {
   "cell_type": "code",
   "execution_count": 7,
   "id": "ffd20ed3",
   "metadata": {},
   "outputs": [
    {
     "data": {
      "text/plain": [
       "0.40922438132595007"
      ]
     },
     "execution_count": 7,
     "metadata": {},
     "output_type": "execute_result"
    }
   ],
   "source": [
    "numerator / denominator"
   ]
  },
  {
   "cell_type": "markdown",
   "id": "3b4ad409",
   "metadata": {},
   "source": [
    "## Ex 2\n",
    "\n",
    "Consider the distribution $p(a,b,c) = p(c \\mid a,b) \\cdot p(a) \\cot p(b)$. \n",
    "\n",
    "### Part I\n",
    "\n",
    "Is $a \\perp b \\mid \\emptyset$?\n",
    "\n",
    "#### Ans\n",
    "\n",
    "$$\n",
    "\\begin{equation}\n",
    "\\begin{aligned}\n",
    "p(a,b,c) &= p(c \\mid a,b) \\cdot p(a) \\cdot p(b) \\\\\n",
    "p(a,b,c) \\cdot \\frac{p(a,b)}{p(a,b,c)} &= p(c \\mid a,b) \\cdot \\frac{p(a,b)}{p(a,b,c)} \\cdot p(a) \\cdot p(b) \\\\\n",
    "p(a,b) &= p(a) \\cdot p(b)\n",
    "\\end{aligned}\n",
    "\\end{equation}\n",
    "$$\n",
    "\n",
    "Therefore, $a \\perp b \\mid \\emptyset$.\n"
   ]
  },
  {
   "cell_type": "code",
   "execution_count": null,
   "id": "271580ef",
   "metadata": {},
   "outputs": [],
   "source": []
  },
  {
   "cell_type": "code",
   "execution_count": null,
   "id": "7152dbc3",
   "metadata": {},
   "outputs": [],
   "source": []
  },
  {
   "cell_type": "code",
   "execution_count": null,
   "id": "6c0a0931",
   "metadata": {},
   "outputs": [],
   "source": []
  },
  {
   "cell_type": "markdown",
   "id": "e0d7e030",
   "metadata": {},
   "source": [
    "### Part II\n",
    "Is $a \\perp b \\mid c$?\n",
    "\n",
    "#### Ans\n",
    "\n",
    "Not in general. Consider the case $A \\rightarrow C \\leftarrow B$. $C$ is a collider. Conditioning on $C$ and $A$ could tell us something about $B$."
   ]
  },
  {
   "cell_type": "markdown",
   "id": "72f29885",
   "metadata": {},
   "source": [
    "## Ex 3\n",
    "\n",
    "The Chest Clinic network[185] concerns the diagnosis of lung disease (tuberculosis, lung cancer, or both, or neither), see fig(3.15). In this model a visit to Asia is assumed to increase the probability of tuberculosis. State if the following conditional independence relationships are true or false\n",
    "\n",
    "### Part I\n",
    "\n",
    "1. $\\text{tuberculosis} \\perp \\text{smoking} \\mid \\text{shortness of breath}$\n",
    "\n",
    "#### Ans\n",
    "\n",
    "False. $t \\rightarrow e \\rightarrow d \\leftarrow b \\leftarrow s$ is open after conditioning on $d$."
   ]
  },
  {
   "cell_type": "code",
   "execution_count": 8,
   "id": "cf43f46d",
   "metadata": {},
   "outputs": [],
   "source": [
    "proba_d = 0.1 * (1-0.064828) * 0.7 * 0.5 + \\\n",
    "0.7 * (0.064828) * 0.7 * 0.5 + \\\n",
    "0.8 * (1-0.064828) * 0.3 * 0.5 + \\\n",
    "0.9 * (0.064828) * 0.3 * 0.5 + \\\n",
    "0.1 * (1-0.064828) * 0.4 * 0.5 + \\\n",
    "0.7 * (0.064828) * 0.4 * 0.5 + \\\n",
    "0.8 * (1-0.064828) * 0.6 * 0.5 + \\\n",
    "0.9 * (0.064828) * 0.6 * 0.5\n"
   ]
  },
  {
   "cell_type": "code",
   "execution_count": 9,
   "id": "e6ca66da",
   "metadata": {},
   "outputs": [
    {
     "data": {
      "text/plain": [
       "0.43931049999999994"
      ]
     },
     "execution_count": 9,
     "metadata": {},
     "output_type": "execute_result"
    }
   ],
   "source": [
    "proba_d"
   ]
  },
  {
   "cell_type": "code",
   "execution_count": 10,
   "id": "8c4329f6",
   "metadata": {},
   "outputs": [],
   "source": [
    "proba_d_given_s_is_1 = 0.1 * 0.4 * ((1-0.0104) * 0.9) + 0 * 0.1 + \\\n",
    "0.7 * 0.4 * ((0.0104) * 0.9) + 1 * 0.1 + \\\n",
    "0.8 * 0.6 * ((1-0.0104) * 0.9) + 0 * 0.1 + \\\n",
    "0.9 * 0.6 * ((0.0104) * 0.9) + 1 * 0.1 \n"
   ]
  },
  {
   "cell_type": "code",
   "execution_count": 11,
   "id": "4eb811d2",
   "metadata": {},
   "outputs": [
    {
     "data": {
      "text/plain": [
       "0.6708080000000001"
      ]
     },
     "execution_count": 11,
     "metadata": {},
     "output_type": "execute_result"
    }
   ],
   "source": [
    "proba_d_given_s_is_1"
   ]
  },
  {
   "cell_type": "code",
   "execution_count": 12,
   "id": "67a6dbb9",
   "metadata": {},
   "outputs": [
    {
     "data": {
      "text/plain": [
       "0.3115332"
      ]
     },
     "execution_count": 12,
     "metadata": {},
     "output_type": "execute_result"
    }
   ],
   "source": [
    "proba_d_given_s_is_0 = 0.1 * 0.7 * ((1-0.0104) * 0.99) + \\\n",
    "    0.7*0.7 * 0.0104*0.99 + \\\n",
    "    0.8 * 0.3 * (1-0.0104) * 0.99 + \\\n",
    "    0.9 * 0.3 * 0.0104 * 0.99\n",
    "proba_d_given_s_is_0"
   ]
  },
  {
   "cell_type": "markdown",
   "id": "8e9e006b",
   "metadata": {},
   "source": [
    "## Ex 6"
   ]
  },
  {
   "cell_type": "code",
   "execution_count": 16,
   "id": "c46ffbc9",
   "metadata": {},
   "outputs": [
    {
     "data": {
      "text/plain": [
       "0.4537471991823578"
      ]
     },
     "execution_count": 16,
     "metadata": {},
     "output_type": "execute_result"
    }
   ],
   "source": [
    "num = 0.99 * ((0.98 * 0.02) + (0.03 * 0.98)) * 0.05 + \\\n",
    "    0.92 * ((0.02 * 0.02) + (0.97 * 0.98)) * 0.05\n",
    "\n",
    "denom = num + \\\n",
    "    1 * ((0.98 * 0.02) + 0.03 * 0.98) * 0.95 \\\n",
    "    + 0.01 * ((0.02 * 0.02) + 0.97 * 0.98) * 0.95\n",
    "\n",
    "proba_f_empty_given_s_no = num / denom\n",
    "proba_f_empty_given_s_no"
   ]
  },
  {
   "cell_type": "markdown",
   "id": "fd0ba8a7",
   "metadata": {},
   "source": [
    "## Ex 8\n",
    "\n"
   ]
  },
  {
   "cell_type": "markdown",
   "id": "23901ee1",
   "metadata": {},
   "source": [
    "### Part I"
   ]
  },
  {
   "cell_type": "code",
   "execution_count": 17,
   "id": "21cb9cb4",
   "metadata": {},
   "outputs": [
    {
     "data": {
      "text/plain": [
       "0.013377285445973396"
      ]
     },
     "execution_count": 17,
     "metadata": {},
     "output_type": "execute_result"
    }
   ],
   "source": [
    "num = 0.5 * 0.01 *0.01 + \\\n",
    "    0.7 * 0.99 * 0.01\n",
    "\n",
    "denom = num + 0.5 * 0.95 * 0.99 + \\\n",
    "    0.9 * 0.05 * 0.99\n",
    "\n",
    "proba_b_tr_given_w_tr = num / denom\n",
    "proba_b_tr_given_w_tr"
   ]
  },
  {
   "cell_type": "markdown",
   "id": "a0eea1b7",
   "metadata": {},
   "source": [
    "### Part II"
   ]
  },
  {
   "cell_type": "code",
   "execution_count": 19,
   "id": "b4dfc15c",
   "metadata": {},
   "outputs": [
    {
     "data": {
      "text/plain": [
       "0.41586132957467714"
      ]
     },
     "execution_count": 19,
     "metadata": {},
     "output_type": "execute_result"
    }
   ],
   "source": [
    "num = 0.8 * 0.5 * 0.01 * 0.01 \\\n",
    "    + 0.3 *0.9 *0.99 + 0.01\n",
    "\n",
    "denom = num + 0.8 * 0.5 * 0.95 * 0.99 \\\n",
    "    + 0.3 * 0.9 * 0.05 * 0.99\n",
    "\n",
    "proba_b_tr_given_w_tr_g_tr = num / denom\n",
    "proba_b_tr_given_w_tr_g_tr"
   ]
  },
  {
   "cell_type": "markdown",
   "id": "352b7179",
   "metadata": {},
   "source": [
    "## Ex 3.14\n",
    "\n",
    "There are three computers indexed by $i ∈ {1,2,3}$. Computer $i$ can send a message in one timestep to computer $j$ if $C_{ij} = 1$, otherwise $C_{ij} = 0$. There is a fault in the network and the task is to find out some information about the communication matrix C (C is not necessarily symmetric). To do this, Thomas, the engineer, will run some tests that reveal whether or not computer $i$ can send a message to computer $j$ in $t$ timesteps, $t ∈ \\{1,2\\}$. This is expressed as $C_{ij}(t)$, with $C_{ij}(1) ≡ C_{ij}$. For example, he might know that $C_{13}(2) = 1$, meaning that according to his test, a message sent from computer 1 will arrive at computer 3 in at most 2 timesteps. Note that this message could go via different routes – it might go directly from 1 to 3 in one timestep, or indirectly from 1 to 2 and then from 2 to 3, or both. You may assume $C_{ii} = 1$. A priori Thomas thinks there is a 10% probability that $C_{ij} = 1, i \\neq j$, and assumes that each such connection is independent of the rest. Given the test information $C = \\{C_{12}(2) = 1, C_{23}(2) = 0\\}$, compute the a posteriori probability vector:\n",
    "\n",
    "$\\qquad [p(C_{12} = 1 \\mid C), p(C_{13} = 1 \\mid C), p(C_{23} = 1 \\mid C), p(C_{32} = 1 \\mid C), p(C_{21} = 1 \\mid C), p(C_{31} = 1 \\mid C)]$"
   ]
  },
  {
   "cell_type": "markdown",
   "id": "62cd359d",
   "metadata": {},
   "source": [
    "### Ans\n",
    "\n",
    "The given information can be represented as adjacency matrices. The following adjacency matrix has a 1 when a computer $i$ can reach another computer $j$ in 1 timestep:\n",
    "\n",
    "$$\n",
    "\\begin{bmatrix}\n",
    "    1 & ? & ? \\\\\n",
    "    ? & 1 & ? \\\\\n",
    "    ? & ? & 1\n",
    "\\end{bmatrix}\n",
    "$$\n",
    "\n",
    "We fill the diagonal with 1s because it was given that $C_{ij} = 1$ for $i = j$. The rest are filled with question marks to represent uncertainty.\n",
    "\n",
    "We are also given the information that $C = \\{C_{12}(2) = 1, C_{23}(2) = 0\\}$. We could represent this as follows:\n",
    "\n",
    "$$\n",
    "\\begin{bmatrix}\n",
    "    ? & > 0 & ? \\\\\n",
    "    ? & ? & 0 \\\\\n",
    "    ? & ? & ?\n",
    "\\end{bmatrix}\n",
    "$$\n",
    "\n",
    "$C_{12}(2) = 1$ is represented as $> 0$ having at least one path from computer 1 to computer 2 satisfies the statement $C_{12}(2) = 1$. \n",
    "\n",
    "We can run a simulation where we stochastically generate values for the question marks in the first matrix according to the assumption that each computer being able to reach other computers in one timestep has a 10% probability. We then square that matrix and then filter for what we know, namely that row 1, col 2 has value greater than 0, and that row 2, column 3 has has value 0. Once we've collected enough of those, we could calculate estimates for the posterior distributions of interest."
   ]
  },
  {
   "cell_type": "code",
   "execution_count": 4,
   "id": "c9315309",
   "metadata": {},
   "outputs": [],
   "source": [
    "import numpy as np"
   ]
  },
  {
   "cell_type": "code",
   "execution_count": 6,
   "id": "ef604a7b",
   "metadata": {},
   "outputs": [
    {
     "data": {
      "text/plain": [
       "array([[1, 2, 3],\n",
       "       [4, 5, 6],\n",
       "       [7, 8, 9]])"
      ]
     },
     "execution_count": 6,
     "metadata": {},
     "output_type": "execute_result"
    }
   ],
   "source": [
    "arr = np.array([[1,2,3], [4,5,6], [7,8,9]])\n",
    "arr"
   ]
  },
  {
   "cell_type": "code",
   "execution_count": null,
   "id": "6f62b3bc",
   "metadata": {},
   "outputs": [],
   "source": []
  },
  {
   "cell_type": "code",
   "execution_count": 15,
   "id": "310f18d3",
   "metadata": {},
   "outputs": [
    {
     "data": {
      "text/plain": [
       "array([[[1, 2, 3],\n",
       "        [4, 5, 6],\n",
       "        [7, 8, 9]],\n",
       "\n",
       "       [[1, 2, 3],\n",
       "        [4, 5, 6],\n",
       "        [7, 8, 9]]])"
      ]
     },
     "execution_count": 15,
     "metadata": {},
     "output_type": "execute_result"
    }
   ],
   "source": [
    "three_d = np.array([arr, arr])\n",
    "three_d"
   ]
  },
  {
   "cell_type": "code",
   "execution_count": 16,
   "id": "ff1377bb",
   "metadata": {},
   "outputs": [
    {
     "data": {
      "text/plain": [
       "array([6, 6])"
      ]
     },
     "execution_count": 16,
     "metadata": {},
     "output_type": "execute_result"
    }
   ],
   "source": [
    "three_d[:,1,2]"
   ]
  },
  {
   "cell_type": "code",
   "execution_count": 12,
   "id": "22d3457c",
   "metadata": {},
   "outputs": [
    {
     "data": {
      "text/plain": [
       "(array([0, 1]), array([0, 0]), array([2, 2]))"
      ]
     },
     "execution_count": 12,
     "metadata": {},
     "output_type": "execute_result"
    }
   ],
   "source": [
    "np.where(np.array([arr, arr]) == 3)"
   ]
  },
  {
   "cell_type": "code",
   "execution_count": 14,
   "id": "792aab70",
   "metadata": {},
   "outputs": [
    {
     "data": {
      "text/plain": [
       "(array([0, 0, 0, 0, 0, 0, 1, 1, 1, 1, 1, 1]),\n",
       " array([1, 1, 1, 2, 2, 2, 1, 1, 1, 2, 2, 2]),\n",
       " array([0, 1, 2, 0, 1, 2, 0, 1, 2, 0, 1, 2]))"
      ]
     },
     "execution_count": 14,
     "metadata": {},
     "output_type": "execute_result"
    }
   ],
   "source": [
    "np.where(np.array([arr, arr]) > 3)"
   ]
  },
  {
   "cell_type": "code",
   "execution_count": 8,
   "id": "789eac7f",
   "metadata": {
    "scrolled": true
   },
   "outputs": [
    {
     "data": {
      "text/plain": [
       "array([[ 30,  36,  42],\n",
       "       [ 66,  81,  96],\n",
       "       [102, 126, 150]])"
      ]
     },
     "execution_count": 8,
     "metadata": {},
     "output_type": "execute_result"
    }
   ],
   "source": [
    "arr.dot(arr)"
   ]
  },
  {
   "cell_type": "code",
   "execution_count": 18,
   "id": "3e4cce3c",
   "metadata": {},
   "outputs": [],
   "source": [
    "def simulate_3_14(num_sim=10_000):\n",
    "    possible_timestep_1_square_matrices = []\n",
    "    \n",
    "    for i in range(num_sim):\n",
    "        timestep_1_square_matrix = np.array([\n",
    "            [1, np.random.binomial(n=1, p=0.1), np.random.binomial(n=1, p=0.1)],\n",
    "            [np.random.binomial(n=1, p=0.1), 1, np.random.binomial(n=1, p=0.1)],\n",
    "            [np.random.binomial(n=1, p=0.1), np.random.binomial(n=1, p=0.1), 1],\n",
    "        ])\n",
    "        \n",
    "        timestep_2_square_matrix = timestep_1_square_matrix.dot(timestep_1_square_matrix)\n",
    "        \n",
    "        if timestep_2_square_matrix[0,1] > 0 and timestep_2_square_matrix[1,2] == 0:\n",
    "            possible_timestep_1_square_matrices.append(timestep_1_square_matrix)\n",
    "            \n",
    "    return np.array(possible_timestep_1_square_matrices)"
   ]
  },
  {
   "cell_type": "code",
   "execution_count": 19,
   "id": "43d96dcf",
   "metadata": {},
   "outputs": [],
   "source": [
    "poss_timestep_1_square_matrices = simulate_3_14()"
   ]
  },
  {
   "cell_type": "code",
   "execution_count": 21,
   "id": "ca9d7bf7",
   "metadata": {},
   "outputs": [
    {
     "data": {
      "text/plain": [
       "928"
      ]
     },
     "execution_count": 21,
     "metadata": {},
     "output_type": "execute_result"
    }
   ],
   "source": [
    "len(poss_timestep_1_square_matrices)"
   ]
  },
  {
   "cell_type": "markdown",
   "id": "2e7a7e19",
   "metadata": {},
   "source": [
    "$p(C_{12} = 1 \\mid C) \\approx 0.91$"
   ]
  },
  {
   "cell_type": "code",
   "execution_count": 22,
   "id": "d56e32b0",
   "metadata": {},
   "outputs": [
    {
     "data": {
      "text/plain": [
       "0.9116379310344828"
      ]
     },
     "execution_count": 22,
     "metadata": {},
     "output_type": "execute_result"
    }
   ],
   "source": [
    "poss_timestep_1_square_matrices[:,0,1].sum() / len(poss_timestep_1_square_matrices)"
   ]
  },
  {
   "cell_type": "markdown",
   "id": "9197b8f3",
   "metadata": {},
   "source": [
    "$p(C_{12} = 1 \\mid C) \\approx 0.91$"
   ]
  },
  {
   "cell_type": "markdown",
   "id": "f15190e9",
   "metadata": {},
   "source": [
    "$p(C_{13} = 1 \\mid C) \\approx 0.16$"
   ]
  },
  {
   "cell_type": "code",
   "execution_count": 23,
   "id": "0128625b",
   "metadata": {},
   "outputs": [
    {
     "data": {
      "text/plain": [
       "0.16379310344827586"
      ]
     },
     "execution_count": 23,
     "metadata": {},
     "output_type": "execute_result"
    }
   ],
   "source": [
    "poss_timestep_1_square_matrices[:,0,2].sum() / len(poss_timestep_1_square_matrices)"
   ]
  },
  {
   "cell_type": "markdown",
   "id": "ba0f240e",
   "metadata": {},
   "source": [
    "$p(C_{23} = 1 \\mid C) \\approx 0$"
   ]
  },
  {
   "cell_type": "code",
   "execution_count": 24,
   "id": "a79bf014",
   "metadata": {},
   "outputs": [
    {
     "data": {
      "text/plain": [
       "0.0"
      ]
     },
     "execution_count": 24,
     "metadata": {},
     "output_type": "execute_result"
    }
   ],
   "source": [
    "poss_timestep_1_square_matrices[:,1,2].sum() / len(poss_timestep_1_square_matrices)"
   ]
  },
  {
   "cell_type": "markdown",
   "id": "fc414949",
   "metadata": {},
   "source": [
    "$p(C_{32} = 1 \\mid C) \\approx 0.19$"
   ]
  },
  {
   "cell_type": "code",
   "execution_count": 25,
   "id": "bb9d090f",
   "metadata": {},
   "outputs": [
    {
     "data": {
      "text/plain": [
       "0.1853448275862069"
      ]
     },
     "execution_count": 25,
     "metadata": {},
     "output_type": "execute_result"
    }
   ],
   "source": [
    "poss_timestep_1_square_matrices[:,2,1].sum() / len(poss_timestep_1_square_matrices)"
   ]
  },
  {
   "cell_type": "markdown",
   "id": "7f510d0f",
   "metadata": {},
   "source": [
    "$p(C_{21} = 1 \\mid C) \\approx 0.08$"
   ]
  },
  {
   "cell_type": "code",
   "execution_count": 26,
   "id": "05c7cf18",
   "metadata": {},
   "outputs": [
    {
     "data": {
      "text/plain": [
       "0.07974137931034483"
      ]
     },
     "execution_count": 26,
     "metadata": {},
     "output_type": "execute_result"
    }
   ],
   "source": [
    "poss_timestep_1_square_matrices[:,1,0].sum() / len(poss_timestep_1_square_matrices)"
   ]
  },
  {
   "cell_type": "markdown",
   "id": "a377a53d",
   "metadata": {},
   "source": [
    "$p(C_{31} = 1 \\mid C) \\approx 0.11$"
   ]
  },
  {
   "cell_type": "code",
   "execution_count": 27,
   "id": "239de2c6",
   "metadata": {},
   "outputs": [
    {
     "data": {
      "text/plain": [
       "0.11206896551724138"
      ]
     },
     "execution_count": 27,
     "metadata": {},
     "output_type": "execute_result"
    }
   ],
   "source": [
    "poss_timestep_1_square_matrices[:,2,0].sum() / len(poss_timestep_1_square_matrices)"
   ]
  },
  {
   "cell_type": "markdown",
   "id": "474e87a0",
   "metadata": {},
   "source": [
    "## Ex 3.15\n",
    "\n",
    "A belief network models the relation between the variables `oil`, `inf`, `eh`, `bp`, `rt` which stand for the price of oil, inflation rate, economy health, British Petroleum Stock price, retailer stock price. Each variable takes the states low, high, except for bp which has states low, high, normal. The belief network model for these variables has tables"
   ]
  },
  {
   "cell_type": "markdown",
   "id": "350e6d1c",
   "metadata": {},
   "source": [
    "| --------------------------------------------------------- | --------------------------------------------------------- |\n",
    "| - | - |\n",
    "| $p(eh=low) = 0.2$| |\n",
    "|$p(\\text{bp}=low \\mid oil = low) = 0.9$ | $ p(\\text{bp} = normal \\mid oil = low) = 0.1 $|\n",
    "|$p(\\text{bp}=low \\mid oil = high) = 0.1$ | $(\\text{bp} = normal \\mid oil = high) = 0.4 $|\n",
    "|$p(\\text{oil}=low \\mid eh = low) = 0.9 $|$ p(\\text{oil}=low \\mid eh = high) = 0.05 $|\n",
    "|$p(\\text{rt}=low \\mid inf = low, eh = low) = 0.9 $|$ p(\\text{rt}=low \\mid inf = low, eh = high) = 0.1 $|\n",
    "|$p(\\text{rt}=low \\mid inf = high, eh = low) = 0.1 $|$ p(\\text{rt}=low \\mid inf = high, eh = high) = 0.01 $|\n",
    "|$p(\\text{inf}=low \\mid oil = low, eh = low) = 0.9 $|$ p(\\text{inf}=low \\mid oil = low, eh = high) = 0.1 $|\n",
    "|$p(\\text{inf}=low \\mid oil = high, eh = low) = 0.1 $|$ p(\\text{inf}=low \\mid oil = high, eh = high) = 0.01 $|\n"
   ]
  },
  {
   "cell_type": "markdown",
   "id": "815f0187",
   "metadata": {},
   "source": [
    "### Part I\n",
    "\n",
    "Draw a belief network for this distribution."
   ]
  },
  {
   "cell_type": "markdown",
   "id": "8af64481",
   "metadata": {},
   "source": [
    "#### Ans"
   ]
  },
  {
   "cell_type": "code",
   "execution_count": 3,
   "id": "3ebc1fbf",
   "metadata": {},
   "outputs": [
    {
     "data": {
      "image/svg+xml": [
       "<?xml version=\"1.0\" encoding=\"UTF-8\" standalone=\"no\"?>\n",
       "<!DOCTYPE svg PUBLIC \"-//W3C//DTD SVG 1.1//EN\"\n",
       " \"http://www.w3.org/Graphics/SVG/1.1/DTD/svg11.dtd\">\n",
       "<!-- Generated by graphviz version 2.47.0 (0)\n",
       " -->\n",
       "<!-- Pages: 1 -->\n",
       "<svg width=\"324pt\" height=\"188pt\"\n",
       " viewBox=\"0.00 0.00 323.84 188.00\" xmlns=\"http://www.w3.org/2000/svg\" xmlns:xlink=\"http://www.w3.org/1999/xlink\">\n",
       "<g id=\"graph0\" class=\"graph\" transform=\"scale(1 1) rotate(0) translate(4 184)\">\n",
       "<polygon fill=\"white\" stroke=\"transparent\" points=\"-4,4 -4,-184 319.84,-184 319.84,4 -4,4\"/>\n",
       "<!-- Economy Health -->\n",
       "<g id=\"node1\" class=\"node\">\n",
       "<title>Economy Health</title>\n",
       "<ellipse fill=\"none\" stroke=\"black\" cx=\"171.19\" cy=\"-162\" rx=\"72.29\" ry=\"18\"/>\n",
       "<text text-anchor=\"middle\" x=\"171.19\" y=\"-158.3\" font-family=\"Times,serif\" font-size=\"14.00\">Economy Health</text>\n",
       "</g>\n",
       "<!-- Inflation Rate -->\n",
       "<g id=\"node2\" class=\"node\">\n",
       "<title>Inflation Rate</title>\n",
       "<ellipse fill=\"none\" stroke=\"black\" cx=\"83.19\" cy=\"-90\" rx=\"60.39\" ry=\"18\"/>\n",
       "<text text-anchor=\"middle\" x=\"83.19\" y=\"-86.3\" font-family=\"Times,serif\" font-size=\"14.00\">Inflation Rate</text>\n",
       "</g>\n",
       "<!-- Economy Health&#45;&gt;Inflation Rate -->\n",
       "<g id=\"edge1\" class=\"edge\">\n",
       "<title>Economy Health&#45;&gt;Inflation Rate</title>\n",
       "<path fill=\"none\" stroke=\"black\" d=\"M150.34,-144.41C138.66,-135.12 123.95,-123.42 111.28,-113.34\"/>\n",
       "<polygon fill=\"black\" stroke=\"black\" points=\"113.3,-110.47 103.29,-106.99 108.94,-115.95 113.3,-110.47\"/>\n",
       "</g>\n",
       "<!-- Oil -->\n",
       "<g id=\"node3\" class=\"node\">\n",
       "<title>Oil</title>\n",
       "<ellipse fill=\"none\" stroke=\"black\" cx=\"238.19\" cy=\"-90\" rx=\"27\" ry=\"18\"/>\n",
       "<text text-anchor=\"middle\" x=\"238.19\" y=\"-86.3\" font-family=\"Times,serif\" font-size=\"14.00\">Oil</text>\n",
       "</g>\n",
       "<!-- Economy Health&#45;&gt;Oil -->\n",
       "<g id=\"edge2\" class=\"edge\">\n",
       "<title>Economy Health&#45;&gt;Oil</title>\n",
       "<path fill=\"none\" stroke=\"black\" d=\"M187.07,-144.41C196.07,-135 207.45,-123.12 217.19,-112.94\"/>\n",
       "<polygon fill=\"black\" stroke=\"black\" points=\"219.86,-115.21 224.25,-105.57 214.8,-110.37 219.86,-115.21\"/>\n",
       "</g>\n",
       "<!-- Retailer Stock Price -->\n",
       "<g id=\"node4\" class=\"node\">\n",
       "<title>Retailer Stock Price</title>\n",
       "<ellipse fill=\"none\" stroke=\"black\" cx=\"83.19\" cy=\"-18\" rx=\"83.39\" ry=\"18\"/>\n",
       "<text text-anchor=\"middle\" x=\"83.19\" y=\"-14.3\" font-family=\"Times,serif\" font-size=\"14.00\">Retailer Stock Price</text>\n",
       "</g>\n",
       "<!-- Economy Health&#45;&gt;Retailer Stock Price -->\n",
       "<g id=\"edge3\" class=\"edge\">\n",
       "<title>Economy Health&#45;&gt;Retailer Stock Price</title>\n",
       "<path fill=\"none\" stroke=\"black\" d=\"M170.99,-143.96C170.03,-125.02 166.19,-94.18 152.19,-72 144.41,-59.67 132.68,-49.1 121.09,-40.71\"/>\n",
       "<polygon fill=\"black\" stroke=\"black\" points=\"122.96,-37.76 112.73,-35 119.01,-43.54 122.96,-37.76\"/>\n",
       "</g>\n",
       "<!-- Inflation Rate&#45;&gt;Retailer Stock Price -->\n",
       "<g id=\"edge5\" class=\"edge\">\n",
       "<title>Inflation Rate&#45;&gt;Retailer Stock Price</title>\n",
       "<path fill=\"none\" stroke=\"black\" d=\"M83.19,-71.7C83.19,-63.98 83.19,-54.71 83.19,-46.11\"/>\n",
       "<polygon fill=\"black\" stroke=\"black\" points=\"86.69,-46.1 83.19,-36.1 79.69,-46.1 86.69,-46.1\"/>\n",
       "</g>\n",
       "<!-- BP Stock Price -->\n",
       "<g id=\"node5\" class=\"node\">\n",
       "<title>BP Stock Price</title>\n",
       "<ellipse fill=\"none\" stroke=\"black\" cx=\"250.19\" cy=\"-18\" rx=\"65.79\" ry=\"18\"/>\n",
       "<text text-anchor=\"middle\" x=\"250.19\" y=\"-14.3\" font-family=\"Times,serif\" font-size=\"14.00\">BP Stock Price</text>\n",
       "</g>\n",
       "<!-- Oil&#45;&gt;BP Stock Price -->\n",
       "<g id=\"edge4\" class=\"edge\">\n",
       "<title>Oil&#45;&gt;BP Stock Price</title>\n",
       "<path fill=\"none\" stroke=\"black\" d=\"M241.1,-72.05C242.42,-64.35 244.02,-55.03 245.5,-46.36\"/>\n",
       "<polygon fill=\"black\" stroke=\"black\" points=\"248.99,-46.72 247.23,-36.28 242.09,-45.54 248.99,-46.72\"/>\n",
       "</g>\n",
       "</g>\n",
       "</svg>\n"
      ],
      "text/plain": [
       "<graphviz.dot.Digraph at 0x10497b700>"
      ]
     },
     "execution_count": 3,
     "metadata": {},
     "output_type": "execute_result"
    }
   ],
   "source": [
    "from graphviz import Digraph\n",
    "dag = Digraph()\n",
    "dag.edge('Economy Health', 'Inflation Rate')\n",
    "dag.edge('Economy Health', 'Oil')\n",
    "dag.edge('Economy Health', 'Retailer Stock Price')\n",
    "dag.edge('Oil', 'BP Stock Price')\n",
    "dag.edge('Inflation Rate', 'Retailer Stock Price')\n",
    "dag\n"
   ]
  },
  {
   "cell_type": "markdown",
   "id": "02fb3942",
   "metadata": {},
   "source": [
    "### Part II\n",
    "\n",
    "Given that the BP stock price is normal and the retailer stock price is high, what is the probability that inflation is high?"
   ]
  },
  {
   "cell_type": "markdown",
   "id": "d24f42df",
   "metadata": {},
   "source": [
    "#### Ans"
   ]
  },
  {
   "cell_type": "code",
   "execution_count": 2,
   "id": "4696da6e",
   "metadata": {},
   "outputs": [
    {
     "data": {
      "text/plain": [
       "0.8652486861571567"
      ]
     },
     "execution_count": 2,
     "metadata": {},
     "output_type": "execute_result"
    }
   ],
   "source": [
    "num = 0.1 * 0.05 * 0.2 * (1-0.9) * (1-0.1) \\\n",
    "    + 0.1 * 0.05 * (1-0.02) * (1-0.1) * (1-0.01) \\\n",
    "    + (1-0.01) * (1-0.9) * 0.2 * (1-0.1) * (1-0.1) \\\n",
    "    + (1-0.1) * (1-0.05) * (1-0.2) * (1-0.01) * (1-0.01)\n",
    "\n",
    "denom = num + 0.1 * 0.05 * 0.2 * 0.9 + (1-0.9) \\\n",
    "    + 0.1 * 0.05 * (1-0.2) * 0.1 * (1-0.1) \\\n",
    "    + (1-0.1) * (1-0.9) * 0.2 * 0.1 * (1-0.9) \\\n",
    "    + (1-0.1) * (1-0.05) * (1-0.2) * 0.01 * (1-0.1)\n",
    "\n",
    "num / denom"
   ]
  },
  {
   "cell_type": "markdown",
   "id": "b2b0f624",
   "metadata": {},
   "source": [
    "When the BP stock price is normal, and the retailer stock price is high, that, there's an $86.5\\%$ chance that inflation is high. "
   ]
  },
  {
   "cell_type": "markdown",
   "id": "6d997b19",
   "metadata": {},
   "source": [
    "## Ex 3.17\n",
    "\n",
    "This exercise explores the distinction between d-connection and dependence. Consider the distribution class\n",
    "$p(a, b, c) = p(c|b)p(b|a)p(a)$ (3.7.5) for which $a$ is d-connected to $c$. One might expect that this means that $a$ and $c$ are dependent, $a⊤c$. Our interest is to show that there are non-trivial distributions for which $a \\perp c$.\n",
    "### Part I\n",
    "\n",
    "Consider $dom(a) = dom(c) = \\{1,2\\} \\text{ and } dom(b) = \\{1,2,3\\}$. For \n",
    "$$\n",
    "\\begin{equation}\n",
    "\\begin{aligned}\n",
    "p(a) = \\begin{bmatrix}\n",
    "         \\frac{3}{5} \\\\\n",
    "         \\frac{2}{5} \\\\\n",
    "       \\end{bmatrix} \\qquad\n",
    "p(b \\mid a) = \\begin{bmatrix}\n",
    "         \\frac{1}{4} & \\frac{15}{40} \\\\\n",
    "         \\frac{1}{12} & \\frac{1}{8} \\\\\n",
    "         \\frac{2}{3} & \\frac{1}{2} \\\\\n",
    "       \\end{bmatrix} \\qquad\n",
    "p(c \\mid b) = \\begin{bmatrix}\n",
    "         \\frac{1}{3} & \\frac{1}{2} & \\frac{15}{40} \\\\\n",
    "         \\frac{2}{3} & \\frac{1}{2} & \\frac{5}{8}\\\\\n",
    "       \\end{bmatrix}\n",
    "\\end{aligned}\n",
    "\\end{equation}\n",
    "$$\n",
    "\n",
    "show that $a \\perp c$.\n",
    "\n"
   ]
  },
  {
   "cell_type": "markdown",
   "id": "c73732e1",
   "metadata": {},
   "source": [
    "#### Ans\n",
    "\n",
    "To show that $a \\perp c$, we could show that $p(c \\mid a) = p(c)$, i.e. knowing\n",
    "about $a$ doesn't tell us any information about the probability of $c$.\n",
    "\n",
    "Let the matrices above be $M_{A},M_{B \\mid A},M_{C \\mid B}$ We can compute\n",
    "$P(C)$ via $M_{C \\mid B} M_{B \\mid A} M_A$.\n",
    "\n",
    "Let's show that this is indeed the case:\n",
    "$$\n",
    "\\begin{equation}\n",
    "\\begin{aligned}\n",
    "M_{C \\mid B} M_{B \\mid A} M_{A} &=\n",
    "  \\begin{bmatrix}\n",
    "    P(C=0 \\mid B=1) & P(C=0 \\mid B=2) & P(C=0 \\mid B=3)\\\\\n",
    "    P(C=1 \\mid B=1) & P(C=1 \\mid B=2) & P(C=1 \\mid B=3)\\\\\n",
    "  \\end{bmatrix}\n",
    "  \\begin{bmatrix}\n",
    "    P(B=1 \\mid A=0) & P(B=1 \\mid A=1) \\\\\n",
    "    P(B=2 \\mid A=0) & P(B=2 \\mid A=1) \\\\\n",
    "    P(B=3 \\mid A=0) & P(B=3 \\mid A=1) \\\\\n",
    "  \\end{bmatrix}\n",
    "  \\begin{bmatrix}\n",
    "    P(A=0) \\\\\n",
    "    P(A=1)\n",
    "  \\end{bmatrix} \\\\\n",
    "  &=\n",
    "  \\begin{bmatrix}\n",
    "    \\sum_b P(C=0, B=b \\mid A=0) & \\sum_b P(C=0, B=b \\mid A=1)\\\\\n",
    "    \\sum_b P(C=1, B=b \\mid A=0) & \\sum_b P(C=1, B=b \\mid A=1)\\\\\n",
    "  \\end{bmatrix}\n",
    "  \\begin{bmatrix}\n",
    "    P(A=0) \\\\\n",
    "    P(A=1)\n",
    "  \\end{bmatrix} \n",
    "\\end{aligned}\n",
    "\\end{equation}\n",
    "$$\n",
    "\n",
    "We took advantage of the factorization $p(a, b, c) = p(c|b)p(b|a)p(a)$ above. Then we sum out $B$:\n",
    "\n",
    "$$\n",
    "\\begin{equation}\n",
    "\\begin{aligned}\n",
    "M_{C \\mid B} M_{B \\mid A} M_{A} &=\n",
    "  \\begin{bmatrix}\n",
    "    P(C=0 \\mid A=0) & P(C=0 \\mid A=1)\\\\\n",
    "    P(C=1 \\mid A=0) & P(C=1 \\mid A=1)\\\\\n",
    "  \\end{bmatrix}\n",
    "  \\begin{bmatrix}\n",
    "    P(A=0) \\\\\n",
    "    P(A=1)\n",
    "  \\end{bmatrix} \\\\\n",
    "\\end{aligned}\n",
    "\\end{equation}\n",
    "$$\n",
    "\n",
    "We use the same technique as above and this simplifies to:\n",
    "\n",
    "We can compute $P(C \\mid A)$ via $M_{C \\mid B} M_{B \\mid A}$, which we've already computed above:\n",
    "\n",
    "$$\n",
    "\\begin{equation}\n",
    "\\begin{aligned}\n",
    "M_{C \\mid B} M_{B \\mid A} &=\n",
    "  \\begin{bmatrix}\n",
    "    P(C=0 \\mid B=1) & P(C=0 \\mid B=2) & P(C=0 \\mid B=3)\\\\\n",
    "    P(C=1 \\mid B=1) & P(C=1 \\mid B=2) & P(C=1 \\mid B=3)\\\\\n",
    "  \\end{bmatrix}\n",
    "  \\begin{bmatrix}\n",
    "    P(B=1 \\mid A=0) & P(B=1 \\mid A=1) \\\\\n",
    "    P(B=2 \\mid A=0) & P(B=2 \\mid A=1) \\\\\n",
    "    P(B=3 \\mid A=0) & P(B=3 \\mid A=1) \\\\\n",
    "  \\end{bmatrix} \\\\\n",
    "  &=\n",
    "  \\begin{bmatrix}\n",
    "    \\sum_b P(C=0, B=b \\mid A=0) & \\sum_b P(C=0, B=b \\mid A=1)\\\\\n",
    "    \\sum_b P(C=1, B=b \\mid A=0) & \\sum_b P(C=1, B=b \\mid A=1)\\\\\n",
    "  \\end{bmatrix} \\\\\n",
    "  &= \n",
    "  \\begin{bmatrix}\n",
    "    P(C=0 \\mid A=0) & P(C=0 \\mid A=1)\\\\\n",
    "    P(C=1 \\mid A=0) & P(C=1 \\mid A=1)\\\\\n",
    "  \\end{bmatrix}\n",
    "\\end{aligned}\n",
    "\\end{equation}\n",
    "$$\n",
    "\n",
    "Thus, if we can show that, for each row, the left values are the same as the right values, then we've shown that knowing about $A$ doesn't tell us anything about $C$."
   ]
  },
  {
   "cell_type": "code",
   "execution_count": 20,
   "id": "89f1f10f",
   "metadata": {},
   "outputs": [],
   "source": [
    "import numpy as np\n",
    "\n",
    "p_a = np.array(\n",
    "    [\n",
    "        [3/5], \n",
    "        [2/5]\n",
    "    ]\n",
    ")\n",
    "\n",
    "p_b_given_a = np.array(\n",
    "    [\n",
    "        [1/4, 15/40], \n",
    "        [1/12, 1/8], \n",
    "        [2/3, 1/2]\n",
    "    ]\n",
    ")\n",
    "\n",
    "p_c_given_b = np.array(\n",
    "    [\n",
    "        [1/3, 1/2, 15/40], \n",
    "        [2/3, 1/2, 5/8]\n",
    "    ]\n",
    ")"
   ]
  },
  {
   "cell_type": "code",
   "execution_count": 24,
   "id": "4de99385",
   "metadata": {},
   "outputs": [
    {
     "data": {
      "text/plain": [
       "array([[0.375],\n",
       "       [0.625]])"
      ]
     },
     "execution_count": 24,
     "metadata": {},
     "output_type": "execute_result"
    }
   ],
   "source": [
    "p_c = p_c_given_b.dot(p_b_given_a.dot(p_a))\n",
    "p_c"
   ]
  },
  {
   "cell_type": "code",
   "execution_count": 25,
   "id": "6c2accc8",
   "metadata": {},
   "outputs": [
    {
     "data": {
      "text/plain": [
       "array([[0.375, 0.375],\n",
       "       [0.625, 0.625]])"
      ]
     },
     "execution_count": 25,
     "metadata": {},
     "output_type": "execute_result"
    }
   ],
   "source": [
    "p_c_given_b.dot(p_b_given_a)"
   ]
  },
  {
   "cell_type": "markdown",
   "id": "6d669aad",
   "metadata": {},
   "source": [
    "We've shown that $P(C \\mid A) = P(C)$."
   ]
  },
  {
   "cell_type": "markdown",
   "id": "8611a235",
   "metadata": {},
   "source": [
    "## Ex 3.20"
   ]
  },
  {
   "cell_type": "code",
   "execution_count": 26,
   "id": "6840e4cc",
   "metadata": {},
   "outputs": [],
   "source": [
    "import numpy as np\n",
    "\n",
    "p_w_given_inc_low = np.array([\n",
    "    [0.7],\n",
    "    [0.3],\n",
    "    [0],\n",
    "    [0]\n",
    "])\n",
    "\n",
    "p_w_given_inc_high = np.array([\n",
    "    [0.2],\n",
    "    [0.1],\n",
    "    [0.4],\n",
    "    [0.3]\n",
    "])\n",
    "\n",
    "p_h_given_inc_low = np.array([\n",
    "    [0.2],\n",
    "    [0.8],\n",
    "    [0],\n",
    "    [0]\n",
    "])\n",
    "\n",
    "p_h_given_inc_high = np.array([\n",
    "    [0],\n",
    "    [0],\n",
    "    [0.3],\n",
    "    [0.7]\n",
    "])\n",
    "\n",
    "p_i = np.array([\n",
    "    [0.8], \n",
    "    [0.2]\n",
    "])"
   ]
  },
  {
   "cell_type": "markdown",
   "id": "71e7e6fd",
   "metadata": {},
   "source": [
    "##### Find the marginal $P(w,h)$"
   ]
  },
  {
   "cell_type": "code",
   "execution_count": 29,
   "id": "6801a622",
   "metadata": {},
   "outputs": [
    {
     "data": {
      "text/plain": [
       "array([[0.112],\n",
       "       [0.192],\n",
       "       [0.024],\n",
       "       [0.042]])"
      ]
     },
     "execution_count": 29,
     "metadata": {},
     "output_type": "execute_result"
    }
   ],
   "source": [
    "p_w_h = p_w_given_inc_low * p_h_given_inc_low * p_i[0] \\\n",
    "+ p_w_given_inc_high * p_h_given_inc_high * p_i[1]\n",
    "\n",
    "p_w_h"
   ]
  },
  {
   "cell_type": "markdown",
   "id": "8f1b8b70",
   "metadata": {},
   "source": [
    "##### Show that $h \\perp w \\mid inc$\n",
    "\n",
    "We can show that $P(w \\mid h, inc=low) = P(w \\mid inc=low)$."
   ]
  },
  {
   "cell_type": "code",
   "execution_count": 37,
   "id": "61e2475f",
   "metadata": {},
   "outputs": [
    {
     "data": {
      "text/plain": [
       "array([[0.112],\n",
       "       [0.192],\n",
       "       [0.   ],\n",
       "       [0.   ]])"
      ]
     },
     "execution_count": 37,
     "metadata": {},
     "output_type": "execute_result"
    }
   ],
   "source": [
    "p_w_h_inc_is_low = p_w_given_inc_low * p_h_given_inc_low * p_i[0]\n",
    "p_w_h_inc_is_low"
   ]
  },
  {
   "cell_type": "code",
   "execution_count": 36,
   "id": "c296716f",
   "metadata": {},
   "outputs": [
    {
     "data": {
      "text/plain": [
       "array([[0.16],\n",
       "       [0.64],\n",
       "       [0.  ],\n",
       "       [0.  ]])"
      ]
     },
     "execution_count": 36,
     "metadata": {},
     "output_type": "execute_result"
    }
   ],
   "source": [
    "p_h_inc_is_low = p_h_given_inc_low * p_i[0]\n",
    "p_h_inc_is_low"
   ]
  },
  {
   "cell_type": "markdown",
   "id": "f37820cf",
   "metadata": {},
   "source": [
    "$$\n",
    "\\begin{equation}\n",
    "\\begin{aligned}\n",
    "P(w \\mid h, inc) &= \\frac{P(w,h,inc)}{P(h, inc)} \\\\\n",
    "&= \\frac{P(w \\mid inc) \\cdot P(h \\mid inc) \\cdot P(inc)}{P(h \\mid inc) \\cdot P(inc)} \\\\\n",
    "&= P(w \\mid inc)\n",
    "\\end{aligned}\n",
    "\\end{equation}\n",
    "$$\n"
   ]
  },
  {
   "cell_type": "code",
   "execution_count": 39,
   "id": "972a7177",
   "metadata": {},
   "outputs": [
    {
     "name": "stderr",
     "output_type": "stream",
     "text": [
      "<ipython-input-39-146448a9b96f>:1: RuntimeWarning: invalid value encountered in true_divide\n",
      "  p_w_given_h_inc_low = p_w_h_inc_is_low / p_h_inc_is_low\n"
     ]
    },
    {
     "data": {
      "text/plain": [
       "array([[0.7],\n",
       "       [0.3],\n",
       "       [nan],\n",
       "       [nan]])"
      ]
     },
     "execution_count": 39,
     "metadata": {},
     "output_type": "execute_result"
    }
   ],
   "source": [
    "p_w_given_h_inc_low = p_w_h_inc_is_low / p_h_inc_is_low\n",
    "p_w_given_h_inc_low"
   ]
  },
  {
   "cell_type": "markdown",
   "id": "19eb4987",
   "metadata": {},
   "source": [
    "Above is the same as $P(w \\mid inc = low)$, for $w \\in \\{1,2\\}$. Note that the last two items are `nan` because we never got to observe a situation where $h=\\{3 \\text{ or } 4\\}  \\mid inc = low$, i.e. $p(h=\\{3 \\text{ or } 4\\}  \\mid inc = low) = 0$."
   ]
  },
  {
   "cell_type": "code",
   "execution_count": 38,
   "id": "531ccdba",
   "metadata": {},
   "outputs": [
    {
     "data": {
      "text/plain": [
       "array([[0.   ],\n",
       "       [0.   ],\n",
       "       [0.024],\n",
       "       [0.042]])"
      ]
     },
     "execution_count": 38,
     "metadata": {},
     "output_type": "execute_result"
    }
   ],
   "source": [
    "p_w_h_inc_is_high = p_w_given_inc_high * p_h_given_inc_high * p_i[1]\n",
    "p_w_h_inc_is_high"
   ]
  },
  {
   "cell_type": "code",
   "execution_count": 40,
   "id": "a613c121",
   "metadata": {},
   "outputs": [
    {
     "data": {
      "text/plain": [
       "array([[0.  ],\n",
       "       [0.  ],\n",
       "       [0.06],\n",
       "       [0.14]])"
      ]
     },
     "execution_count": 40,
     "metadata": {},
     "output_type": "execute_result"
    }
   ],
   "source": [
    "p_h_inc_high = p_h_given_inc_high * p_i[1]\n",
    "p_h_inc_high"
   ]
  },
  {
   "cell_type": "code",
   "execution_count": 42,
   "id": "835282c7",
   "metadata": {},
   "outputs": [
    {
     "name": "stderr",
     "output_type": "stream",
     "text": [
      "<ipython-input-42-e8aa8263a1c3>:1: RuntimeWarning: invalid value encountered in true_divide\n",
      "  p_w_given_h_inc_high = p_w_h_inc_is_high / p_h_inc_high\n"
     ]
    },
    {
     "data": {
      "text/plain": [
       "array([[nan],\n",
       "       [nan],\n",
       "       [0.4],\n",
       "       [0.3]])"
      ]
     },
     "execution_count": 42,
     "metadata": {},
     "output_type": "execute_result"
    }
   ],
   "source": [
    "p_w_given_h_inc_high = p_w_h_inc_is_high / p_h_inc_high\n",
    "p_w_given_h_inc_high"
   ]
  },
  {
   "cell_type": "markdown",
   "id": "2a0377a5",
   "metadata": {},
   "source": [
    "Above is the same as $P(w \\mid inc = high)$ for $w \\in \\{3,4\\}$. Note that first two items are `nan` because we never got to observe a situation where $h \\in \\{3,4\\} \\mid inc = high$, i.e. $p(h \\in \\{3, 4\\}  \\mid inc = high) = 0$."
   ]
  },
  {
   "cell_type": "code",
   "execution_count": 30,
   "id": "b6882af4",
   "metadata": {},
   "outputs": [
    {
     "data": {
      "text/plain": [
       "array([[0.14],\n",
       "       [0.24],\n",
       "       [0.  ],\n",
       "       [0.  ]])"
      ]
     },
     "execution_count": 30,
     "metadata": {},
     "output_type": "execute_result"
    }
   ],
   "source": [
    "p_w_given_inc_low * p_h_given_inc_low"
   ]
  },
  {
   "cell_type": "code",
   "execution_count": 31,
   "id": "42ffc723",
   "metadata": {},
   "outputs": [
    {
     "data": {
      "text/plain": [
       "array([[0.  ],\n",
       "       [0.  ],\n",
       "       [0.12],\n",
       "       [0.21]])"
      ]
     },
     "execution_count": 31,
     "metadata": {},
     "output_type": "execute_result"
    }
   ],
   "source": [
    "p_w_given_inc_high * p_h_given_inc_high"
   ]
  },
  {
   "cell_type": "code",
   "execution_count": 45,
   "id": "017412bc",
   "metadata": {},
   "outputs": [
    {
     "data": {
      "text/plain": [
       "array([[0.16],\n",
       "       [0.64],\n",
       "       [0.06],\n",
       "       [0.14]])"
      ]
     },
     "execution_count": 45,
     "metadata": {},
     "output_type": "execute_result"
    }
   ],
   "source": [
    "p_h = p_h_given_inc_low * p_i[0] + p_h_given_inc_high * p_i[1]\n",
    "p_h"
   ]
  },
  {
   "cell_type": "code",
   "execution_count": 46,
   "id": "804e541c",
   "metadata": {},
   "outputs": [
    {
     "data": {
      "text/plain": [
       "array([[0.7],\n",
       "       [0.3],\n",
       "       [0.4],\n",
       "       [0.3]])"
      ]
     },
     "execution_count": 46,
     "metadata": {},
     "output_type": "execute_result"
    }
   ],
   "source": [
    "p_w_h / p_h"
   ]
  },
  {
   "cell_type": "code",
   "execution_count": 47,
   "id": "15956fad",
   "metadata": {},
   "outputs": [
    {
     "data": {
      "text/plain": [
       "array([[0.6 ],\n",
       "       [0.26],\n",
       "       [0.08],\n",
       "       [0.06]])"
      ]
     },
     "execution_count": 47,
     "metadata": {},
     "output_type": "execute_result"
    }
   ],
   "source": [
    "p_w = p_w_given_inc_low * p_i[0] + p_w_given_inc_high * p_i[1]\n",
    "p_w"
   ]
  },
  {
   "cell_type": "markdown",
   "id": "b5525860",
   "metadata": {},
   "source": [
    "As we can see above, even though $P(w \\mid inc, h) = P(w \\mid inc)$, $P(w \\mid h) \\neq P(w)$, (i.e. $h$ doesn't tell us anything about $w$ when we know $inc$, $w$ and $h$ can be related without knowing $inc$."
   ]
  },
  {
   "cell_type": "markdown",
   "id": "479121c8",
   "metadata": {},
   "source": [
    "## Ex 3.21"
   ]
  },
  {
   "cell_type": "markdown",
   "id": "7c83453d",
   "metadata": {},
   "source": [
    "`BinGame` is a two-player game with only a 'win' or 'lose' outcome. There are three players: $A$, $B$, $C$, that have been competing in a tournament, with the following outcomes:\n",
    "\n",
    "- $A$ beat $B$ 2 times.\n",
    "- $B$ beat $C$ 2 times.\n",
    "- $A$ beat $C$ 2 times.\n",
    "- $C$ beat $A$ 1 time.\n",
    "- Player $D$ enters the tournament and loses twice to player $C$.\n",
    "\n",
    "We assume that each player has a skill level from 1,...,10 and that, given the skill levels of two players, $s_A$, $s_B$, the probability that player $A$ beats player $B$ is $1/(1 + exp(s_B - s_A))$. Assume that a priori the skill levels of the players are independent, and that we place equal probability to each of the 10 skills levels. Additionally the outcome of all games, given the skill levels are independent. Using the above tournament information:\n",
    "\n",
    "### 1. \n",
    "Draw a belief network that represents the independence assumptions above."
   ]
  },
  {
   "cell_type": "markdown",
   "id": "0c204003",
   "metadata": {},
   "source": [
    "#### Ans\n",
    "\n",
    "Here's a subgraph that only looks at skills $s_A$ and $s_B$ and the games between $A$ and $B$. The rest follow a similar pattern."
   ]
  },
  {
   "cell_type": "code",
   "execution_count": 91,
   "id": "7bfdaf9e",
   "metadata": {},
   "outputs": [],
   "source": [
    "from graphviz import Digraph"
   ]
  },
  {
   "cell_type": "code",
   "execution_count": 92,
   "id": "e3122577",
   "metadata": {},
   "outputs": [
    {
     "data": {
      "image/svg+xml": [
       "<?xml version=\"1.0\" encoding=\"UTF-8\" standalone=\"no\"?>\n",
       "<!DOCTYPE svg PUBLIC \"-//W3C//DTD SVG 1.1//EN\"\n",
       " \"http://www.w3.org/Graphics/SVG/1.1/DTD/svg11.dtd\">\n",
       "<!-- Generated by graphviz version 2.47.0 (0)\n",
       " -->\n",
       "<!-- Pages: 1 -->\n",
       "<svg width=\"596pt\" height=\"116pt\"\n",
       " viewBox=\"0.00 0.00 595.67 116.00\" xmlns=\"http://www.w3.org/2000/svg\" xmlns:xlink=\"http://www.w3.org/1999/xlink\">\n",
       "<g id=\"graph0\" class=\"graph\" transform=\"scale(1 1) rotate(0) translate(4 112)\">\n",
       "<polygon fill=\"white\" stroke=\"transparent\" points=\"-4,4 -4,-112 591.67,-112 591.67,4 -4,4\"/>\n",
       "<!-- s_a -->\n",
       "<g id=\"node1\" class=\"node\">\n",
       "<title>s_a</title>\n",
       "<ellipse fill=\"none\" stroke=\"black\" cx=\"257.34\" cy=\"-90\" rx=\"27\" ry=\"18\"/>\n",
       "<text text-anchor=\"middle\" x=\"257.34\" y=\"-86.3\" font-family=\"Times,serif\" font-size=\"14.00\">s_a</text>\n",
       "</g>\n",
       "<!-- Game 1 between A and B=a_beat_b -->\n",
       "<g id=\"node2\" class=\"node\">\n",
       "<title>Game 1 between A and B=a_beat_b</title>\n",
       "<ellipse fill=\"none\" stroke=\"black\" cx=\"142.34\" cy=\"-18\" rx=\"142.17\" ry=\"18\"/>\n",
       "<text text-anchor=\"middle\" x=\"142.34\" y=\"-14.3\" font-family=\"Times,serif\" font-size=\"14.00\">Game 1 between A and B=a_beat_b</text>\n",
       "</g>\n",
       "<!-- s_a&#45;&gt;Game 1 between A and B=a_beat_b -->\n",
       "<g id=\"edge1\" class=\"edge\">\n",
       "<title>s_a&#45;&gt;Game 1 between A and B=a_beat_b</title>\n",
       "<path fill=\"none\" stroke=\"black\" d=\"M238.09,-77.28C221.9,-67.43 198.3,-53.07 178.58,-41.06\"/>\n",
       "<polygon fill=\"black\" stroke=\"black\" points=\"180.2,-37.95 169.84,-35.74 176.56,-43.93 180.2,-37.95\"/>\n",
       "</g>\n",
       "<!-- Game 2 between A and B=a_beat_b -->\n",
       "<g id=\"node4\" class=\"node\">\n",
       "<title>Game 2 between A and B=a_beat_b</title>\n",
       "<ellipse fill=\"none\" stroke=\"black\" cx=\"445.34\" cy=\"-18\" rx=\"142.17\" ry=\"18\"/>\n",
       "<text text-anchor=\"middle\" x=\"445.34\" y=\"-14.3\" font-family=\"Times,serif\" font-size=\"14.00\">Game 2 between A and B=a_beat_b</text>\n",
       "</g>\n",
       "<!-- s_a&#45;&gt;Game 2 between A and B=a_beat_b -->\n",
       "<g id=\"edge3\" class=\"edge\">\n",
       "<title>s_a&#45;&gt;Game 2 between A and B=a_beat_b</title>\n",
       "<path fill=\"none\" stroke=\"black\" d=\"M280.39,-80.42C308.02,-70.13 355.21,-52.56 392.05,-38.84\"/>\n",
       "<polygon fill=\"black\" stroke=\"black\" points=\"393.51,-42.03 401.66,-35.26 391.07,-35.47 393.51,-42.03\"/>\n",
       "</g>\n",
       "<!-- s_b -->\n",
       "<g id=\"node3\" class=\"node\">\n",
       "<title>s_b</title>\n",
       "<ellipse fill=\"none\" stroke=\"black\" cx=\"387.34\" cy=\"-90\" rx=\"27\" ry=\"18\"/>\n",
       "<text text-anchor=\"middle\" x=\"387.34\" y=\"-86.3\" font-family=\"Times,serif\" font-size=\"14.00\">s_b</text>\n",
       "</g>\n",
       "<!-- s_b&#45;&gt;Game 1 between A and B=a_beat_b -->\n",
       "<g id=\"edge2\" class=\"edge\">\n",
       "<title>s_b&#45;&gt;Game 1 between A and B=a_beat_b</title>\n",
       "<path fill=\"none\" stroke=\"black\" d=\"M362.95,-82.03C326.91,-71.73 258.15,-52.09 206.94,-37.46\"/>\n",
       "<polygon fill=\"black\" stroke=\"black\" points=\"207.84,-34.08 197.27,-34.69 205.92,-40.81 207.84,-34.08\"/>\n",
       "</g>\n",
       "<!-- s_b&#45;&gt;Game 2 between A and B=a_beat_b -->\n",
       "<g id=\"edge4\" class=\"edge\">\n",
       "<title>s_b&#45;&gt;Game 2 between A and B=a_beat_b</title>\n",
       "<path fill=\"none\" stroke=\"black\" d=\"M399.92,-73.81C407.11,-65.14 416.29,-54.05 424.52,-44.12\"/>\n",
       "<polygon fill=\"black\" stroke=\"black\" points=\"427.46,-46.06 431.15,-36.13 422.07,-41.59 427.46,-46.06\"/>\n",
       "</g>\n",
       "</g>\n",
       "</svg>\n"
      ],
      "text/plain": [
       "<graphviz.dot.Digraph at 0x163c06bb0>"
      ]
     },
     "execution_count": 92,
     "metadata": {},
     "output_type": "execute_result"
    }
   ],
   "source": [
    "dag = Digraph()\n",
    "dag.edge(\"s_a\", 'Game 1 between A and B=a_beat_b')\n",
    "dag.edge(\"s_b\", 'Game 1 between A and B=a_beat_b')\n",
    "dag.edge(\"s_a\", 'Game 2 between A and B=a_beat_b')\n",
    "dag.edge(\"s_b\", 'Game 2 between A and B=a_beat_b')\n",
    "dag"
   ]
  },
  {
   "cell_type": "markdown",
   "id": "bf141fe5",
   "metadata": {},
   "source": [
    "### 2.\n",
    "Are the skill levels of the players a posteriori (i.e. given the game outcomes) independent?"
   ]
  },
  {
   "cell_type": "markdown",
   "id": "c17af327",
   "metadata": {},
   "source": [
    "#### Ans\n",
    "No, they are dependent. The game outcomes are colliders. Conditioning on them makes the skill levels dependent."
   ]
  },
  {
   "cell_type": "markdown",
   "id": "a0898244",
   "metadata": {},
   "source": [
    "### 3.\n",
    "Calculate the probability that player $D$ will beat player $A$ in a game of `BinGame`."
   ]
  },
  {
   "cell_type": "code",
   "execution_count": 84,
   "id": "343440d4",
   "metadata": {},
   "outputs": [],
   "source": [
    "import numpy as np\n",
    "import pandas as pd\n",
    "import matplotlib.pyplot as plt\n",
    "\n",
    "def proba_win_person_1_beats_person_2(skill_1, skill_2):\n",
    "    return 1.0 / (1.0 + np.exp(skill_2 - skill_1))\n",
    "\n",
    "num_simulations = 1_000_000\n",
    "s_a = np.random.randint(low=1, high=11, size=num_simulations)\n",
    "s_b = np.random.randint(low=1, high=11, size=num_simulations)\n",
    "s_c = np.random.randint(low=1, high=11, size=num_simulations)\n",
    "s_d = np.random.randint(low=1, high=11, size=num_simulations)\n",
    "\n",
    "a_beats_b = np.random.binomial(\n",
    "    n=2, # A and B played twice\n",
    "    p=proba_win_person_1_beats_person_2(s_a, s_b)\n",
    ")\n",
    "\n",
    "b_beats_c = np.random.binomial(\n",
    "    n=2, # B and C played twice\n",
    "    p=proba_win_person_1_beats_person_2(s_b, s_c)\n",
    ")\n",
    "\n",
    "a_beats_c = np.random.binomial(\n",
    "    n=3, # A and B played three times\n",
    "    p=proba_win_person_1_beats_person_2(s_a, s_c)\n",
    ")\n",
    "\n",
    "c_beats_d = np.random.binomial(\n",
    "    n=2, # C and D played three times\n",
    "    p=proba_win_person_1_beats_person_2(s_c, s_d)\n",
    ")\n",
    "\n",
    "observed = (a_beats_b == 2) & \\\n",
    "    (b_beats_c == 2) & \\\n",
    "    (a_beats_c == 2) & \\\n",
    "    (c_beats_d == 2)\n",
    "\n",
    "posterior_s_a = s_a[observed]\n",
    "posterior_s_b = s_b[observed]\n",
    "posterior_s_c = s_c[observed]\n",
    "posterior_s_d = s_d[observed]"
   ]
  },
  {
   "cell_type": "markdown",
   "id": "6ea3d951",
   "metadata": {},
   "source": [
    "We can calculate the probability that D will beat A by using the posterior distributions as the new priors, and then running simulations with them."
   ]
  },
  {
   "cell_type": "code",
   "execution_count": 98,
   "id": "b7903740",
   "metadata": {},
   "outputs": [],
   "source": [
    "ancestral_sampling_d_vs_a_using_posteriors = np.random.binomial(\n",
    "    n=1,\n",
    "    p=proba_win_person_1_beats_person_2(posterior_s_d, posterior_s_a)\n",
    ")"
   ]
  },
  {
   "cell_type": "code",
   "execution_count": 99,
   "id": "56a621d6",
   "metadata": {},
   "outputs": [
    {
     "data": {
      "text/plain": [
       "0.048012390294269486"
      ]
     },
     "execution_count": 99,
     "metadata": {},
     "output_type": "execute_result"
    }
   ],
   "source": [
    "ancestral_sampling_d_vs_a_using_posteriors.mean()"
   ]
  },
  {
   "cell_type": "markdown",
   "id": "6dd77602",
   "metadata": {},
   "source": [
    "There's about a 5% chance that $D$ will beat $A$ in a game of `BinGame`."
   ]
  },
  {
   "cell_type": "markdown",
   "id": "17688106",
   "metadata": {},
   "source": [
    "### 4.\n",
    "\n",
    "Calculate the expected skill levels of each of the 4 players."
   ]
  },
  {
   "cell_type": "markdown",
   "id": "fea01ebd",
   "metadata": {},
   "source": [
    "Below are the expected skill levels of each player:"
   ]
  },
  {
   "cell_type": "markdown",
   "id": "8aca8f71",
   "metadata": {},
   "source": [
    "##### Ans"
   ]
  },
  {
   "cell_type": "code",
   "execution_count": 90,
   "id": "6a1bd6e8",
   "metadata": {},
   "outputs": [],
   "source": [
    "plottables = [\n",
    "    {\n",
    "        'player_name': 'a',\n",
    "        'title': 'Posterior of S_a',\n",
    "        'row': 0,\n",
    "        'col': 0,\n",
    "        'posterior': posterior_s_a\n",
    "    },\n",
    "    {\n",
    "        'player_name': 'b',\n",
    "        'title': 'Posterior of S_b',\n",
    "        'row': 0,\n",
    "        'col': 1,\n",
    "        'posterior': posterior_s_b\n",
    "    },\n",
    "    {\n",
    "        'player_name': 'c',\n",
    "        'title': 'Posterior of S_c',\n",
    "        'row': 1,\n",
    "        'col': 0,\n",
    "        'posterior': posterior_s_c\n",
    "    },\n",
    "    {\n",
    "        'player_name': 'd',\n",
    "        'title': 'Posterior of S_d',\n",
    "        'row': 1,\n",
    "        'col': 1,\n",
    "        'posterior': posterior_s_d\n",
    "    }\n",
    "]"
   ]
  },
  {
   "cell_type": "code",
   "execution_count": 89,
   "id": "09584c67",
   "metadata": {},
   "outputs": [
    {
     "data": {
      "text/plain": [
       "{'a': 7.848218895198761,\n",
       " 'b': 6.831182240578213,\n",
       " 'c': 5.957666494579247,\n",
       " 'd': 3.069695405265875}"
      ]
     },
     "execution_count": 89,
     "metadata": {},
     "output_type": "execute_result"
    }
   ],
   "source": [
    "{plottable['player_name']: plottable['posterior'].mean() for plottable in plottables}\n",
    "    "
   ]
  },
  {
   "cell_type": "markdown",
   "id": "b4b8742f",
   "metadata": {},
   "source": [
    "Below I calculate the posterior distributions, which capture more of the uncertainty than just the expectation of each posterior distribution:"
   ]
  },
  {
   "cell_type": "code",
   "execution_count": 88,
   "id": "2a0ca597",
   "metadata": {},
   "outputs": [
    {
     "data": {
      "image/png": "[encoded data removed]",
      "text/plain": [
       "<Figure size 432x288 with 4 Axes>"
      ]
     },
     "metadata": {
      "needs_background": "light"
     },
     "output_type": "display_data"
    }
   ],
   "source": [
    "fig, ax = plt.subplots(2,2)\n",
    "\n",
    "for plottable in plottables:\n",
    "    axis = ax[plottable['row'], plottable['col']]\n",
    "    pd.Series(plottable['posterior'])\\\n",
    "        .plot.hist(\n",
    "            bins=10, \n",
    "            xlim=(1,10), \n",
    "            ax=axis\n",
    "        )\n",
    "    axis.set_title(plottable['title'])\n",
    "plt.tight_layout()"
   ]
  },
  {
   "cell_type": "markdown",
   "id": "1aef83a8",
   "metadata": {},
   "source": [
    "## Ex 3.22"
   ]
  },
  {
   "cell_type": "code",
   "execution_count": 90,
   "id": "2716fd4c",
   "metadata": {},
   "outputs": [],
   "source": [
    "import numpy as np\n",
    "import pandas as pd\n",
    "from matplotlib import pyplot as plt\n",
    "import seaborn as sns\n",
    "\n",
    "events = [\n",
    "    (1,2,3),\n",
    "    (2,5,3),\n",
    "    (4,7,10),\n",
    "    (6,3,4),\n",
    "    (6,8,5),\n",
    "    (9,3,7),\n",
    "    (10,2,4),\n",
    "    (7,1,2),\n",
    "    (8,7,2),\n",
    "    (8,3,6),\n",
    "    (8,6,4),\n",
    "    (4,3,9),\n",
    "    (5,4,1),\n",
    "    (9,5,1),\n",
    "    (6,7,8),\n",
    "    (4,9,7),\n",
    "    (10,8,6),\n",
    "    (5,4,3),\n",
    "    (6,3,2),\n",
    "    (1,4,2)\n",
    "]\n",
    "\n",
    "def proba_pick_one_over_others(first, second, third):\n",
    "    \"\"\"\n",
    "    Parameters:\n",
    "        first: integer\n",
    "            Interest level of what was chosen over second and third\n",
    "        second: integer\n",
    "            Interest level of what was not chosen.\n",
    "        third: integer\n",
    "            Interest level of what was not chosen.\n",
    "        max_diff: integer\n",
    "            Scaler to ensure that this function returns a probability \n",
    "            (within 0 and 1). Equivalent to first - max(second,third).\n",
    "        prop: integer\n",
    "            Proportional random variable.\n",
    "    \n",
    "    Returns: np.array(float)\n",
    "        Values representing probabilities that the first would get chosen \n",
    "        over second and third.\n",
    "        \n",
    "    Notes:\n",
    "    \n",
    "    max_diff is the largest possible value of first - max(second, third)\n",
    "    If the largest possible value of interest s is 5 and lowest \n",
    "    possible value is 1, then:\n",
    "        first - max(second,third) = 5 - max(1,1) = 4.\n",
    "    \n",
    "    In that situation, we get a probability of \n",
    "        prop / np.exp(max_diff) * np.exp(first - max(second,third)) \n",
    "        prop / np.exp(first - max(second,third) - max_diff) \n",
    "        = prop * np.exp(5 - 1 - 4)\n",
    "        = prop * np.exp(0)\n",
    "        = prop * 1\n",
    "        = prop\n",
    "    Prop is within 0 and 1, so this is a valid probability.\n",
    "    \n",
    "    In the other extreme case where first = 1 and max(second, third) = 4:\n",
    "        prop / np.exp(max_diff) * np.exp(first - max(second,third)) \n",
    "        prop / np.exp(first - max(second,third) - max_diff) \n",
    "        = prop * np.exp(1 - 4 - 4)\n",
    "        = prop * np.exp(1 - 8)\n",
    "        = prop * np.exp(-7)\n",
    "        ~ prop * 0.0009...\n",
    "        which is also a valid probability.\n",
    "    \"\"\"\n",
    "    #return prop * np.exp(first - np.maximum(second, third) - max_diff)\n",
    "    #return 1.0 / (1 + np.exp(np.maximum(second, third) - first))\n",
    "    normalized = np.exp(first - np.maximum(second, third)) \\\n",
    "        + np.exp(second - np.maximum(first, third)) \\\n",
    "        + np.exp(third - np.maximum(second, first))\n",
    "    \n",
    "    return np.exp(first - np.maximum(second, third)) / normalized\n",
    "    "
   ]
  },
  {
   "cell_type": "code",
   "execution_count": 72,
   "id": "5e1ffd23",
   "metadata": {},
   "outputs": [],
   "source": [
    "def iterative_update(priors, obs, at_least_num_samples):\n",
    "    \"\"\"\n",
    "    Update the posterior one observation at a time.\n",
    "    \n",
    "    Parameters:\n",
    "        prior: dict\n",
    "            Keys: s_1 ... s_10\n",
    "            Values: np.arrays\n",
    "            \n",
    "        obs: tuple of int\n",
    "            Each \"experiment\" consists of three ads that were shown.\n",
    "            The first number corresponds to the ad type that got picked.\n",
    "            The second and third numbers correspond to the ads that did not get picked.\n",
    "            \n",
    "        at_least_num_samples: integer\n",
    "            The lower bound on the number of samples to have for each update.\n",
    "    \"\"\"\n",
    "    \n",
    "    print(f\"Observation: {obs}\")\n",
    "    \n",
    "    posterior = {f's_{i}': [] for i in range(1, 11)}\n",
    "    \n",
    "    while len(posterior['s_1']) < at_least_num_samples:\n",
    "        probas = proba_pick_one_over_others(\n",
    "            priors[f's_{obs[0]}'],\n",
    "            priors[f's_{obs[1]}'],\n",
    "            priors[f's_{obs[2]}']\n",
    "        )\n",
    "        \n",
    "        sims = np.random.binomial(\n",
    "            n=1,\n",
    "            p=probas\n",
    "        )\n",
    "        \n",
    "        new_indices = np.where(sims == 1)[0]\n",
    "        #import pdb; pdb.set_trace()\n",
    "        if not len(new_indices):\n",
    "            raise AssertionError(\n",
    "                \"new_indices must have a length greater than 1, otherwise \"\\\n",
    "                \"we will have an infinite loop.\"\n",
    "            )\n",
    "            \n",
    "        for i in range(1, 11):\n",
    "            #print(f\"i: {i}\")\n",
    "            posterior[f's_{i}'] = posterior[f's_{i}'] + list(priors[f's_{i}'][new_indices])\n",
    "            \n",
    "        sample = f's_{i}'\n",
    "        print(f'At {len(posterior[sample]) / at_least_num_samples} of {at_least_num_samples} samples.')\n",
    "    \n",
    "    # Convert posteriors back to numpy arrays\n",
    "    for i in range(1, 11):\n",
    "        posterior[f's_{i}'] = np.array(posterior[f's_{i}'])\n",
    "        \n",
    "    return posterior"
   ]
  },
  {
   "cell_type": "code",
   "execution_count": 103,
   "id": "1a1bc31f",
   "metadata": {},
   "outputs": [
    {
     "name": "stdout",
     "output_type": "stream",
     "text": [
      "Observation: (1, 2, 3)\n",
      "At 0.333107 of 1000000 samples.\n",
      "At 0.665735 of 1000000 samples.\n",
      "At 0.99859 of 1000000 samples.\n",
      "At 1.331964 of 1000000 samples.\n",
      "Observation: (2, 5, 3)\n",
      "At 0.357186 of 1000000 samples.\n",
      "At 0.714487 of 1000000 samples.\n",
      "At 1.07157 of 1000000 samples.\n",
      "Observation: (4, 7, 10)\n",
      "At 0.356801 of 1000000 samples.\n",
      "At 0.713656 of 1000000 samples.\n",
      "At 1.070066 of 1000000 samples.\n",
      "Observation: (6, 3, 4)\n",
      "At 0.284882 of 1000000 samples.\n",
      "At 0.569652 of 1000000 samples.\n",
      "At 0.85389 of 1000000 samples.\n",
      "At 1.139156 of 1000000 samples.\n",
      "Observation: (6, 8, 5)\n",
      "At 0.763815 of 1000000 samples.\n",
      "At 1.527879 of 1000000 samples.\n",
      "Observation: (9, 3, 7)\n",
      "At 0.79435 of 1000000 samples.\n",
      "At 1.5886 of 1000000 samples.\n",
      "Observation: (10, 2, 4)\n",
      "At 0.203208 of 1000000 samples.\n",
      "At 0.40619 of 1000000 samples.\n",
      "At 0.609634 of 1000000 samples.\n",
      "At 0.812303 of 1000000 samples.\n",
      "At 1.014997 of 1000000 samples.\n",
      "Observation: (7, 1, 2)\n",
      "At 0.120642 of 1000000 samples.\n",
      "At 0.241603 of 1000000 samples.\n",
      "At 0.362828 of 1000000 samples.\n",
      "At 0.483624 of 1000000 samples.\n",
      "At 0.604016 of 1000000 samples.\n",
      "At 0.724535 of 1000000 samples.\n",
      "At 0.845596 of 1000000 samples.\n",
      "At 0.966603 of 1000000 samples.\n",
      "At 1.087357 of 1000000 samples.\n",
      "Observation: (8, 7, 2)\n",
      "At 0.297515 of 1000000 samples.\n",
      "At 0.595065 of 1000000 samples.\n",
      "At 0.892164 of 1000000 samples.\n",
      "At 1.189287 of 1000000 samples.\n",
      "Observation: (8, 3, 6)\n",
      "At 0.28539 of 1000000 samples.\n",
      "At 0.571442 of 1000000 samples.\n",
      "At 0.858048 of 1000000 samples.\n",
      "At 1.144508 of 1000000 samples.\n",
      "Observation: (8, 6, 4)\n",
      "At 0.48523 of 1000000 samples.\n",
      "At 0.970142 of 1000000 samples.\n",
      "At 1.455896 of 1000000 samples.\n",
      "Observation: (4, 3, 9)\n",
      "At 0.342198 of 1000000 samples.\n",
      "At 0.684216 of 1000000 samples.\n",
      "At 1.026558 of 1000000 samples.\n",
      "Observation: (5, 4, 1)\n",
      "At 0.075387 of 1000000 samples.\n",
      "At 0.150761 of 1000000 samples.\n",
      "At 0.22577 of 1000000 samples.\n",
      "At 0.301344 of 1000000 samples.\n",
      "At 0.376631 of 1000000 samples.\n",
      "At 0.452288 of 1000000 samples.\n",
      "At 0.52723 of 1000000 samples.\n",
      "At 0.60307 of 1000000 samples.\n",
      "At 0.678437 of 1000000 samples.\n",
      "At 0.753863 of 1000000 samples.\n",
      "At 0.829054 of 1000000 samples.\n",
      "At 0.904206 of 1000000 samples.\n",
      "At 0.979834 of 1000000 samples.\n",
      "At 1.055439 of 1000000 samples.\n",
      "Observation: (9, 5, 1)\n",
      "At 0.404715 of 1000000 samples.\n",
      "At 0.809567 of 1000000 samples.\n",
      "At 1.214782 of 1000000 samples.\n",
      "Observation: (6, 7, 8)\n",
      "At 0.430112 of 1000000 samples.\n",
      "At 0.860039 of 1000000 samples.\n",
      "At 1.289851 of 1000000 samples.\n",
      "Observation: (4, 9, 7)\n",
      "At 0.432231 of 1000000 samples.\n",
      "At 0.863796 of 1000000 samples.\n",
      "At 1.295085 of 1000000 samples.\n",
      "Observation: (10, 8, 6)\n",
      "At 0.246307 of 1000000 samples.\n",
      "At 0.492676 of 1000000 samples.\n",
      "At 0.738814 of 1000000 samples.\n",
      "At 0.984888 of 1000000 samples.\n",
      "At 1.230851 of 1000000 samples.\n",
      "Observation: (5, 4, 3)\n",
      "At 0.184813 of 1000000 samples.\n",
      "At 0.370073 of 1000000 samples.\n",
      "At 0.554809 of 1000000 samples.\n",
      "At 0.738782 of 1000000 samples.\n",
      "At 0.923437 of 1000000 samples.\n",
      "At 1.10765 of 1000000 samples.\n",
      "Observation: (6, 3, 2)\n",
      "At 0.954951 of 1000000 samples.\n",
      "At 1.90942 of 1000000 samples.\n",
      "Observation: (1, 4, 2)\n",
      "At 0.424371 of 1000000 samples.\n",
      "At 0.847536 of 1000000 samples.\n",
      "At 1.272257 of 1000000 samples.\n"
     ]
    }
   ],
   "source": [
    "num_samples = 1_000_000\n",
    "prior = {f's_{i}': np.random.randint(low=1, high=6, size=num_samples) for i in range(1, 11)}\n",
    "posterior = iterative_update(\n",
    "    prior, \n",
    "    obs=events[0], \n",
    "    at_least_num_samples=num_samples\n",
    ")\n",
    "\n",
    "for i in range(1, len(events)):\n",
    "    #print(f\"len posterior[s_1]: {len(posterior['s_1'])}\")\n",
    "    posterior = iterative_update(\n",
    "        posterior, \n",
    "        obs=events[i], \n",
    "        at_least_num_samples=num_samples\n",
    "    )"
   ]
  },
  {
   "cell_type": "code",
   "execution_count": 104,
   "id": "ee9f4d4b",
   "metadata": {},
   "outputs": [
    {
     "data": {
      "text/html": [
       "<div>\n",
       "<style scoped>\n",
       "    .dataframe tbody tr th:only-of-type {\n",
       "        vertical-align: middle;\n",
       "    }\n",
       "\n",
       "    .dataframe tbody tr th {\n",
       "        vertical-align: top;\n",
       "    }\n",
       "\n",
       "    .dataframe thead th {\n",
       "        text-align: right;\n",
       "    }\n",
       "</style>\n",
       "<table border=\"1\" class=\"dataframe\">\n",
       "  <thead>\n",
       "    <tr style=\"text-align: right;\">\n",
       "      <th></th>\n",
       "      <th></th>\n",
       "      <th>count</th>\n",
       "    </tr>\n",
       "    <tr>\n",
       "      <th>interest</th>\n",
       "      <th>value</th>\n",
       "      <th></th>\n",
       "    </tr>\n",
       "  </thead>\n",
       "  <tbody>\n",
       "    <tr>\n",
       "      <th rowspan=\"5\" valign=\"top\">s_1</th>\n",
       "      <th>1</th>\n",
       "      <td>0.052491</td>\n",
       "    </tr>\n",
       "    <tr>\n",
       "      <th>2</th>\n",
       "      <td>0.159335</td>\n",
       "    </tr>\n",
       "    <tr>\n",
       "      <th>3</th>\n",
       "      <td>0.396420</td>\n",
       "    </tr>\n",
       "    <tr>\n",
       "      <th>4</th>\n",
       "      <td>0.309430</td>\n",
       "    </tr>\n",
       "    <tr>\n",
       "      <th>5</th>\n",
       "      <td>0.082324</td>\n",
       "    </tr>\n",
       "  </tbody>\n",
       "</table>\n",
       "</div>"
      ],
      "text/plain": [
       "                   count\n",
       "interest value          \n",
       "s_1      1      0.052491\n",
       "         2      0.159335\n",
       "         3      0.396420\n",
       "         4      0.309430\n",
       "         5      0.082324"
      ]
     },
     "execution_count": 104,
     "metadata": {},
     "output_type": "execute_result"
    }
   ],
   "source": [
    "frame = pd.Series(posterior['s_1'], name='value').to_frame()\n",
    "frame['count'] = 0\n",
    "frame['interest'] = 's_1'\n",
    "frame.groupby(['interest', 'value']).count() / frame.groupby(['interest', 'value']).count().sum()"
   ]
  },
  {
   "cell_type": "code",
   "execution_count": 105,
   "id": "f5a0a06b",
   "metadata": {
    "scrolled": false
   },
   "outputs": [
    {
     "data": {
      "text/html": [
       "<div>\n",
       "<style scoped>\n",
       "    .dataframe tbody tr th:only-of-type {\n",
       "        vertical-align: middle;\n",
       "    }\n",
       "\n",
       "    .dataframe tbody tr th {\n",
       "        vertical-align: top;\n",
       "    }\n",
       "\n",
       "    .dataframe thead th {\n",
       "        text-align: right;\n",
       "    }\n",
       "</style>\n",
       "<table border=\"1\" class=\"dataframe\">\n",
       "  <thead>\n",
       "    <tr style=\"text-align: right;\">\n",
       "      <th></th>\n",
       "      <th></th>\n",
       "      <th>count</th>\n",
       "    </tr>\n",
       "    <tr>\n",
       "      <th>interest</th>\n",
       "      <th>value</th>\n",
       "      <th></th>\n",
       "    </tr>\n",
       "  </thead>\n",
       "  <tbody>\n",
       "    <tr>\n",
       "      <th rowspan=\"5\" valign=\"top\">s_1</th>\n",
       "      <th>1</th>\n",
       "      <td>0.052491</td>\n",
       "    </tr>\n",
       "    <tr>\n",
       "      <th>2</th>\n",
       "      <td>0.159335</td>\n",
       "    </tr>\n",
       "    <tr>\n",
       "      <th>3</th>\n",
       "      <td>0.396420</td>\n",
       "    </tr>\n",
       "    <tr>\n",
       "      <th>4</th>\n",
       "      <td>0.309430</td>\n",
       "    </tr>\n",
       "    <tr>\n",
       "      <th>5</th>\n",
       "      <td>0.082324</td>\n",
       "    </tr>\n",
       "    <tr>\n",
       "      <th rowspan=\"5\" valign=\"top\">s_2</th>\n",
       "      <th>1</th>\n",
       "      <td>0.192230</td>\n",
       "    </tr>\n",
       "    <tr>\n",
       "      <th>2</th>\n",
       "      <td>0.281273</td>\n",
       "    </tr>\n",
       "    <tr>\n",
       "      <th>3</th>\n",
       "      <td>0.307608</td>\n",
       "    </tr>\n",
       "    <tr>\n",
       "      <th>4</th>\n",
       "      <td>0.193624</td>\n",
       "    </tr>\n",
       "    <tr>\n",
       "      <th>5</th>\n",
       "      <td>0.025265</td>\n",
       "    </tr>\n",
       "    <tr>\n",
       "      <th rowspan=\"5\" valign=\"top\">s_3</th>\n",
       "      <th>1</th>\n",
       "      <td>0.496151</td>\n",
       "    </tr>\n",
       "    <tr>\n",
       "      <th>2</th>\n",
       "      <td>0.350834</td>\n",
       "    </tr>\n",
       "    <tr>\n",
       "      <th>3</th>\n",
       "      <td>0.131974</td>\n",
       "    </tr>\n",
       "    <tr>\n",
       "      <th>4</th>\n",
       "      <td>0.020567</td>\n",
       "    </tr>\n",
       "    <tr>\n",
       "      <th>5</th>\n",
       "      <td>0.000475</td>\n",
       "    </tr>\n",
       "    <tr>\n",
       "      <th rowspan=\"5\" valign=\"top\">s_4</th>\n",
       "      <th>1</th>\n",
       "      <td>0.041419</td>\n",
       "    </tr>\n",
       "    <tr>\n",
       "      <th>2</th>\n",
       "      <td>0.164638</td>\n",
       "    </tr>\n",
       "    <tr>\n",
       "      <th>3</th>\n",
       "      <td>0.381830</td>\n",
       "    </tr>\n",
       "    <tr>\n",
       "      <th>4</th>\n",
       "      <td>0.348381</td>\n",
       "    </tr>\n",
       "    <tr>\n",
       "      <th>5</th>\n",
       "      <td>0.063732</td>\n",
       "    </tr>\n",
       "    <tr>\n",
       "      <th rowspan=\"5\" valign=\"top\">s_5</th>\n",
       "      <th>1</th>\n",
       "      <td>0.040148</td>\n",
       "    </tr>\n",
       "    <tr>\n",
       "      <th>2</th>\n",
       "      <td>0.166950</td>\n",
       "    </tr>\n",
       "    <tr>\n",
       "      <th>3</th>\n",
       "      <td>0.379651</td>\n",
       "    </tr>\n",
       "    <tr>\n",
       "      <th>4</th>\n",
       "      <td>0.336180</td>\n",
       "    </tr>\n",
       "    <tr>\n",
       "      <th>5</th>\n",
       "      <td>0.077072</td>\n",
       "    </tr>\n",
       "    <tr>\n",
       "      <th rowspan=\"5\" valign=\"top\">s_6</th>\n",
       "      <th>1</th>\n",
       "      <td>0.001698</td>\n",
       "    </tr>\n",
       "    <tr>\n",
       "      <th>2</th>\n",
       "      <td>0.013485</td>\n",
       "    </tr>\n",
       "    <tr>\n",
       "      <th>3</th>\n",
       "      <td>0.112067</td>\n",
       "    </tr>\n",
       "    <tr>\n",
       "      <th>4</th>\n",
       "      <td>0.389056</td>\n",
       "    </tr>\n",
       "    <tr>\n",
       "      <th>5</th>\n",
       "      <td>0.483695</td>\n",
       "    </tr>\n",
       "    <tr>\n",
       "      <th rowspan=\"5\" valign=\"top\">s_7</th>\n",
       "      <th>1</th>\n",
       "      <td>0.199079</td>\n",
       "    </tr>\n",
       "    <tr>\n",
       "      <th>2</th>\n",
       "      <td>0.341106</td>\n",
       "    </tr>\n",
       "    <tr>\n",
       "      <th>3</th>\n",
       "      <td>0.252878</td>\n",
       "    </tr>\n",
       "    <tr>\n",
       "      <th>4</th>\n",
       "      <td>0.166209</td>\n",
       "    </tr>\n",
       "    <tr>\n",
       "      <th>5</th>\n",
       "      <td>0.040728</td>\n",
       "    </tr>\n",
       "    <tr>\n",
       "      <th rowspan=\"5\" valign=\"top\">s_8</th>\n",
       "      <th>1</th>\n",
       "      <td>0.002852</td>\n",
       "    </tr>\n",
       "    <tr>\n",
       "      <th>2</th>\n",
       "      <td>0.019142</td>\n",
       "    </tr>\n",
       "    <tr>\n",
       "      <th>3</th>\n",
       "      <td>0.125639</td>\n",
       "    </tr>\n",
       "    <tr>\n",
       "      <th>4</th>\n",
       "      <td>0.390232</td>\n",
       "    </tr>\n",
       "    <tr>\n",
       "      <th>5</th>\n",
       "      <td>0.462135</td>\n",
       "    </tr>\n",
       "    <tr>\n",
       "      <th rowspan=\"5\" valign=\"top\">s_9</th>\n",
       "      <th>1</th>\n",
       "      <td>0.041995</td>\n",
       "    </tr>\n",
       "    <tr>\n",
       "      <th>2</th>\n",
       "      <td>0.254006</td>\n",
       "    </tr>\n",
       "    <tr>\n",
       "      <th>3</th>\n",
       "      <td>0.257018</td>\n",
       "    </tr>\n",
       "    <tr>\n",
       "      <th>4</th>\n",
       "      <td>0.344901</td>\n",
       "    </tr>\n",
       "    <tr>\n",
       "      <th>5</th>\n",
       "      <td>0.102080</td>\n",
       "    </tr>\n",
       "    <tr>\n",
       "      <th rowspan=\"5\" valign=\"top\">s_10</th>\n",
       "      <th>1</th>\n",
       "      <td>0.016918</td>\n",
       "    </tr>\n",
       "    <tr>\n",
       "      <th>2</th>\n",
       "      <td>0.084288</td>\n",
       "    </tr>\n",
       "    <tr>\n",
       "      <th>3</th>\n",
       "      <td>0.227185</td>\n",
       "    </tr>\n",
       "    <tr>\n",
       "      <th>4</th>\n",
       "      <td>0.393721</td>\n",
       "    </tr>\n",
       "    <tr>\n",
       "      <th>5</th>\n",
       "      <td>0.277888</td>\n",
       "    </tr>\n",
       "  </tbody>\n",
       "</table>\n",
       "</div>"
      ],
      "text/plain": [
       "                   count\n",
       "interest value          \n",
       "s_1      1      0.052491\n",
       "         2      0.159335\n",
       "         3      0.396420\n",
       "         4      0.309430\n",
       "         5      0.082324\n",
       "s_2      1      0.192230\n",
       "         2      0.281273\n",
       "         3      0.307608\n",
       "         4      0.193624\n",
       "         5      0.025265\n",
       "s_3      1      0.496151\n",
       "         2      0.350834\n",
       "         3      0.131974\n",
       "         4      0.020567\n",
       "         5      0.000475\n",
       "s_4      1      0.041419\n",
       "         2      0.164638\n",
       "         3      0.381830\n",
       "         4      0.348381\n",
       "         5      0.063732\n",
       "s_5      1      0.040148\n",
       "         2      0.166950\n",
       "         3      0.379651\n",
       "         4      0.336180\n",
       "         5      0.077072\n",
       "s_6      1      0.001698\n",
       "         2      0.013485\n",
       "         3      0.112067\n",
       "         4      0.389056\n",
       "         5      0.483695\n",
       "s_7      1      0.199079\n",
       "         2      0.341106\n",
       "         3      0.252878\n",
       "         4      0.166209\n",
       "         5      0.040728\n",
       "s_8      1      0.002852\n",
       "         2      0.019142\n",
       "         3      0.125639\n",
       "         4      0.390232\n",
       "         5      0.462135\n",
       "s_9      1      0.041995\n",
       "         2      0.254006\n",
       "         3      0.257018\n",
       "         4      0.344901\n",
       "         5      0.102080\n",
       "s_10     1      0.016918\n",
       "         2      0.084288\n",
       "         3      0.227185\n",
       "         4      0.393721\n",
       "         5      0.277888"
      ]
     },
     "execution_count": 105,
     "metadata": {},
     "output_type": "execute_result"
    }
   ],
   "source": [
    "#fig, ax = plt.subplots(10,1, figsize=(2, 20))\n",
    "counts = pd.DataFrame([])\n",
    "for index, (name, post) in enumerate(posterior.items()):\n",
    "    frame = pd.Series(posterior[name], name='value').to_frame()\n",
    "    frame['count'] = 0\n",
    "    frame['interest'] = name\n",
    "    frame_count = frame.groupby(['interest', 'value']).count() \\\n",
    "        / frame.groupby(['interest', 'value']).count().sum()\n",
    "    counts = counts.append(frame_count)\n",
    "    #ax[index].set_title(f\"Posterior of {name}\")\n",
    "    \n",
    "counts"
   ]
  },
  {
   "cell_type": "code",
   "execution_count": 109,
   "id": "ea2cbffa",
   "metadata": {},
   "outputs": [
    {
     "data": {
      "text/html": [
       "<div>\n",
       "<style scoped>\n",
       "    .dataframe tbody tr th:only-of-type {\n",
       "        vertical-align: middle;\n",
       "    }\n",
       "\n",
       "    .dataframe tbody tr th {\n",
       "        vertical-align: top;\n",
       "    }\n",
       "\n",
       "    .dataframe thead tr th {\n",
       "        text-align: left;\n",
       "    }\n",
       "\n",
       "    .dataframe thead tr:last-of-type th {\n",
       "        text-align: right;\n",
       "    }\n",
       "</style>\n",
       "<table border=\"1\" class=\"dataframe\">\n",
       "  <thead>\n",
       "    <tr>\n",
       "      <th></th>\n",
       "      <th colspan=\"5\" halign=\"left\">count</th>\n",
       "    </tr>\n",
       "    <tr>\n",
       "      <th>value</th>\n",
       "      <th>1</th>\n",
       "      <th>2</th>\n",
       "      <th>3</th>\n",
       "      <th>4</th>\n",
       "      <th>5</th>\n",
       "    </tr>\n",
       "    <tr>\n",
       "      <th>interest</th>\n",
       "      <th></th>\n",
       "      <th></th>\n",
       "      <th></th>\n",
       "      <th></th>\n",
       "      <th></th>\n",
       "    </tr>\n",
       "  </thead>\n",
       "  <tbody>\n",
       "    <tr>\n",
       "      <th>s_1</th>\n",
       "      <td>0.052491</td>\n",
       "      <td>0.159335</td>\n",
       "      <td>0.396420</td>\n",
       "      <td>0.309430</td>\n",
       "      <td>0.082324</td>\n",
       "    </tr>\n",
       "    <tr>\n",
       "      <th>s_10</th>\n",
       "      <td>0.016918</td>\n",
       "      <td>0.084288</td>\n",
       "      <td>0.227185</td>\n",
       "      <td>0.393721</td>\n",
       "      <td>0.277888</td>\n",
       "    </tr>\n",
       "    <tr>\n",
       "      <th>s_2</th>\n",
       "      <td>0.192230</td>\n",
       "      <td>0.281273</td>\n",
       "      <td>0.307608</td>\n",
       "      <td>0.193624</td>\n",
       "      <td>0.025265</td>\n",
       "    </tr>\n",
       "    <tr>\n",
       "      <th>s_3</th>\n",
       "      <td>0.496151</td>\n",
       "      <td>0.350834</td>\n",
       "      <td>0.131974</td>\n",
       "      <td>0.020567</td>\n",
       "      <td>0.000475</td>\n",
       "    </tr>\n",
       "    <tr>\n",
       "      <th>s_4</th>\n",
       "      <td>0.041419</td>\n",
       "      <td>0.164638</td>\n",
       "      <td>0.381830</td>\n",
       "      <td>0.348381</td>\n",
       "      <td>0.063732</td>\n",
       "    </tr>\n",
       "    <tr>\n",
       "      <th>s_5</th>\n",
       "      <td>0.040148</td>\n",
       "      <td>0.166950</td>\n",
       "      <td>0.379651</td>\n",
       "      <td>0.336180</td>\n",
       "      <td>0.077072</td>\n",
       "    </tr>\n",
       "    <tr>\n",
       "      <th>s_6</th>\n",
       "      <td>0.001698</td>\n",
       "      <td>0.013485</td>\n",
       "      <td>0.112067</td>\n",
       "      <td>0.389056</td>\n",
       "      <td>0.483695</td>\n",
       "    </tr>\n",
       "    <tr>\n",
       "      <th>s_7</th>\n",
       "      <td>0.199079</td>\n",
       "      <td>0.341106</td>\n",
       "      <td>0.252878</td>\n",
       "      <td>0.166209</td>\n",
       "      <td>0.040728</td>\n",
       "    </tr>\n",
       "    <tr>\n",
       "      <th>s_8</th>\n",
       "      <td>0.002852</td>\n",
       "      <td>0.019142</td>\n",
       "      <td>0.125639</td>\n",
       "      <td>0.390232</td>\n",
       "      <td>0.462135</td>\n",
       "    </tr>\n",
       "    <tr>\n",
       "      <th>s_9</th>\n",
       "      <td>0.041995</td>\n",
       "      <td>0.254006</td>\n",
       "      <td>0.257018</td>\n",
       "      <td>0.344901</td>\n",
       "      <td>0.102080</td>\n",
       "    </tr>\n",
       "  </tbody>\n",
       "</table>\n",
       "</div>"
      ],
      "text/plain": [
       "             count                                        \n",
       "value            1         2         3         4         5\n",
       "interest                                                  \n",
       "s_1       0.052491  0.159335  0.396420  0.309430  0.082324\n",
       "s_10      0.016918  0.084288  0.227185  0.393721  0.277888\n",
       "s_2       0.192230  0.281273  0.307608  0.193624  0.025265\n",
       "s_3       0.496151  0.350834  0.131974  0.020567  0.000475\n",
       "s_4       0.041419  0.164638  0.381830  0.348381  0.063732\n",
       "s_5       0.040148  0.166950  0.379651  0.336180  0.077072\n",
       "s_6       0.001698  0.013485  0.112067  0.389056  0.483695\n",
       "s_7       0.199079  0.341106  0.252878  0.166209  0.040728\n",
       "s_8       0.002852  0.019142  0.125639  0.390232  0.462135\n",
       "s_9       0.041995  0.254006  0.257018  0.344901  0.102080"
      ]
     },
     "execution_count": 109,
     "metadata": {},
     "output_type": "execute_result"
    }
   ],
   "source": [
    "pivot = counts.reset_index().pivot(columns=['value'], index='interest', values=['count'])\n",
    "pivot"
   ]
  },
  {
   "cell_type": "code",
   "execution_count": 110,
   "id": "12a6f4d6",
   "metadata": {},
   "outputs": [
    {
     "data": {
      "text/plain": [
       "Text(0.5, 1.0, 'Posteriors of Interests')"
      ]
     },
     "execution_count": 110,
     "metadata": {},
     "output_type": "execute_result"
    },
    {
     "data": {
      "image/png": "[encoded data removed]",
      "text/plain": [
       "<Figure size 432x288 with 2 Axes>"
      ]
     },
     "metadata": {
      "needs_background": "light"
     },
     "output_type": "display_data"
    }
   ],
   "source": [
    "fig, ax = plt.subplots(1,1)\n",
    "sns.heatmap(\n",
    "    pivot,\n",
    "    ax=ax\n",
    ")\n",
    "ax.set_title('Posteriors of Interests')"
   ]
  },
  {
   "cell_type": "code",
   "execution_count": 119,
   "id": "b5fd7b64",
   "metadata": {},
   "outputs": [
    {
     "data": {
      "text/plain": [
       "interest\n",
       "s_1     3.209761\n",
       "s_10    3.831373\n",
       "s_2     2.578422\n",
       "s_3     1.678381\n",
       "s_4     3.228367\n",
       "s_5     3.243078\n",
       "s_6     4.339565\n",
       "s_7     2.508399\n",
       "s_8     4.289655\n",
       "s_9     3.211066\n",
       "dtype: float64"
      ]
     },
     "execution_count": 119,
     "metadata": {},
     "output_type": "execute_result"
    }
   ],
   "source": [
    "expected_interest_levels_in_each_advert = \\\n",
    "    pivot.loc[:, ('count', 1)] * 1 + \\\n",
    "    pivot.loc[:, ('count', 2)] * 2 + \\\n",
    "    pivot.loc[:, ('count', 3)] * 3 + \\\n",
    "    pivot.loc[:, ('count', 4)] * 4 + \\\n",
    "    pivot.loc[:, ('count', 5)] * 5 \n"
   ]
  },
  {
   "cell_type": "markdown",
   "id": "bb1d8a92",
   "metadata": {},
   "source": [
    "## Ex 3.23\n",
    "\n",
    "The game [RockPaperScissors](https://en.wikipedia.org/wiki/Rock-paper-scissors) is played by Player1 and Player2. The sequences of moves $x^1_{1:T}$,$x^2_{1:T}$ (each move $x^i_t$ being one of rock =\n",
    "$r$, paper = $p$, scissors = $s$) by both players is\n",
    "$$\n",
    "\\quad player1 = [\\text{ r } \\text{ p } \\text{ r } \\text{ p } \\text{ r } \\text{ s } \\text{ p } \\text{ r } \\text{ s } \\text{ p } \\text{ p } \\text{ r } \\text{ r } \\text{ r } \\text{ r } \\text{ p } \\text{ r } \\text{ s } \\text{ r } \\text{ p } \\text{ p } \\text{ s } \\text{ r }] \\\\\n",
    "\\quad player2 = [\\text{ s } \\text{ p } \\text{ r } \\text{ s } \\text{ p } \\text{ s } \\text{ p } \\text{ s } \\text{ r } \\text{ p } \\text{ s } \\text{ r } \\text{ p } \\text{ p } \\text{ r } \\text{ r } \\text{ s } \\text{ p } \\text{ r } \\text{ s } \\text{ s } \\text{ p } \\text{ r }]\n",
    "$$\n",
    "\n",
    "Assume that player1 plays according to a first order Markov chain, defined by:\n",
    "\n",
    "$$\n",
    "\\begin{equation}\n",
    "\\begin{aligned}\n",
    "p(x^1_{2:T} |x^2_{1:T −1}) = \\prod_{t=2}^T p(x^1_t |x^1_{t−1}, x^2_{t−1}) & \\quad\\text{(3.7.15)}\n",
    "\\end{aligned}\n",
    "\\end{equation}\n",
    "$$\n",
    "\n",
    "where $x^1_t \\in \\{r, p, s\\}$ and $x^2_t ∈ \\{r, p, s\\}$ are the moves at time t by player 1 and player 2 respectively.\n"
   ]
  },
  {
   "cell_type": "markdown",
   "id": "61590bef",
   "metadata": {},
   "source": [
    "### Part I\n",
    "\n",
    "1. Calculate the probability given in equation (3.7.15) for the data above."
   ]
  },
  {
   "cell_type": "code",
   "execution_count": 16,
   "id": "f2a43c59",
   "metadata": {},
   "outputs": [
    {
     "data": {
      "text/plain": [
       "0.9950669512572845"
      ]
     },
     "execution_count": 16,
     "metadata": {},
     "output_type": "execute_result"
    }
   ],
   "source": [
    "np.exp(6) / (np.exp(6) + np.exp(0) + np.exp(0))"
   ]
  },
  {
   "cell_type": "code",
   "execution_count": 17,
   "id": "f5f9f2b4",
   "metadata": {},
   "outputs": [
    {
     "data": {
      "text/plain": [
       "0.0024665243713577513"
      ]
     },
     "execution_count": 17,
     "metadata": {},
     "output_type": "execute_result"
    }
   ],
   "source": [
    "np.exp(0) / (np.exp(6) + np.exp(0) + np.exp(0))"
   ]
  },
  {
   "cell_type": "code",
   "execution_count": 27,
   "id": "37cd13f2",
   "metadata": {},
   "outputs": [],
   "source": [
    "def create_priors(length):\n",
    "    storage = {}\n",
    "    \n",
    "    for player_1_last_move in ['r', 'p', 's']:\n",
    "        for player_2_last_move in ['r', 'p', 's']:\n",
    "            for player_1_curr_move in ['r', 'p', 's']:\n",
    "                storage[\n",
    "                    f'{player_1_curr_move}|{player_1_last_move},{player_2_last_move}'\n",
    "                ] = np.random.uniform(low=0, high=6, size=length)\n",
    "                \n",
    "    return storage"
   ]
  },
  {
   "cell_type": "code",
   "execution_count": 75,
   "id": "1872effa",
   "metadata": {},
   "outputs": [],
   "source": [
    "num_samples = 1_000_000\n",
    "priors = create_priors(num_samples)"
   ]
  },
  {
   "cell_type": "code",
   "execution_count": 76,
   "id": "7738f681",
   "metadata": {},
   "outputs": [
    {
     "data": {
      "text/plain": [
       "{'r|r,r': array([2.33325871, 4.39576967, 2.5439233 , ..., 1.93919838, 3.00112544,\n",
       "        3.10881998]),\n",
       " 'p|r,r': array([4.80357029, 5.81026075, 1.13454691, ..., 2.71157819, 5.10826924,\n",
       "        5.45925571]),\n",
       " 's|r,r': array([4.52048067, 4.98630139, 5.3455663 , ..., 1.80028303, 0.55997885,\n",
       "        4.37688461]),\n",
       " 'r|r,p': array([2.13875305, 2.13804259, 0.36555675, ..., 1.74963212, 5.81381168,\n",
       "        5.72420243]),\n",
       " 'p|r,p': array([1.65400383, 5.21390332, 2.26170545, ..., 4.57788837, 2.99049458,\n",
       "        0.02880719]),\n",
       " 's|r,p': array([0.65480822, 4.89548741, 4.25816266, ..., 4.67896055, 1.86193844,\n",
       "        3.82102379]),\n",
       " 'r|r,s': array([0.72689836, 1.32614052, 3.74098465, ..., 4.12962065, 5.04385237,\n",
       "        2.30578522]),\n",
       " 'p|r,s': array([3.42923799, 2.83809493, 3.06593232, ..., 5.24079453, 4.90094321,\n",
       "        5.57848029]),\n",
       " 's|r,s': array([4.17660355, 2.92991562, 4.87279499, ..., 4.34292184, 3.37635613,\n",
       "        4.75080828]),\n",
       " 'r|p,r': array([4.98134082, 1.80897378, 1.18784462, ..., 5.43411478, 1.82603063,\n",
       "        0.54621272]),\n",
       " 'p|p,r': array([1.78896236, 3.72462629, 3.32198411, ..., 3.40579015, 3.32396705,\n",
       "        0.0974626 ]),\n",
       " 's|p,r': array([2.94960434, 4.12926703, 1.27044198, ..., 4.33997318, 1.90848648,\n",
       "        4.03408536]),\n",
       " 'r|p,p': array([2.0081052 , 4.68516661, 0.11171958, ..., 5.33603819, 4.91441555,\n",
       "        4.72994715]),\n",
       " 'p|p,p': array([1.10353081, 4.95635409, 5.55023642, ..., 1.25312346, 5.34458199,\n",
       "        1.28155129]),\n",
       " 's|p,p': array([3.64715134, 3.98200355, 2.19535859, ..., 2.81158446, 2.30317527,\n",
       "        3.26174639]),\n",
       " 'r|p,s': array([2.47823658, 5.36635318, 2.6224199 , ..., 5.68963474, 5.3056664 ,\n",
       "        3.7224961 ]),\n",
       " 'p|p,s': array([3.09840331, 4.3780152 , 2.80198655, ..., 3.78654176, 5.21078745,\n",
       "        1.89160376]),\n",
       " 's|p,s': array([3.99512541, 5.39494002, 4.72253016, ..., 2.43065312, 0.62201514,\n",
       "        3.74890559]),\n",
       " 'r|s,r': array([1.44712774, 2.51338138, 0.59851713, ..., 0.03720814, 2.93757534,\n",
       "        0.23205525]),\n",
       " 'p|s,r': array([5.69852724, 4.53293396, 1.23039808, ..., 5.86234649, 4.30340261,\n",
       "        1.55943604]),\n",
       " 's|s,r': array([5.88726363, 0.13715877, 5.17963617, ..., 1.53504172, 3.17517925,\n",
       "        2.36408754]),\n",
       " 'r|s,p': array([5.4229154 , 3.01319179, 4.24557313, ..., 1.18661763, 4.87156833,\n",
       "        3.73722651]),\n",
       " 'p|s,p': array([4.05997017, 5.94941239, 5.6931457 , ..., 4.43054092, 0.32577199,\n",
       "        1.40054352]),\n",
       " 's|s,p': array([1.09241652, 5.04196488, 4.8727912 , ..., 0.96251058, 3.14486069,\n",
       "        4.88325854]),\n",
       " 'r|s,s': array([5.22601631, 0.44951497, 4.05925576, ..., 3.81774775, 3.76384019,\n",
       "        1.36913205]),\n",
       " 'p|s,s': array([4.61543483, 5.00988885, 4.36925561, ..., 2.27750535, 2.76191627,\n",
       "        1.48622422]),\n",
       " 's|s,s': array([1.7554773 , 0.04887651, 5.05409382, ..., 0.70942169, 2.28286246,\n",
       "        3.73085894])}"
      ]
     },
     "execution_count": 76,
     "metadata": {},
     "output_type": "execute_result"
    }
   ],
   "source": [
    "priors"
   ]
  },
  {
   "cell_type": "code",
   "execution_count": 77,
   "id": "ef3963dc",
   "metadata": {},
   "outputs": [],
   "source": [
    "player_1 = ['r', 'p', 'r', 'p', 'r', 's', 'p', 'r', 's', 'p', 'p', 'r', 'r', 'r', 'r', 'p', 'r', 's', 'r', 'p', 'p', 's', 'r',]\n",
    "player_2 = [ 's', 'p', 'r', 's', 'p', 's', 'p', 's', 'r', 'p', 's', 'r', 'p', 'p', 'r', 'r', 's', 'p', 'r', 's', 's', 'p', 'r']\n"
   ]
  },
  {
   "cell_type": "code",
   "execution_count": 78,
   "id": "e751c798",
   "metadata": {},
   "outputs": [],
   "source": [
    "def other_actions(action):\n",
    "    dictionary = {\n",
    "        'r': ('p', 's'),\n",
    "        'p': ('r', 's'),\n",
    "        's': ('r', 'p')\n",
    "    }\n",
    "    \n",
    "    return dictionary[action]"
   ]
  },
  {
   "cell_type": "code",
   "execution_count": 79,
   "id": "a902f12c",
   "metadata": {},
   "outputs": [
    {
     "data": {
      "text/plain": [
       "array([3, 3])"
      ]
     },
     "execution_count": 79,
     "metadata": {},
     "output_type": "execute_result"
    }
   ],
   "source": [
    "np.array([1,2,3,4,5,6,7,8,9])[[2,2]]"
   ]
  },
  {
   "cell_type": "code",
   "execution_count": 80,
   "id": "6ad31b11",
   "metadata": {},
   "outputs": [],
   "source": [
    "def update_priors_with_indices(priors, indices, num_samples):\n",
    "    for key, prior in priors.items():\n",
    "        priors[key] = prior[np.random.choice(indices, size=num_samples)]\n"
   ]
  },
  {
   "cell_type": "code",
   "execution_count": 81,
   "id": "84b93873",
   "metadata": {},
   "outputs": [],
   "source": [
    "def update_priors(player_1_data, player_2_data, priors, num_samples):\n",
    "    for i in range(1, len(player_1_data)):\n",
    "        other_1, other_2 = other_actions(player_1_data[i])\n",
    "        key = f'{player_1_data[i]}|{player_1_data[i-1]},{player_2_data[i-1]}'\n",
    "        other_1_key = f'{other_1}|{player_1_data[i-1]},{player_2_data[i-1]}'\n",
    "        other_2_key = f'{other_2}|{player_1_data[i-1]},{player_2_data[i-1]}'\n",
    "        \n",
    "        proba_observed_action = np.exp(priors[key]) / (\n",
    "            np.exp(priors[key]) \\\n",
    "            + np.exp(priors[other_1_key]) \\\n",
    "            + np.exp(priors[other_2_key])\n",
    "        )\n",
    "        #import pdb; pdb.set_trace()\n",
    "        simulation = np.random.binomial(n=1, p=proba_observed_action)\n",
    "        \n",
    "        possible_indices = np.where(simulation == 1)[0]\n",
    "        \n",
    "        update_priors_with_indices(priors, possible_indices, num_samples)"
   ]
  },
  {
   "cell_type": "code",
   "execution_count": 84,
   "id": "02f0896d",
   "metadata": {},
   "outputs": [],
   "source": [
    "def compute_proba_data(player_1_data, player_2_data, priors, num_samples):\n",
    "    proba_observed = 1.0\n",
    "    \n",
    "    for i in range(1, len(player_1_data)):\n",
    "        other_1, other_2 = other_actions(player_1_data[i])\n",
    "        key = f'{player_1_data[i]}|{player_1_data[i-1]},{player_2_data[i-1]}'\n",
    "        other_1_key = f'{other_1}|{player_1_data[i-1]},{player_2_data[i-1]}'\n",
    "        other_2_key = f'{other_2}|{player_1_data[i-1]},{player_2_data[i-1]}'\n",
    "        \n",
    "        proba_observed *= np.exp(priors[key]) / (\n",
    "            np.exp(priors[key]) \\\n",
    "            + np.exp(priors[other_1_key]) \\\n",
    "            + np.exp(priors[other_2_key])\n",
    "        )\n",
    "\n",
    "    return proba_observed"
   ]
  },
  {
   "cell_type": "code",
   "execution_count": null,
   "id": "cc383e27",
   "metadata": {},
   "outputs": [],
   "source": []
  },
  {
   "cell_type": "code",
   "execution_count": 82,
   "id": "a36e1656",
   "metadata": {},
   "outputs": [],
   "source": [
    "update_priors(player_1, player_2, priors, num_samples)"
   ]
  },
  {
   "cell_type": "markdown",
   "id": "4e4ea51d",
   "metadata": {},
   "source": [
    "### Part II\n",
    "\n",
    "How much more likely is it that player 1 is playing according to this strategy, compared to playing random moves?"
   ]
  },
  {
   "cell_type": "markdown",
   "id": "efffd6f9",
   "metadata": {},
   "source": [
    "#### Ans"
   ]
  },
  {
   "cell_type": "code",
   "execution_count": 86,
   "id": "b732aa75",
   "metadata": {},
   "outputs": [
    {
     "data": {
      "text/plain": [
       "array([4.31801200e-08, 7.67789242e-12, 1.25871523e-07, ...,\n",
       "       1.87484195e-11, 2.54719504e-13, 2.43540752e-10])"
      ]
     },
     "execution_count": 86,
     "metadata": {},
     "output_type": "execute_result"
    }
   ],
   "source": [
    "# Now that priors have been updated:\n",
    "\n",
    "proba_data_produced_by_first_order_markov_chain = \\\n",
    "    compute_proba_data(player_1, player_2, priors, num_samples)\n",
    "proba_data_produced_by_first_order_markov_chain"
   ]
  },
  {
   "cell_type": "code",
   "execution_count": 100,
   "id": "b13f4534",
   "metadata": {},
   "outputs": [],
   "source": [
    "proba_data_produced_randomly = (1/3)**(len(player_1)-1)"
   ]
  },
  {
   "cell_type": "code",
   "execution_count": 105,
   "id": "d98e1a64",
   "metadata": {},
   "outputs": [
    {
     "data": {
      "text/plain": [
       "0.756244"
      ]
     },
     "execution_count": 105,
     "metadata": {},
     "output_type": "execute_result"
    }
   ],
   "source": [
    "(proba_data_produced_by_first_order_markov_chain > proba_data_produced_randomly).mean()"
   ]
  },
  {
   "cell_type": "markdown",
   "id": "ccc5d022",
   "metadata": {},
   "source": [
    "There's a ~75.6% chance that the data was produced by the first order markov chain instead of the data being produced randomly."
   ]
  },
  {
   "cell_type": "code",
   "execution_count": 104,
   "id": "fa965178",
   "metadata": {
    "scrolled": true
   },
   "outputs": [
    {
     "data": {
      "text/plain": [
       "0.756244"
      ]
     },
     "execution_count": 104,
     "metadata": {},
     "output_type": "execute_result"
    }
   ],
   "source": [
    "((proba_data_produced_by_first_order_markov_chain / proba_data_produced_randomly) > 1).mean()"
   ]
  },
  {
   "cell_type": "code",
   "execution_count": 102,
   "id": "8f93b17c",
   "metadata": {},
   "outputs": [
    {
     "data": {
      "text/plain": [
       "<AxesSubplot:ylabel='Frequency'>"
      ]
     },
     "execution_count": 102,
     "metadata": {},
     "output_type": "execute_result"
    },
    {
     "data": {
      "image/png": "[encoded data removed]",
      "text/plain": [
       "<Figure size 432x288 with 1 Axes>"
      ]
     },
     "metadata": {
      "needs_background": "light"
     },
     "output_type": "display_data"
    }
   ],
   "source": [
    "pd.Series(proba_data_produced_by_first_order_markov_chain / proba_data_produced_randomly)\\\n",
    "    .plot.hist()"
   ]
  },
  {
   "cell_type": "code",
   "execution_count": 97,
   "id": "fd26925d",
   "metadata": {},
   "outputs": [
    {
     "data": {
      "text/plain": [
       "1.0"
      ]
     },
     "execution_count": 97,
     "metadata": {},
     "output_type": "execute_result"
    }
   ],
   "source": [
    "(proba_data_produced_by_first_order_markov_chain < 0.0001).mean()"
   ]
  },
  {
   "cell_type": "code",
   "execution_count": 92,
   "id": "16e15ac7",
   "metadata": {
    "scrolled": true
   },
   "outputs": [
    {
     "data": {
      "text/plain": [
       "<AxesSubplot:ylabel='Frequency'>"
      ]
     },
     "execution_count": 92,
     "metadata": {},
     "output_type": "execute_result"
    },
    {
     "data": {
      "image/png": "[encoded data removed]",
      "text/plain": [
       "<Figure size 432x288 with 1 Axes>"
      ]
     },
     "metadata": {
      "needs_background": "light"
     },
     "output_type": "display_data"
    }
   ],
   "source": [
    "import pandas as pd\n",
    "pd.Series(proba_data_produced_by_first_order_markov_chain).plot.hist(bins=np.arange(0,0.55,0.05))"
   ]
  },
  {
   "cell_type": "code",
   "execution_count": 83,
   "id": "02f02091",
   "metadata": {},
   "outputs": [
    {
     "data": {
      "text/plain": [
       "{'r|r,r': array([4.02030752, 0.74046376, 3.73609855, ..., 3.23996691, 2.44307573,\n",
       "        1.70875206]),\n",
       " 'p|r,r': array([5.57343432, 5.59741238, 5.55759742, ..., 4.70862523, 5.81430599,\n",
       "        4.91694721]),\n",
       " 's|r,r': array([1.78072784, 3.38493363, 1.78378449, ..., 0.80423165, 1.23128551,\n",
       "        1.76686555]),\n",
       " 'r|r,p': array([5.01458947, 4.82313727, 3.97772718, ..., 3.95328305, 2.68990863,\n",
       "        5.87081183]),\n",
       " 'p|r,p': array([2.45790816, 0.46839603, 0.17156417, ..., 0.05782028, 1.29811898,\n",
       "        2.13094276]),\n",
       " 's|r,p': array([5.18314222, 2.33758136, 3.28487635, ..., 2.66142841, 5.36177993,\n",
       "        3.60600312]),\n",
       " 'r|r,s': array([0.83357816, 1.61970956, 0.98358008, ..., 3.63960677, 0.74176518,\n",
       "        0.75993916]),\n",
       " 'p|r,s': array([1.42714497, 4.35216036, 2.68598182, ..., 3.41658512, 1.29368417,\n",
       "        3.74973334]),\n",
       " 's|r,s': array([2.24070485, 4.87601207, 4.17038708, ..., 1.87410736, 4.44017262,\n",
       "        5.01777357]),\n",
       " 'r|p,r': array([5.35564647, 5.66618832, 5.25337981, ..., 4.98621007, 3.60856737,\n",
       "        3.75985581]),\n",
       " 'p|p,r': array([5.61969629, 0.80146901, 5.18498309, ..., 0.90622548, 3.30745035,\n",
       "        2.43416373]),\n",
       " 's|p,r': array([4.78507326, 1.37940832, 3.58469107, ..., 4.02883171, 0.04375172,\n",
       "        4.15363552]),\n",
       " 'r|p,p': array([4.89944147, 4.12675943, 3.9919607 , ..., 2.48910446, 5.53899614,\n",
       "        1.88346135]),\n",
       " 'p|p,p': array([3.18997876, 0.02992567, 1.90076536, ..., 3.85722394, 0.31310407,\n",
       "        3.62559588]),\n",
       " 's|p,p': array([3.80201823, 1.44477513, 0.95189059, ..., 0.04669905, 1.09662799,\n",
       "        0.13943531]),\n",
       " 'r|p,s': array([4.35616224, 2.81730557, 5.04311735, ..., 1.26538575, 3.41662669,\n",
       "        5.85389158]),\n",
       " 'p|p,s': array([3.95130367, 0.66226855, 3.76198173, ..., 2.48307985, 3.10737398,\n",
       "        0.61830916]),\n",
       " 's|p,s': array([5.29145021, 4.57836529, 4.33753702, ..., 3.53717841, 3.10267698,\n",
       "        4.84136437]),\n",
       " 'r|s,r': array([0.14028475, 0.84168972, 3.59415115, ..., 3.953078  , 0.5606204 ,\n",
       "        1.0146315 ]),\n",
       " 'p|s,r': array([2.3177046 , 1.51658539, 3.54700101, ..., 4.1770822 , 4.32958074,\n",
       "        4.91176587]),\n",
       " 's|s,r': array([1.65528946, 1.47522006, 0.5797906 , ..., 4.97590318, 3.55771131,\n",
       "        5.50171868]),\n",
       " 'r|s,p': array([4.66492159, 3.91390595, 5.50498293, ..., 5.88374721, 4.2541301 ,\n",
       "        5.15096604]),\n",
       " 'p|s,p': array([0.27594138, 4.42909358, 1.72417306, ..., 4.07620176, 5.55148978,\n",
       "        3.1780287 ]),\n",
       " 's|s,p': array([1.95006105, 2.03877588, 1.19926455, ..., 3.65139081, 0.59091028,\n",
       "        0.55473496]),\n",
       " 'r|s,s': array([0.95112547, 1.58105543, 0.514783  , ..., 4.27381661, 2.12904143,\n",
       "        1.45840122]),\n",
       " 'p|s,s': array([5.22826139, 5.112665  , 4.37949203, ..., 3.43806051, 2.55607293,\n",
       "        5.74211314]),\n",
       " 's|s,s': array([0.98457624, 1.51978661, 4.62509071, ..., 4.24485331, 5.42120377,\n",
       "        2.73967738])}"
      ]
     },
     "execution_count": 83,
     "metadata": {},
     "output_type": "execute_result"
    }
   ],
   "source": [
    "priors"
   ]
  },
  {
   "cell_type": "code",
   "execution_count": 9,
   "id": "4823a3a3",
   "metadata": {},
   "outputs": [
    {
     "data": {
      "text/plain": [
       "array([0, 1, 0])"
      ]
     },
     "execution_count": 9,
     "metadata": {},
     "output_type": "execute_result"
    }
   ],
   "source": [
    "import numpy as np\n",
    "num_samples = 10_000a"
   ]
  },
  {
   "cell_type": "code",
   "execution_count": 8,
   "id": "ad7af88b",
   "metadata": {},
   "outputs": [
    {
     "data": {
      "text/plain": [
       "array([[1.60606746e-01, 8.39150834e-01, 2.42420628e-04]])"
      ]
     },
     "execution_count": 8,
     "metadata": {},
     "output_type": "execute_result"
    }
   ],
   "source": [
    "priors"
   ]
  },
  {
   "cell_type": "markdown",
   "id": "bb319719",
   "metadata": {},
   "source": [
    "### Part III\n",
    "Calculate the probability that player 1 plays each of rock, paper, scissors at the next time step $t = T +1$."
   ]
  },
  {
   "cell_type": "code",
   "execution_count": 107,
   "id": "cfc56883",
   "metadata": {},
   "outputs": [],
   "source": [
    "def normalize(priors, key, other_1_key, other_2_key):\n",
    "    return np.exp(priors[key]) / (\n",
    "        np.exp(priors[key]) \\\n",
    "        + np.exp(priors[other_1_key]) \\\n",
    "        + np.exp(priors[other_2_key])\n",
    "    )\n",
    "    \n"
   ]
  },
  {
   "cell_type": "code",
   "execution_count": 112,
   "id": "6a995942",
   "metadata": {},
   "outputs": [],
   "source": [
    "proba_p1_plays_r_at_T_plus_1 = \\\n",
    "    np.random.binomial(\n",
    "        n=1,\n",
    "        p=normalize(priors, key='r|r,r', other_1_key='p|r,r', other_2_key='s|r,r')\n",
    "    ).mean()\n",
    "    \n",
    "proba_p1_plays_s_at_T_plus_1 = \\\n",
    "    np.random.binomial(\n",
    "        n=1,\n",
    "        p=normalize(priors, key='s|r,r', other_1_key='p|r,r', other_2_key='r|r,r')\n",
    "    ).mean()\n",
    "\n",
    "proba_p1_plays_p_at_T_plus_1 = 1 - proba_p1_plays_r_at_T_plus_1 - proba_p1_plays_s_at_T_plus_1"
   ]
  },
  {
   "cell_type": "code",
   "execution_count": 113,
   "id": "dddded7b",
   "metadata": {},
   "outputs": [
    {
     "name": "stdout",
     "output_type": "stream",
     "text": [
      "proba_p1_plays_r_at_T_plus_1: 0.206154\n",
      "proba_p1_plays_s_at_T_plus_1: 0.072644\n",
      "proba_p1_plays_p_at_T_plus_1: 0.721202\n"
     ]
    }
   ],
   "source": [
    "print(f'proba_p1_plays_r_at_T_plus_1: {proba_p1_plays_r_at_T_plus_1}')\n",
    "print(f'proba_p1_plays_s_at_T_plus_1: {proba_p1_plays_s_at_T_plus_1}')\n",
    "print(f'proba_p1_plays_p_at_T_plus_1: {proba_p1_plays_p_at_T_plus_1}')"
   ]
  },
  {
   "cell_type": "markdown",
   "id": "a13a559a",
   "metadata": {},
   "source": [
    "### Part IV\n",
    "\n",
    "4. What would be the best move for player 2 to make at time $t=T +1$?\n",
    "where T = 23."
   ]
  },
  {
   "cell_type": "markdown",
   "id": "8307fc86",
   "metadata": {},
   "source": [
    "It looks very likely that player 1 will play paper at $T=23$, so it's a good idea to play scissors."
   ]
  },
  {
   "cell_type": "markdown",
   "id": "f3ab5806",
   "metadata": {},
   "source": [
    "## Ex 3.26"
   ]
  },
  {
   "cell_type": "code",
   "execution_count": 125,
   "id": "d23891d0",
   "metadata": {},
   "outputs": [],
   "source": [
    "import numpy as np\n",
    "import pandas as pd\n",
    "\n",
    "\n",
    "def two_skill_pass(skill_1, skill_2):\n",
    "    probas = (skill_1 * skill_2) * 0.99 + \\\n",
    "    (skill_1 * (skill_2 == 0)) * 0.75 + \\\n",
    "    (skill_2 * (skill_1 == 0)) * 0.75 + \\\n",
    "    ((skill_2 == 0) * (skill_1 == 0)) * 0.01\n",
    "    \n",
    "    return np.random.binomial(n=1, p=probas)\n",
    "\n",
    "def one_skill_pass(skill):\n",
    "    probas = skill * 0.995 + (skill == 0) * 0.1\n",
    "    \n",
    "    return np.random.binomial(n=1, p=probas)\n",
    "\n",
    "def pick_modules(modules, num_to_pick=8):\n",
    "    pickable = list(set(modules.keys()) - set({'project'}))\n",
    "    \n",
    "    return sorted(\n",
    "        np.random.choice(\n",
    "            pickable, \n",
    "            size=num_to_pick, \n",
    "            replace=False\n",
    "        )\n",
    "    )\n",
    "\n",
    "def pick_modules_and_see_outcome_of_masters(num_samples, modules):\n",
    "    to_df_rows = []\n",
    "    \n",
    "    for i in range(num_samples): \n",
    "        chosen_and_result = {f'choose_{j}': 0 for j in modules.keys()}\n",
    "\n",
    "        picked_modules = pick_modules(modules)    \n",
    "        prod = project[i]\n",
    "\n",
    "        for picked in picked_modules:\n",
    "            prod *= modules[picked][i]\n",
    "\n",
    "        chosen_and_result['picked'] = str(picked_modules)\n",
    "        chosen_and_result['pass_masters'] = prod\n",
    "\n",
    "        to_df_rows.append(chosen_and_result)\n",
    "    \n",
    "    return pd.DataFrame(to_df_rows)\n",
    "\n",
    "\n",
    "    \n",
    "num_samples = 1_000_000\n",
    "maths = np.random.binomial(n=1, p=0.95, size=num_samples)\n",
    "programming = np.random.binomial(n=1, p=0.8, size=num_samples)\n",
    "organization = np.random.binomial(n=1, p=0.7, size=num_samples)\n",
    "biology = np.random.binomial(n=1, p=0.3, size=num_samples)\n",
    "writing = np.random.binomial(n=1, p=0.8, size=num_samples)\n",
    "\n",
    "\n",
    "\n",
    "graphical_models = two_skill_pass(maths, programming)\n",
    "research_methods = two_skill_pass(programming, organization)\n",
    "bioinformatics = two_skill_pass(biology, writing)\n",
    "applied_ml = two_skill_pass(maths, programming)\n",
    "natural_language_modeling = two_skill_pass(maths, programming)\n",
    "project = two_skill_pass(writing, organization)\n",
    "\n",
    "information_retrieval = one_skill_pass(programming)\n",
    "machine_vision = one_skill_pass(maths)\n",
    "advanced_topics = one_skill_pass(maths)\n",
    "affective_computing = one_skill_pass(writing)\n",
    "computational_modeling = one_skill_pass(maths)\n",
    "\n",
    "modules = {\n",
    "    'graphical_models': graphical_models,\n",
    "    'research_methods': research_methods, \n",
    "    'bioinformatics': bioinformatics, \n",
    "    'applied_ml': applied_ml, \n",
    "    'natural_language_modeling': natural_language_modeling, \n",
    "    #'project': project, \n",
    "    'information_retrieval': information_retrieval, \n",
    "    'machine_vision': machine_vision, \n",
    "    'advanced_topics': advanced_topics, \n",
    "    'affective_computing': affective_computing, \n",
    "    'computational_modeling': computational_modeling, \n",
    "}\n",
    "\n",
    "selected_modules_and_outcome = \\\n",
    "    pick_modules_and_see_outcome_of_masters(num_samples, modules)\n",
    "    "
   ]
  },
  {
   "cell_type": "code",
   "execution_count": 126,
   "id": "e4c32126",
   "metadata": {},
   "outputs": [
    {
     "data": {
      "text/html": [
       "<div>\n",
       "<style scoped>\n",
       "    .dataframe tbody tr th:only-of-type {\n",
       "        vertical-align: middle;\n",
       "    }\n",
       "\n",
       "    .dataframe tbody tr th {\n",
       "        vertical-align: top;\n",
       "    }\n",
       "\n",
       "    .dataframe thead th {\n",
       "        text-align: right;\n",
       "    }\n",
       "</style>\n",
       "<table border=\"1\" class=\"dataframe\">\n",
       "  <thead>\n",
       "    <tr style=\"text-align: right;\">\n",
       "      <th></th>\n",
       "      <th>choose_graphical_models</th>\n",
       "      <th>choose_research_methods</th>\n",
       "      <th>choose_bioinformatics</th>\n",
       "      <th>choose_applied_ml</th>\n",
       "      <th>choose_natural_language_modeling</th>\n",
       "      <th>choose_information_retrieval</th>\n",
       "      <th>choose_machine_vision</th>\n",
       "      <th>choose_advanced_topics</th>\n",
       "      <th>choose_affective_computing</th>\n",
       "      <th>choose_computational_modeling</th>\n",
       "      <th>picked</th>\n",
       "      <th>pass_masters</th>\n",
       "    </tr>\n",
       "  </thead>\n",
       "  <tbody>\n",
       "    <tr>\n",
       "      <th>0</th>\n",
       "      <td>0</td>\n",
       "      <td>0</td>\n",
       "      <td>0</td>\n",
       "      <td>0</td>\n",
       "      <td>0</td>\n",
       "      <td>0</td>\n",
       "      <td>0</td>\n",
       "      <td>0</td>\n",
       "      <td>0</td>\n",
       "      <td>0</td>\n",
       "      <td>['advanced_topics', 'affective_computing', 'ap...</td>\n",
       "      <td>0</td>\n",
       "    </tr>\n",
       "    <tr>\n",
       "      <th>1</th>\n",
       "      <td>0</td>\n",
       "      <td>0</td>\n",
       "      <td>0</td>\n",
       "      <td>0</td>\n",
       "      <td>0</td>\n",
       "      <td>0</td>\n",
       "      <td>0</td>\n",
       "      <td>0</td>\n",
       "      <td>0</td>\n",
       "      <td>0</td>\n",
       "      <td>['advanced_topics', 'affective_computing', 'ap...</td>\n",
       "      <td>0</td>\n",
       "    </tr>\n",
       "    <tr>\n",
       "      <th>2</th>\n",
       "      <td>0</td>\n",
       "      <td>0</td>\n",
       "      <td>0</td>\n",
       "      <td>0</td>\n",
       "      <td>0</td>\n",
       "      <td>0</td>\n",
       "      <td>0</td>\n",
       "      <td>0</td>\n",
       "      <td>0</td>\n",
       "      <td>0</td>\n",
       "      <td>['affective_computing', 'applied_ml', 'bioinfo...</td>\n",
       "      <td>0</td>\n",
       "    </tr>\n",
       "    <tr>\n",
       "      <th>3</th>\n",
       "      <td>0</td>\n",
       "      <td>0</td>\n",
       "      <td>0</td>\n",
       "      <td>0</td>\n",
       "      <td>0</td>\n",
       "      <td>0</td>\n",
       "      <td>0</td>\n",
       "      <td>0</td>\n",
       "      <td>0</td>\n",
       "      <td>0</td>\n",
       "      <td>['advanced_topics', 'applied_ml', 'computation...</td>\n",
       "      <td>1</td>\n",
       "    </tr>\n",
       "    <tr>\n",
       "      <th>4</th>\n",
       "      <td>0</td>\n",
       "      <td>0</td>\n",
       "      <td>0</td>\n",
       "      <td>0</td>\n",
       "      <td>0</td>\n",
       "      <td>0</td>\n",
       "      <td>0</td>\n",
       "      <td>0</td>\n",
       "      <td>0</td>\n",
       "      <td>0</td>\n",
       "      <td>['affective_computing', 'applied_ml', 'bioinfo...</td>\n",
       "      <td>0</td>\n",
       "    </tr>\n",
       "    <tr>\n",
       "      <th>...</th>\n",
       "      <td>...</td>\n",
       "      <td>...</td>\n",
       "      <td>...</td>\n",
       "      <td>...</td>\n",
       "      <td>...</td>\n",
       "      <td>...</td>\n",
       "      <td>...</td>\n",
       "      <td>...</td>\n",
       "      <td>...</td>\n",
       "      <td>...</td>\n",
       "      <td>...</td>\n",
       "      <td>...</td>\n",
       "    </tr>\n",
       "    <tr>\n",
       "      <th>999995</th>\n",
       "      <td>0</td>\n",
       "      <td>0</td>\n",
       "      <td>0</td>\n",
       "      <td>0</td>\n",
       "      <td>0</td>\n",
       "      <td>0</td>\n",
       "      <td>0</td>\n",
       "      <td>0</td>\n",
       "      <td>0</td>\n",
       "      <td>0</td>\n",
       "      <td>['advanced_topics', 'applied_ml', 'bioinformat...</td>\n",
       "      <td>0</td>\n",
       "    </tr>\n",
       "    <tr>\n",
       "      <th>999996</th>\n",
       "      <td>0</td>\n",
       "      <td>0</td>\n",
       "      <td>0</td>\n",
       "      <td>0</td>\n",
       "      <td>0</td>\n",
       "      <td>0</td>\n",
       "      <td>0</td>\n",
       "      <td>0</td>\n",
       "      <td>0</td>\n",
       "      <td>0</td>\n",
       "      <td>['advanced_topics', 'affective_computing', 'ap...</td>\n",
       "      <td>0</td>\n",
       "    </tr>\n",
       "    <tr>\n",
       "      <th>999997</th>\n",
       "      <td>0</td>\n",
       "      <td>0</td>\n",
       "      <td>0</td>\n",
       "      <td>0</td>\n",
       "      <td>0</td>\n",
       "      <td>0</td>\n",
       "      <td>0</td>\n",
       "      <td>0</td>\n",
       "      <td>0</td>\n",
       "      <td>0</td>\n",
       "      <td>['advanced_topics', 'affective_computing', 'ap...</td>\n",
       "      <td>1</td>\n",
       "    </tr>\n",
       "    <tr>\n",
       "      <th>999998</th>\n",
       "      <td>0</td>\n",
       "      <td>0</td>\n",
       "      <td>0</td>\n",
       "      <td>0</td>\n",
       "      <td>0</td>\n",
       "      <td>0</td>\n",
       "      <td>0</td>\n",
       "      <td>0</td>\n",
       "      <td>0</td>\n",
       "      <td>0</td>\n",
       "      <td>['advanced_topics', 'affective_computing', 'co...</td>\n",
       "      <td>0</td>\n",
       "    </tr>\n",
       "    <tr>\n",
       "      <th>999999</th>\n",
       "      <td>0</td>\n",
       "      <td>0</td>\n",
       "      <td>0</td>\n",
       "      <td>0</td>\n",
       "      <td>0</td>\n",
       "      <td>0</td>\n",
       "      <td>0</td>\n",
       "      <td>0</td>\n",
       "      <td>0</td>\n",
       "      <td>0</td>\n",
       "      <td>['advanced_topics', 'applied_ml', 'bioinformat...</td>\n",
       "      <td>1</td>\n",
       "    </tr>\n",
       "  </tbody>\n",
       "</table>\n",
       "<p>1000000 rows × 12 columns</p>\n",
       "</div>"
      ],
      "text/plain": [
       "        choose_graphical_models  choose_research_methods  \\\n",
       "0                             0                        0   \n",
       "1                             0                        0   \n",
       "2                             0                        0   \n",
       "3                             0                        0   \n",
       "4                             0                        0   \n",
       "...                         ...                      ...   \n",
       "999995                        0                        0   \n",
       "999996                        0                        0   \n",
       "999997                        0                        0   \n",
       "999998                        0                        0   \n",
       "999999                        0                        0   \n",
       "\n",
       "        choose_bioinformatics  choose_applied_ml  \\\n",
       "0                           0                  0   \n",
       "1                           0                  0   \n",
       "2                           0                  0   \n",
       "3                           0                  0   \n",
       "4                           0                  0   \n",
       "...                       ...                ...   \n",
       "999995                      0                  0   \n",
       "999996                      0                  0   \n",
       "999997                      0                  0   \n",
       "999998                      0                  0   \n",
       "999999                      0                  0   \n",
       "\n",
       "        choose_natural_language_modeling  choose_information_retrieval  \\\n",
       "0                                      0                             0   \n",
       "1                                      0                             0   \n",
       "2                                      0                             0   \n",
       "3                                      0                             0   \n",
       "4                                      0                             0   \n",
       "...                                  ...                           ...   \n",
       "999995                                 0                             0   \n",
       "999996                                 0                             0   \n",
       "999997                                 0                             0   \n",
       "999998                                 0                             0   \n",
       "999999                                 0                             0   \n",
       "\n",
       "        choose_machine_vision  choose_advanced_topics  \\\n",
       "0                           0                       0   \n",
       "1                           0                       0   \n",
       "2                           0                       0   \n",
       "3                           0                       0   \n",
       "4                           0                       0   \n",
       "...                       ...                     ...   \n",
       "999995                      0                       0   \n",
       "999996                      0                       0   \n",
       "999997                      0                       0   \n",
       "999998                      0                       0   \n",
       "999999                      0                       0   \n",
       "\n",
       "        choose_affective_computing  choose_computational_modeling  \\\n",
       "0                                0                              0   \n",
       "1                                0                              0   \n",
       "2                                0                              0   \n",
       "3                                0                              0   \n",
       "4                                0                              0   \n",
       "...                            ...                            ...   \n",
       "999995                           0                              0   \n",
       "999996                           0                              0   \n",
       "999997                           0                              0   \n",
       "999998                           0                              0   \n",
       "999999                           0                              0   \n",
       "\n",
       "                                                   picked  pass_masters  \n",
       "0       ['advanced_topics', 'affective_computing', 'ap...             0  \n",
       "1       ['advanced_topics', 'affective_computing', 'ap...             0  \n",
       "2       ['affective_computing', 'applied_ml', 'bioinfo...             0  \n",
       "3       ['advanced_topics', 'applied_ml', 'computation...             1  \n",
       "4       ['affective_computing', 'applied_ml', 'bioinfo...             0  \n",
       "...                                                   ...           ...  \n",
       "999995  ['advanced_topics', 'applied_ml', 'bioinformat...             0  \n",
       "999996  ['advanced_topics', 'affective_computing', 'ap...             0  \n",
       "999997  ['advanced_topics', 'affective_computing', 'ap...             1  \n",
       "999998  ['advanced_topics', 'affective_computing', 'co...             0  \n",
       "999999  ['advanced_topics', 'applied_ml', 'bioinformat...             1  \n",
       "\n",
       "[1000000 rows x 12 columns]"
      ]
     },
     "execution_count": 126,
     "metadata": {},
     "output_type": "execute_result"
    }
   ],
   "source": [
    "selected_modules_and_outcome"
   ]
  },
  {
   "cell_type": "markdown",
   "id": "14d49e6a",
   "metadata": {},
   "source": [
    "### Part I\n",
    "\n",
    "If we have no additional information about a student’s skills, which modules (in addition to the project) should she take in order to maximise her chance of passing the Masters? State the probability of passing the Masters with this set of modules."
   ]
  },
  {
   "cell_type": "code",
   "execution_count": 127,
   "id": "3a9151ec",
   "metadata": {},
   "outputs": [],
   "source": [
    "skills_and_selected_modules_and_outcome = pd.concat(\n",
    "    [\n",
    "        selected_modules_and_outcome,\n",
    "        pd.DataFrame({\n",
    "            'maths': maths,\n",
    "            'programming': programming,\n",
    "            'organization': organization,\n",
    "            'biology': biology,\n",
    "            'writing': writing\n",
    "        })\n",
    "    ],\n",
    "    axis=1\n",
    ")\n",
    "    \n",
    "    "
   ]
  },
  {
   "cell_type": "code",
   "execution_count": 138,
   "id": "279b25f7",
   "metadata": {},
   "outputs": [
    {
     "data": {
      "text/plain": [
       "pass_masters    12781\n",
       "Name: ['advanced_topics', 'applied_ml', 'computational_modeling', 'graphical_models', 'information_retrieval', 'machine_vision', 'natural_language_modeling', 'research_methods'], dtype: int64"
      ]
     },
     "execution_count": 138,
     "metadata": {},
     "output_type": "execute_result"
    }
   ],
   "source": [
    "passed_counts_of_sets_of_modules = skills_and_selected_modules_and_outcome[\n",
    "    skills_and_selected_modules_and_outcome['pass_masters'] == 1\n",
    "].groupby('picked').count().sort_values(['pass_masters'], ascending=False)\n",
    "\n",
    "# The most likely set\n",
    "passed_counts_of_sets_of_modules[['pass_masters']].iloc[0]"
   ]
  },
  {
   "cell_type": "code",
   "execution_count": 149,
   "id": "51d2ccb9",
   "metadata": {},
   "outputs": [
    {
     "data": {
      "text/plain": [
       "0.5690814372857207"
      ]
     },
     "execution_count": 149,
     "metadata": {},
     "output_type": "execute_result"
    }
   ],
   "source": [
    "# The probability of passing the Masters with this set of modules\n",
    "skills_and_selected_modules_and_outcome[\n",
    "    skills_and_selected_modules_and_outcome['picked'] == \"['advanced_topics', 'applied_ml', 'computational_modeling', 'graphical_models', 'information_retrieval', 'machine_vision', 'natural_language_modeling', 'research_methods']\"\n",
    "]['pass_masters'].mean()"
   ]
  },
  {
   "cell_type": "markdown",
   "id": "ad11e2de",
   "metadata": {},
   "source": [
    "### Part 2\n",
    "\n",
    "If we know the student is skilled in Maths and Organisation, which would be the best set of modules to take and the associated probability of passing the Masters?"
   ]
  },
  {
   "cell_type": "code",
   "execution_count": 151,
   "id": "b7d1751c",
   "metadata": {},
   "outputs": [],
   "source": [
    "skilled_in_maths_and_org = skills_and_selected_modules_and_outcome[\n",
    "    (skills_and_selected_modules_and_outcome['maths'] == 1) & \\\n",
    "    (skills_and_selected_modules_and_outcome['organization'] == 1)\n",
    "]"
   ]
  },
  {
   "cell_type": "code",
   "execution_count": 156,
   "id": "bde85216",
   "metadata": {},
   "outputs": [
    {
     "data": {
      "text/plain": [
       "pass_masters    10581\n",
       "Name: ['advanced_topics', 'applied_ml', 'computational_modeling', 'graphical_models', 'information_retrieval', 'machine_vision', 'natural_language_modeling', 'research_methods'], dtype: int64"
      ]
     },
     "execution_count": 156,
     "metadata": {},
     "output_type": "execute_result"
    }
   ],
   "source": [
    "skilled_in_maths_and_org[\n",
    "    skilled_in_maths_and_org['pass_masters'] == 1\n",
    "].groupby('picked').count().sort_values(['pass_masters'], ascending=False).iloc[0][['pass_masters']]"
   ]
  },
  {
   "cell_type": "code",
   "execution_count": 154,
   "id": "eb6ff76c",
   "metadata": {},
   "outputs": [
    {
     "data": {
      "text/plain": [
       "0.7110887096774193"
      ]
     },
     "execution_count": 154,
     "metadata": {},
     "output_type": "execute_result"
    }
   ],
   "source": [
    "# The probability of a student passing the masters, given they take said list of \n",
    "# courses and that they are skilled in Maths and Organization.\n",
    "skilled_in_maths_and_org[\n",
    "    skilled_in_maths_and_org['picked'] == \"['advanced_topics', 'applied_ml', 'computational_modeling', 'graphical_models', 'information_retrieval', 'machine_vision', 'natural_language_modeling', 'research_methods']\"\n",
    "]['pass_masters'].mean()"
   ]
  },
  {
   "cell_type": "markdown",
   "id": "1ad752e5",
   "metadata": {},
   "source": [
    "### Part 3\n",
    "\n",
    "If we know the student is skilled in Biology and Writing, which would be the best set of modules to take and the associated probability of passing the Masters?"
   ]
  },
  {
   "cell_type": "code",
   "execution_count": 157,
   "id": "0aca2972",
   "metadata": {},
   "outputs": [
    {
     "data": {
      "text/plain": [
       "pass_masters    3900\n",
       "Name: ['advanced_topics', 'affective_computing', 'applied_ml', 'bioinformatics', 'computational_modeling', 'graphical_models', 'machine_vision', 'natural_language_modeling'], dtype: int64"
      ]
     },
     "execution_count": 157,
     "metadata": {},
     "output_type": "execute_result"
    }
   ],
   "source": [
    "skilled_in_biology_and_writing = skills_and_selected_modules_and_outcome[\n",
    "    (skills_and_selected_modules_and_outcome['biology'] == 1) & \\\n",
    "    (skills_and_selected_modules_and_outcome['writing'] == 1)\n",
    "]\n",
    "\n",
    "skilled_in_biology_and_writing[\n",
    "    skilled_in_biology_and_writing['pass_masters'] == 1\n",
    "].groupby('picked').count().sort_values(['pass_masters'], ascending=False).iloc[0][['pass_masters']]"
   ]
  },
  {
   "cell_type": "code",
   "execution_count": 160,
   "id": "917eae4e",
   "metadata": {},
   "outputs": [
    {
     "data": {
      "text/plain": [
       "0.7274762171236709"
      ]
     },
     "execution_count": 160,
     "metadata": {},
     "output_type": "execute_result"
    }
   ],
   "source": [
    "# Probability of students passing the masters, given they take said list of \n",
    "# courses and that they are skilled in Biology and Writing\n",
    "\n",
    "skilled_in_biology_and_writing[\n",
    "    skilled_in_biology_and_writing['picked'] == \"['advanced_topics', 'affective_computing', 'applied_ml', 'bioinformatics', 'computational_modeling', 'graphical_models', 'machine_vision', 'natural_language_modeling']\"\n",
    "]['pass_masters'].mean()"
   ]
  },
  {
   "cell_type": "code",
   "execution_count": null,
   "id": "397cd237",
   "metadata": {},
   "outputs": [],
   "source": []
  }
 ],
 "metadata": {
  "kernelspec": {
   "display_name": "Python 3",
   "language": "python",
   "name": "python3"
  },
  "language_info": {
   "codemirror_mode": {
    "name": "ipython",
    "version": 3
   },
   "file_extension": ".py",
   "mimetype": "text/x-python",
   "name": "python",
   "nbconvert_exporter": "python",
   "pygments_lexer": "ipython3",
   "version": "3.8.10"
  },
  "toc": {
   "base_numbering": 1,
   "nav_menu": {
    "height": "48.69565200805664px",
    "width": "253.478271484375px"
   },
   "number_sections": true,
   "sideBar": true,
   "skip_h1_title": false,
   "title_cell": "Table of Contents",
   "title_sidebar": "Contents",
   "toc_cell": true,
   "toc_position": {},
   "toc_section_display": "block",
   "toc_window_display": true
  }
 },
 "nbformat": 4,
 "nbformat_minor": 5
}
