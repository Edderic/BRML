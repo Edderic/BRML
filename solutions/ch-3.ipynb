{
 "cells": [
  {
   "cell_type": "markdown",
   "id": "2f765f39",
   "metadata": {
    "toc": "true"
   },
   "source": [
    "# Table of Contents\n",
    " <p><div class=\"lev1 toc-item\"><a href=\"#Chapter-3\" data-toc-modified-id=\"Chapter-3-1\"><span class=\"toc-item-num\">1&nbsp;&nbsp;</span>Chapter 3</a></div><div class=\"lev2 toc-item\"><a href=\"#Ex-1\" data-toc-modified-id=\"Ex-1-11\"><span class=\"toc-item-num\">1.1&nbsp;&nbsp;</span>Ex 1</a></div><div class=\"lev2 toc-item\"><a href=\"#Ex-2\" data-toc-modified-id=\"Ex-2-12\"><span class=\"toc-item-num\">1.2&nbsp;&nbsp;</span>Ex 2</a></div><div class=\"lev3 toc-item\"><a href=\"#Part-I\" data-toc-modified-id=\"Part-I-121\"><span class=\"toc-item-num\">1.2.1&nbsp;&nbsp;</span>Part I</a></div><div class=\"lev4 toc-item\"><a href=\"#Ans\" data-toc-modified-id=\"Ans-1211\"><span class=\"toc-item-num\">1.2.1.1&nbsp;&nbsp;</span>Ans</a></div><div class=\"lev3 toc-item\"><a href=\"#Part-II\" data-toc-modified-id=\"Part-II-122\"><span class=\"toc-item-num\">1.2.2&nbsp;&nbsp;</span>Part II</a></div><div class=\"lev4 toc-item\"><a href=\"#Ans\" data-toc-modified-id=\"Ans-1221\"><span class=\"toc-item-num\">1.2.2.1&nbsp;&nbsp;</span>Ans</a></div><div class=\"lev2 toc-item\"><a href=\"#Ex-3\" data-toc-modified-id=\"Ex-3-13\"><span class=\"toc-item-num\">1.3&nbsp;&nbsp;</span>Ex 3</a></div><div class=\"lev3 toc-item\"><a href=\"#Part-I\" data-toc-modified-id=\"Part-I-131\"><span class=\"toc-item-num\">1.3.1&nbsp;&nbsp;</span>Part I</a></div><div class=\"lev4 toc-item\"><a href=\"#Ans\" data-toc-modified-id=\"Ans-1311\"><span class=\"toc-item-num\">1.3.1.1&nbsp;&nbsp;</span>Ans</a></div><div class=\"lev2 toc-item\"><a href=\"#Ex-6\" data-toc-modified-id=\"Ex-6-14\"><span class=\"toc-item-num\">1.4&nbsp;&nbsp;</span>Ex 6</a></div><div class=\"lev2 toc-item\"><a href=\"#Ex-8\" data-toc-modified-id=\"Ex-8-15\"><span class=\"toc-item-num\">1.5&nbsp;&nbsp;</span>Ex 8</a></div><div class=\"lev3 toc-item\"><a href=\"#Part-I\" data-toc-modified-id=\"Part-I-151\"><span class=\"toc-item-num\">1.5.1&nbsp;&nbsp;</span>Part I</a></div><div class=\"lev3 toc-item\"><a href=\"#Part-II\" data-toc-modified-id=\"Part-II-152\"><span class=\"toc-item-num\">1.5.2&nbsp;&nbsp;</span>Part II</a></div><div class=\"lev2 toc-item\"><a href=\"#Ex-3.14\" data-toc-modified-id=\"Ex-3.14-16\"><span class=\"toc-item-num\">1.6&nbsp;&nbsp;</span>Ex 3.14</a></div><div class=\"lev3 toc-item\"><a href=\"#Ans\" data-toc-modified-id=\"Ans-161\"><span class=\"toc-item-num\">1.6.1&nbsp;&nbsp;</span>Ans</a></div><div class=\"lev2 toc-item\"><a href=\"#Ex-3.15\" data-toc-modified-id=\"Ex-3.15-17\"><span class=\"toc-item-num\">1.7&nbsp;&nbsp;</span>Ex 3.15</a></div><div class=\"lev3 toc-item\"><a href=\"#Part-I\" data-toc-modified-id=\"Part-I-171\"><span class=\"toc-item-num\">1.7.1&nbsp;&nbsp;</span>Part I</a></div><div class=\"lev4 toc-item\"><a href=\"#Ans\" data-toc-modified-id=\"Ans-1711\"><span class=\"toc-item-num\">1.7.1.1&nbsp;&nbsp;</span>Ans</a></div><div class=\"lev3 toc-item\"><a href=\"#Part-II\" data-toc-modified-id=\"Part-II-172\"><span class=\"toc-item-num\">1.7.2&nbsp;&nbsp;</span>Part II</a></div><div class=\"lev4 toc-item\"><a href=\"#Ans\" data-toc-modified-id=\"Ans-1721\"><span class=\"toc-item-num\">1.7.2.1&nbsp;&nbsp;</span>Ans</a></div><div class=\"lev2 toc-item\"><a href=\"#Ex-3.17\" data-toc-modified-id=\"Ex-3.17-18\"><span class=\"toc-item-num\">1.8&nbsp;&nbsp;</span>Ex 3.17</a></div><div class=\"lev3 toc-item\"><a href=\"#Part-I\" data-toc-modified-id=\"Part-I-181\"><span class=\"toc-item-num\">1.8.1&nbsp;&nbsp;</span>Part I</a></div><div class=\"lev4 toc-item\"><a href=\"#Ans\" data-toc-modified-id=\"Ans-1811\"><span class=\"toc-item-num\">1.8.1.1&nbsp;&nbsp;</span>Ans</a></div><div class=\"lev2 toc-item\"><a href=\"#Ex-3.20\" data-toc-modified-id=\"Ex-3.20-19\"><span class=\"toc-item-num\">1.9&nbsp;&nbsp;</span>Ex 3.20</a></div><div class=\"lev5 toc-item\"><a href=\"#Find-the-marginal-P(w,h)\" data-toc-modified-id=\"Find-the-marginal-P(w,h)-19001\"><span class=\"toc-item-num\">1.9.0.0.1&nbsp;&nbsp;</span>Find the marginal $P(w,h)$</a></div><div class=\"lev5 toc-item\"><a href=\"#Show-that-h-perp-w-\\mid-inc\" data-toc-modified-id=\"Show-that-h-perp-w-\\mid-inc-19002\"><span class=\"toc-item-num\">1.9.0.0.2&nbsp;&nbsp;</span>Show that $h \\perp w \\mid inc$</a></div><div class=\"lev2 toc-item\"><a href=\"#Ex-3.21\" data-toc-modified-id=\"Ex-3.21-110\"><span class=\"toc-item-num\">1.10&nbsp;&nbsp;</span>Ex 3.21</a></div><div class=\"lev3 toc-item\"><a href=\"#1.\" data-toc-modified-id=\"1.-1101\"><span class=\"toc-item-num\">1.10.1&nbsp;&nbsp;</span>1.</a></div><div class=\"lev4 toc-item\"><a href=\"#Ans\" data-toc-modified-id=\"Ans-11011\"><span class=\"toc-item-num\">1.10.1.1&nbsp;&nbsp;</span>Ans</a></div><div class=\"lev3 toc-item\"><a href=\"#2.\" data-toc-modified-id=\"2.-1102\"><span class=\"toc-item-num\">1.10.2&nbsp;&nbsp;</span>2.</a></div><div class=\"lev4 toc-item\"><a href=\"#Ans\" data-toc-modified-id=\"Ans-11021\"><span class=\"toc-item-num\">1.10.2.1&nbsp;&nbsp;</span>Ans</a></div><div class=\"lev3 toc-item\"><a href=\"#3.\" data-toc-modified-id=\"3.-1103\"><span class=\"toc-item-num\">1.10.3&nbsp;&nbsp;</span>3.</a></div><div class=\"lev3 toc-item\"><a href=\"#4.\" data-toc-modified-id=\"4.-1104\"><span class=\"toc-item-num\">1.10.4&nbsp;&nbsp;</span>4.</a></div><div class=\"lev5 toc-item\"><a href=\"#Ans\" data-toc-modified-id=\"Ans-110401\"><span class=\"toc-item-num\">1.10.4.0.1&nbsp;&nbsp;</span>Ans</a></div><div class=\"lev2 toc-item\"><a href=\"#Ex-3.22\" data-toc-modified-id=\"Ex-3.22-111\"><span class=\"toc-item-num\">1.11&nbsp;&nbsp;</span>Ex 3.22</a></div>"
   ]
  },
  {
   "cell_type": "markdown",
   "id": "667f9aa0",
   "metadata": {},
   "source": [
    "# Chapter 3"
   ]
  },
  {
   "cell_type": "markdown",
   "id": "5ab1ca20",
   "metadata": {},
   "source": [
    "## Ex 1\n",
    "\n",
    "(Party Animal). The party animal problem corresponds to the network in fig(3.14). The boss is angry and the worker has a headache – what is the probability the worker has been to a party? To complete the specifications, the probabilities are given as follows:\n",
    "\n",
    "| ------------------------------------ | ------------------------------------ | ------------------------------------ |\n",
    "|-|-|-|\n",
    "| $p(U=tr|P=tr,D=tr)=0.999$ | $p(U=tr|P=fa,D=tr)=0.9$ | $p(H=tr|P=tr)=0.9$ |\n",
    "| $p(U = tr|P = tr, D = fa) = 0.9$ | $p(U = tr|P = fa, D = fa) = 0.01$ | $p(H = tr|P = fa) = 0.2$ |\n",
    "| $p(A=tr|U =tr)=0.95$ | $p(A=tr|U =fa)=0.5$ |  $p(P =tr)=0.2, p(D=tr)=0.4$ |\n"
   ]
  },
  {
   "cell_type": "code",
   "execution_count": 1,
   "id": "43929061",
   "metadata": {},
   "outputs": [
    {
     "data": {
      "image/svg+xml": [
       "<?xml version=\"1.0\" encoding=\"UTF-8\" standalone=\"no\"?>\n",
       "<!DOCTYPE svg PUBLIC \"-//W3C//DTD SVG 1.1//EN\"\n",
       " \"http://www.w3.org/Graphics/SVG/1.1/DTD/svg11.dtd\">\n",
       "<!-- Generated by graphviz version 2.47.0 (0)\n",
       " -->\n",
       "<!-- Pages: 1 -->\n",
       "<svg width=\"134pt\" height=\"188pt\"\n",
       " viewBox=\"0.00 0.00 134.00 188.00\" xmlns=\"http://www.w3.org/2000/svg\" xmlns:xlink=\"http://www.w3.org/1999/xlink\">\n",
       "<g id=\"graph0\" class=\"graph\" transform=\"scale(1 1) rotate(0) translate(4 184)\">\n",
       "<polygon fill=\"white\" stroke=\"transparent\" points=\"-4,4 -4,-184 130,-184 130,4 -4,4\"/>\n",
       "<!-- P -->\n",
       "<g id=\"node1\" class=\"node\">\n",
       "<title>P</title>\n",
       "<ellipse fill=\"none\" stroke=\"black\" cx=\"99\" cy=\"-162\" rx=\"27\" ry=\"18\"/>\n",
       "<text text-anchor=\"middle\" x=\"99\" y=\"-158.3\" font-family=\"Times,serif\" font-size=\"14.00\">P</text>\n",
       "</g>\n",
       "<!-- U -->\n",
       "<g id=\"node2\" class=\"node\">\n",
       "<title>U</title>\n",
       "<ellipse fill=\"none\" stroke=\"black\" cx=\"27\" cy=\"-90\" rx=\"27\" ry=\"18\"/>\n",
       "<text text-anchor=\"middle\" x=\"27\" y=\"-86.3\" font-family=\"Times,serif\" font-size=\"14.00\">U</text>\n",
       "</g>\n",
       "<!-- P&#45;&gt;U -->\n",
       "<g id=\"edge1\" class=\"edge\">\n",
       "<title>P&#45;&gt;U</title>\n",
       "<path fill=\"none\" stroke=\"black\" d=\"M84.43,-146.83C74.25,-136.94 60.48,-123.55 48.97,-112.36\"/>\n",
       "<polygon fill=\"black\" stroke=\"black\" points=\"51.41,-109.85 41.8,-105.38 46.53,-114.87 51.41,-109.85\"/>\n",
       "</g>\n",
       "<!-- H -->\n",
       "<g id=\"node3\" class=\"node\">\n",
       "<title>H</title>\n",
       "<ellipse fill=\"none\" stroke=\"black\" cx=\"99\" cy=\"-90\" rx=\"27\" ry=\"18\"/>\n",
       "<text text-anchor=\"middle\" x=\"99\" y=\"-86.3\" font-family=\"Times,serif\" font-size=\"14.00\">H</text>\n",
       "</g>\n",
       "<!-- P&#45;&gt;H -->\n",
       "<g id=\"edge2\" class=\"edge\">\n",
       "<title>P&#45;&gt;H</title>\n",
       "<path fill=\"none\" stroke=\"black\" d=\"M99,-143.7C99,-135.98 99,-126.71 99,-118.11\"/>\n",
       "<polygon fill=\"black\" stroke=\"black\" points=\"102.5,-118.1 99,-108.1 95.5,-118.1 102.5,-118.1\"/>\n",
       "</g>\n",
       "<!-- A -->\n",
       "<g id=\"node4\" class=\"node\">\n",
       "<title>A</title>\n",
       "<ellipse fill=\"none\" stroke=\"black\" cx=\"27\" cy=\"-18\" rx=\"27\" ry=\"18\"/>\n",
       "<text text-anchor=\"middle\" x=\"27\" y=\"-14.3\" font-family=\"Times,serif\" font-size=\"14.00\">A</text>\n",
       "</g>\n",
       "<!-- U&#45;&gt;A -->\n",
       "<g id=\"edge3\" class=\"edge\">\n",
       "<title>U&#45;&gt;A</title>\n",
       "<path fill=\"none\" stroke=\"black\" d=\"M27,-71.7C27,-63.98 27,-54.71 27,-46.11\"/>\n",
       "<polygon fill=\"black\" stroke=\"black\" points=\"30.5,-46.1 27,-36.1 23.5,-46.1 30.5,-46.1\"/>\n",
       "</g>\n",
       "<!-- D -->\n",
       "<g id=\"node5\" class=\"node\">\n",
       "<title>D</title>\n",
       "<ellipse fill=\"none\" stroke=\"black\" cx=\"27\" cy=\"-162\" rx=\"27\" ry=\"18\"/>\n",
       "<text text-anchor=\"middle\" x=\"27\" y=\"-158.3\" font-family=\"Times,serif\" font-size=\"14.00\">D</text>\n",
       "</g>\n",
       "<!-- D&#45;&gt;U -->\n",
       "<g id=\"edge4\" class=\"edge\">\n",
       "<title>D&#45;&gt;U</title>\n",
       "<path fill=\"none\" stroke=\"black\" d=\"M27,-143.7C27,-135.98 27,-126.71 27,-118.11\"/>\n",
       "<polygon fill=\"black\" stroke=\"black\" points=\"30.5,-118.1 27,-108.1 23.5,-118.1 30.5,-118.1\"/>\n",
       "</g>\n",
       "</g>\n",
       "</svg>\n"
      ],
      "text/plain": [
       "<graphviz.dot.Digraph at 0x10dc23cd0>"
      ]
     },
     "execution_count": 1,
     "metadata": {},
     "output_type": "execute_result"
    }
   ],
   "source": [
    "from graphviz import Digraph\n",
    "dag = Digraph()\n",
    "dag.edge('P', 'U')\n",
    "dag.edge('P', 'H')\n",
    "dag.edge('U', 'A')\n",
    "dag.edge('D', 'U')\n",
    "dag"
   ]
  },
  {
   "cell_type": "markdown",
   "id": "62606d9f",
   "metadata": {},
   "source": [
    "$$\n",
    "\\begin{equation}\n",
    "\\begin{aligned}\n",
    "P(P=1 \\mid H=1, A=1)\n",
    "&= \\sum_u \\sum_d P(P=1, U=u, D=d \\mid H=1, A=1) \\\\\n",
    "&= \\sum_u \\sum_d \\frac{P(H=1, A=1 \\mid P=1, U=u, D=d) \\cdot P(P=1, U=u, D=d)}{P(H=1, A=1)} \\\\\n",
    "&= \\sum_u \\sum_d \\frac{P(H=1 \\mid P=1, U=u, D=d) \\cdot P(A=1 \\mid P=1, U=u, D=d) \\cdot P(P=1, U=u, D=d)}{P(H=1, A=1)} & \\text{Once we know the parents of $H$ and $A$, they are independent from each other.}\\\\\n",
    "&= \\sum_u \\sum_d \\frac{P(H=1 \\mid P=1) \\cdot P(A=1 \\mid U=u) \\cdot P(P=1, U=u, D=d)}{P(H=1, A=1)} & \\text{Once we know the parents of $H$ and $A$, they are independent of the d-separated from the other vars.}\\\\\n",
    "&= \\sum_u \\sum_d \\frac{P(H=1 \\mid P=1) \\cdot P(A=1 \\mid U=u) \\cdot P(U=u \\mid P=1, D=d) \\cdot P(P=1) \\cdot P(D=d)}{P(H=1, A=1)} \\\\\n",
    "&=\\frac{ \\sum_u \\sum_d P(H=1 \\mid P=1) \\cdot P(A=1 \\mid U=u) \\cdot P(U=u \\mid P=1, D=d) \\cdot P(P=1) \\cdot P(D=d)}{\\sum_p \\sum_u \\sum_d P(H=1 \\mid P=p) \\cdot P(A=1 \\mid U=u) \\cdot P(U=u \\mid P=p, D=d) \\cdot P(P=p) \\cdot P(D=d)} \\\\\n",
    "&=\\frac{ P(P=1) \\cdot P(H=1 \\mid P=1) \\cdot \\sum_u P(A=1 \\mid U=u) \\cdot \\sum_d P(U=u \\mid P=1, D=d) \\cdot P(D=d)}{ \\sum_p P(P=p) \\cdot P(H=1 \\mid P=p) \\cdot \\sum_u P(A=1 \\mid U=u) \\cdot \\sum_d P(U=u \\mid P=p, D=d) \\cdot P(D=d)} \\\\\n",
    "\\end{aligned}\n",
    "\\end{equation}\n",
    "$$\n",
    "\n",
    "Numerator:\n",
    "$$\n",
    "\\begin{equation}\n",
    "\\begin{aligned}\n",
    " P(P=1) \\cdot P(H=1 \\mid P=1) \\cdot \\sum_u P(A=1 \\mid U=u) \\cdot \\sum_d P(U=u \\mid P=1, D=d) \\cdot P(D=d)\n",
    " &= 0.2 \\cdot 0.9 \\cdot \\sum_u P(A=1 \\mid U=u) \\cdot \\sum_d P(U=u \\mid P=1, D=d) \\cdot P(D=d) \\\\\n",
    " &= 0.2 \\cdot 0.9 \\cdot  \\\\\n",
    " &\\qquad [P(A=1 \\mid U=0) \\cdot (P(U=0 \\mid P=1, D=0) \\cdot P(D=0)  \\\\\n",
    " &\\qquad + P(U=0 \\mid P=1, D=1) \\cdot P(D=1))  \\\\\n",
    " &\\qquad + P(A=1 \\mid U=1) \\cdot (P(U=1 \\mid P=1, D=0) \\cdot P(D=0)  \\\\\n",
    " &\\qquad + P(U=1 \\mid P=1, D=1) \\cdot P(D=1))] \\\\\n",
    "&= 0.2 \\cdot 0.9 \\cdot 0.5 \\cdot (0.1 \\cdot 0.6 + 0.001 \\cdot 0.4) + 0.95 \\cdot (0.9 \\cdot 0.6 + 0.999 \\cdot 0.4) \\\\\n",
    "&\\approx 0.898056\n",
    "\\end{aligned}\n",
    "\\end{equation}\n",
    "$$\n",
    "\n",
    "Denominator:\n",
    "$$\n",
    "\\begin{equation}\n",
    "\\begin{aligned}\n",
    " \\sum_p P(P=p) \\cdot P(H=1 \\mid P=p) \\cdot \\sum_u P(A=1 \\mid U=u) \\cdot \\sum_d P(U=u \\mid P=p, D=d) \\cdot P(D=d)\n",
    "&= 0.898056 + P(P=0) \\cdot P(H=1 \\mid P=0) \\cdot \\sum_u P(A=1 \\mid U=u) \\cdot \\sum_d P(U=u \\mid P=0, D=d) \\cdot P(D=d)  \\\\\n",
    "&= 0.898056 + 0.8 \\cdot 0.2 \\cdot P(A=1 \\mid U=0) \\cdot \\sum_d P(U=0 \\mid P=0, D=d) \\cdot P(D=d) \\\\\n",
    "&\\qquad + P(A=1 \\mid U=1) \\cdot \\sum_d P(U=1 \\mid P=0, D=d) \\cdot P(D=d) \\\\\n",
    "&= 0.898056 + 0.8 \\cdot 0.2 \\cdot P(A=1 \\mid U=0) \\cdot [P(U=0 \\mid P=0, D=0) \\cdot P(D=0) + P(U=0 \\mid P=0, D=1) \\cdot P(D=1)] \\\\\n",
    "&\\qquad + P(A=1 \\mid U=1) \\cdot [P(U=1 \\mid P=0, D=0) \\cdot P(D=0) + P(U=1 \\mid P=0, D=1) \\cdot P(D=1)] \\\\\n",
    "&= 0.898056 + 0.8 \\cdot 0.2 \\cdot 0.5 \\cdot (0.99 \\cdot 0.6 + 0.1 \\cdot 0.4) + 0.95 \\cdot (0.01 \\cdot 0.6 + 0.9 \\cdot 0.4) \\\\\n",
    "&= 2.194532\n",
    "\\end{aligned}\n",
    "\\end{equation}\n",
    "$$\n",
    "\n",
    "Thus, $P(P=1 \\mid H=1, A=1) = \\frac{0.898056}{2.194532} \\approx 41\\%.$ \n",
    "\n",
    "\n",
    "\n"
   ]
  },
  {
   "cell_type": "code",
   "execution_count": 3,
   "id": "56a085cb",
   "metadata": {},
   "outputs": [],
   "source": [
    "numerator = 0.2*0.9*0.5*(0.1*0.6+0.001*0.4)+0.95*(0.9*0.6+0.999*0.4)"
   ]
  },
  {
   "cell_type": "code",
   "execution_count": 4,
   "id": "c874bf81",
   "metadata": {},
   "outputs": [
    {
     "data": {
      "text/plain": [
       "0.898056"
      ]
     },
     "execution_count": 4,
     "metadata": {},
     "output_type": "execute_result"
    }
   ],
   "source": [
    "numerator"
   ]
  },
  {
   "cell_type": "code",
   "execution_count": 5,
   "id": "8d3e7285",
   "metadata": {},
   "outputs": [],
   "source": [
    "denominator = numerator + 0.898056 + 0.8 * 0.2 * 0.5 * (0.99 * 0.6 + 0.1 * 0.4) + 0.95 * (0.01 * 0.6 + 0.9 * 0.4)"
   ]
  },
  {
   "cell_type": "code",
   "execution_count": 6,
   "id": "985e1fce",
   "metadata": {},
   "outputs": [
    {
     "data": {
      "text/plain": [
       "2.194532"
      ]
     },
     "execution_count": 6,
     "metadata": {},
     "output_type": "execute_result"
    }
   ],
   "source": [
    "denominator"
   ]
  },
  {
   "cell_type": "code",
   "execution_count": 7,
   "id": "ffd20ed3",
   "metadata": {},
   "outputs": [
    {
     "data": {
      "text/plain": [
       "0.40922438132595007"
      ]
     },
     "execution_count": 7,
     "metadata": {},
     "output_type": "execute_result"
    }
   ],
   "source": [
    "numerator / denominator"
   ]
  },
  {
   "cell_type": "markdown",
   "id": "3b4ad409",
   "metadata": {},
   "source": [
    "## Ex 2\n",
    "\n",
    "Consider the distribution $p(a,b,c) = p(c \\mid a,b) \\cdot p(a) \\cot p(b)$. \n",
    "\n",
    "### Part I\n",
    "\n",
    "Is $a \\perp b \\mid \\emptyset$?\n",
    "\n",
    "#### Ans\n",
    "\n",
    "$$\n",
    "\\begin{equation}\n",
    "\\begin{aligned}\n",
    "p(a,b,c) &= p(c \\mid a,b) \\cdot p(a) \\cdot p(b) \\\\\n",
    "p(a,b,c) \\cdot \\frac{p(a,b)}{p(a,b,c)} &= p(c \\mid a,b) \\cdot \\frac{p(a,b)}{p(a,b,c)} \\cdot p(a) \\cdot p(b) \\\\\n",
    "p(a,b) &= p(a) \\cdot p(b)\n",
    "\\end{aligned}\n",
    "\\end{equation}\n",
    "$$\n",
    "\n",
    "Therefore, $a \\perp b \\mid \\emptyset$.\n"
   ]
  },
  {
   "cell_type": "code",
   "execution_count": null,
   "id": "271580ef",
   "metadata": {},
   "outputs": [],
   "source": []
  },
  {
   "cell_type": "code",
   "execution_count": null,
   "id": "7152dbc3",
   "metadata": {},
   "outputs": [],
   "source": []
  },
  {
   "cell_type": "code",
   "execution_count": null,
   "id": "6c0a0931",
   "metadata": {},
   "outputs": [],
   "source": []
  },
  {
   "cell_type": "markdown",
   "id": "e0d7e030",
   "metadata": {},
   "source": [
    "### Part II\n",
    "Is $a \\perp b \\mid c$?\n",
    "\n",
    "#### Ans\n",
    "\n",
    "Not in general. Consider the case $A \\rightarrow C \\leftarrow B$. $C$ is a collider. Conditioning on $C$ and $A$ could tell us something about $B$."
   ]
  },
  {
   "cell_type": "markdown",
   "id": "72f29885",
   "metadata": {},
   "source": [
    "## Ex 3\n",
    "\n",
    "The Chest Clinic network[185] concerns the diagnosis of lung disease (tuberculosis, lung cancer, or both, or neither), see fig(3.15). In this model a visit to Asia is assumed to increase the probability of tuberculosis. State if the following conditional independence relationships are true or false\n",
    "\n",
    "### Part I\n",
    "\n",
    "1. $\\text{tuberculosis} \\perp \\text{smoking} \\mid \\text{shortness of breath}$\n",
    "\n",
    "#### Ans\n",
    "\n",
    "False. $t \\rightarrow e \\rightarrow d \\leftarrow b \\leftarrow s$ is open after conditioning on $d$."
   ]
  },
  {
   "cell_type": "code",
   "execution_count": 8,
   "id": "cf43f46d",
   "metadata": {},
   "outputs": [],
   "source": [
    "proba_d = 0.1 * (1-0.064828) * 0.7 * 0.5 + \\\n",
    "0.7 * (0.064828) * 0.7 * 0.5 + \\\n",
    "0.8 * (1-0.064828) * 0.3 * 0.5 + \\\n",
    "0.9 * (0.064828) * 0.3 * 0.5 + \\\n",
    "0.1 * (1-0.064828) * 0.4 * 0.5 + \\\n",
    "0.7 * (0.064828) * 0.4 * 0.5 + \\\n",
    "0.8 * (1-0.064828) * 0.6 * 0.5 + \\\n",
    "0.9 * (0.064828) * 0.6 * 0.5\n"
   ]
  },
  {
   "cell_type": "code",
   "execution_count": 9,
   "id": "e6ca66da",
   "metadata": {},
   "outputs": [
    {
     "data": {
      "text/plain": [
       "0.43931049999999994"
      ]
     },
     "execution_count": 9,
     "metadata": {},
     "output_type": "execute_result"
    }
   ],
   "source": [
    "proba_d"
   ]
  },
  {
   "cell_type": "code",
   "execution_count": 10,
   "id": "8c4329f6",
   "metadata": {},
   "outputs": [],
   "source": [
    "proba_d_given_s_is_1 = 0.1 * 0.4 * ((1-0.0104) * 0.9) + 0 * 0.1 + \\\n",
    "0.7 * 0.4 * ((0.0104) * 0.9) + 1 * 0.1 + \\\n",
    "0.8 * 0.6 * ((1-0.0104) * 0.9) + 0 * 0.1 + \\\n",
    "0.9 * 0.6 * ((0.0104) * 0.9) + 1 * 0.1 \n"
   ]
  },
  {
   "cell_type": "code",
   "execution_count": 11,
   "id": "4eb811d2",
   "metadata": {},
   "outputs": [
    {
     "data": {
      "text/plain": [
       "0.6708080000000001"
      ]
     },
     "execution_count": 11,
     "metadata": {},
     "output_type": "execute_result"
    }
   ],
   "source": [
    "proba_d_given_s_is_1"
   ]
  },
  {
   "cell_type": "code",
   "execution_count": 12,
   "id": "67a6dbb9",
   "metadata": {},
   "outputs": [
    {
     "data": {
      "text/plain": [
       "0.3115332"
      ]
     },
     "execution_count": 12,
     "metadata": {},
     "output_type": "execute_result"
    }
   ],
   "source": [
    "proba_d_given_s_is_0 = 0.1 * 0.7 * ((1-0.0104) * 0.99) + \\\n",
    "    0.7*0.7 * 0.0104*0.99 + \\\n",
    "    0.8 * 0.3 * (1-0.0104) * 0.99 + \\\n",
    "    0.9 * 0.3 * 0.0104 * 0.99\n",
    "proba_d_given_s_is_0"
   ]
  },
  {
   "cell_type": "markdown",
   "id": "8e9e006b",
   "metadata": {},
   "source": [
    "## Ex 6"
   ]
  },
  {
   "cell_type": "code",
   "execution_count": 16,
   "id": "c46ffbc9",
   "metadata": {},
   "outputs": [
    {
     "data": {
      "text/plain": [
       "0.4537471991823578"
      ]
     },
     "execution_count": 16,
     "metadata": {},
     "output_type": "execute_result"
    }
   ],
   "source": [
    "num = 0.99 * ((0.98 * 0.02) + (0.03 * 0.98)) * 0.05 + \\\n",
    "    0.92 * ((0.02 * 0.02) + (0.97 * 0.98)) * 0.05\n",
    "\n",
    "denom = num + \\\n",
    "    1 * ((0.98 * 0.02) + 0.03 * 0.98) * 0.95 \\\n",
    "    + 0.01 * ((0.02 * 0.02) + 0.97 * 0.98) * 0.95\n",
    "\n",
    "proba_f_empty_given_s_no = num / denom\n",
    "proba_f_empty_given_s_no"
   ]
  },
  {
   "cell_type": "markdown",
   "id": "fd0ba8a7",
   "metadata": {},
   "source": [
    "## Ex 8\n",
    "\n"
   ]
  },
  {
   "cell_type": "markdown",
   "id": "23901ee1",
   "metadata": {},
   "source": [
    "### Part I"
   ]
  },
  {
   "cell_type": "code",
   "execution_count": 17,
   "id": "21cb9cb4",
   "metadata": {},
   "outputs": [
    {
     "data": {
      "text/plain": [
       "0.013377285445973396"
      ]
     },
     "execution_count": 17,
     "metadata": {},
     "output_type": "execute_result"
    }
   ],
   "source": [
    "num = 0.5 * 0.01 *0.01 + \\\n",
    "    0.7 * 0.99 * 0.01\n",
    "\n",
    "denom = num + 0.5 * 0.95 * 0.99 + \\\n",
    "    0.9 * 0.05 * 0.99\n",
    "\n",
    "proba_b_tr_given_w_tr = num / denom\n",
    "proba_b_tr_given_w_tr"
   ]
  },
  {
   "cell_type": "markdown",
   "id": "a0eea1b7",
   "metadata": {},
   "source": [
    "### Part II"
   ]
  },
  {
   "cell_type": "code",
   "execution_count": 19,
   "id": "b4dfc15c",
   "metadata": {},
   "outputs": [
    {
     "data": {
      "text/plain": [
       "0.41586132957467714"
      ]
     },
     "execution_count": 19,
     "metadata": {},
     "output_type": "execute_result"
    }
   ],
   "source": [
    "num = 0.8 * 0.5 * 0.01 * 0.01 \\\n",
    "    + 0.3 *0.9 *0.99 + 0.01\n",
    "\n",
    "denom = num + 0.8 * 0.5 * 0.95 * 0.99 \\\n",
    "    + 0.3 * 0.9 * 0.05 * 0.99\n",
    "\n",
    "proba_b_tr_given_w_tr_g_tr = num / denom\n",
    "proba_b_tr_given_w_tr_g_tr"
   ]
  },
  {
   "cell_type": "markdown",
   "id": "352b7179",
   "metadata": {},
   "source": [
    "## Ex 3.14\n",
    "\n",
    "There are three computers indexed by $i ∈ {1,2,3}$. Computer $i$ can send a message in one timestep to computer $j$ if $C_{ij} = 1$, otherwise $C_{ij} = 0$. There is a fault in the network and the task is to find out some information about the communication matrix C (C is not necessarily symmetric). To do this, Thomas, the engineer, will run some tests that reveal whether or not computer $i$ can send a message to computer $j$ in $t$ timesteps, $t ∈ \\{1,2\\}$. This is expressed as $C_{ij}(t)$, with $C_{ij}(1) ≡ C_{ij}$. For example, he might know that $C_{13}(2) = 1$, meaning that according to his test, a message sent from computer 1 will arrive at computer 3 in at most 2 timesteps. Note that this message could go via different routes – it might go directly from 1 to 3 in one timestep, or indirectly from 1 to 2 and then from 2 to 3, or both. You may assume $C_{ii} = 1$. A priori Thomas thinks there is a 10% probability that $C_{ij} = 1, i \\neq j$, and assumes that each such connection is independent of the rest. Given the test information $C = \\{C_{12}(2) = 1, C_{23}(2) = 0\\}$, compute the a posteriori probability vector:\n",
    "\n",
    "$\\qquad [p(C_{12} = 1 \\mid C), p(C_{13} = 1 \\mid C), p(C_{23} = 1 \\mid C), p(C_{32} = 1 \\mid C), p(C_{21} = 1 \\mid C), p(C_{31} = 1 \\mid C)]$"
   ]
  },
  {
   "cell_type": "markdown",
   "id": "62cd359d",
   "metadata": {},
   "source": [
    "### Ans\n",
    "\n",
    "The given information can be represented as adjacency matrices. The following adjacency matrix has a 1 when a computer $i$ can reach another computer $j$ in 1 timestep:\n",
    "\n",
    "$$\n",
    "\\begin{bmatrix}\n",
    "    1 & ? & ? \\\\\n",
    "    ? & 1 & ? \\\\\n",
    "    ? & ? & 1\n",
    "\\end{bmatrix}\n",
    "$$\n",
    "\n",
    "We fill the diagonal with 1s because it was given that $C_{ij} = 1$ for $i = j$. The rest are filled with question marks to represent uncertainty.\n",
    "\n",
    "We are also given the information that $C = \\{C_{12}(2) = 1, C_{23}(2) = 0\\}$. We could represent this as follows:\n",
    "\n",
    "$$\n",
    "\\begin{bmatrix}\n",
    "    ? & > 0 & ? \\\\\n",
    "    ? & ? & 0 \\\\\n",
    "    ? & ? & ?\n",
    "\\end{bmatrix}\n",
    "$$\n",
    "\n",
    "$C_{12}(2) = 1$ is represented as $> 0$ having at least one path from computer 1 to computer 2 satisfies the statement $C_{12}(2) = 1$. \n",
    "\n",
    "We can run a simulation where we stochastically generate values for the question marks in the first matrix according to the assumption that each computer being able to reach other computers in one timestep has a 10% probability. We then square that matrix and then filter for what we know, namely that row 1, col 2 has value greater than 0, and that row 2, column 3 has has value 0. Once we've collected enough of those, we could calculate estimates for the posterior distributions of interest."
   ]
  },
  {
   "cell_type": "code",
   "execution_count": 4,
   "id": "c9315309",
   "metadata": {},
   "outputs": [],
   "source": [
    "import numpy as np"
   ]
  },
  {
   "cell_type": "code",
   "execution_count": 6,
   "id": "ef604a7b",
   "metadata": {},
   "outputs": [
    {
     "data": {
      "text/plain": [
       "array([[1, 2, 3],\n",
       "       [4, 5, 6],\n",
       "       [7, 8, 9]])"
      ]
     },
     "execution_count": 6,
     "metadata": {},
     "output_type": "execute_result"
    }
   ],
   "source": [
    "arr = np.array([[1,2,3], [4,5,6], [7,8,9]])\n",
    "arr"
   ]
  },
  {
   "cell_type": "code",
   "execution_count": null,
   "id": "6f62b3bc",
   "metadata": {},
   "outputs": [],
   "source": []
  },
  {
   "cell_type": "code",
   "execution_count": 15,
   "id": "310f18d3",
   "metadata": {},
   "outputs": [
    {
     "data": {
      "text/plain": [
       "array([[[1, 2, 3],\n",
       "        [4, 5, 6],\n",
       "        [7, 8, 9]],\n",
       "\n",
       "       [[1, 2, 3],\n",
       "        [4, 5, 6],\n",
       "        [7, 8, 9]]])"
      ]
     },
     "execution_count": 15,
     "metadata": {},
     "output_type": "execute_result"
    }
   ],
   "source": [
    "three_d = np.array([arr, arr])\n",
    "three_d"
   ]
  },
  {
   "cell_type": "code",
   "execution_count": 16,
   "id": "ff1377bb",
   "metadata": {},
   "outputs": [
    {
     "data": {
      "text/plain": [
       "array([6, 6])"
      ]
     },
     "execution_count": 16,
     "metadata": {},
     "output_type": "execute_result"
    }
   ],
   "source": [
    "three_d[:,1,2]"
   ]
  },
  {
   "cell_type": "code",
   "execution_count": 12,
   "id": "22d3457c",
   "metadata": {},
   "outputs": [
    {
     "data": {
      "text/plain": [
       "(array([0, 1]), array([0, 0]), array([2, 2]))"
      ]
     },
     "execution_count": 12,
     "metadata": {},
     "output_type": "execute_result"
    }
   ],
   "source": [
    "np.where(np.array([arr, arr]) == 3)"
   ]
  },
  {
   "cell_type": "code",
   "execution_count": 14,
   "id": "792aab70",
   "metadata": {},
   "outputs": [
    {
     "data": {
      "text/plain": [
       "(array([0, 0, 0, 0, 0, 0, 1, 1, 1, 1, 1, 1]),\n",
       " array([1, 1, 1, 2, 2, 2, 1, 1, 1, 2, 2, 2]),\n",
       " array([0, 1, 2, 0, 1, 2, 0, 1, 2, 0, 1, 2]))"
      ]
     },
     "execution_count": 14,
     "metadata": {},
     "output_type": "execute_result"
    }
   ],
   "source": [
    "np.where(np.array([arr, arr]) > 3)"
   ]
  },
  {
   "cell_type": "code",
   "execution_count": 8,
   "id": "789eac7f",
   "metadata": {
    "scrolled": true
   },
   "outputs": [
    {
     "data": {
      "text/plain": [
       "array([[ 30,  36,  42],\n",
       "       [ 66,  81,  96],\n",
       "       [102, 126, 150]])"
      ]
     },
     "execution_count": 8,
     "metadata": {},
     "output_type": "execute_result"
    }
   ],
   "source": [
    "arr.dot(arr)"
   ]
  },
  {
   "cell_type": "code",
   "execution_count": 18,
   "id": "3e4cce3c",
   "metadata": {},
   "outputs": [],
   "source": [
    "def simulate_3_14(num_sim=10_000):\n",
    "    possible_timestep_1_square_matrices = []\n",
    "    \n",
    "    for i in range(num_sim):\n",
    "        timestep_1_square_matrix = np.array([\n",
    "            [1, np.random.binomial(n=1, p=0.1), np.random.binomial(n=1, p=0.1)],\n",
    "            [np.random.binomial(n=1, p=0.1), 1, np.random.binomial(n=1, p=0.1)],\n",
    "            [np.random.binomial(n=1, p=0.1), np.random.binomial(n=1, p=0.1), 1],\n",
    "        ])\n",
    "        \n",
    "        timestep_2_square_matrix = timestep_1_square_matrix.dot(timestep_1_square_matrix)\n",
    "        \n",
    "        if timestep_2_square_matrix[0,1] > 0 and timestep_2_square_matrix[1,2] == 0:\n",
    "            possible_timestep_1_square_matrices.append(timestep_1_square_matrix)\n",
    "            \n",
    "    return np.array(possible_timestep_1_square_matrices)"
   ]
  },
  {
   "cell_type": "code",
   "execution_count": 19,
   "id": "43d96dcf",
   "metadata": {},
   "outputs": [],
   "source": [
    "poss_timestep_1_square_matrices = simulate_3_14()"
   ]
  },
  {
   "cell_type": "code",
   "execution_count": 21,
   "id": "ca9d7bf7",
   "metadata": {},
   "outputs": [
    {
     "data": {
      "text/plain": [
       "928"
      ]
     },
     "execution_count": 21,
     "metadata": {},
     "output_type": "execute_result"
    }
   ],
   "source": [
    "len(poss_timestep_1_square_matrices)"
   ]
  },
  {
   "cell_type": "markdown",
   "id": "2e7a7e19",
   "metadata": {},
   "source": [
    "$p(C_{12} = 1 \\mid C) \\approx 0.91$"
   ]
  },
  {
   "cell_type": "code",
   "execution_count": 22,
   "id": "d56e32b0",
   "metadata": {},
   "outputs": [
    {
     "data": {
      "text/plain": [
       "0.9116379310344828"
      ]
     },
     "execution_count": 22,
     "metadata": {},
     "output_type": "execute_result"
    }
   ],
   "source": [
    "poss_timestep_1_square_matrices[:,0,1].sum() / len(poss_timestep_1_square_matrices)"
   ]
  },
  {
   "cell_type": "markdown",
   "id": "9197b8f3",
   "metadata": {},
   "source": [
    "$p(C_{12} = 1 \\mid C) \\approx 0.91$"
   ]
  },
  {
   "cell_type": "markdown",
   "id": "f15190e9",
   "metadata": {},
   "source": [
    "$p(C_{13} = 1 \\mid C) \\approx 0.16$"
   ]
  },
  {
   "cell_type": "code",
   "execution_count": 23,
   "id": "0128625b",
   "metadata": {},
   "outputs": [
    {
     "data": {
      "text/plain": [
       "0.16379310344827586"
      ]
     },
     "execution_count": 23,
     "metadata": {},
     "output_type": "execute_result"
    }
   ],
   "source": [
    "poss_timestep_1_square_matrices[:,0,2].sum() / len(poss_timestep_1_square_matrices)"
   ]
  },
  {
   "cell_type": "markdown",
   "id": "ba0f240e",
   "metadata": {},
   "source": [
    "$p(C_{23} = 1 \\mid C) \\approx 0$"
   ]
  },
  {
   "cell_type": "code",
   "execution_count": 24,
   "id": "a79bf014",
   "metadata": {},
   "outputs": [
    {
     "data": {
      "text/plain": [
       "0.0"
      ]
     },
     "execution_count": 24,
     "metadata": {},
     "output_type": "execute_result"
    }
   ],
   "source": [
    "poss_timestep_1_square_matrices[:,1,2].sum() / len(poss_timestep_1_square_matrices)"
   ]
  },
  {
   "cell_type": "markdown",
   "id": "fc414949",
   "metadata": {},
   "source": [
    "$p(C_{32} = 1 \\mid C) \\approx 0.19$"
   ]
  },
  {
   "cell_type": "code",
   "execution_count": 25,
   "id": "bb9d090f",
   "metadata": {},
   "outputs": [
    {
     "data": {
      "text/plain": [
       "0.1853448275862069"
      ]
     },
     "execution_count": 25,
     "metadata": {},
     "output_type": "execute_result"
    }
   ],
   "source": [
    "poss_timestep_1_square_matrices[:,2,1].sum() / len(poss_timestep_1_square_matrices)"
   ]
  },
  {
   "cell_type": "markdown",
   "id": "7f510d0f",
   "metadata": {},
   "source": [
    "$p(C_{21} = 1 \\mid C) \\approx 0.08$"
   ]
  },
  {
   "cell_type": "code",
   "execution_count": 26,
   "id": "05c7cf18",
   "metadata": {},
   "outputs": [
    {
     "data": {
      "text/plain": [
       "0.07974137931034483"
      ]
     },
     "execution_count": 26,
     "metadata": {},
     "output_type": "execute_result"
    }
   ],
   "source": [
    "poss_timestep_1_square_matrices[:,1,0].sum() / len(poss_timestep_1_square_matrices)"
   ]
  },
  {
   "cell_type": "markdown",
   "id": "a377a53d",
   "metadata": {},
   "source": [
    "$p(C_{31} = 1 \\mid C) \\approx 0.11$"
   ]
  },
  {
   "cell_type": "code",
   "execution_count": 27,
   "id": "239de2c6",
   "metadata": {},
   "outputs": [
    {
     "data": {
      "text/plain": [
       "0.11206896551724138"
      ]
     },
     "execution_count": 27,
     "metadata": {},
     "output_type": "execute_result"
    }
   ],
   "source": [
    "poss_timestep_1_square_matrices[:,2,0].sum() / len(poss_timestep_1_square_matrices)"
   ]
  },
  {
   "cell_type": "markdown",
   "id": "474e87a0",
   "metadata": {},
   "source": [
    "## Ex 3.15\n",
    "\n",
    "A belief network models the relation between the variables `oil`, `inf`, `eh`, `bp`, `rt` which stand for the price of oil, inflation rate, economy health, British Petroleum Stock price, retailer stock price. Each variable takes the states low, high, except for bp which has states low, high, normal. The belief network model for these variables has tables"
   ]
  },
  {
   "cell_type": "markdown",
   "id": "350e6d1c",
   "metadata": {},
   "source": [
    "| --------------------------------------------------------- | --------------------------------------------------------- |\n",
    "| - | - |\n",
    "| $p(eh=low) = 0.2$| |\n",
    "|$p(\\text{bp}=low \\mid oil = low) = 0.9$ | $ p(\\text{bp} = normal \\mid oil = low) = 0.1 $|\n",
    "|$p(\\text{bp}=low \\mid oil = high) = 0.1$ | $(\\text{bp} = normal \\mid oil = high) = 0.4 $|\n",
    "|$p(\\text{oil}=low \\mid eh = low) = 0.9 $|$ p(\\text{oil}=low \\mid eh = high) = 0.05 $|\n",
    "|$p(\\text{rt}=low \\mid inf = low, eh = low) = 0.9 $|$ p(\\text{rt}=low \\mid inf = low, eh = high) = 0.1 $|\n",
    "|$p(\\text{rt}=low \\mid inf = high, eh = low) = 0.1 $|$ p(\\text{rt}=low \\mid inf = high, eh = high) = 0.01 $|\n",
    "|$p(\\text{inf}=low \\mid oil = low, eh = low) = 0.9 $|$ p(\\text{inf}=low \\mid oil = low, eh = high) = 0.1 $|\n",
    "|$p(\\text{inf}=low \\mid oil = high, eh = low) = 0.1 $|$ p(\\text{inf}=low \\mid oil = high, eh = high) = 0.01 $|\n"
   ]
  },
  {
   "cell_type": "markdown",
   "id": "815f0187",
   "metadata": {},
   "source": [
    "### Part I\n",
    "\n",
    "Draw a belief network for this distribution."
   ]
  },
  {
   "cell_type": "markdown",
   "id": "8af64481",
   "metadata": {},
   "source": [
    "#### Ans"
   ]
  },
  {
   "cell_type": "code",
   "execution_count": 3,
   "id": "3ebc1fbf",
   "metadata": {},
   "outputs": [
    {
     "data": {
      "image/svg+xml": [
       "<?xml version=\"1.0\" encoding=\"UTF-8\" standalone=\"no\"?>\n",
       "<!DOCTYPE svg PUBLIC \"-//W3C//DTD SVG 1.1//EN\"\n",
       " \"http://www.w3.org/Graphics/SVG/1.1/DTD/svg11.dtd\">\n",
       "<!-- Generated by graphviz version 2.47.0 (0)\n",
       " -->\n",
       "<!-- Pages: 1 -->\n",
       "<svg width=\"324pt\" height=\"188pt\"\n",
       " viewBox=\"0.00 0.00 323.84 188.00\" xmlns=\"http://www.w3.org/2000/svg\" xmlns:xlink=\"http://www.w3.org/1999/xlink\">\n",
       "<g id=\"graph0\" class=\"graph\" transform=\"scale(1 1) rotate(0) translate(4 184)\">\n",
       "<polygon fill=\"white\" stroke=\"transparent\" points=\"-4,4 -4,-184 319.84,-184 319.84,4 -4,4\"/>\n",
       "<!-- Economy Health -->\n",
       "<g id=\"node1\" class=\"node\">\n",
       "<title>Economy Health</title>\n",
       "<ellipse fill=\"none\" stroke=\"black\" cx=\"171.19\" cy=\"-162\" rx=\"72.29\" ry=\"18\"/>\n",
       "<text text-anchor=\"middle\" x=\"171.19\" y=\"-158.3\" font-family=\"Times,serif\" font-size=\"14.00\">Economy Health</text>\n",
       "</g>\n",
       "<!-- Inflation Rate -->\n",
       "<g id=\"node2\" class=\"node\">\n",
       "<title>Inflation Rate</title>\n",
       "<ellipse fill=\"none\" stroke=\"black\" cx=\"83.19\" cy=\"-90\" rx=\"60.39\" ry=\"18\"/>\n",
       "<text text-anchor=\"middle\" x=\"83.19\" y=\"-86.3\" font-family=\"Times,serif\" font-size=\"14.00\">Inflation Rate</text>\n",
       "</g>\n",
       "<!-- Economy Health&#45;&gt;Inflation Rate -->\n",
       "<g id=\"edge1\" class=\"edge\">\n",
       "<title>Economy Health&#45;&gt;Inflation Rate</title>\n",
       "<path fill=\"none\" stroke=\"black\" d=\"M150.34,-144.41C138.66,-135.12 123.95,-123.42 111.28,-113.34\"/>\n",
       "<polygon fill=\"black\" stroke=\"black\" points=\"113.3,-110.47 103.29,-106.99 108.94,-115.95 113.3,-110.47\"/>\n",
       "</g>\n",
       "<!-- Oil -->\n",
       "<g id=\"node3\" class=\"node\">\n",
       "<title>Oil</title>\n",
       "<ellipse fill=\"none\" stroke=\"black\" cx=\"238.19\" cy=\"-90\" rx=\"27\" ry=\"18\"/>\n",
       "<text text-anchor=\"middle\" x=\"238.19\" y=\"-86.3\" font-family=\"Times,serif\" font-size=\"14.00\">Oil</text>\n",
       "</g>\n",
       "<!-- Economy Health&#45;&gt;Oil -->\n",
       "<g id=\"edge2\" class=\"edge\">\n",
       "<title>Economy Health&#45;&gt;Oil</title>\n",
       "<path fill=\"none\" stroke=\"black\" d=\"M187.07,-144.41C196.07,-135 207.45,-123.12 217.19,-112.94\"/>\n",
       "<polygon fill=\"black\" stroke=\"black\" points=\"219.86,-115.21 224.25,-105.57 214.8,-110.37 219.86,-115.21\"/>\n",
       "</g>\n",
       "<!-- Retailer Stock Price -->\n",
       "<g id=\"node4\" class=\"node\">\n",
       "<title>Retailer Stock Price</title>\n",
       "<ellipse fill=\"none\" stroke=\"black\" cx=\"83.19\" cy=\"-18\" rx=\"83.39\" ry=\"18\"/>\n",
       "<text text-anchor=\"middle\" x=\"83.19\" y=\"-14.3\" font-family=\"Times,serif\" font-size=\"14.00\">Retailer Stock Price</text>\n",
       "</g>\n",
       "<!-- Economy Health&#45;&gt;Retailer Stock Price -->\n",
       "<g id=\"edge3\" class=\"edge\">\n",
       "<title>Economy Health&#45;&gt;Retailer Stock Price</title>\n",
       "<path fill=\"none\" stroke=\"black\" d=\"M170.99,-143.96C170.03,-125.02 166.19,-94.18 152.19,-72 144.41,-59.67 132.68,-49.1 121.09,-40.71\"/>\n",
       "<polygon fill=\"black\" stroke=\"black\" points=\"122.96,-37.76 112.73,-35 119.01,-43.54 122.96,-37.76\"/>\n",
       "</g>\n",
       "<!-- Inflation Rate&#45;&gt;Retailer Stock Price -->\n",
       "<g id=\"edge5\" class=\"edge\">\n",
       "<title>Inflation Rate&#45;&gt;Retailer Stock Price</title>\n",
       "<path fill=\"none\" stroke=\"black\" d=\"M83.19,-71.7C83.19,-63.98 83.19,-54.71 83.19,-46.11\"/>\n",
       "<polygon fill=\"black\" stroke=\"black\" points=\"86.69,-46.1 83.19,-36.1 79.69,-46.1 86.69,-46.1\"/>\n",
       "</g>\n",
       "<!-- BP Stock Price -->\n",
       "<g id=\"node5\" class=\"node\">\n",
       "<title>BP Stock Price</title>\n",
       "<ellipse fill=\"none\" stroke=\"black\" cx=\"250.19\" cy=\"-18\" rx=\"65.79\" ry=\"18\"/>\n",
       "<text text-anchor=\"middle\" x=\"250.19\" y=\"-14.3\" font-family=\"Times,serif\" font-size=\"14.00\">BP Stock Price</text>\n",
       "</g>\n",
       "<!-- Oil&#45;&gt;BP Stock Price -->\n",
       "<g id=\"edge4\" class=\"edge\">\n",
       "<title>Oil&#45;&gt;BP Stock Price</title>\n",
       "<path fill=\"none\" stroke=\"black\" d=\"M241.1,-72.05C242.42,-64.35 244.02,-55.03 245.5,-46.36\"/>\n",
       "<polygon fill=\"black\" stroke=\"black\" points=\"248.99,-46.72 247.23,-36.28 242.09,-45.54 248.99,-46.72\"/>\n",
       "</g>\n",
       "</g>\n",
       "</svg>\n"
      ],
      "text/plain": [
       "<graphviz.dot.Digraph at 0x10497b700>"
      ]
     },
     "execution_count": 3,
     "metadata": {},
     "output_type": "execute_result"
    }
   ],
   "source": [
    "from graphviz import Digraph\n",
    "dag = Digraph()\n",
    "dag.edge('Economy Health', 'Inflation Rate')\n",
    "dag.edge('Economy Health', 'Oil')\n",
    "dag.edge('Economy Health', 'Retailer Stock Price')\n",
    "dag.edge('Oil', 'BP Stock Price')\n",
    "dag.edge('Inflation Rate', 'Retailer Stock Price')\n",
    "dag\n"
   ]
  },
  {
   "cell_type": "markdown",
   "id": "02fb3942",
   "metadata": {},
   "source": [
    "### Part II\n",
    "\n",
    "Given that the BP stock price is normal and the retailer stock price is high, what is the probability that inflation is high?"
   ]
  },
  {
   "cell_type": "markdown",
   "id": "d24f42df",
   "metadata": {},
   "source": [
    "#### Ans"
   ]
  },
  {
   "cell_type": "code",
   "execution_count": 2,
   "id": "4696da6e",
   "metadata": {},
   "outputs": [
    {
     "data": {
      "text/plain": [
       "0.8652486861571567"
      ]
     },
     "execution_count": 2,
     "metadata": {},
     "output_type": "execute_result"
    }
   ],
   "source": [
    "num = 0.1 * 0.05 * 0.2 * (1-0.9) * (1-0.1) \\\n",
    "    + 0.1 * 0.05 * (1-0.02) * (1-0.1) * (1-0.01) \\\n",
    "    + (1-0.01) * (1-0.9) * 0.2 * (1-0.1) * (1-0.1) \\\n",
    "    + (1-0.1) * (1-0.05) * (1-0.2) * (1-0.01) * (1-0.01)\n",
    "\n",
    "denom = num + 0.1 * 0.05 * 0.2 * 0.9 + (1-0.9) \\\n",
    "    + 0.1 * 0.05 * (1-0.2) * 0.1 * (1-0.1) \\\n",
    "    + (1-0.1) * (1-0.9) * 0.2 * 0.1 * (1-0.9) \\\n",
    "    + (1-0.1) * (1-0.05) * (1-0.2) * 0.01 * (1-0.1)\n",
    "\n",
    "num / denom"
   ]
  },
  {
   "cell_type": "markdown",
   "id": "b2b0f624",
   "metadata": {},
   "source": [
    "When the BP stock price is normal, and the retailer stock price is high, that, there's an $86.5\\%$ chance that inflation is high. "
   ]
  },
  {
   "cell_type": "markdown",
   "id": "6d997b19",
   "metadata": {},
   "source": [
    "## Ex 3.17\n",
    "\n",
    "This exercise explores the distinction between d-connection and dependence. Consider the distribution class\n",
    "$p(a, b, c) = p(c|b)p(b|a)p(a)$ (3.7.5) for which $a$ is d-connected to $c$. One might expect that this means that $a$ and $c$ are dependent, $a⊤c$. Our interest is to show that there are non-trivial distributions for which $a \\perp c$.\n",
    "### Part I\n",
    "\n",
    "Consider $dom(a) = dom(c) = \\{1,2\\} \\text{ and } dom(b) = \\{1,2,3\\}$. For \n",
    "$$\n",
    "\\begin{equation}\n",
    "\\begin{aligned}\n",
    "p(a) = \\begin{bmatrix}\n",
    "         \\frac{3}{5} \\\\\n",
    "         \\frac{2}{5} \\\\\n",
    "       \\end{bmatrix} \\qquad\n",
    "p(b \\mid a) = \\begin{bmatrix}\n",
    "         \\frac{1}{4} & \\frac{15}{40} \\\\\n",
    "         \\frac{1}{12} & \\frac{1}{8} \\\\\n",
    "         \\frac{2}{3} & \\frac{1}{2} \\\\\n",
    "       \\end{bmatrix} \\qquad\n",
    "p(c \\mid b) = \\begin{bmatrix}\n",
    "         \\frac{1}{3} & \\frac{1}{2} & \\frac{15}{40} \\\\\n",
    "         \\frac{2}{3} & \\frac{1}{2} & \\frac{5}{8}\\\\\n",
    "       \\end{bmatrix}\n",
    "\\end{aligned}\n",
    "\\end{equation}\n",
    "$$\n",
    "\n",
    "show that $a \\perp c$.\n",
    "\n"
   ]
  },
  {
   "cell_type": "markdown",
   "id": "c73732e1",
   "metadata": {},
   "source": [
    "#### Ans\n",
    "\n",
    "To show that $a \\perp c$, we could show that $p(c \\mid a) = p(c)$, i.e. knowing\n",
    "about $a$ doesn't tell us any information about the probability of $c$.\n",
    "\n",
    "Let the matrices above be $M_{A},M_{B \\mid A},M_{C \\mid B}$ We can compute\n",
    "$P(C)$ via $M_{C \\mid B} M_{B \\mid A} M_A$.\n",
    "\n",
    "Let's show that this is indeed the case:\n",
    "$$\n",
    "\\begin{equation}\n",
    "\\begin{aligned}\n",
    "M_{C \\mid B} M_{B \\mid A} M_{A} &=\n",
    "  \\begin{bmatrix}\n",
    "    P(C=0 \\mid B=1) & P(C=0 \\mid B=2) & P(C=0 \\mid B=3)\\\\\n",
    "    P(C=1 \\mid B=1) & P(C=1 \\mid B=2) & P(C=1 \\mid B=3)\\\\\n",
    "  \\end{bmatrix}\n",
    "  \\begin{bmatrix}\n",
    "    P(B=1 \\mid A=0) & P(B=1 \\mid A=1) \\\\\n",
    "    P(B=2 \\mid A=0) & P(B=2 \\mid A=1) \\\\\n",
    "    P(B=3 \\mid A=0) & P(B=3 \\mid A=1) \\\\\n",
    "  \\end{bmatrix}\n",
    "  \\begin{bmatrix}\n",
    "    P(A=0) \\\\\n",
    "    P(A=1)\n",
    "  \\end{bmatrix} \\\\\n",
    "  &=\n",
    "  \\begin{bmatrix}\n",
    "    \\sum_b P(C=0, B=b \\mid A=0) & \\sum_b P(C=0, B=b \\mid A=1)\\\\\n",
    "    \\sum_b P(C=1, B=b \\mid A=0) & \\sum_b P(C=1, B=b \\mid A=1)\\\\\n",
    "  \\end{bmatrix}\n",
    "  \\begin{bmatrix}\n",
    "    P(A=0) \\\\\n",
    "    P(A=1)\n",
    "  \\end{bmatrix} \n",
    "\\end{aligned}\n",
    "\\end{equation}\n",
    "$$\n",
    "\n",
    "We took advantage of the factorization $p(a, b, c) = p(c|b)p(b|a)p(a)$ above. Then we sum out $B$:\n",
    "\n",
    "$$\n",
    "\\begin{equation}\n",
    "\\begin{aligned}\n",
    "M_{C \\mid B} M_{B \\mid A} M_{A} &=\n",
    "  \\begin{bmatrix}\n",
    "    P(C=0 \\mid A=0) & P(C=0 \\mid A=1)\\\\\n",
    "    P(C=1 \\mid A=0) & P(C=1 \\mid A=1)\\\\\n",
    "  \\end{bmatrix}\n",
    "  \\begin{bmatrix}\n",
    "    P(A=0) \\\\\n",
    "    P(A=1)\n",
    "  \\end{bmatrix} \\\\\n",
    "\\end{aligned}\n",
    "\\end{equation}\n",
    "$$\n",
    "\n",
    "We use the same technique as above and this simplifies to:\n",
    "\n",
    "We can compute $P(C \\mid A)$ via $M_{C \\mid B} M_{B \\mid A}$, which we've already computed above:\n",
    "\n",
    "$$\n",
    "\\begin{equation}\n",
    "\\begin{aligned}\n",
    "M_{C \\mid B} M_{B \\mid A} &=\n",
    "  \\begin{bmatrix}\n",
    "    P(C=0 \\mid B=1) & P(C=0 \\mid B=2) & P(C=0 \\mid B=3)\\\\\n",
    "    P(C=1 \\mid B=1) & P(C=1 \\mid B=2) & P(C=1 \\mid B=3)\\\\\n",
    "  \\end{bmatrix}\n",
    "  \\begin{bmatrix}\n",
    "    P(B=1 \\mid A=0) & P(B=1 \\mid A=1) \\\\\n",
    "    P(B=2 \\mid A=0) & P(B=2 \\mid A=1) \\\\\n",
    "    P(B=3 \\mid A=0) & P(B=3 \\mid A=1) \\\\\n",
    "  \\end{bmatrix} \\\\\n",
    "  &=\n",
    "  \\begin{bmatrix}\n",
    "    \\sum_b P(C=0, B=b \\mid A=0) & \\sum_b P(C=0, B=b \\mid A=1)\\\\\n",
    "    \\sum_b P(C=1, B=b \\mid A=0) & \\sum_b P(C=1, B=b \\mid A=1)\\\\\n",
    "  \\end{bmatrix} \\\\\n",
    "  &= \n",
    "  \\begin{bmatrix}\n",
    "    P(C=0 \\mid A=0) & P(C=0 \\mid A=1)\\\\\n",
    "    P(C=1 \\mid A=0) & P(C=1 \\mid A=1)\\\\\n",
    "  \\end{bmatrix}\n",
    "\\end{aligned}\n",
    "\\end{equation}\n",
    "$$\n",
    "\n",
    "Thus, if we can show that, for each row, the left values are the same as the right values, then we've shown that knowing about $A$ doesn't tell us anything about $C$."
   ]
  },
  {
   "cell_type": "code",
   "execution_count": 20,
   "id": "89f1f10f",
   "metadata": {},
   "outputs": [],
   "source": [
    "import numpy as np\n",
    "\n",
    "p_a = np.array(\n",
    "    [\n",
    "        [3/5], \n",
    "        [2/5]\n",
    "    ]\n",
    ")\n",
    "\n",
    "p_b_given_a = np.array(\n",
    "    [\n",
    "        [1/4, 15/40], \n",
    "        [1/12, 1/8], \n",
    "        [2/3, 1/2]\n",
    "    ]\n",
    ")\n",
    "\n",
    "p_c_given_b = np.array(\n",
    "    [\n",
    "        [1/3, 1/2, 15/40], \n",
    "        [2/3, 1/2, 5/8]\n",
    "    ]\n",
    ")"
   ]
  },
  {
   "cell_type": "code",
   "execution_count": 24,
   "id": "4de99385",
   "metadata": {},
   "outputs": [
    {
     "data": {
      "text/plain": [
       "array([[0.375],\n",
       "       [0.625]])"
      ]
     },
     "execution_count": 24,
     "metadata": {},
     "output_type": "execute_result"
    }
   ],
   "source": [
    "p_c = p_c_given_b.dot(p_b_given_a.dot(p_a))\n",
    "p_c"
   ]
  },
  {
   "cell_type": "code",
   "execution_count": 25,
   "id": "6c2accc8",
   "metadata": {},
   "outputs": [
    {
     "data": {
      "text/plain": [
       "array([[0.375, 0.375],\n",
       "       [0.625, 0.625]])"
      ]
     },
     "execution_count": 25,
     "metadata": {},
     "output_type": "execute_result"
    }
   ],
   "source": [
    "p_c_given_b.dot(p_b_given_a)"
   ]
  },
  {
   "cell_type": "markdown",
   "id": "6d669aad",
   "metadata": {},
   "source": [
    "We've shown that $P(C \\mid A) = P(C)$."
   ]
  },
  {
   "cell_type": "markdown",
   "id": "8611a235",
   "metadata": {},
   "source": [
    "## Ex 3.20"
   ]
  },
  {
   "cell_type": "code",
   "execution_count": 26,
   "id": "6840e4cc",
   "metadata": {},
   "outputs": [],
   "source": [
    "import numpy as np\n",
    "\n",
    "p_w_given_inc_low = np.array([\n",
    "    [0.7],\n",
    "    [0.3],\n",
    "    [0],\n",
    "    [0]\n",
    "])\n",
    "\n",
    "p_w_given_inc_high = np.array([\n",
    "    [0.2],\n",
    "    [0.1],\n",
    "    [0.4],\n",
    "    [0.3]\n",
    "])\n",
    "\n",
    "p_h_given_inc_low = np.array([\n",
    "    [0.2],\n",
    "    [0.8],\n",
    "    [0],\n",
    "    [0]\n",
    "])\n",
    "\n",
    "p_h_given_inc_high = np.array([\n",
    "    [0],\n",
    "    [0],\n",
    "    [0.3],\n",
    "    [0.7]\n",
    "])\n",
    "\n",
    "p_i = np.array([\n",
    "    [0.8], \n",
    "    [0.2]\n",
    "])"
   ]
  },
  {
   "cell_type": "markdown",
   "id": "71e7e6fd",
   "metadata": {},
   "source": [
    "##### Find the marginal $P(w,h)$"
   ]
  },
  {
   "cell_type": "code",
   "execution_count": 29,
   "id": "6801a622",
   "metadata": {},
   "outputs": [
    {
     "data": {
      "text/plain": [
       "array([[0.112],\n",
       "       [0.192],\n",
       "       [0.024],\n",
       "       [0.042]])"
      ]
     },
     "execution_count": 29,
     "metadata": {},
     "output_type": "execute_result"
    }
   ],
   "source": [
    "p_w_h = p_w_given_inc_low * p_h_given_inc_low * p_i[0] \\\n",
    "+ p_w_given_inc_high * p_h_given_inc_high * p_i[1]\n",
    "\n",
    "p_w_h"
   ]
  },
  {
   "cell_type": "markdown",
   "id": "8f1b8b70",
   "metadata": {},
   "source": [
    "##### Show that $h \\perp w \\mid inc$\n",
    "\n",
    "We can show that $P(w \\mid h, inc=low) = P(w \\mid inc=low)$."
   ]
  },
  {
   "cell_type": "code",
   "execution_count": 37,
   "id": "61e2475f",
   "metadata": {},
   "outputs": [
    {
     "data": {
      "text/plain": [
       "array([[0.112],\n",
       "       [0.192],\n",
       "       [0.   ],\n",
       "       [0.   ]])"
      ]
     },
     "execution_count": 37,
     "metadata": {},
     "output_type": "execute_result"
    }
   ],
   "source": [
    "p_w_h_inc_is_low = p_w_given_inc_low * p_h_given_inc_low * p_i[0]\n",
    "p_w_h_inc_is_low"
   ]
  },
  {
   "cell_type": "code",
   "execution_count": 36,
   "id": "c296716f",
   "metadata": {},
   "outputs": [
    {
     "data": {
      "text/plain": [
       "array([[0.16],\n",
       "       [0.64],\n",
       "       [0.  ],\n",
       "       [0.  ]])"
      ]
     },
     "execution_count": 36,
     "metadata": {},
     "output_type": "execute_result"
    }
   ],
   "source": [
    "p_h_inc_is_low = p_h_given_inc_low * p_i[0]\n",
    "p_h_inc_is_low"
   ]
  },
  {
   "cell_type": "markdown",
   "id": "f37820cf",
   "metadata": {},
   "source": [
    "$$\n",
    "\\begin{equation}\n",
    "\\begin{aligned}\n",
    "P(w \\mid h, inc) &= \\frac{P(w,h,inc)}{P(h, inc)} \\\\\n",
    "&= \\frac{P(w \\mid inc) \\cdot P(h \\mid inc) \\cdot P(inc)}{P(h \\mid inc) \\cdot P(inc)} \\\\\n",
    "&= P(w \\mid inc)\n",
    "\\end{aligned}\n",
    "\\end{equation}\n",
    "$$\n"
   ]
  },
  {
   "cell_type": "code",
   "execution_count": 39,
   "id": "972a7177",
   "metadata": {},
   "outputs": [
    {
     "name": "stderr",
     "output_type": "stream",
     "text": [
      "<ipython-input-39-146448a9b96f>:1: RuntimeWarning: invalid value encountered in true_divide\n",
      "  p_w_given_h_inc_low = p_w_h_inc_is_low / p_h_inc_is_low\n"
     ]
    },
    {
     "data": {
      "text/plain": [
       "array([[0.7],\n",
       "       [0.3],\n",
       "       [nan],\n",
       "       [nan]])"
      ]
     },
     "execution_count": 39,
     "metadata": {},
     "output_type": "execute_result"
    }
   ],
   "source": [
    "p_w_given_h_inc_low = p_w_h_inc_is_low / p_h_inc_is_low\n",
    "p_w_given_h_inc_low"
   ]
  },
  {
   "cell_type": "markdown",
   "id": "19eb4987",
   "metadata": {},
   "source": [
    "Above is the same as $P(w \\mid inc = low)$, for $w \\in \\{1,2\\}$. Note that the last two items are `nan` because we never got to observe a situation where $h=\\{3 \\text{ or } 4\\}  \\mid inc = low$, i.e. $p(h=\\{3 \\text{ or } 4\\}  \\mid inc = low) = 0$."
   ]
  },
  {
   "cell_type": "code",
   "execution_count": 38,
   "id": "531ccdba",
   "metadata": {},
   "outputs": [
    {
     "data": {
      "text/plain": [
       "array([[0.   ],\n",
       "       [0.   ],\n",
       "       [0.024],\n",
       "       [0.042]])"
      ]
     },
     "execution_count": 38,
     "metadata": {},
     "output_type": "execute_result"
    }
   ],
   "source": [
    "p_w_h_inc_is_high = p_w_given_inc_high * p_h_given_inc_high * p_i[1]\n",
    "p_w_h_inc_is_high"
   ]
  },
  {
   "cell_type": "code",
   "execution_count": 40,
   "id": "a613c121",
   "metadata": {},
   "outputs": [
    {
     "data": {
      "text/plain": [
       "array([[0.  ],\n",
       "       [0.  ],\n",
       "       [0.06],\n",
       "       [0.14]])"
      ]
     },
     "execution_count": 40,
     "metadata": {},
     "output_type": "execute_result"
    }
   ],
   "source": [
    "p_h_inc_high = p_h_given_inc_high * p_i[1]\n",
    "p_h_inc_high"
   ]
  },
  {
   "cell_type": "code",
   "execution_count": 42,
   "id": "835282c7",
   "metadata": {},
   "outputs": [
    {
     "name": "stderr",
     "output_type": "stream",
     "text": [
      "<ipython-input-42-e8aa8263a1c3>:1: RuntimeWarning: invalid value encountered in true_divide\n",
      "  p_w_given_h_inc_high = p_w_h_inc_is_high / p_h_inc_high\n"
     ]
    },
    {
     "data": {
      "text/plain": [
       "array([[nan],\n",
       "       [nan],\n",
       "       [0.4],\n",
       "       [0.3]])"
      ]
     },
     "execution_count": 42,
     "metadata": {},
     "output_type": "execute_result"
    }
   ],
   "source": [
    "p_w_given_h_inc_high = p_w_h_inc_is_high / p_h_inc_high\n",
    "p_w_given_h_inc_high"
   ]
  },
  {
   "cell_type": "markdown",
   "id": "2a0377a5",
   "metadata": {},
   "source": [
    "Above is the same as $P(w \\mid inc = high)$ for $w \\in \\{3,4\\}$. Note that first two items are `nan` because we never got to observe a situation where $h \\in \\{3,4\\} \\mid inc = high$, i.e. $p(h \\in \\{3, 4\\}  \\mid inc = high) = 0$."
   ]
  },
  {
   "cell_type": "code",
   "execution_count": 30,
   "id": "b6882af4",
   "metadata": {},
   "outputs": [
    {
     "data": {
      "text/plain": [
       "array([[0.14],\n",
       "       [0.24],\n",
       "       [0.  ],\n",
       "       [0.  ]])"
      ]
     },
     "execution_count": 30,
     "metadata": {},
     "output_type": "execute_result"
    }
   ],
   "source": [
    "p_w_given_inc_low * p_h_given_inc_low"
   ]
  },
  {
   "cell_type": "code",
   "execution_count": 31,
   "id": "42ffc723",
   "metadata": {},
   "outputs": [
    {
     "data": {
      "text/plain": [
       "array([[0.  ],\n",
       "       [0.  ],\n",
       "       [0.12],\n",
       "       [0.21]])"
      ]
     },
     "execution_count": 31,
     "metadata": {},
     "output_type": "execute_result"
    }
   ],
   "source": [
    "p_w_given_inc_high * p_h_given_inc_high"
   ]
  },
  {
   "cell_type": "code",
   "execution_count": 45,
   "id": "017412bc",
   "metadata": {},
   "outputs": [
    {
     "data": {
      "text/plain": [
       "array([[0.16],\n",
       "       [0.64],\n",
       "       [0.06],\n",
       "       [0.14]])"
      ]
     },
     "execution_count": 45,
     "metadata": {},
     "output_type": "execute_result"
    }
   ],
   "source": [
    "p_h = p_h_given_inc_low * p_i[0] + p_h_given_inc_high * p_i[1]\n",
    "p_h"
   ]
  },
  {
   "cell_type": "code",
   "execution_count": 46,
   "id": "804e541c",
   "metadata": {},
   "outputs": [
    {
     "data": {
      "text/plain": [
       "array([[0.7],\n",
       "       [0.3],\n",
       "       [0.4],\n",
       "       [0.3]])"
      ]
     },
     "execution_count": 46,
     "metadata": {},
     "output_type": "execute_result"
    }
   ],
   "source": [
    "p_w_h / p_h"
   ]
  },
  {
   "cell_type": "code",
   "execution_count": 47,
   "id": "15956fad",
   "metadata": {},
   "outputs": [
    {
     "data": {
      "text/plain": [
       "array([[0.6 ],\n",
       "       [0.26],\n",
       "       [0.08],\n",
       "       [0.06]])"
      ]
     },
     "execution_count": 47,
     "metadata": {},
     "output_type": "execute_result"
    }
   ],
   "source": [
    "p_w = p_w_given_inc_low * p_i[0] + p_w_given_inc_high * p_i[1]\n",
    "p_w"
   ]
  },
  {
   "cell_type": "markdown",
   "id": "b5525860",
   "metadata": {},
   "source": [
    "As we can see above, even though $P(w \\mid inc, h) = P(w \\mid inc)$, $P(w \\mid h) \\neq P(w)$, (i.e. $h$ doesn't tell us anything about $w$ when we know $inc$, $w$ and $h$ can be related without knowing $inc$."
   ]
  },
  {
   "cell_type": "markdown",
   "id": "479121c8",
   "metadata": {},
   "source": [
    "## Ex 3.21"
   ]
  },
  {
   "cell_type": "markdown",
   "id": "7c83453d",
   "metadata": {},
   "source": [
    "`BinGame` is a two-player game with only a 'win' or 'lose' outcome. There are three players: $A$, $B$, $C$, that have been competing in a tournament, with the following outcomes:\n",
    "\n",
    "- $A$ beat $B$ 2 times.\n",
    "- $B$ beat $C$ 2 times.\n",
    "- $A$ beat $C$ 2 times.\n",
    "- $C$ beat $A$ 1 time.\n",
    "- Player $D$ enters the tournament and loses twice to player $C$.\n",
    "\n",
    "We assume that each player has a skill level from 1,...,10 and that, given the skill levels of two players, $s_A$, $s_B$, the probability that player $A$ beats player $B$ is $1/(1 + exp(s_B - s_A))$. Assume that a priori the skill levels of the players are independent, and that we place equal probability to each of the 10 skills levels. Additionally the outcome of all games, given the skill levels are independent. Using the above tournament information:\n",
    "\n",
    "### 1. \n",
    "Draw a belief network that represents the independence assumptions above."
   ]
  },
  {
   "cell_type": "markdown",
   "id": "0c204003",
   "metadata": {},
   "source": [
    "#### Ans\n",
    "\n",
    "Here's a subgraph that only looks at skills $s_A$ and $s_B$ and the games between $A$ and $B$. The rest follow a similar pattern."
   ]
  },
  {
   "cell_type": "code",
   "execution_count": 91,
   "id": "7bfdaf9e",
   "metadata": {},
   "outputs": [],
   "source": [
    "from graphviz import Digraph"
   ]
  },
  {
   "cell_type": "code",
   "execution_count": 92,
   "id": "e3122577",
   "metadata": {},
   "outputs": [
    {
     "data": {
      "image/svg+xml": [
       "<?xml version=\"1.0\" encoding=\"UTF-8\" standalone=\"no\"?>\n",
       "<!DOCTYPE svg PUBLIC \"-//W3C//DTD SVG 1.1//EN\"\n",
       " \"http://www.w3.org/Graphics/SVG/1.1/DTD/svg11.dtd\">\n",
       "<!-- Generated by graphviz version 2.47.0 (0)\n",
       " -->\n",
       "<!-- Pages: 1 -->\n",
       "<svg width=\"596pt\" height=\"116pt\"\n",
       " viewBox=\"0.00 0.00 595.67 116.00\" xmlns=\"http://www.w3.org/2000/svg\" xmlns:xlink=\"http://www.w3.org/1999/xlink\">\n",
       "<g id=\"graph0\" class=\"graph\" transform=\"scale(1 1) rotate(0) translate(4 112)\">\n",
       "<polygon fill=\"white\" stroke=\"transparent\" points=\"-4,4 -4,-112 591.67,-112 591.67,4 -4,4\"/>\n",
       "<!-- s_a -->\n",
       "<g id=\"node1\" class=\"node\">\n",
       "<title>s_a</title>\n",
       "<ellipse fill=\"none\" stroke=\"black\" cx=\"257.34\" cy=\"-90\" rx=\"27\" ry=\"18\"/>\n",
       "<text text-anchor=\"middle\" x=\"257.34\" y=\"-86.3\" font-family=\"Times,serif\" font-size=\"14.00\">s_a</text>\n",
       "</g>\n",
       "<!-- Game 1 between A and B=a_beat_b -->\n",
       "<g id=\"node2\" class=\"node\">\n",
       "<title>Game 1 between A and B=a_beat_b</title>\n",
       "<ellipse fill=\"none\" stroke=\"black\" cx=\"142.34\" cy=\"-18\" rx=\"142.17\" ry=\"18\"/>\n",
       "<text text-anchor=\"middle\" x=\"142.34\" y=\"-14.3\" font-family=\"Times,serif\" font-size=\"14.00\">Game 1 between A and B=a_beat_b</text>\n",
       "</g>\n",
       "<!-- s_a&#45;&gt;Game 1 between A and B=a_beat_b -->\n",
       "<g id=\"edge1\" class=\"edge\">\n",
       "<title>s_a&#45;&gt;Game 1 between A and B=a_beat_b</title>\n",
       "<path fill=\"none\" stroke=\"black\" d=\"M238.09,-77.28C221.9,-67.43 198.3,-53.07 178.58,-41.06\"/>\n",
       "<polygon fill=\"black\" stroke=\"black\" points=\"180.2,-37.95 169.84,-35.74 176.56,-43.93 180.2,-37.95\"/>\n",
       "</g>\n",
       "<!-- Game 2 between A and B=a_beat_b -->\n",
       "<g id=\"node4\" class=\"node\">\n",
       "<title>Game 2 between A and B=a_beat_b</title>\n",
       "<ellipse fill=\"none\" stroke=\"black\" cx=\"445.34\" cy=\"-18\" rx=\"142.17\" ry=\"18\"/>\n",
       "<text text-anchor=\"middle\" x=\"445.34\" y=\"-14.3\" font-family=\"Times,serif\" font-size=\"14.00\">Game 2 between A and B=a_beat_b</text>\n",
       "</g>\n",
       "<!-- s_a&#45;&gt;Game 2 between A and B=a_beat_b -->\n",
       "<g id=\"edge3\" class=\"edge\">\n",
       "<title>s_a&#45;&gt;Game 2 between A and B=a_beat_b</title>\n",
       "<path fill=\"none\" stroke=\"black\" d=\"M280.39,-80.42C308.02,-70.13 355.21,-52.56 392.05,-38.84\"/>\n",
       "<polygon fill=\"black\" stroke=\"black\" points=\"393.51,-42.03 401.66,-35.26 391.07,-35.47 393.51,-42.03\"/>\n",
       "</g>\n",
       "<!-- s_b -->\n",
       "<g id=\"node3\" class=\"node\">\n",
       "<title>s_b</title>\n",
       "<ellipse fill=\"none\" stroke=\"black\" cx=\"387.34\" cy=\"-90\" rx=\"27\" ry=\"18\"/>\n",
       "<text text-anchor=\"middle\" x=\"387.34\" y=\"-86.3\" font-family=\"Times,serif\" font-size=\"14.00\">s_b</text>\n",
       "</g>\n",
       "<!-- s_b&#45;&gt;Game 1 between A and B=a_beat_b -->\n",
       "<g id=\"edge2\" class=\"edge\">\n",
       "<title>s_b&#45;&gt;Game 1 between A and B=a_beat_b</title>\n",
       "<path fill=\"none\" stroke=\"black\" d=\"M362.95,-82.03C326.91,-71.73 258.15,-52.09 206.94,-37.46\"/>\n",
       "<polygon fill=\"black\" stroke=\"black\" points=\"207.84,-34.08 197.27,-34.69 205.92,-40.81 207.84,-34.08\"/>\n",
       "</g>\n",
       "<!-- s_b&#45;&gt;Game 2 between A and B=a_beat_b -->\n",
       "<g id=\"edge4\" class=\"edge\">\n",
       "<title>s_b&#45;&gt;Game 2 between A and B=a_beat_b</title>\n",
       "<path fill=\"none\" stroke=\"black\" d=\"M399.92,-73.81C407.11,-65.14 416.29,-54.05 424.52,-44.12\"/>\n",
       "<polygon fill=\"black\" stroke=\"black\" points=\"427.46,-46.06 431.15,-36.13 422.07,-41.59 427.46,-46.06\"/>\n",
       "</g>\n",
       "</g>\n",
       "</svg>\n"
      ],
      "text/plain": [
       "<graphviz.dot.Digraph at 0x163c06bb0>"
      ]
     },
     "execution_count": 92,
     "metadata": {},
     "output_type": "execute_result"
    }
   ],
   "source": [
    "dag = Digraph()\n",
    "dag.edge(\"s_a\", 'Game 1 between A and B=a_beat_b')\n",
    "dag.edge(\"s_b\", 'Game 1 between A and B=a_beat_b')\n",
    "dag.edge(\"s_a\", 'Game 2 between A and B=a_beat_b')\n",
    "dag.edge(\"s_b\", 'Game 2 between A and B=a_beat_b')\n",
    "dag"
   ]
  },
  {
   "cell_type": "markdown",
   "id": "bf141fe5",
   "metadata": {},
   "source": [
    "### 2.\n",
    "Are the skill levels of the players a posteriori (i.e. given the game outcomes) independent?"
   ]
  },
  {
   "cell_type": "markdown",
   "id": "c17af327",
   "metadata": {},
   "source": [
    "#### Ans\n",
    "No, they are dependent. The game outcomes are colliders. Conditioning on them makes the skill levels dependent."
   ]
  },
  {
   "cell_type": "markdown",
   "id": "a0898244",
   "metadata": {},
   "source": [
    "### 3.\n",
    "Calculate the probability that player $D$ will beat player $A$ in a game of `BinGame`."
   ]
  },
  {
   "cell_type": "code",
   "execution_count": 84,
   "id": "343440d4",
   "metadata": {},
   "outputs": [],
   "source": [
    "import numpy as np\n",
    "import pandas as pd\n",
    "import matplotlib.pyplot as plt\n",
    "\n",
    "def proba_win_person_1_beats_person_2(skill_1, skill_2):\n",
    "    return 1.0 / (1.0 + np.exp(skill_2 - skill_1))\n",
    "\n",
    "num_simulations = 1_000_000\n",
    "s_a = np.random.randint(low=1, high=11, size=num_simulations)\n",
    "s_b = np.random.randint(low=1, high=11, size=num_simulations)\n",
    "s_c = np.random.randint(low=1, high=11, size=num_simulations)\n",
    "s_d = np.random.randint(low=1, high=11, size=num_simulations)\n",
    "\n",
    "a_beats_b = np.random.binomial(\n",
    "    n=2, # A and B played twice\n",
    "    p=proba_win_person_1_beats_person_2(s_a, s_b)\n",
    ")\n",
    "\n",
    "b_beats_c = np.random.binomial(\n",
    "    n=2, # B and C played twice\n",
    "    p=proba_win_person_1_beats_person_2(s_b, s_c)\n",
    ")\n",
    "\n",
    "a_beats_c = np.random.binomial(\n",
    "    n=3, # A and B played three times\n",
    "    p=proba_win_person_1_beats_person_2(s_a, s_c)\n",
    ")\n",
    "\n",
    "c_beats_d = np.random.binomial(\n",
    "    n=2, # C and D played three times\n",
    "    p=proba_win_person_1_beats_person_2(s_c, s_d)\n",
    ")\n",
    "\n",
    "observed = (a_beats_b == 2) & \\\n",
    "    (b_beats_c == 2) & \\\n",
    "    (a_beats_c == 2) & \\\n",
    "    (c_beats_d == 2)\n",
    "\n",
    "posterior_s_a = s_a[observed]\n",
    "posterior_s_b = s_b[observed]\n",
    "posterior_s_c = s_c[observed]\n",
    "posterior_s_d = s_d[observed]"
   ]
  },
  {
   "cell_type": "markdown",
   "id": "6ea3d951",
   "metadata": {},
   "source": [
    "We can calculate the probability that D will beat A by using the posterior distributions as the new priors, and then running simulations with them."
   ]
  },
  {
   "cell_type": "code",
   "execution_count": 98,
   "id": "b7903740",
   "metadata": {},
   "outputs": [],
   "source": [
    "ancestral_sampling_d_vs_a_using_posteriors = np.random.binomial(\n",
    "    n=1,\n",
    "    p=proba_win_person_1_beats_person_2(posterior_s_d, posterior_s_a)\n",
    ")"
   ]
  },
  {
   "cell_type": "code",
   "execution_count": 99,
   "id": "56a621d6",
   "metadata": {},
   "outputs": [
    {
     "data": {
      "text/plain": [
       "0.048012390294269486"
      ]
     },
     "execution_count": 99,
     "metadata": {},
     "output_type": "execute_result"
    }
   ],
   "source": [
    "ancestral_sampling_d_vs_a_using_posteriors.mean()"
   ]
  },
  {
   "cell_type": "markdown",
   "id": "6dd77602",
   "metadata": {},
   "source": [
    "There's about a 5% chance that $D$ will beat $A$ in a game of `BinGame`."
   ]
  },
  {
   "cell_type": "markdown",
   "id": "17688106",
   "metadata": {},
   "source": [
    "### 4.\n",
    "\n",
    "Calculate the expected skill levels of each of the 4 players."
   ]
  },
  {
   "cell_type": "markdown",
   "id": "fea01ebd",
   "metadata": {},
   "source": [
    "Below are the expected skill levels of each player:"
   ]
  },
  {
   "cell_type": "markdown",
   "id": "8aca8f71",
   "metadata": {},
   "source": [
    "##### Ans"
   ]
  },
  {
   "cell_type": "code",
   "execution_count": 90,
   "id": "6a1bd6e8",
   "metadata": {},
   "outputs": [],
   "source": [
    "plottables = [\n",
    "    {\n",
    "        'player_name': 'a',\n",
    "        'title': 'Posterior of S_a',\n",
    "        'row': 0,\n",
    "        'col': 0,\n",
    "        'posterior': posterior_s_a\n",
    "    },\n",
    "    {\n",
    "        'player_name': 'b',\n",
    "        'title': 'Posterior of S_b',\n",
    "        'row': 0,\n",
    "        'col': 1,\n",
    "        'posterior': posterior_s_b\n",
    "    },\n",
    "    {\n",
    "        'player_name': 'c',\n",
    "        'title': 'Posterior of S_c',\n",
    "        'row': 1,\n",
    "        'col': 0,\n",
    "        'posterior': posterior_s_c\n",
    "    },\n",
    "    {\n",
    "        'player_name': 'd',\n",
    "        'title': 'Posterior of S_d',\n",
    "        'row': 1,\n",
    "        'col': 1,\n",
    "        'posterior': posterior_s_d\n",
    "    }\n",
    "]"
   ]
  },
  {
   "cell_type": "code",
   "execution_count": 89,
   "id": "09584c67",
   "metadata": {},
   "outputs": [
    {
     "data": {
      "text/plain": [
       "{'a': 7.848218895198761,\n",
       " 'b': 6.831182240578213,\n",
       " 'c': 5.957666494579247,\n",
       " 'd': 3.069695405265875}"
      ]
     },
     "execution_count": 89,
     "metadata": {},
     "output_type": "execute_result"
    }
   ],
   "source": [
    "{plottable['player_name']: plottable['posterior'].mean() for plottable in plottables}\n",
    "    "
   ]
  },
  {
   "cell_type": "markdown",
   "id": "b4b8742f",
   "metadata": {},
   "source": [
    "Below I calculate the posterior distributions, which capture more of the uncertainty than just the expectation of each posterior distribution:"
   ]
  },
  {
   "cell_type": "code",
   "execution_count": 88,
   "id": "2a0ca597",
   "metadata": {},
   "outputs": [
    {
     "data": {
      "image/png": "[encoded data removed]",
      "text/plain": [
       "<Figure size 432x288 with 4 Axes>"
      ]
     },
     "metadata": {
      "needs_background": "light"
     },
     "output_type": "display_data"
    }
   ],
   "source": [
    "fig, ax = plt.subplots(2,2)\n",
    "\n",
    "for plottable in plottables:\n",
    "    axis = ax[plottable['row'], plottable['col']]\n",
    "    pd.Series(plottable['posterior'])\\\n",
    "        .plot.hist(\n",
    "            bins=10, \n",
    "            xlim=(1,10), \n",
    "            ax=axis\n",
    "        )\n",
    "    axis.set_title(plottable['title'])\n",
    "plt.tight_layout()"
   ]
  },
  {
   "cell_type": "markdown",
   "id": "1aef83a8",
   "metadata": {},
   "source": [
    "## Ex 3.22"
   ]
  },
  {
   "cell_type": "code",
   "execution_count": 100,
   "id": "99ef14f3",
   "metadata": {},
   "outputs": [
    {
     "data": {
      "text/plain": [
       "0.0009118819655545162"
      ]
     },
     "execution_count": 100,
     "metadata": {},
     "output_type": "execute_result"
    }
   ],
   "source": [
    "np.exp(-7)"
   ]
  },
  {
   "cell_type": "code",
   "execution_count": 235,
   "id": "a4922675",
   "metadata": {},
   "outputs": [],
   "source": [
    "import numpy as np\n",
    "\n",
    "def proba_pick_one_over_others(first, second, third):\n",
    "    \"\"\"\n",
    "    Parameters:\n",
    "        first: integer\n",
    "            Interest level of what was chosen over second and third\n",
    "        second: integer\n",
    "            Interest level of what was not chosen.\n",
    "        third: integer\n",
    "            Interest level of what was not chosen.\n",
    "        max_diff: integer\n",
    "            Scaler to ensure that this function returns a probability \n",
    "            (within 0 and 1). Equivalent to first - max(second,third).\n",
    "        prop: integer\n",
    "            Proportional random variable.\n",
    "    \n",
    "    Returns: np.array(float)\n",
    "        Values representing probabilities that the first would get chosen \n",
    "        over second and third.\n",
    "        \n",
    "    Notes:\n",
    "    \n",
    "    max_diff is the largest possible value of first - max(second, third)\n",
    "    If the largest possible value of interest s is 5 and lowest \n",
    "    possible value is 1, then:\n",
    "        first - max(second,third) = 5 - max(1,1) = 4.\n",
    "    \n",
    "    In that situation, we get a probability of \n",
    "        prop / np.exp(max_diff) * np.exp(first - max(second,third)) \n",
    "        prop / np.exp(first - max(second,third) - max_diff) \n",
    "        = prop * np.exp(5 - 1 - 4)\n",
    "        = prop * np.exp(0)\n",
    "        = prop * 1\n",
    "        = prop\n",
    "    Prop is within 0 and 1, so this is a valid probability.\n",
    "    \n",
    "    In the other extreme case where first = 1 and max(second, third) = 4:\n",
    "        prop / np.exp(max_diff) * np.exp(first - max(second,third)) \n",
    "        prop / np.exp(first - max(second,third) - max_diff) \n",
    "        = prop * np.exp(1 - 4 - 4)\n",
    "        = prop * np.exp(1 - 8)\n",
    "        = prop * np.exp(-7)\n",
    "        ~ prop * 0.0009...\n",
    "        which is also a valid probability.\n",
    "    \"\"\"\n",
    "    #return prop * np.exp(first - np.maximum(second, third) - max_diff)\n",
    "    #return 1.0 / (1 + np.exp(np.maximum(second, third) - first))\n",
    "    return 1.0 / (1 + np.exp(first - np.maximum(second, third)))\n",
    "    \n",
    "num_sims = 10_000_000\n",
    "\n",
    "s_1 = np.random.randint(low=1, high=6, size=num_sims)\n",
    "s_2 = np.random.randint(low=1, high=6, size=num_sims)\n",
    "s_3 = np.random.randint(low=1, high=6, size=num_sims)\n",
    "s_4 = np.random.randint(low=1, high=6, size=num_sims)\n",
    "s_5 = np.random.randint(low=1, high=6, size=num_sims)\n",
    "s_6 = np.random.randint(low=1, high=6, size=num_sims)\n",
    "s_7 = np.random.randint(low=1, high=6, size=num_sims)\n",
    "s_8 = np.random.randint(low=1, high=6, size=num_sims)\n",
    "s_9 = np.random.randint(low=1, high=6, size=num_sims)\n",
    "s_10 = np.random.randint(low=1, high=6, size=num_sims)\n",
    "\n",
    "interest_levels = np.array([s_1, s_2, s_3, s_4, s_5, s_6, s_7, s_8, s_9, s_10])\n",
    "events = [\n",
    "    (1,2,3),\n",
    "    (2,5,3),\n",
    "    (4,7,10),\n",
    "    (6,3,4),\n",
    "    (6,8,5),\n",
    "    (9,3,7),\n",
    "    (10,2,4),\n",
    "    (7,1,2),\n",
    "    (8,7,2),\n",
    "    (8,3,6),\n",
    "    (8,6,4),\n",
    "    (4,3,9),\n",
    "    (5,4,1),\n",
    "    (9,5,1),\n",
    "    (6,7,8),\n",
    "    (4,9,7),\n",
    "    (10,8,6),\n",
    "    (5,4,3),\n",
    "    (6,3,2),\n",
    "    (1,4,2)\n",
    "]\n",
    "\n",
    "sim_events = [np.random.binomial(\n",
    "        n=1, \n",
    "        p=proba_pick_one_over_others(\n",
    "            interest_levels[first - 1], \n",
    "            interest_levels[second - 1], \n",
    "            interest_levels[third - 1], \n",
    "        )\n",
    "    ) for first, second, third in events]\n",
    "\n",
    "result = sim_events[0]\n",
    "    \n",
    "\n"
   ]
  },
  {
   "cell_type": "code",
   "execution_count": 236,
   "id": "305b46fa",
   "metadata": {},
   "outputs": [],
   "source": [
    "for i in range(1, len(sim_events)):\n",
    "    result = result & sim_events[i]"
   ]
  },
  {
   "cell_type": "code",
   "execution_count": 237,
   "id": "2865a746",
   "metadata": {},
   "outputs": [
    {
     "data": {
      "text/plain": [
       "867"
      ]
     },
     "execution_count": 237,
     "metadata": {},
     "output_type": "execute_result"
    }
   ],
   "source": [
    "result.sum()"
   ]
  },
  {
   "cell_type": "code",
   "execution_count": 238,
   "id": "c2f60d3d",
   "metadata": {
    "scrolled": true
   },
   "outputs": [
    {
     "data": {
      "text/plain": [
       "[3.0795847750865053,\n",
       " 3.8442906574394464,\n",
       " 4.689734717416378,\n",
       " 2.7716262975778547,\n",
       " 2.7554786620530565,\n",
       " 2.1176470588235294,\n",
       " 3.76239907727797,\n",
       " 2.3829296424452133,\n",
       " 2.3575547866205304,\n",
       " 1.9492502883506344]"
      ]
     },
     "execution_count": 238,
     "metadata": {},
     "output_type": "execute_result"
    }
   ],
   "source": [
    "\n",
    "[s[np.where(result)[0]].mean() for  s in interest_levels]"
   ]
  },
  {
   "cell_type": "code",
   "execution_count": 227,
   "id": "ff286a20",
   "metadata": {},
   "outputs": [
    {
     "data": {
      "text/plain": [
       "19"
      ]
     },
     "execution_count": 227,
     "metadata": {},
     "output_type": "execute_result"
    }
   ],
   "source": [
    "i"
   ]
  },
  {
   "cell_type": "code",
   "execution_count": 218,
   "id": "fe92cf70",
   "metadata": {},
   "outputs": [
    {
     "ename": "IndexError",
     "evalue": "invalid index to scalar variable.",
     "output_type": "error",
     "traceback": [
      "\u001b[0;31m---------------------------------------------------------------------------\u001b[0m",
      "\u001b[0;31mIndexError\u001b[0m                                Traceback (most recent call last)",
      "\u001b[0;32m<ipython-input-218-330fb115bd9c>\u001b[0m in \u001b[0;36m<module>\u001b[0;34m\u001b[0m\n\u001b[0;32m----> 1\u001b[0;31m \u001b[0;34m{\u001b[0m\u001b[0;34mf's_{i+1}'\u001b[0m\u001b[0;34m:\u001b[0m \u001b[0ms\u001b[0m\u001b[0;34m[\u001b[0m\u001b[0mi\u001b[0m\u001b[0;34m]\u001b[0m\u001b[0;34m[\u001b[0m\u001b[0mnp\u001b[0m\u001b[0;34m.\u001b[0m\u001b[0mwhere\u001b[0m\u001b[0;34m(\u001b[0m\u001b[0mresult\u001b[0m\u001b[0;34m)\u001b[0m\u001b[0;34m[\u001b[0m\u001b[0;36m0\u001b[0m\u001b[0;34m]\u001b[0m\u001b[0;34m]\u001b[0m\u001b[0;34m.\u001b[0m\u001b[0mmean\u001b[0m\u001b[0;34m(\u001b[0m\u001b[0;34m)\u001b[0m \u001b[0;32mfor\u001b[0m \u001b[0mi\u001b[0m\u001b[0;34m,\u001b[0m \u001b[0ms\u001b[0m \u001b[0;32min\u001b[0m \u001b[0menumerate\u001b[0m\u001b[0;34m(\u001b[0m\u001b[0minterest_levels\u001b[0m\u001b[0;34m)\u001b[0m\u001b[0;34m}\u001b[0m\u001b[0;34m\u001b[0m\u001b[0;34m\u001b[0m\u001b[0m\n\u001b[0m",
      "\u001b[0;32m<ipython-input-218-330fb115bd9c>\u001b[0m in \u001b[0;36m<dictcomp>\u001b[0;34m(.0)\u001b[0m\n\u001b[0;32m----> 1\u001b[0;31m \u001b[0;34m{\u001b[0m\u001b[0;34mf's_{i+1}'\u001b[0m\u001b[0;34m:\u001b[0m \u001b[0ms\u001b[0m\u001b[0;34m[\u001b[0m\u001b[0mi\u001b[0m\u001b[0;34m]\u001b[0m\u001b[0;34m[\u001b[0m\u001b[0mnp\u001b[0m\u001b[0;34m.\u001b[0m\u001b[0mwhere\u001b[0m\u001b[0;34m(\u001b[0m\u001b[0mresult\u001b[0m\u001b[0;34m)\u001b[0m\u001b[0;34m[\u001b[0m\u001b[0;36m0\u001b[0m\u001b[0;34m]\u001b[0m\u001b[0;34m]\u001b[0m\u001b[0;34m.\u001b[0m\u001b[0mmean\u001b[0m\u001b[0;34m(\u001b[0m\u001b[0;34m)\u001b[0m \u001b[0;32mfor\u001b[0m \u001b[0mi\u001b[0m\u001b[0;34m,\u001b[0m \u001b[0ms\u001b[0m \u001b[0;32min\u001b[0m \u001b[0menumerate\u001b[0m\u001b[0;34m(\u001b[0m\u001b[0minterest_levels\u001b[0m\u001b[0;34m)\u001b[0m\u001b[0;34m}\u001b[0m\u001b[0;34m\u001b[0m\u001b[0;34m\u001b[0m\u001b[0m\n\u001b[0m",
      "\u001b[0;31mIndexError\u001b[0m: invalid index to scalar variable."
     ]
    }
   ],
   "source": [
    "{f's_{i+1}': s[i][np.where(result)[0]].mean() for i, s in enumerate(interest_levels)}"
   ]
  },
  {
   "cell_type": "code",
   "execution_count": 185,
   "id": "67584614",
   "metadata": {},
   "outputs": [
    {
     "data": {
      "image/png": "[encoded data removed]",
      "text/plain": [
       "<Figure size 360x720 with 10 Axes>"
      ]
     },
     "metadata": {
      "needs_background": "light"
     },
     "output_type": "display_data"
    }
   ],
   "source": [
    "fig, ax = plt.subplots(10,1, figsize=(5, 10))\n",
    "\n",
    "for i, int_level in enumerate(interest_levels):\n",
    "    pd.Series(int_level[result]).plot.hist(ax=ax[i],xlim=(1,6))\n",
    "    ax[i].set_title(f'Posterior of s_{i+1}')\n",
    "    \n",
    "plt.tight_layout()"
   ]
  },
  {
   "cell_type": "code",
   "execution_count": null,
   "id": "7a568d21",
   "metadata": {},
   "outputs": [],
   "source": []
  },
  {
   "cell_type": "code",
   "execution_count": 141,
   "id": "e9d7b037",
   "metadata": {
    "scrolled": true
   },
   "outputs": [
    {
     "data": {
      "text/plain": [
       "array([5, 2, 5, ..., 5, 2, 5])"
      ]
     },
     "execution_count": 141,
     "metadata": {},
     "output_type": "execute_result"
    }
   ],
   "source": [
    "s_1[result]"
   ]
  },
  {
   "cell_type": "code",
   "execution_count": 142,
   "id": "07ad8bed",
   "metadata": {},
   "outputs": [
    {
     "data": {
      "text/plain": [
       "array([2, 2, 2, ..., 2, 2, 2])"
      ]
     },
     "execution_count": 142,
     "metadata": {},
     "output_type": "execute_result"
    }
   ],
   "source": [
    "s_2[result]"
   ]
  },
  {
   "cell_type": "code",
   "execution_count": 143,
   "id": "96afd6d9",
   "metadata": {},
   "outputs": [
    {
     "data": {
      "text/plain": [
       "array([4, 3, 4, ..., 4, 3, 4])"
      ]
     },
     "execution_count": 143,
     "metadata": {},
     "output_type": "execute_result"
    }
   ],
   "source": [
    "s_3[result]"
   ]
  },
  {
   "cell_type": "code",
   "execution_count": 144,
   "id": "8498ff1d",
   "metadata": {},
   "outputs": [
    {
     "data": {
      "text/plain": [
       "array([2, 5, 3, 3, 3, 2, 5, 3, 4, 5])"
      ]
     },
     "execution_count": 144,
     "metadata": {},
     "output_type": "execute_result"
    }
   ],
   "source": [
    "s_1[:10]"
   ]
  },
  {
   "cell_type": "code",
   "execution_count": 145,
   "id": "bcd5dcd9",
   "metadata": {},
   "outputs": [
    {
     "data": {
      "text/plain": [
       "<AxesSubplot:>"
      ]
     },
     "execution_count": 145,
     "metadata": {},
     "output_type": "execute_result"
    },
    {
     "data": {
      "image/png": "[encoded data removed]",
      "text/plain": [
       "<Figure size 432x288 with 1 Axes>"
      ]
     },
     "metadata": {
      "needs_background": "light"
     },
     "output_type": "display_data"
    }
   ],
   "source": [
    "pd.Series(s_1[result]).hist()"
   ]
  },
  {
   "cell_type": "code",
   "execution_count": 146,
   "id": "54e61937",
   "metadata": {},
   "outputs": [
    {
     "data": {
      "text/plain": [
       "<AxesSubplot:>"
      ]
     },
     "execution_count": 146,
     "metadata": {},
     "output_type": "execute_result"
    },
    {
     "data": {
      "image/png": "[encoded data removed]",
      "text/plain": [
       "<Figure size 432x288 with 1 Axes>"
      ]
     },
     "metadata": {
      "needs_background": "light"
     },
     "output_type": "display_data"
    }
   ],
   "source": [
    "pd.Series(s_2[result]).hist()"
   ]
  },
  {
   "cell_type": "code",
   "execution_count": 147,
   "id": "84256835",
   "metadata": {},
   "outputs": [
    {
     "data": {
      "text/plain": [
       "<AxesSubplot:>"
      ]
     },
     "execution_count": 147,
     "metadata": {},
     "output_type": "execute_result"
    },
    {
     "data": {
      "image/png": "[encoded data removed]",
      "text/plain": [
       "<Figure size 432x288 with 1 Axes>"
      ]
     },
     "metadata": {
      "needs_background": "light"
     },
     "output_type": "display_data"
    }
   ],
   "source": [
    "pd.Series(s_3[result]).hist()"
   ]
  },
  {
   "cell_type": "code",
   "execution_count": 125,
   "id": "74f68d1a",
   "metadata": {},
   "outputs": [
    {
     "data": {
      "text/plain": [
       "9792852"
      ]
     },
     "execution_count": 125,
     "metadata": {},
     "output_type": "execute_result"
    }
   ],
   "source": [
    "(s_3[result] == 4).sum()"
   ]
  },
  {
   "cell_type": "code",
   "execution_count": 126,
   "id": "244079fe",
   "metadata": {},
   "outputs": [
    {
     "data": {
      "text/plain": [
       "10000000"
      ]
     },
     "execution_count": 126,
     "metadata": {},
     "output_type": "execute_result"
    }
   ],
   "source": [
    "len(s_3[result])"
   ]
  },
  {
   "cell_type": "code",
   "execution_count": null,
   "id": "2def6953",
   "metadata": {},
   "outputs": [],
   "source": []
  }
 ],
 "metadata": {
  "kernelspec": {
   "display_name": "Python 3",
   "language": "python",
   "name": "python3"
  },
  "language_info": {
   "codemirror_mode": {
    "name": "ipython",
    "version": 3
   },
   "file_extension": ".py",
   "mimetype": "text/x-python",
   "name": "python",
   "nbconvert_exporter": "python",
   "pygments_lexer": "ipython3",
   "version": "3.8.10"
  },
  "toc": {
   "base_numbering": 1,
   "colors": {
    "hover_highlight": "#DAA520",
    "navigate_num": "#000000",
    "navigate_text": "#333333",
    "running_highlight": "#FF0000",
    "selected_highlight": "#FFD700",
    "sidebar_border": "#EEEEEE",
    "wrapper_background": "#FFFFFF"
   },
   "moveMenuLeft": true,
   "nav_menu": {
    "height": "48.69565200805664px",
    "width": "253.478271484375px"
   },
   "navigate_menu": true,
   "number_sections": true,
   "sideBar": true,
   "skip_h1_title": false,
   "threshold": "5",
   "title_cell": "Table of Contents",
   "title_sidebar": "Contents",
   "toc_cell": true,
   "toc_position": {},
   "toc_section_display": "block",
   "toc_window_display": true,
   "widenNotebook": false
  }
 },
 "nbformat": 4,
 "nbformat_minor": 5
}
