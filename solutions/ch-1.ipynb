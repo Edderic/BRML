{
 "cells": [
  {
   "cell_type": "markdown",
   "id": "e6c904d5",
   "metadata": {
    "toc": "true"
   },
   "source": [
    "# Table of Contents\n",
    " <p><div class=\"lev1 toc-item\"><a href=\"#Chapter-1\" data-toc-modified-id=\"Chapter-1-1\"><span class=\"toc-item-num\">1&nbsp;&nbsp;</span>Chapter 1</a></div><div class=\"lev2 toc-item\"><a href=\"#Ex-1.1\" data-toc-modified-id=\"Ex-1.1-11\"><span class=\"toc-item-num\">1.1&nbsp;&nbsp;</span>Ex 1.1</a></div><div class=\"lev2 toc-item\"><a href=\"#Ans-1.1\" data-toc-modified-id=\"Ans-1.1-12\"><span class=\"toc-item-num\">1.2&nbsp;&nbsp;</span>Ans 1.1</a></div><div class=\"lev1 toc-item\"><a href=\"#Ex-1.2\" data-toc-modified-id=\"Ex-1.2-2\"><span class=\"toc-item-num\">2&nbsp;&nbsp;</span>Ex 1.2</a></div><div class=\"lev2 toc-item\"><a href=\"#Ex-1.3\" data-toc-modified-id=\"Ex-1.3-21\"><span class=\"toc-item-num\">2.1&nbsp;&nbsp;</span>Ex 1.3</a></div>"
   ]
  },
  {
   "cell_type": "markdown",
   "id": "70685eef",
   "metadata": {},
   "source": [
    "# Chapter 1"
   ]
  },
  {
   "cell_type": "markdown",
   "id": "16000c78",
   "metadata": {},
   "source": [
    "## Ex 1.1\n",
    "\n",
    "Prove \n",
    "\n",
    "$\n",
    "p(x,y \\mid z) = p(x \\mid z)p(y \\mid x,z)\n",
    "$\n",
    "\n",
    "and also\n",
    "\n",
    "$\n",
    "p(x \\mid y,z) = \\frac{p(y \\mid x, z)p(x \\mid z)}{p(y \\mid z)}\n",
    "$"
   ]
  },
  {
   "cell_type": "markdown",
   "id": "3aee6eb3",
   "metadata": {},
   "source": [
    "## Ans 1.1\n",
    "\n",
    "$$\n",
    "\\begin{equation}\n",
    "\\begin{aligned}\n",
    "p(x,y \\mid z) &= p(x \\mid z)p(y \\mid x,z) \\\\\n",
    "  &= \\frac{p(x,z)}{p(z)} \\cdot \\frac{p(y,x,z)}{p(x,z)} \\\\\n",
    "  &= \\frac{p(y,x,z)}{p(z)} \\\\\n",
    "  &= p(y,x \\mid z)\n",
    "\\end{aligned}\n",
    "\\end{equation}\n",
    "$$\n"
   ]
  },
  {
   "cell_type": "markdown",
   "id": "6ff492c5",
   "metadata": {},
   "source": [
    "\n",
    "$$\n",
    "\\begin{equation}\n",
    "\\begin{aligned}\n",
    "p(x \\mid y,z) &= \\frac{p(y \\mid x, z)p(x \\mid z)}{p(y \\mid z)} \\\\ \n",
    "  &= \\frac{ \\frac{p(y, x, z)}{p(x,z)} \\cdot \\frac{p(x, z)}{p(z)} }{\\frac{p(y, z)}{p(z)}} \\\\ \n",
    "  &= \\frac{\\frac{p(y, x, z)}{p(z)}}{\\frac{p(y, z)}{p(z)}} \\\\ \n",
    "  &= \\frac{p(y,x,z)}{p(y,z)} \\\\ \n",
    "  &= p(x \\mid y,z)\n",
    "\\end{aligned}\n",
    "\\end{equation}\n",
    "$$\n"
   ]
  },
  {
   "cell_type": "markdown",
   "id": "c79b8591",
   "metadata": {},
   "source": [
    "# Ex 1.2 \n",
    "\n",
    "Prove the Bonferroni inequality.\n",
    "$\n",
    "p(a,b) \\geq p(a) + p(b) - 1\n",
    "$"
   ]
  },
  {
   "cell_type": "markdown",
   "id": "fef08c5e",
   "metadata": {},
   "source": [
    "<img src='img/prove-bonferroni-ineq.jpg'>"
   ]
  },
  {
   "cell_type": "markdown",
   "id": "2a8afbef",
   "metadata": {},
   "source": [
    "## Ex 1.3\n",
    "\n",
    "There are two boxes. Box 1 contains three red and five white balls and box 2 contains two red and five white balls. A box is chosen at random $p(box=1)=p(box=2) = 0.5$ and a ball chosen at random from this box turns out to be red. What is the posterior probability that the red ball came from box 1?"
   ]
  },
  {
   "cell_type": "markdown",
   "id": "964ed1ab",
   "metadata": {},
   "source": [
    "\n",
    "$$\n",
    "\\begin{equation}\n",
    "\\begin{aligned}\n",
    "p(box = 1 \\mid ball = r) &= \\frac{p(ball = r \\mid box = 1)p(box = 1)}{p(ball=r)} \\\\\n",
    "&= \\frac{p(ball = r \\mid box = 1) \\cdot p(box = 1)}{p(ball = r \\mid box = 1) \\cdot p(box = 1) + p(ball = r \\mid box = 2) \\cdot p(box = 2)} \\\\\n",
    "&= \\frac{\\frac{3}{8} \\cdot \\frac{1}{2}}{\\frac{3}{8} \\cdot \\frac{1}{2} + \\frac{2}{7} \\cdot \\frac{1}{2}} \\\\\n",
    "&= \\frac{\\frac{3}{8}}{\\frac{21 + 16}{56}} \\\\\n",
    "&= \\frac{\\frac{3}{1}}{\\frac{37}{7}} \\\\\n",
    "&= \\frac{21}{37}\n",
    "\\end{aligned}\n",
    "\\end{equation}\n",
    "$$\n"
   ]
  },
  {
   "cell_type": "code",
   "execution_count": null,
   "id": "e3d1a8ad",
   "metadata": {},
   "outputs": [],
   "source": []
  }
 ],
 "metadata": {
  "kernelspec": {
   "display_name": "Python 3",
   "language": "python",
   "name": "python3"
  },
  "language_info": {
   "codemirror_mode": {
    "name": "ipython",
    "version": 3
   },
   "file_extension": ".py",
   "mimetype": "text/x-python",
   "name": "python",
   "nbconvert_exporter": "python",
   "pygments_lexer": "ipython3",
   "version": "3.8.10"
  },
  "toc": {
   "colors": {
    "hover_highlight": "#DAA520",
    "navigate_num": "#000000",
    "navigate_text": "#333333",
    "running_highlight": "#FF0000",
    "selected_highlight": "#FFD700",
    "sidebar_border": "#EEEEEE",
    "wrapper_background": "#FFFFFF"
   },
   "moveMenuLeft": true,
   "nav_menu": {
    "height": "93.9333px",
    "width": "253.8px"
   },
   "navigate_menu": true,
   "number_sections": true,
   "sideBar": true,
   "threshold": "5",
   "toc_cell": true,
   "toc_section_display": "block",
   "toc_window_display": true,
   "widenNotebook": false
  }
 },
 "nbformat": 4,
 "nbformat_minor": 5
}
