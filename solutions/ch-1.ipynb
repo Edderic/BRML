{
 "cells": [
  {
   "cell_type": "markdown",
   "id": "e6c904d5",
   "metadata": {
    "toc": "true"
   },
   "source": [
    "# Table of Contents\n",
    " <p><div class=\"lev1 toc-item\"><a href=\"#Chapter-1\" data-toc-modified-id=\"Chapter-1-1\"><span class=\"toc-item-num\">1&nbsp;&nbsp;</span>Chapter 1</a></div><div class=\"lev2 toc-item\"><a href=\"#Ex-1.1\" data-toc-modified-id=\"Ex-1.1-11\"><span class=\"toc-item-num\">1.1&nbsp;&nbsp;</span>Ex 1.1</a></div><div class=\"lev2 toc-item\"><a href=\"#Ans-1.1\" data-toc-modified-id=\"Ans-1.1-12\"><span class=\"toc-item-num\">1.2&nbsp;&nbsp;</span>Ans 1.1</a></div><div class=\"lev2 toc-item\"><a href=\"#Ex-1.2\" data-toc-modified-id=\"Ex-1.2-13\"><span class=\"toc-item-num\">1.3&nbsp;&nbsp;</span>Ex 1.2</a></div><div class=\"lev3 toc-item\"><a href=\"#Ans\" data-toc-modified-id=\"Ans-131\"><span class=\"toc-item-num\">1.3.1&nbsp;&nbsp;</span>Ans</a></div><div class=\"lev2 toc-item\"><a href=\"#Ex-1.3\" data-toc-modified-id=\"Ex-1.3-14\"><span class=\"toc-item-num\">1.4&nbsp;&nbsp;</span>Ex 1.3</a></div><div class=\"lev3 toc-item\"><a href=\"#Ans\" data-toc-modified-id=\"Ans-141\"><span class=\"toc-item-num\">1.4.1&nbsp;&nbsp;</span>Ans</a></div><div class=\"lev2 toc-item\"><a href=\"#Ex-1.4\" data-toc-modified-id=\"Ex-1.4-15\"><span class=\"toc-item-num\">1.5&nbsp;&nbsp;</span>Ex 1.4</a></div><div class=\"lev3 toc-item\"><a href=\"#Ans\" data-toc-modified-id=\"Ans-151\"><span class=\"toc-item-num\">1.5.1&nbsp;&nbsp;</span>Ans</a></div><div class=\"lev2 toc-item\"><a href=\"#Ex-1.5\" data-toc-modified-id=\"Ex-1.5-16\"><span class=\"toc-item-num\">1.6&nbsp;&nbsp;</span>Ex 1.5</a></div><div class=\"lev3 toc-item\"><a href=\"#Ans\" data-toc-modified-id=\"Ans-161\"><span class=\"toc-item-num\">1.6.1&nbsp;&nbsp;</span>Ans</a></div><div class=\"lev2 toc-item\"><a href=\"#Ex-1.6\" data-toc-modified-id=\"Ex-1.6-17\"><span class=\"toc-item-num\">1.7&nbsp;&nbsp;</span>Ex 1.6</a></div><div class=\"lev3 toc-item\"><a href=\"#Ans\" data-toc-modified-id=\"Ans-171\"><span class=\"toc-item-num\">1.7.1&nbsp;&nbsp;</span>Ans</a></div><div class=\"lev2 toc-item\"><a href=\"#Ex-1.7.\" data-toc-modified-id=\"Ex-1.7.-18\"><span class=\"toc-item-num\">1.8&nbsp;&nbsp;</span>Ex 1.7.</a></div><div class=\"lev3 toc-item\"><a href=\"#Ans\" data-toc-modified-id=\"Ans-181\"><span class=\"toc-item-num\">1.8.1&nbsp;&nbsp;</span>Ans</a></div><div class=\"lev2 toc-item\"><a href=\"#Ex-1.8\" data-toc-modified-id=\"Ex-1.8-19\"><span class=\"toc-item-num\">1.9&nbsp;&nbsp;</span>Ex 1.8</a></div><div class=\"lev3 toc-item\"><a href=\"#Ans\" data-toc-modified-id=\"Ans-191\"><span class=\"toc-item-num\">1.9.1&nbsp;&nbsp;</span>Ans</a></div><div class=\"lev2 toc-item\"><a href=\"#Ex-1.9\" data-toc-modified-id=\"Ex-1.9-110\"><span class=\"toc-item-num\">1.10&nbsp;&nbsp;</span>Ex 1.9</a></div><div class=\"lev3 toc-item\"><a href=\"#Ans\" data-toc-modified-id=\"Ans-1101\"><span class=\"toc-item-num\">1.10.1&nbsp;&nbsp;</span>Ans</a></div><div class=\"lev2 toc-item\"><a href=\"#Ex-1.10\" data-toc-modified-id=\"Ex-1.10-111\"><span class=\"toc-item-num\">1.11&nbsp;&nbsp;</span>Ex 1.10</a></div><div class=\"lev3 toc-item\"><a href=\"#Ans\" data-toc-modified-id=\"Ans-1111\"><span class=\"toc-item-num\">1.11.1&nbsp;&nbsp;</span>Ans</a></div><div class=\"lev2 toc-item\"><a href=\"#Ex-1.11\" data-toc-modified-id=\"Ex-1.11-112\"><span class=\"toc-item-num\">1.12&nbsp;&nbsp;</span>Ex 1.11</a></div><div class=\"lev2 toc-item\"><a href=\"#Ex-1.12\" data-toc-modified-id=\"Ex-1.12-113\"><span class=\"toc-item-num\">1.13&nbsp;&nbsp;</span>Ex 1.12</a></div><div class=\"lev3 toc-item\"><a href=\"#Ans\" data-toc-modified-id=\"Ans-1131\"><span class=\"toc-item-num\">1.13.1&nbsp;&nbsp;</span>Ans</a></div><div class=\"lev4 toc-item\"><a href=\"#Part-I\" data-toc-modified-id=\"Part-I-11311\"><span class=\"toc-item-num\">1.13.1.1&nbsp;&nbsp;</span>Part I</a></div><div class=\"lev4 toc-item\"><a href=\"#Part-II\" data-toc-modified-id=\"Part-II-11312\"><span class=\"toc-item-num\">1.13.1.2&nbsp;&nbsp;</span>Part II</a></div><div class=\"lev2 toc-item\"><a href=\"#Ex-1.13\" data-toc-modified-id=\"Ex-1.13-114\"><span class=\"toc-item-num\">1.14&nbsp;&nbsp;</span>Ex 1.13</a></div><div class=\"lev3 toc-item\"><a href=\"#Ans\" data-toc-modified-id=\"Ans-1141\"><span class=\"toc-item-num\">1.14.1&nbsp;&nbsp;</span>Ans</a></div><div class=\"lev4 toc-item\"><a href=\"#Ancestral-Sampling\" data-toc-modified-id=\"Ancestral-Sampling-11411\"><span class=\"toc-item-num\">1.14.1.1&nbsp;&nbsp;</span>Ancestral Sampling</a></div><div class=\"lev4 toc-item\"><a href=\"#Through-Pandas\" data-toc-modified-id=\"Through-Pandas-11412\"><span class=\"toc-item-num\">1.14.1.2&nbsp;&nbsp;</span>Through Pandas</a></div><div class=\"lev2 toc-item\"><a href=\"#Ex-1.14\" data-toc-modified-id=\"Ex-1.14-115\"><span class=\"toc-item-num\">1.15&nbsp;&nbsp;</span>Ex 1.14</a></div><div class=\"lev3 toc-item\"><a href=\"#Ans\" data-toc-modified-id=\"Ans-1151\"><span class=\"toc-item-num\">1.15.1&nbsp;&nbsp;</span>Ans</a></div><div class=\"lev2 toc-item\"><a href=\"#Ex-1.15\" data-toc-modified-id=\"Ex-1.15-116\"><span class=\"toc-item-num\">1.16&nbsp;&nbsp;</span>Ex 1.15</a></div><div class=\"lev2 toc-item\"><a href=\"#Ex-1.16\" data-toc-modified-id=\"Ex-1.16-117\"><span class=\"toc-item-num\">1.17&nbsp;&nbsp;</span>Ex 1.16</a></div><div class=\"lev3 toc-item\"><a href=\"#Ans\" data-toc-modified-id=\"Ans-1171\"><span class=\"toc-item-num\">1.17.1&nbsp;&nbsp;</span>Ans</a></div><div class=\"lev3 toc-item\"><a href=\"#Ans\" data-toc-modified-id=\"Ans-1172\"><span class=\"toc-item-num\">1.17.2&nbsp;&nbsp;</span>Ans</a></div><div class=\"lev2 toc-item\"><a href=\"#Ex-1.17\" data-toc-modified-id=\"Ex-1.17-118\"><span class=\"toc-item-num\">1.18&nbsp;&nbsp;</span>Ex 1.17</a></div><div class=\"lev3 toc-item\"><a href=\"#1.\" data-toc-modified-id=\"1.-1181\"><span class=\"toc-item-num\">1.18.1&nbsp;&nbsp;</span>1.</a></div><div class=\"lev3 toc-item\"><a href=\"#2.\" data-toc-modified-id=\"2.-1182\"><span class=\"toc-item-num\">1.18.2&nbsp;&nbsp;</span>2.</a></div><div class=\"lev2 toc-item\"><a href=\"#Ex-1.18\" data-toc-modified-id=\"Ex-1.18-119\"><span class=\"toc-item-num\">1.19&nbsp;&nbsp;</span>Ex 1.18</a></div><div class=\"lev3 toc-item\"><a href=\"#Ans\" data-toc-modified-id=\"Ans-1191\"><span class=\"toc-item-num\">1.19.1&nbsp;&nbsp;</span>Ans</a></div><div class=\"lev2 toc-item\"><a href=\"#Ex-1.19\" data-toc-modified-id=\"Ex-1.19-120\"><span class=\"toc-item-num\">1.20&nbsp;&nbsp;</span>Ex 1.19</a></div><div class=\"lev3 toc-item\"><a href=\"#Part-I\" data-toc-modified-id=\"Part-I-1201\"><span class=\"toc-item-num\">1.20.1&nbsp;&nbsp;</span>Part I</a></div><div class=\"lev4 toc-item\"><a href=\"#Ans\" data-toc-modified-id=\"Ans-12011\"><span class=\"toc-item-num\">1.20.1.1&nbsp;&nbsp;</span>Ans</a></div><div class=\"lev3 toc-item\"><a href=\"#Part-II\" data-toc-modified-id=\"Part-II-1202\"><span class=\"toc-item-num\">1.20.2&nbsp;&nbsp;</span>Part II</a></div><div class=\"lev3 toc-item\"><a href=\"#Part-III\" data-toc-modified-id=\"Part-III-1203\"><span class=\"toc-item-num\">1.20.3&nbsp;&nbsp;</span>Part III</a></div><div class=\"lev4 toc-item\"><a href=\"#Ans\" data-toc-modified-id=\"Ans-12031\"><span class=\"toc-item-num\">1.20.3.1&nbsp;&nbsp;</span>Ans</a></div><div class=\"lev2 toc-item\"><a href=\"#Ex-1.20\" data-toc-modified-id=\"Ex-1.20-121\"><span class=\"toc-item-num\">1.21&nbsp;&nbsp;</span>Ex 1.20</a></div><div class=\"lev2 toc-item\"><a href=\"#Ex-1.21\" data-toc-modified-id=\"Ex-1.21-122\"><span class=\"toc-item-num\">1.22&nbsp;&nbsp;</span>Ex 1.21</a></div><div class=\"lev2 toc-item\"><a href=\"#Ex-1.22\" data-toc-modified-id=\"Ex-1.22-123\"><span class=\"toc-item-num\">1.23&nbsp;&nbsp;</span>Ex 1.22</a></div>"
   ]
  },
  {
   "cell_type": "markdown",
   "id": "70685eef",
   "metadata": {},
   "source": [
    "# Chapter 1"
   ]
  },
  {
   "cell_type": "markdown",
   "id": "16000c78",
   "metadata": {},
   "source": [
    "## Ex 1.1\n",
    "\n",
    "Prove \n",
    "\n",
    "$\n",
    "p(x,y \\mid z) = p(x \\mid z)p(y \\mid x,z)\n",
    "$\n",
    "\n",
    "and also\n",
    "\n",
    "$\n",
    "p(x \\mid y,z) = \\frac{p(y \\mid x, z)p(x \\mid z)}{p(y \\mid z)}\n",
    "$"
   ]
  },
  {
   "cell_type": "markdown",
   "id": "3aee6eb3",
   "metadata": {},
   "source": [
    "## Ans 1.1\n",
    "\n",
    "$$\n",
    "\\begin{equation}\n",
    "\\begin{aligned}\n",
    "p(x,y \\mid z) &= p(x \\mid z)p(y \\mid x,z) \\\\\n",
    "  &= \\frac{p(x,z)}{p(z)} \\cdot \\frac{p(y,x,z)}{p(x,z)} \\\\\n",
    "  &= \\frac{p(y,x,z)}{p(z)} \\\\\n",
    "  &= p(y,x \\mid z)\n",
    "\\end{aligned}\n",
    "\\end{equation}\n",
    "$$\n"
   ]
  },
  {
   "cell_type": "markdown",
   "id": "6ff492c5",
   "metadata": {},
   "source": [
    "\n",
    "$$\n",
    "\\begin{equation}\n",
    "\\begin{aligned}\n",
    "p(x \\mid y,z) &= \\frac{p(y \\mid x, z)p(x \\mid z)}{p(y \\mid z)} \\\\ \n",
    "  &= \\frac{ \\frac{p(y, x, z)}{p(x,z)} \\cdot \\frac{p(x, z)}{p(z)} }{\\frac{p(y, z)}{p(z)}} \\\\ \n",
    "  &= \\frac{\\frac{p(y, x, z)}{p(z)}}{\\frac{p(y, z)}{p(z)}} \\\\ \n",
    "  &= \\frac{p(y,x,z)}{p(y,z)} \\\\ \n",
    "  &= p(x \\mid y,z)\n",
    "\\end{aligned}\n",
    "\\end{equation}\n",
    "$$\n"
   ]
  },
  {
   "cell_type": "markdown",
   "id": "c79b8591",
   "metadata": {},
   "source": [
    "## Ex 1.2 \n",
    "\n",
    "Prove the Bonferroni inequality.\n",
    "$\n",
    "p(a,b) \\geq p(a) + p(b) - 1\n",
    "$"
   ]
  },
  {
   "cell_type": "markdown",
   "id": "fef08c5e",
   "metadata": {},
   "source": [
    "### Ans\n",
    "<img src='img/prove-bonferroni-ineq.jpg'>"
   ]
  },
  {
   "cell_type": "markdown",
   "id": "2a8afbef",
   "metadata": {},
   "source": [
    "## Ex 1.3\n",
    "\n",
    "There are two boxes. Box 1 contains three red and five white balls and box 2 contains two red and five white balls. A box is chosen at random $p(box=1)=p(box=2) = 0.5$ and a ball chosen at random from this box turns out to be red. What is the posterior probability that the red ball came from box 1?"
   ]
  },
  {
   "cell_type": "markdown",
   "id": "964ed1ab",
   "metadata": {},
   "source": [
    "### Ans\n",
    "\n",
    "$$\n",
    "\\begin{equation}\n",
    "\\begin{aligned}\n",
    "p(box = 1 \\mid ball = r) &= \\frac{p(ball = r \\mid box = 1) \\cdot p(box = 1)}{p(ball=r)} \\\\\n",
    "&= \\frac{p(ball = r \\mid box = 1) \\cdot p(box = 1)}{p(ball = r \\mid box = 1) \\cdot p(box = 1) + p(ball = r \\mid box = 2) \\cdot p(box = 2)} \\\\\n",
    "&= \\frac{\\frac{3}{8} \\cdot \\frac{1}{2}}{\\frac{3}{8} \\cdot \\frac{1}{2} + \\frac{2}{7} \\cdot \\frac{1}{2}} \\\\\n",
    "&= \\frac{\\frac{3}{8}}{\\frac{21 + 16}{56}} \\\\\n",
    "&= \\frac{\\frac{3}{1}}{\\frac{37}{7}} \\\\\n",
    "&= \\frac{21}{37}\n",
    "\\end{aligned}\n",
    "\\end{equation}\n",
    "$$\n"
   ]
  },
  {
   "cell_type": "markdown",
   "id": "16bbeef3",
   "metadata": {},
   "source": [
    "## Ex 1.4\n",
    "\n",
    "Two balls are placed in a box as follows: A fair coin is tossed and a white ball is placed in the box if a head occurs, otherwise a red ball is placed in the box. The coin is tossed again and a red ball is placed in the box if a tail occurs, otherwise a white ball is placed in the box. Balls are drawn from the box three times in succession (always with replacing the drawn ball in the box). It is found that on all three occasions a red ball is drawn. What is the probability that both balls in the box are red?"
   ]
  },
  {
   "cell_type": "markdown",
   "id": "55afd4b0",
   "metadata": {},
   "source": [
    "### Ans"
   ]
  },
  {
   "cell_type": "code",
   "execution_count": 1,
   "id": "61804a57",
   "metadata": {},
   "outputs": [
    {
     "data": {
      "image/svg+xml": [
       "<?xml version=\"1.0\" encoding=\"UTF-8\" standalone=\"no\"?>\n",
       "<!DOCTYPE svg PUBLIC \"-//W3C//DTD SVG 1.1//EN\"\n",
       " \"http://www.w3.org/Graphics/SVG/1.1/DTD/svg11.dtd\">\n",
       "<!-- Generated by graphviz version 2.47.0 (0)\n",
       " -->\n",
       "<!-- Title: Ex 1.4 Pages: 1 -->\n",
       "<svg width=\"413pt\" height=\"188pt\"\n",
       " viewBox=\"0.00 0.00 413.49 188.00\" xmlns=\"http://www.w3.org/2000/svg\" xmlns:xlink=\"http://www.w3.org/1999/xlink\">\n",
       "<g id=\"graph0\" class=\"graph\" transform=\"scale(1 1) rotate(0) translate(4 184)\">\n",
       "<title>Ex 1.4</title>\n",
       "<polygon fill=\"white\" stroke=\"transparent\" points=\"-4,4 -4,-184 409.49,-184 409.49,4 -4,4\"/>\n",
       "<!-- Coin 1 -->\n",
       "<g id=\"node1\" class=\"node\">\n",
       "<title>Coin 1</title>\n",
       "<ellipse fill=\"none\" stroke=\"black\" cx=\"158.74\" cy=\"-162\" rx=\"35.19\" ry=\"18\"/>\n",
       "<text text-anchor=\"middle\" x=\"158.74\" y=\"-158.3\" font-family=\"Times,serif\" font-size=\"14.00\">Coin 1</text>\n",
       "</g>\n",
       "<!-- Ball 1 -->\n",
       "<g id=\"node2\" class=\"node\">\n",
       "<title>Ball 1</title>\n",
       "<ellipse fill=\"none\" stroke=\"black\" cx=\"160.74\" cy=\"-90\" rx=\"32.49\" ry=\"18\"/>\n",
       "<text text-anchor=\"middle\" x=\"160.74\" y=\"-86.3\" font-family=\"Times,serif\" font-size=\"14.00\">Ball 1</text>\n",
       "</g>\n",
       "<!-- Coin 1&#45;&gt;Ball 1 -->\n",
       "<g id=\"edge1\" class=\"edge\">\n",
       "<title>Coin 1&#45;&gt;Ball 1</title>\n",
       "<path fill=\"none\" stroke=\"black\" d=\"M159.24,-143.7C159.46,-135.98 159.72,-126.71 159.97,-118.11\"/>\n",
       "<polygon fill=\"black\" stroke=\"black\" points=\"163.47,-118.2 160.26,-108.1 156.47,-118 163.47,-118.2\"/>\n",
       "</g>\n",
       "<!-- Sample 1=red -->\n",
       "<g id=\"node5\" class=\"node\">\n",
       "<title>Sample 1=red</title>\n",
       "<ellipse fill=\"none\" stroke=\"black\" cx=\"61.74\" cy=\"-18\" rx=\"61.99\" ry=\"18\"/>\n",
       "<text text-anchor=\"middle\" x=\"61.74\" y=\"-14.3\" font-family=\"Times,serif\" font-size=\"14.00\">Sample 1=red</text>\n",
       "</g>\n",
       "<!-- Ball 1&#45;&gt;Sample 1=red -->\n",
       "<g id=\"edge3\" class=\"edge\">\n",
       "<title>Ball 1&#45;&gt;Sample 1=red</title>\n",
       "<path fill=\"none\" stroke=\"black\" d=\"M141.19,-75.17C127.4,-65.42 108.64,-52.16 92.82,-40.97\"/>\n",
       "<polygon fill=\"black\" stroke=\"black\" points=\"94.57,-37.92 84.38,-35.01 90.53,-43.64 94.57,-37.92\"/>\n",
       "</g>\n",
       "<!-- Sample 2=red -->\n",
       "<g id=\"node6\" class=\"node\">\n",
       "<title>Sample 2=red</title>\n",
       "<ellipse fill=\"none\" stroke=\"black\" cx=\"202.74\" cy=\"-18\" rx=\"61.99\" ry=\"18\"/>\n",
       "<text text-anchor=\"middle\" x=\"202.74\" y=\"-14.3\" font-family=\"Times,serif\" font-size=\"14.00\">Sample 2=red</text>\n",
       "</g>\n",
       "<!-- Ball 1&#45;&gt;Sample 2=red -->\n",
       "<g id=\"edge5\" class=\"edge\">\n",
       "<title>Ball 1&#45;&gt;Sample 2=red</title>\n",
       "<path fill=\"none\" stroke=\"black\" d=\"M170.49,-72.76C175.48,-64.44 181.68,-54.1 187.31,-44.73\"/>\n",
       "<polygon fill=\"black\" stroke=\"black\" points=\"190.33,-46.5 192.47,-36.12 184.32,-42.9 190.33,-46.5\"/>\n",
       "</g>\n",
       "<!-- Sample 3=red -->\n",
       "<g id=\"node7\" class=\"node\">\n",
       "<title>Sample 3=red</title>\n",
       "<ellipse fill=\"none\" stroke=\"black\" cx=\"343.74\" cy=\"-18\" rx=\"61.99\" ry=\"18\"/>\n",
       "<text text-anchor=\"middle\" x=\"343.74\" y=\"-14.3\" font-family=\"Times,serif\" font-size=\"14.00\">Sample 3=red</text>\n",
       "</g>\n",
       "<!-- Ball 1&#45;&gt;Sample 3=red -->\n",
       "<g id=\"edge7\" class=\"edge\">\n",
       "<title>Ball 1&#45;&gt;Sample 3=red</title>\n",
       "<path fill=\"none\" stroke=\"black\" d=\"M186.64,-78.69C192.27,-76.47 198.2,-74.14 203.74,-72 235.05,-59.89 270.39,-46.51 297.74,-36.22\"/>\n",
       "<polygon fill=\"black\" stroke=\"black\" points=\"299.3,-39.38 307.43,-32.58 296.84,-32.82 299.3,-39.38\"/>\n",
       "</g>\n",
       "<!-- Coin 2 -->\n",
       "<g id=\"node3\" class=\"node\">\n",
       "<title>Coin 2</title>\n",
       "<ellipse fill=\"none\" stroke=\"black\" cx=\"246.74\" cy=\"-162\" rx=\"35.19\" ry=\"18\"/>\n",
       "<text text-anchor=\"middle\" x=\"246.74\" y=\"-158.3\" font-family=\"Times,serif\" font-size=\"14.00\">Coin 2</text>\n",
       "</g>\n",
       "<!-- Ball 2 -->\n",
       "<g id=\"node4\" class=\"node\">\n",
       "<title>Ball 2</title>\n",
       "<ellipse fill=\"none\" stroke=\"black\" cx=\"244.74\" cy=\"-90\" rx=\"32.49\" ry=\"18\"/>\n",
       "<text text-anchor=\"middle\" x=\"244.74\" y=\"-86.3\" font-family=\"Times,serif\" font-size=\"14.00\">Ball 2</text>\n",
       "</g>\n",
       "<!-- Coin 2&#45;&gt;Ball 2 -->\n",
       "<g id=\"edge2\" class=\"edge\">\n",
       "<title>Coin 2&#45;&gt;Ball 2</title>\n",
       "<path fill=\"none\" stroke=\"black\" d=\"M246.25,-143.7C246.03,-135.98 245.76,-126.71 245.52,-118.11\"/>\n",
       "<polygon fill=\"black\" stroke=\"black\" points=\"249.02,-118 245.23,-108.1 242.02,-118.2 249.02,-118\"/>\n",
       "</g>\n",
       "<!-- Ball 2&#45;&gt;Sample 1=red -->\n",
       "<g id=\"edge4\" class=\"edge\">\n",
       "<title>Ball 2&#45;&gt;Sample 1=red</title>\n",
       "<path fill=\"none\" stroke=\"black\" d=\"M218.85,-78.69C213.21,-76.47 207.28,-74.14 201.74,-72 170.44,-59.89 135.1,-46.51 107.75,-36.22\"/>\n",
       "<polygon fill=\"black\" stroke=\"black\" points=\"108.65,-32.82 98.06,-32.58 106.19,-39.38 108.65,-32.82\"/>\n",
       "</g>\n",
       "<!-- Ball 2&#45;&gt;Sample 2=red -->\n",
       "<g id=\"edge6\" class=\"edge\">\n",
       "<title>Ball 2&#45;&gt;Sample 2=red</title>\n",
       "<path fill=\"none\" stroke=\"black\" d=\"M235,-72.76C230.01,-64.44 223.81,-54.1 218.18,-44.73\"/>\n",
       "<polygon fill=\"black\" stroke=\"black\" points=\"221.17,-42.9 213.02,-36.12 215.16,-46.5 221.17,-42.9\"/>\n",
       "</g>\n",
       "<!-- Ball 2&#45;&gt;Sample 3=red -->\n",
       "<g id=\"edge8\" class=\"edge\">\n",
       "<title>Ball 2&#45;&gt;Sample 3=red</title>\n",
       "<path fill=\"none\" stroke=\"black\" d=\"M264.3,-75.17C278.09,-65.42 296.85,-52.16 312.67,-40.97\"/>\n",
       "<polygon fill=\"black\" stroke=\"black\" points=\"314.96,-43.64 321.11,-35.01 310.92,-37.92 314.96,-43.64\"/>\n",
       "</g>\n",
       "</g>\n",
       "</svg>\n"
      ],
      "text/plain": [
       "<graphviz.dot.Digraph at 0x109f33970>"
      ]
     },
     "execution_count": 1,
     "metadata": {},
     "output_type": "execute_result"
    }
   ],
   "source": [
    "from graphviz import Digraph\n",
    "dot = Digraph('Ex 1.4')\n",
    "dot.edge('Coin 1', 'Ball 1')\n",
    "dot.edge('Coin 2', 'Ball 2')\n",
    "dot.edge('Ball 1', 'Sample 1=red')\n",
    "dot.edge('Ball 2', 'Sample 1=red')\n",
    "dot.edge('Ball 1', 'Sample 2=red')\n",
    "dot.edge('Ball 2', 'Sample 2=red')\n",
    "dot.edge('Ball 1', 'Sample 3=red')\n",
    "dot.edge('Ball 2', 'Sample 3=red')\n",
    "dot"
   ]
  },
  {
   "cell_type": "markdown",
   "id": "4ebe637e",
   "metadata": {},
   "source": [
    "\n",
    "$$\n",
    " \\begin{equation}\n",
    "\\begin{aligned}\n",
    "P(B_1 = r, B_2 = r \\mid S_1 = r, S_2 = r, S_3 = r)\n",
    "&= \\frac{ P(S_1 = r, S_2 = r, S_3 = r \\mid B_1 = r, B_2 = r)\n",
    "  \\cdot P(B_1 = r, B_2 = r) }{ P(S_1=r, S_2=r, S_3=r)} \\\\\n",
    "&= \\frac{ P(S_1 = r \\mid B_1 = r, B_2 = r) \\cdot P(S_2 = r \\mid B_1 = r, B_2 = r) \\cdot P(S_3 = r \\mid B_1 = r, B_2 = r) \\cdot P(B_1 = r, B_2 = r) }{ P(S_1=r, S_2=r, S_3=r) } \n",
    "&\\text{Samples are independent from each other, given we know what the actual types of balls are.} \\\\\n",
    "&= \\frac{P(B_1=r, B_2=r)}{ P(S_1=r, S_2=r, S_3=r) } &\\text{If both balls are red, then each sample will certainly be red} \\\\\n",
    "&= \\frac{P(B_1=r)P(B_2=r)}{ P(S_1=r, S_2=r, S_3=r) } &\\text{$B_1$ is marginally independent from $B_2$.} \\\\\n",
    "&= \\frac{\\frac{1}{2} \\cdot \\frac{1}{2}}{ P(S_1=r, S_2=r, S_3=r) } &\\text{Ball type is determined by a fair coin flip.} \\\\\n",
    "&= \\frac{\\frac{1}{4}}{ P(S_1=r, S_2=r, S_3=r) } &\\text{Simplify} \\\\\n",
    "&= \\frac{\\frac{1}{4}}{ P(S_1 = r \\mid B_1 = r, B_2 = r) \\cdot P(S_2 = r \\mid B_1 = r, B_2 = r) \\cdot P(S_3 = r \\mid B_1 = r, B_2 = r) \\cdot P(B_1=r, B_2=r) \n",
    "+ 2 \\cdot P(S_1 = r \\mid B_1 = r, B_2 = w) \\cdot P(S_2 = r \\mid B_1 = r, B_2 = w) \\cdot P(S_3 = r \\mid B_1 = r, B_2 = w) \\cdot P(B_1=r, B_2=w) \n",
    "+ P(S_1 = r \\mid B_1 = w, B_2 = w) \\cdot P(S_2 = r \\mid B_1 = w, B_2 = w) \\cdot P(S_3 = r \\mid B_1 = w, B_2 = w) \\cdot P(B_1=w, B_2=w) \n",
    " } \\\\\n",
    "&= \\frac{\\frac{1}{4}}{ \\frac{1}{4}\n",
    "+ 2 \\cdot P(S_1 = r \\mid B_1 = r, B_2 = w) \\cdot P(S_2 = r \\mid B_1 = r, B_2 = w) \\cdot P(S_3 = r \\mid B_1 = r, B_2 = w) \\cdot P(B_1=r, B_2=w) \n",
    "+ P(S_1 = r \\mid B_1 = w, B_2 = w) \\cdot P(S_2 = r \\mid B_1 = w, B_2 = w) \\cdot P(S_3 = r \\mid B_1 = w, B_2 = w) \\cdot P(B_1=w, B_2=w) \n",
    " } &\\text{Same computation as before.}\\\\\n",
    "&= \\frac{\\frac{1}{4}}{ \\frac{1}{4}\n",
    "+ 2 \\cdot P(S_1 = r \\mid B_1 = r, B_2 = w) \\cdot P(S_2 = r \\mid B_1 = r, B_2 = w) \\cdot P(S_3 = r \\mid B_1 = r, B_2 = w) \\cdot P(B_1=r, B_2=w) \n",
    "+ 0\n",
    " } &\\text{Impossible to get a red sample when both balls are white.}\\\\\n",
    "&= \\frac{\\frac{1}{4}}{ \\frac{1}{4}\n",
    "+ 2 \\cdot \\frac{1}{2} \\cdot \\frac{1}{2} \\cdot \\frac{1}{2} \\cdot \\frac{1}{4}\n",
    "+ 0\n",
    " } &\\text{$50$% chance to sample a red ball when one is red and the other is white.} \\\\\n",
    "&= \\frac{\\frac{1}{4}}{\\frac{1}{4} + \\frac{1}{16}} \\\\\n",
    "&= \\frac{\\frac{1}{4}}{\\frac{5}{16}} \\\\\n",
    "&= \\frac{16}{4 \\cdot 5} \\\\\n",
    "&= \\frac{4}{5}\n",
    "\\end{aligned}\n",
    "\\end{equation}\n",
    "$$\n"
   ]
  },
  {
   "cell_type": "markdown",
   "id": "230a10a2",
   "metadata": {},
   "source": [
    "## Ex 1.5\n",
    "\n",
    "A secret agency has developed a scanner which determines a person is a terrorist. The scanner is fairly reliable; 95% of all scanned terrorists are identified as terrorists, and 95% of all upstanding citizens are identified as such. An informant tells the agency that exactly one passenger of 100 abroad an aeroplane in which you are seated is a terrorist. The police haul off the plane the first person for which the scanner tests positive. What is the probability that this person is a terrorist?"
   ]
  },
  {
   "cell_type": "markdown",
   "id": "2c1dc36b",
   "metadata": {},
   "source": [
    "### Ans\n",
    "\n",
    "Let $T_k \\in\\{0,1\\}$ describe whether or not person $k$ is a terrorist. Let $S_k \\in \\{0,1\\}$ describe the result of the scanner for person $k$, with 0 as a negative result and 1 as a positive result. Let $H_k \\in \\{0,1\\}$ describe the person $k$ having been hauled off. Similarly, let $H_{k-1}=0,...,H_1=0$ describe people $0,...,k-1$ not being hauled off."
   ]
  },
  {
   "cell_type": "code",
   "execution_count": 12,
   "id": "a0bed7c0",
   "metadata": {},
   "outputs": [
    {
     "data": {
      "image/svg+xml": [
       "<?xml version=\"1.0\" encoding=\"UTF-8\" standalone=\"no\"?>\n",
       "<!DOCTYPE svg PUBLIC \"-//W3C//DTD SVG 1.1//EN\"\n",
       " \"http://www.w3.org/Graphics/SVG/1.1/DTD/svg11.dtd\">\n",
       "<!-- Generated by graphviz version 2.47.0 (0)\n",
       " -->\n",
       "<!-- Title: Ex 1.5 Pages: 1 -->\n",
       "<svg width=\"256pt\" height=\"188pt\"\n",
       " viewBox=\"0.00 0.00 256.04 188.00\" xmlns=\"http://www.w3.org/2000/svg\" xmlns:xlink=\"http://www.w3.org/1999/xlink\">\n",
       "<g id=\"graph0\" class=\"graph\" transform=\"scale(1 1) rotate(0) translate(4 184)\">\n",
       "<title>Ex 1.5</title>\n",
       "<polygon fill=\"white\" stroke=\"transparent\" points=\"-4,4 -4,-184 252.04,-184 252.04,4 -4,4\"/>\n",
       "<!-- T_k -->\n",
       "<g id=\"node1\" class=\"node\">\n",
       "<title>T_k</title>\n",
       "<ellipse fill=\"none\" stroke=\"black\" cx=\"34.45\" cy=\"-162\" rx=\"27\" ry=\"18\"/>\n",
       "<text text-anchor=\"middle\" x=\"34.45\" y=\"-158.3\" font-family=\"Times,serif\" font-size=\"14.00\">T_k</text>\n",
       "</g>\n",
       "<!-- S_k=1 -->\n",
       "<g id=\"node2\" class=\"node\">\n",
       "<title>S_k=1</title>\n",
       "<ellipse fill=\"none\" stroke=\"black\" cx=\"34.45\" cy=\"-90\" rx=\"34.39\" ry=\"18\"/>\n",
       "<text text-anchor=\"middle\" x=\"34.45\" y=\"-86.3\" font-family=\"Times,serif\" font-size=\"14.00\">S_k=1</text>\n",
       "</g>\n",
       "<!-- T_k&#45;&gt;S_k=1 -->\n",
       "<g id=\"edge1\" class=\"edge\">\n",
       "<title>T_k&#45;&gt;S_k=1</title>\n",
       "<path fill=\"none\" stroke=\"black\" d=\"M34.45,-143.7C34.45,-135.98 34.45,-126.71 34.45,-118.11\"/>\n",
       "<polygon fill=\"black\" stroke=\"black\" points=\"37.95,-118.1 34.45,-108.1 30.95,-118.1 37.95,-118.1\"/>\n",
       "</g>\n",
       "<!-- H_k=1 -->\n",
       "<g id=\"node3\" class=\"node\">\n",
       "<title>H_k=1</title>\n",
       "<ellipse fill=\"none\" stroke=\"black\" cx=\"100.45\" cy=\"-18\" rx=\"36.29\" ry=\"18\"/>\n",
       "<text text-anchor=\"middle\" x=\"100.45\" y=\"-14.3\" font-family=\"Times,serif\" font-size=\"14.00\">H_k=1</text>\n",
       "</g>\n",
       "<!-- S_k=1&#45;&gt;H_k=1 -->\n",
       "<g id=\"edge2\" class=\"edge\">\n",
       "<title>S_k=1&#45;&gt;H_k=1</title>\n",
       "<path fill=\"none\" stroke=\"black\" d=\"M49.09,-73.46C57.81,-64.22 69.03,-52.32 78.76,-42\"/>\n",
       "<polygon fill=\"black\" stroke=\"black\" points=\"81.53,-44.17 85.84,-34.49 76.43,-39.37 81.53,-44.17\"/>\n",
       "</g>\n",
       "<!-- H_k&#45;1=0,...,H_1=0 -->\n",
       "<g id=\"node4\" class=\"node\">\n",
       "<title>H_k&#45;1=0,...,H_1=0</title>\n",
       "<ellipse fill=\"none\" stroke=\"black\" cx=\"167.45\" cy=\"-90\" rx=\"80.69\" ry=\"18\"/>\n",
       "<text text-anchor=\"middle\" x=\"167.45\" y=\"-86.3\" font-family=\"Times,serif\" font-size=\"14.00\">H_k&#45;1=0,...,H_1=0</text>\n",
       "</g>\n",
       "<!-- H_k&#45;1=0,...,H_1=0&#45;&gt;H_k=1 -->\n",
       "<g id=\"edge3\" class=\"edge\">\n",
       "<title>H_k&#45;1=0,...,H_1=0&#45;&gt;H_k=1</title>\n",
       "<path fill=\"none\" stroke=\"black\" d=\"M151.23,-72.05C142.67,-63.12 132.04,-52.01 122.73,-42.28\"/>\n",
       "<polygon fill=\"black\" stroke=\"black\" points=\"125.04,-39.63 115.6,-34.83 119.98,-44.47 125.04,-39.63\"/>\n",
       "</g>\n",
       "</g>\n",
       "</svg>\n"
      ],
      "text/plain": [
       "<graphviz.dot.Digraph at 0x10d7d9d30>"
      ]
     },
     "execution_count": 12,
     "metadata": {},
     "output_type": "execute_result"
    }
   ],
   "source": [
    "from graphviz import Digraph\n",
    "dot = Digraph('Ex 1.5')\n",
    "dot.node('T_k') # Whether or not a person k is a terrorist.\n",
    "dot.edge('T_k', 'S_k=1') # \n",
    "dot.edge('S_k=1', 'H_k=1')\n",
    "# H_j reprents whether or not the jth person got hauled off. \n",
    "# 'H_k-1=0,...,H_1=0' represents the idea that people earlier \n",
    "# in line did not get hauled off.\n",
    "dot.edge('H_k-1=0,...,H_1=0', 'H_k=1') \n",
    "dot"
   ]
  },
  {
   "cell_type": "code",
   "execution_count": 254,
   "id": "40b956a8",
   "metadata": {},
   "outputs": [],
   "source": [
    "import numpy as np\n",
    "import pandas as pd\n",
    "num_sim = 10000000\n",
    "num_passengers = 100"
   ]
  },
  {
   "cell_type": "code",
   "execution_count": 255,
   "id": "a1fcc7be",
   "metadata": {},
   "outputs": [],
   "source": [
    "# 1 of the 100 is a terrorist. We assume any ordering of the 100 people is equally likely.\n",
    "is_terrorist = np.random.multinomial(n=1, pvals=np.ones(num_passengers) * 0.01, size=num_sim)"
   ]
  },
  {
   "cell_type": "code",
   "execution_count": 256,
   "id": "f5502c86",
   "metadata": {},
   "outputs": [],
   "source": [
    "# P(S_k=1 | T_k)\n",
    "scan_positive_proba = is_terrorist * 0.95 + (is_terrorist == 0) * 0.05"
   ]
  },
  {
   "cell_type": "code",
   "execution_count": 257,
   "id": "dbc468ba",
   "metadata": {},
   "outputs": [],
   "source": [
    "# Simulate individuals going through the scanner.\n",
    "scan_positive = np.random.binomial(n=1, p=scan_positive_proba)"
   ]
  },
  {
   "cell_type": "code",
   "execution_count": 258,
   "id": "d6c2db96",
   "metadata": {},
   "outputs": [],
   "source": [
    "# Find the indices of where individuals had a positive scan.\n",
    "x, y = np.where(scan_positive == 1)"
   ]
  },
  {
   "cell_type": "code",
   "execution_count": 259,
   "id": "8b5816f6",
   "metadata": {},
   "outputs": [],
   "source": [
    "x_y = pd.DataFrame({'x': x, 'y': y})\n",
    "# Only keep the first row\n",
    "hauled_x_y = x_y.drop_duplicates(subset=['x'])"
   ]
  },
  {
   "cell_type": "code",
   "execution_count": 260,
   "id": "421ef969",
   "metadata": {},
   "outputs": [
    {
     "data": {
      "text/html": [
       "<div>\n",
       "<style scoped>\n",
       "    .dataframe tbody tr th:only-of-type {\n",
       "        vertical-align: middle;\n",
       "    }\n",
       "\n",
       "    .dataframe tbody tr th {\n",
       "        vertical-align: top;\n",
       "    }\n",
       "\n",
       "    .dataframe thead th {\n",
       "        text-align: right;\n",
       "    }\n",
       "</style>\n",
       "<table border=\"1\" class=\"dataframe\">\n",
       "  <thead>\n",
       "    <tr style=\"text-align: right;\">\n",
       "      <th></th>\n",
       "      <th>x</th>\n",
       "      <th>y</th>\n",
       "    </tr>\n",
       "  </thead>\n",
       "  <tbody>\n",
       "    <tr>\n",
       "      <th>0</th>\n",
       "      <td>0</td>\n",
       "      <td>4</td>\n",
       "    </tr>\n",
       "    <tr>\n",
       "      <th>1</th>\n",
       "      <td>0</td>\n",
       "      <td>17</td>\n",
       "    </tr>\n",
       "    <tr>\n",
       "      <th>2</th>\n",
       "      <td>0</td>\n",
       "      <td>26</td>\n",
       "    </tr>\n",
       "    <tr>\n",
       "      <th>3</th>\n",
       "      <td>0</td>\n",
       "      <td>37</td>\n",
       "    </tr>\n",
       "    <tr>\n",
       "      <th>4</th>\n",
       "      <td>0</td>\n",
       "      <td>58</td>\n",
       "    </tr>\n",
       "    <tr>\n",
       "      <th>...</th>\n",
       "      <td>...</td>\n",
       "      <td>...</td>\n",
       "    </tr>\n",
       "    <tr>\n",
       "      <th>59001273</th>\n",
       "      <td>9999999</td>\n",
       "      <td>31</td>\n",
       "    </tr>\n",
       "    <tr>\n",
       "      <th>59001274</th>\n",
       "      <td>9999999</td>\n",
       "      <td>39</td>\n",
       "    </tr>\n",
       "    <tr>\n",
       "      <th>59001275</th>\n",
       "      <td>9999999</td>\n",
       "      <td>50</td>\n",
       "    </tr>\n",
       "    <tr>\n",
       "      <th>59001276</th>\n",
       "      <td>9999999</td>\n",
       "      <td>65</td>\n",
       "    </tr>\n",
       "    <tr>\n",
       "      <th>59001277</th>\n",
       "      <td>9999999</td>\n",
       "      <td>96</td>\n",
       "    </tr>\n",
       "  </tbody>\n",
       "</table>\n",
       "<p>59001278 rows × 2 columns</p>\n",
       "</div>"
      ],
      "text/plain": [
       "                x   y\n",
       "0               0   4\n",
       "1               0  17\n",
       "2               0  26\n",
       "3               0  37\n",
       "4               0  58\n",
       "...           ...  ..\n",
       "59001273  9999999  31\n",
       "59001274  9999999  39\n",
       "59001275  9999999  50\n",
       "59001276  9999999  65\n",
       "59001277  9999999  96\n",
       "\n",
       "[59001278 rows x 2 columns]"
      ]
     },
     "execution_count": 260,
     "metadata": {},
     "output_type": "execute_result"
    }
   ],
   "source": [
    "x_y"
   ]
  },
  {
   "cell_type": "code",
   "execution_count": 261,
   "id": "d5739d2d",
   "metadata": {},
   "outputs": [
    {
     "data": {
      "text/plain": [
       "0.16101461395463332"
      ]
     },
     "execution_count": 261,
     "metadata": {},
     "output_type": "execute_result"
    }
   ],
   "source": [
    "# The probability of being a terrorist, given the scanner resulted in a positive.\n",
    "is_terrorist[x_y['x'], x_y['y']].mean()"
   ]
  },
  {
   "cell_type": "code",
   "execution_count": 275,
   "id": "9cb7462d",
   "metadata": {},
   "outputs": [
    {
     "data": {
      "text/plain": [
       "0.18891711090331387"
      ]
     },
     "execution_count": 275,
     "metadata": {},
     "output_type": "execute_result"
    }
   ],
   "source": [
    "# The probability of being a terrorist, given the individual got hauled off\n",
    "is_terrorist[hauled_x_y['x'], hauled_x_y['y']].mean()"
   ]
  },
  {
   "cell_type": "markdown",
   "id": "1d9abd79",
   "metadata": {},
   "source": [
    "## Ex 1.6\n",
    "Consider three variable distributions which admit the factorisation\n",
    "$p(a, b, c) = p(a|b)p(b|c)p(c)$, where all variables are binary. How many parameters are needed to specify distributions of this form?"
   ]
  },
  {
   "cell_type": "markdown",
   "id": "a48f8e40",
   "metadata": {},
   "source": [
    "### Ans\n",
    "\n",
    "We would need 5 parameters to specify the whole distribution: 1 to specify $P(c)$. If we know $P(C=1)$, then we know $P(C=0)$ since all probabilities need to sum to 1. Likewise, for $P(b \\mid c=1)$, if we know $P(B=1 \\mid C=1)$, we know $P(B=0 \\mid C=1)$. But we also have to consider the case when C=0. That would take another parameter. Now we're at 3 as total. Finally, we consider $P(A \\mid B)$. Those would require 2 parameters. Once we know $P(A = 1 \\mid B=1)$ and $P(A = 1 \\mid B=0)$, then we know the other values. In sum, 3 variable distributions which admit the factorization above would require 5 parameters total."
   ]
  },
  {
   "cell_type": "markdown",
   "id": "7395aa1c",
   "metadata": {},
   "source": [
    "## Ex 1.7. \n",
    "\n",
    "Repeat the Inspector Clouseau scenario, example(1.3), but with the restriction that either the maid or the butler is the murderer, but not both. Explicitly, the probability of the maid being the murderer and not the butler is 0.04, the probability of the butler being the murderer and not the maid is 0.64. Modify demoClouseau.m to implement this."
   ]
  },
  {
   "cell_type": "markdown",
   "id": "e41c5db0",
   "metadata": {},
   "source": [
    "### Ans"
   ]
  },
  {
   "cell_type": "code",
   "execution_count": 148,
   "id": "0739ffa6",
   "metadata": {},
   "outputs": [],
   "source": [
    "import numpy as np\n",
    "num_simulations = 10000\n",
    "# First probability is our prior belief that the Butler was the killer, and not the Maid\n",
    "# Second probability is our prior belief that the Maid was the killer, and not the Butler\n",
    "# Third probability is our prior belief that neither the Butler nor the Maid was the killer.\n",
    "killer = np.random.multinomial(n=1, pvals=[0.6,0.2,0.2], size=num_simulations)\n"
   ]
  },
  {
   "cell_type": "code",
   "execution_count": 163,
   "id": "ddf9b2fb",
   "metadata": {},
   "outputs": [],
   "source": [
    "# If the Butler and not the Maid was the killer, then the probability of using the knife is 0.6\n",
    "# If the Maid and not the Butler was the killer, then the probability of using the knife is 0.2\n",
    "# If neither the Butler nor the Maid was the killer, then the probability of using the knife is 0.3\n",
    "knife_used = np.random.binomial(n=1, p=killer[:,0] * 0.6 + killer[:,1] * 0.2 + killer[:,2] * 0.3)"
   ]
  },
  {
   "cell_type": "code",
   "execution_count": 164,
   "id": "4149e83c",
   "metadata": {},
   "outputs": [],
   "source": [
    "given_knife_used = np.where(knife_used)[0]"
   ]
  },
  {
   "cell_type": "code",
   "execution_count": 166,
   "id": "7338b6d2",
   "metadata": {},
   "outputs": [
    {
     "data": {
      "text/plain": [
       "0.7827322404371585"
      ]
     },
     "execution_count": 166,
     "metadata": {},
     "output_type": "execute_result"
    }
   ],
   "source": [
    "# Out of all the situations where the knife was used, we look at how many of them were done by the Butler?\n",
    "killer[given_knife_used][:, 0].sum() / killer[given_knife_used].shape[0]"
   ]
  },
  {
   "cell_type": "markdown",
   "id": "03cfd0af",
   "metadata": {},
   "source": [
    "The probability that the Butler was the killer and not the Maid, given that we observed that the knife was used, is 78.3%."
   ]
  },
  {
   "cell_type": "markdown",
   "id": "82a01c3d",
   "metadata": {},
   "source": [
    "## Ex 1.8\n",
    "\n",
    "Prove $p(a,(b \\text{ or } c))=p(a,b)+p(a,c)−p(a,b,c)$\n",
    "\n",
    "### Ans\n",
    "\n",
    "$$\n",
    "\\begin{equation}\n",
    "\\begin{aligned}\n",
    "P(a,(b \\text{ or } c)) &= P(A=1, (B=1 \\text{ or } C=1)) \\\\\n",
    "&= P(A=1, B=1, C=1) + P(A=1, B=0, C=1) + P(A=1, B=1, C=0) \\\\\n",
    "&= [P(A=1, B=1, C=1) + P(A=1, B=1, C=0)] + P(A=1, B=0, C=1) \\\\\n",
    "&= P(A=1, B=1) + P(A=1, B=0, C=1)  \\\\\n",
    "&= P(A=1, B=1) + P(A=1, B=0, C=1) + P(A=1, B=1, C=1) - P(A=1, B=1, C=1)  \\\\\n",
    "&= P(A=1, B=1) + P(A=1, C=1) - P(A=1, B=1, C=1)  \\\\\n",
    "&= p(a,b) + p(a,c) - p(a,b,c)\n",
    "\\end{aligned}\n",
    "\\end{equation}\n",
    "$$"
   ]
  },
  {
   "cell_type": "markdown",
   "id": "ff7a9ea8",
   "metadata": {},
   "source": [
    "## Ex 1.9\n",
    "Prove $P(x \\mid z) = \\sum_y P(x \\mid y, z) \\cdot P(y \\mid z) = \\sum_{y,w} P(x \\mid w, y, z) \\cdot P(w \\mid y, z) \\cdot P(y \\mid z)$\n"
   ]
  },
  {
   "cell_type": "markdown",
   "id": "5e22fb34",
   "metadata": {},
   "source": [
    "### Ans\n",
    "\n",
    "Part I:\n",
    "$$\n",
    "\\begin{equation}\n",
    "\\begin{aligned}\n",
    "P(x \\mid z) &=\n",
    "\\sum_y P(x,y \\mid z) \\\\\n",
    "&= \\sum_y \\frac{P(x, y, z)}{P(z)} \\\\\n",
    "&= \\sum_y \\frac{P(x, y, z)}{P(z)} \\cdot \\frac{P(y, z)}{P(y, z)} \\\\\n",
    "&= \\sum_y \\frac{P(x, y, z)}{P(y, z)} \\cdot \\frac{P(y, z)}{P(z)} \\\\\n",
    "&= \\sum_y (x \\mid y, z) \\cdot P(y \\mid z)\\\\\n",
    "\\end{aligned}\n",
    "\\end{equation}\n",
    "$$\n",
    "\n",
    "Part II:\n",
    "$$\n",
    "\\begin{equation}\n",
    "\\begin{aligned}\n",
    "\\sum_y P(x \\mid y, z) \\cdot P(y \\mid z) &= \\sum_{w,y} P(x,y,w \\mid z)\\\\\n",
    "&= \\sum_{w,y} P(x,y,w \\mid z)\\\\\n",
    "&= \\sum_{w,y} \\frac{P(x,y,w, z)}{z}\\\\\n",
    "&= \\sum_{w,y} \\frac{P(x \\mid y, w, z) \\cdot P(y, w, z)}{P(z)}\\\\\n",
    "&= \\sum_{w,y} \\frac{P(x \\mid y, w, z) \\cdot P(w \\mid z, y) \\cdot P(z, y)}{P(z)}\\\\\n",
    "&= \\sum_{w,y} P(x \\mid y, w, z) \\cdot P(w \\mid z, y) \\cdot P(y \\mid z) \\\\\n",
    "\\end{aligned}\n",
    "\\end{equation}\n",
    "$$"
   ]
  },
  {
   "cell_type": "markdown",
   "id": "ffbcf219",
   "metadata": {},
   "source": [
    "## Ex 1.10\n",
    "\n",
    "As a young man Mr Gott visits Berlin in 1969. He’s surprised that he cannot cross into East Berlin since there is a wall separating the two halves of the city. He’s told that the wall was erected 8 years previously. He reasons that : The wall will have a finite lifespan; his ignorance means that he arrives uniformly at random at some time in the lifespan of the wall. Since only 5% of the time one would arrive in the first or last 2.5% of the lifespan of the wall he asserts that with 95% confidence the wall will survive between 8/0.975 ≈ 8.2 and 8/0.025 = 320 years. In 1989 the now Professor Gott is pleased to find that his prediction was correct and promotes his prediction method in prestigious journals. This ‘delta-t’ method is widely adopted and used to form predictions in a range of scenarios about which researchers are ‘totally ignorant’. Would you ‘buy’ a prediction from Prof. Gott? Explain carefully your reasoning."
   ]
  },
  {
   "cell_type": "markdown",
   "id": "1a29cbf5",
   "metadata": {},
   "source": [
    "### Ans\n",
    "\n",
    "It does sound sensible in a way if what we're making predictions on are something we're totally ignorant about. However, I do think we aren't usually totally ignorant about something. We usually have some knowledge about a lot of things, what variables are probably affected by others and such (i.e. structural), that we could make a more \"correct\" guess about something. The internet gives us access to other people's work and research; we could use those to better inform our decisions."
   ]
  },
  {
   "cell_type": "markdown",
   "id": "f0118498",
   "metadata": {},
   "source": [
    "## Ex 1.11\n",
    "Implement the soft XOR gate, example(1.7) using BRMLtoolbox. You may find condpot.m of use."
   ]
  },
  {
   "cell_type": "code",
   "execution_count": 176,
   "id": "5a00b0d3",
   "metadata": {},
   "outputs": [
    {
     "data": {
      "text/plain": [
       "0.8446640316205534"
      ]
     },
     "execution_count": 176,
     "metadata": {},
     "output_type": "execute_result"
    }
   ],
   "source": [
    "import numpy as np\n",
    "num_sims = 100_000\n",
    "A = np.random.binomial(n=1, p=0.65, size=num_sims)\n",
    "B = np.random.binomial(n=1, p=0.77, size=num_sims)\n",
    "C = np.random.binomial(n=1, p=0.1 * ((A == 0) & (B == 0)) + 0.99 * ((A == 0) & (B == 1)) + 0.8 * ((A == 1) & (B == 0)) + 0.25 * (A & B))\n",
    "\n",
    "C_is_zero = np.where(C == 0)[0]\n",
    "\n",
    "A[C_is_zero].sum() / A[C_is_zero].shape[0]"
   ]
  },
  {
   "cell_type": "markdown",
   "id": "e66a3aad",
   "metadata": {},
   "source": [
    "## Ex 1.12\n",
    "\n",
    "Implement the hamburgers, example(1.2) (both scenarios) using BRMLtoolbox. To do so you will need to define the joint distribution $p(\\text{hamburgers},\\text{KJ})$ in which $dom(\\text{hamburgers}) = dom(\\text{KJ}) = \\{tr, fa\\}$."
   ]
  },
  {
   "cell_type": "markdown",
   "id": "5a1349e7",
   "metadata": {},
   "source": [
    "### Ans\n",
    "Consider the following fictitious scientific information: Doctors find that people with Kreuzfeld-Jacob disease (KJ) almost invariably ate hamburgers, thus $p(\\text{Hamburger Eater} \\mid \\text{KJ} ) = 0.9$. The probability of an individual having KJ is currently rather low, about one in 100,000.\n",
    "\n",
    "#### Part I\n",
    "\n",
    "Assuming eating lots of hamburgers is rather widespread, say p(Hamburger Eater) = 0.5, what is the probability that a hamburger eater will have Kreuzfeld-Jacob disease?"
   ]
  },
  {
   "cell_type": "code",
   "execution_count": 195,
   "id": "6cf389db",
   "metadata": {},
   "outputs": [
    {
     "data": {
      "text/plain": [
       "0    0.000018\n",
       "Name: proba, dtype: float64"
      ]
     },
     "execution_count": 195,
     "metadata": {},
     "output_type": "execute_result"
    }
   ],
   "source": [
    "import pandas as pd\n",
    "\n",
    "kj = pd.DataFrame([\n",
    "    {'KJ': 1, 'proba': 1/100_000}, \n",
    "    {'KJ': 0, 'proba': 99_999 / 100_000}\n",
    "])\n",
    "\n",
    "hamburger_given_kj = pd.DataFrame([\n",
    "    {'hamburger_eater': 1, 'proba': 0.9, 'KJ': 1},\n",
    "    {'hamburger_eater': 0, 'proba': 0.1, 'KJ': 1}\n",
    "])\n",
    "\n",
    "hamburger = pd.DataFrame([\n",
    "    {'hamburger_eater': 1, 'proba': 0.5},\n",
    "    {'hamburger_eater': 0, 'proba': 0.5},\n",
    "])\n",
    "\n",
    "merged = hamburger_given_kj.merge(kj, on='KJ', suffixes=('_hamburger_eater', '_KJ'))\n",
    "merged['proba'] = merged['proba_hamburger_eater'] * merged['proba_KJ']\n",
    "merged\n",
    "\n",
    "blah = merged.merge(hamburger, on='hamburger_eater')\n",
    "blah['proba'] = blah['proba_x'] / blah['proba_y']\n",
    "blah[blah['hamburger_eater'] == 1]['proba']"
   ]
  },
  {
   "cell_type": "markdown",
   "id": "26d74f1a",
   "metadata": {},
   "source": [
    "####  Part II\n",
    "\n",
    "Assuming eating lots of hamburgers is rather widespread, say p(Hamburger Eater) = 0.001, what is the probability that a hamburger eater will have Kreuzfeld-Jacob disease?"
   ]
  },
  {
   "cell_type": "code",
   "execution_count": 196,
   "id": "2b165079",
   "metadata": {},
   "outputs": [
    {
     "data": {
      "text/plain": [
       "0    0.009\n",
       "Name: proba, dtype: float64"
      ]
     },
     "execution_count": 196,
     "metadata": {},
     "output_type": "execute_result"
    }
   ],
   "source": [
    "hamburger = pd.DataFrame([\n",
    "    {'hamburger_eater': 1, 'proba': 0.001},\n",
    "    {'hamburger_eater': 0, 'proba': 0.999},\n",
    "])\n",
    "\n",
    "merged = hamburger_given_kj.merge(kj, on='KJ', suffixes=('_hamburger_eater', '_KJ'))\n",
    "merged['proba'] = merged['proba_hamburger_eater'] * merged['proba_KJ']\n",
    "merged\n",
    "\n",
    "blah = merged.merge(hamburger, on='hamburger_eater')\n",
    "blah['proba'] = blah['proba_x'] / blah['proba_y']\n",
    "blah[blah['hamburger_eater'] == 1]['proba']"
   ]
  },
  {
   "cell_type": "markdown",
   "id": "cb9bb094",
   "metadata": {},
   "source": [
    "## Ex 1.13\n",
    "\n",
    "Implement the two-dice example, section(1.3.1) using BRMLtoolbox."
   ]
  },
  {
   "cell_type": "markdown",
   "id": "54346e3e",
   "metadata": {},
   "source": [
    "### Ans\n",
    "\n",
    "#### Ancestral Sampling"
   ]
  },
  {
   "cell_type": "code",
   "execution_count": 215,
   "id": "14a8de95",
   "metadata": {},
   "outputs": [
    {
     "data": {
      "text/html": [
       "<div>\n",
       "<style scoped>\n",
       "    .dataframe tbody tr th:only-of-type {\n",
       "        vertical-align: middle;\n",
       "    }\n",
       "\n",
       "    .dataframe tbody tr th {\n",
       "        vertical-align: top;\n",
       "    }\n",
       "\n",
       "    .dataframe thead th {\n",
       "        text-align: right;\n",
       "    }\n",
       "</style>\n",
       "<table border=\"1\" class=\"dataframe\">\n",
       "  <thead>\n",
       "    <tr style=\"text-align: right;\">\n",
       "      <th></th>\n",
       "      <th></th>\n",
       "      <th>posterior_proba</th>\n",
       "    </tr>\n",
       "    <tr>\n",
       "      <th>dice_1</th>\n",
       "      <th>dice_2</th>\n",
       "      <th></th>\n",
       "    </tr>\n",
       "  </thead>\n",
       "  <tbody>\n",
       "    <tr>\n",
       "      <th>3</th>\n",
       "      <th>6</th>\n",
       "      <td>0.243583</td>\n",
       "    </tr>\n",
       "    <tr>\n",
       "      <th>4</th>\n",
       "      <th>5</th>\n",
       "      <td>0.252378</td>\n",
       "    </tr>\n",
       "    <tr>\n",
       "      <th>5</th>\n",
       "      <th>4</th>\n",
       "      <td>0.250942</td>\n",
       "    </tr>\n",
       "    <tr>\n",
       "      <th>6</th>\n",
       "      <th>3</th>\n",
       "      <td>0.253096</td>\n",
       "    </tr>\n",
       "  </tbody>\n",
       "</table>\n",
       "</div>"
      ],
      "text/plain": [
       "               posterior_proba\n",
       "dice_1 dice_2                 \n",
       "3      6              0.243583\n",
       "4      5              0.252378\n",
       "5      4              0.250942\n",
       "6      3              0.253096"
      ]
     },
     "execution_count": 215,
     "metadata": {},
     "output_type": "execute_result"
    }
   ],
   "source": [
    "import numpy as np\n",
    "import pandas as pd\n",
    "num_samples = 100_000\n",
    "dice_1 = np.where(np.random.multinomial(n=1, pvals=np.ones(6) * 1/6, size=num_samples))[1] + 1\n",
    "dice_2 = np.where(np.random.multinomial(n=1, pvals=np.ones(6) * 1/6, size=num_samples))[1] + 1\n",
    "summation = dice_1 + dice_2\n",
    "joint = pd.DataFrame({'dice_1': dice_1, 'dice_2': dice_2, 'summation': summation}, index=list(range(num_samples)))\n",
    "is_nine = joint[joint['summation'] == 9].copy()\n",
    "(is_nine.groupby(['dice_1', 'dice_2']).count() / is_nine.groupby(['dice_1', 'dice_2']).count().sum()).rename(columns={'summation': 'posterior_proba'})"
   ]
  },
  {
   "cell_type": "markdown",
   "id": "66151687",
   "metadata": {},
   "source": [
    "#### Through Pandas"
   ]
  },
  {
   "cell_type": "code",
   "execution_count": 222,
   "id": "6a1523f8",
   "metadata": {},
   "outputs": [],
   "source": [
    "dice_1 = pd.DataFrame({'dice_1': [1,2,3,4,5,6], 'proba': np.ones(6) / 6, 'key': 0})\n",
    "dice_2 = pd.DataFrame({'dice_2': [1,2,3,4,5,6], 'proba': np.ones(6) / 6, 'key': 0})\n",
    "cross_join = dice_1.merge(dice_2, on='key')\n",
    "cross_join['sum'] = cross_join['dice_1'] + cross_join['dice_2']\n",
    "cross_join['joint_proba'] = cross_join['proba_x'] * cross_join['proba_y']"
   ]
  },
  {
   "cell_type": "code",
   "execution_count": 233,
   "id": "d3ac90db",
   "metadata": {},
   "outputs": [],
   "source": [
    "sum_is_nine = cross_join[cross_join['sum'] == 9].copy()"
   ]
  },
  {
   "cell_type": "code",
   "execution_count": 234,
   "id": "bd031fc4",
   "metadata": {},
   "outputs": [
    {
     "data": {
      "text/html": [
       "<div>\n",
       "<style scoped>\n",
       "    .dataframe tbody tr th:only-of-type {\n",
       "        vertical-align: middle;\n",
       "    }\n",
       "\n",
       "    .dataframe tbody tr th {\n",
       "        vertical-align: top;\n",
       "    }\n",
       "\n",
       "    .dataframe thead th {\n",
       "        text-align: right;\n",
       "    }\n",
       "</style>\n",
       "<table border=\"1\" class=\"dataframe\">\n",
       "  <thead>\n",
       "    <tr style=\"text-align: right;\">\n",
       "      <th></th>\n",
       "      <th>dice_1</th>\n",
       "      <th>proba_x</th>\n",
       "      <th>key</th>\n",
       "      <th>dice_2</th>\n",
       "      <th>proba_y</th>\n",
       "      <th>sum</th>\n",
       "      <th>joint_proba</th>\n",
       "    </tr>\n",
       "  </thead>\n",
       "  <tbody>\n",
       "    <tr>\n",
       "      <th>17</th>\n",
       "      <td>3</td>\n",
       "      <td>0.166667</td>\n",
       "      <td>0</td>\n",
       "      <td>6</td>\n",
       "      <td>0.166667</td>\n",
       "      <td>9</td>\n",
       "      <td>0.027778</td>\n",
       "    </tr>\n",
       "    <tr>\n",
       "      <th>22</th>\n",
       "      <td>4</td>\n",
       "      <td>0.166667</td>\n",
       "      <td>0</td>\n",
       "      <td>5</td>\n",
       "      <td>0.166667</td>\n",
       "      <td>9</td>\n",
       "      <td>0.027778</td>\n",
       "    </tr>\n",
       "    <tr>\n",
       "      <th>27</th>\n",
       "      <td>5</td>\n",
       "      <td>0.166667</td>\n",
       "      <td>0</td>\n",
       "      <td>4</td>\n",
       "      <td>0.166667</td>\n",
       "      <td>9</td>\n",
       "      <td>0.027778</td>\n",
       "    </tr>\n",
       "    <tr>\n",
       "      <th>32</th>\n",
       "      <td>6</td>\n",
       "      <td>0.166667</td>\n",
       "      <td>0</td>\n",
       "      <td>3</td>\n",
       "      <td>0.166667</td>\n",
       "      <td>9</td>\n",
       "      <td>0.027778</td>\n",
       "    </tr>\n",
       "  </tbody>\n",
       "</table>\n",
       "</div>"
      ],
      "text/plain": [
       "    dice_1   proba_x  key  dice_2   proba_y  sum  joint_proba\n",
       "17       3  0.166667    0       6  0.166667    9     0.027778\n",
       "22       4  0.166667    0       5  0.166667    9     0.027778\n",
       "27       5  0.166667    0       4  0.166667    9     0.027778\n",
       "32       6  0.166667    0       3  0.166667    9     0.027778"
      ]
     },
     "execution_count": 234,
     "metadata": {},
     "output_type": "execute_result"
    }
   ],
   "source": [
    "sum_is_nine"
   ]
  },
  {
   "cell_type": "code",
   "execution_count": 236,
   "id": "c8ad9b1b",
   "metadata": {
    "scrolled": false
   },
   "outputs": [
    {
     "data": {
      "text/html": [
       "<div>\n",
       "<style scoped>\n",
       "    .dataframe tbody tr th:only-of-type {\n",
       "        vertical-align: middle;\n",
       "    }\n",
       "\n",
       "    .dataframe tbody tr th {\n",
       "        vertical-align: top;\n",
       "    }\n",
       "\n",
       "    .dataframe thead th {\n",
       "        text-align: right;\n",
       "    }\n",
       "</style>\n",
       "<table border=\"1\" class=\"dataframe\">\n",
       "  <thead>\n",
       "    <tr style=\"text-align: right;\">\n",
       "      <th></th>\n",
       "      <th>dice_1</th>\n",
       "      <th>dice_2</th>\n",
       "      <th>posterior_proba</th>\n",
       "    </tr>\n",
       "  </thead>\n",
       "  <tbody>\n",
       "    <tr>\n",
       "      <th>17</th>\n",
       "      <td>3</td>\n",
       "      <td>6</td>\n",
       "      <td>0.25</td>\n",
       "    </tr>\n",
       "    <tr>\n",
       "      <th>22</th>\n",
       "      <td>4</td>\n",
       "      <td>5</td>\n",
       "      <td>0.25</td>\n",
       "    </tr>\n",
       "    <tr>\n",
       "      <th>27</th>\n",
       "      <td>5</td>\n",
       "      <td>4</td>\n",
       "      <td>0.25</td>\n",
       "    </tr>\n",
       "    <tr>\n",
       "      <th>32</th>\n",
       "      <td>6</td>\n",
       "      <td>3</td>\n",
       "      <td>0.25</td>\n",
       "    </tr>\n",
       "  </tbody>\n",
       "</table>\n",
       "</div>"
      ],
      "text/plain": [
       "    dice_1  dice_2  posterior_proba\n",
       "17       3       6             0.25\n",
       "22       4       5             0.25\n",
       "27       5       4             0.25\n",
       "32       6       3             0.25"
      ]
     },
     "execution_count": 236,
     "metadata": {},
     "output_type": "execute_result"
    }
   ],
   "source": [
    "sum_is_nine['posterior_proba'] = sum_is_nine['joint_proba'] / sum_is_nine['joint_proba'].sum()\n",
    "sum_is_nine[['dice_1', 'dice_2', 'posterior_proba']]"
   ]
  },
  {
   "cell_type": "markdown",
   "id": "e63cb33a",
   "metadata": {},
   "source": [
    "## Ex 1.14\n",
    "A redistribution lottery involves picking the correct four numbers from 1 to 9 (without replacement, so 3,4,4,1 for example is not possible). The order of the picked numbers is irrelevant. Every week a million people play this game, each paying £1 to enter, with the numbers 3,5,7,9 being the most popular (1 in every 100 people chooses these numbers). Given that the million pounds prize money is split equally between winners, and that any four (different) numbers come up at random, what is the expected amount of money each of the players choosing 3,5,7,9 will win each week? The least popular set of numbers is 1,2,3,4 with only 1 in 10,000 people choosing this. How much do they profit each week, on average? Do you think there is any ‘skill’ involved in playing this lottery?"
   ]
  },
  {
   "cell_type": "markdown",
   "id": "3c1f63de",
   "metadata": {},
   "source": [
    "### Ans\n",
    "The probability of getting exactly 3,5,7,9 (in that order) is $P(\\text{Lotto} = [3,5,7,9]) = \\frac{1}{9} \\cdot \\frac{1}{8} \\cdot \\frac{1}{7} \\cdot \\frac{1}{6} = \\frac{1}{3024}$. However, we need to take into account that order doesn't matter. There are $4 \\cdot 3 \\cdot 2 \\cdot 1 = 24$ ways of reordering 3,5,7,9. Thus, $P(\\text{Lotto} = \\{3,5,7,9\\}) = 24 \\cdot \\frac{1}{3024} \\approx 0.007936$. If $\\frac{1}{100}$ of the 1,000,000 people who enter the lottery every week pick these numbers then there would be 10,000 people every week who use these numbers. Expected amount of money each of the players choosing 3,5,7,9 will win each week is $P(\\text{Lotto} = \\{3,5,7,9\\}) \\cdot \\text{Prize money per person} = P(\\text{Lotto} = \\{3,5,7,9\\}) \\cdot \\frac{1,000,000}{10,000} = 0.007936 \\cdot 100 = £0.79$. On the other hand, the people choosing the set $\\{1,2,3,4\\}$ would win, on average, $P(\\text{Lotto} = \\{1,2,3,4\\}) \\cdot \\frac{1,000,000}{100} = 0.007936 \\cdot 10,000 = £79.$\n",
    "\n",
    "The \"skill\" involved in playing this lottery is figuring out what set of numbers are least popular. You could exploit this information to maximize your payoff, on average."
   ]
  },
  {
   "cell_type": "markdown",
   "id": "673a3aed",
   "metadata": {},
   "source": [
    "## Ex 1.15\n",
    "\n",
    "In a test of ‘psychometry’ the car keys and wrist watches of 5 people are given to a medium. The medium then attempts to match the wrist watch with the car key of each person. What is the expected number of correct matches that the medium will make (by chance)? What is the probability that the medium will obtain at least 1 correct match?"
   ]
  },
  {
   "cell_type": "code",
   "execution_count": 246,
   "id": "4c32a908",
   "metadata": {},
   "outputs": [],
   "source": [
    "num_sims = 10_000\n",
    "actual = np.tile(np.array([1,2,3,4,5]), (num_sims,1))\n",
    "medium_guess = np.tile(np.array([1,2,3,4,5]), (num_sims,1))\n",
    "\n",
    "for i in range(num_sims):\n",
    "    np.random.shuffle(actual[i])\n",
    "    np.random.shuffle(medium_guess[i])"
   ]
  },
  {
   "cell_type": "code",
   "execution_count": 267,
   "id": "62f98e02",
   "metadata": {},
   "outputs": [
    {
     "data": {
      "text/html": [
       "<div>\n",
       "<style scoped>\n",
       "    .dataframe tbody tr th:only-of-type {\n",
       "        vertical-align: middle;\n",
       "    }\n",
       "\n",
       "    .dataframe tbody tr th {\n",
       "        vertical-align: top;\n",
       "    }\n",
       "\n",
       "    .dataframe thead th {\n",
       "        text-align: right;\n",
       "    }\n",
       "</style>\n",
       "<table border=\"1\" class=\"dataframe\">\n",
       "  <thead>\n",
       "    <tr style=\"text-align: right;\">\n",
       "      <th></th>\n",
       "      <th>count</th>\n",
       "    </tr>\n",
       "    <tr>\n",
       "      <th>correct</th>\n",
       "      <th></th>\n",
       "    </tr>\n",
       "  </thead>\n",
       "  <tbody>\n",
       "    <tr>\n",
       "      <th>0</th>\n",
       "      <td>3581</td>\n",
       "    </tr>\n",
       "    <tr>\n",
       "      <th>1</th>\n",
       "      <td>3792</td>\n",
       "    </tr>\n",
       "    <tr>\n",
       "      <th>2</th>\n",
       "      <td>1738</td>\n",
       "    </tr>\n",
       "    <tr>\n",
       "      <th>3</th>\n",
       "      <td>820</td>\n",
       "    </tr>\n",
       "    <tr>\n",
       "      <th>5</th>\n",
       "      <td>69</td>\n",
       "    </tr>\n",
       "  </tbody>\n",
       "</table>\n",
       "</div>"
      ],
      "text/plain": [
       "         count\n",
       "correct       \n",
       "0         3581\n",
       "1         3792\n",
       "2         1738\n",
       "3          820\n",
       "5           69"
      ]
     },
     "execution_count": 267,
     "metadata": {},
     "output_type": "execute_result"
    }
   ],
   "source": [
    "pd.DataFrame({'correct': (actual == medium_guess).sum(axis=1), 'count': 0}).groupby('correct').count()"
   ]
  },
  {
   "cell_type": "code",
   "execution_count": 269,
   "id": "07040acb",
   "metadata": {},
   "outputs": [
    {
     "data": {
      "text/plain": [
       "1.0073"
      ]
     },
     "execution_count": 269,
     "metadata": {},
     "output_type": "execute_result"
    }
   ],
   "source": [
    "# On average, we should expect the medium to get one guess correctly.\n",
    "(actual == medium_guess).sum(axis=1).mean()"
   ]
  },
  {
   "cell_type": "code",
   "execution_count": 251,
   "id": "26062875",
   "metadata": {
    "scrolled": false
   },
   "outputs": [
    {
     "data": {
      "text/plain": [
       "0.6419"
      ]
     },
     "execution_count": 251,
     "metadata": {},
     "output_type": "execute_result"
    }
   ],
   "source": [
    "The probability that the medium will obtain at least 1 correct match\n",
    "((actual == medium_guess).sum(axis=1) >= 1).sum() / num_sims"
   ]
  },
  {
   "cell_type": "markdown",
   "id": "221be6ac",
   "metadata": {},
   "source": [
    "## Ex 1.16\n",
    "1. Show that for any function f\n",
    "\n",
    "$\\qquad\\sum_x p(x \\mid y) \\cdot f(y) = f(y)$"
   ]
  },
  {
   "cell_type": "markdown",
   "id": "4979c39f",
   "metadata": {},
   "source": [
    "### Ans\n",
    "$$\n",
    "\\begin{equation}\n",
    "\\begin{aligned}\n",
    "\\sum_x p(x \\mid y) &= \\sum_x \\frac{p(x,y)}{p(y)} \\\\\n",
    "&= \\frac{1}{p(y)} \\cdot \\sum_x p(x,y) \\\\\n",
    "&= \\frac{1}{p(y)} \\cdot p(y) \\\\\n",
    "&= 1 \\\\\n",
    "\\end{aligned}\n",
    "\\end{equation}\n",
    "$$\n",
    "\n",
    "Thus, \n",
    "$$\n",
    "\\begin{equation}\n",
    "\\begin{aligned}\n",
    "\\sum_x p(x \\mid y) \\cdot f(y) = f(y)\n",
    "\\end{aligned}\n",
    "\\end{equation}\n",
    "$$"
   ]
  },
  {
   "cell_type": "markdown",
   "id": "80c85419",
   "metadata": {},
   "source": [
    "2. Explain why, in general,\n",
    "\n",
    "$\\qquad \\sum_x p(x \\mid y) f(x,y) \\neq \\sum_x f(x,y)$"
   ]
  },
  {
   "cell_type": "markdown",
   "id": "ba23071d",
   "metadata": {},
   "source": [
    "### Ans\n",
    "\n",
    "Using $\\sum_x p(x \\mid y) = 1$,\n",
    "\n",
    "$$\n",
    "\\begin{equation}\n",
    "\\begin{aligned}\n",
    "\\sum_x p(x \\mid y) f(x,y) = f(x,y) \\\\\n",
    "\\neq f(x_1,y) + f(x_2,y) + ... + ... \\\\\n",
    "\\end{aligned}\n",
    "\\end{equation}\n",
    "$$"
   ]
  },
  {
   "cell_type": "markdown",
   "id": "fbbfc12b",
   "metadata": {},
   "source": [
    "## Ex 1.17\n",
    "\n",
    "Seven friends decide to order pizzas by telephone from Pizza4U based on a flyer pushed through their letterbox. Pizza4U has only 4 kinds of pizzas, and each person chooses a pizza independently. Bob phones Pizza4U and places the combined pizza order, simply stating how many pizzas of each kind are required. Unfortunately, the precise order is lost, so the chef makes seven randomly chosen pizzas and then passes them to the delivery boy."
   ]
  },
  {
   "cell_type": "markdown",
   "id": "5aaeb675",
   "metadata": {},
   "source": [
    "### 1.\n",
    "\n",
    "How many different combined orders are possible?"
   ]
  },
  {
   "cell_type": "code",
   "execution_count": 313,
   "id": "4d1cdc65",
   "metadata": {},
   "outputs": [],
   "source": [
    "def process(data):\n",
    "    to_add = []\n",
    "    for num in data:\n",
    "        to_add += list(range(num, 0, -1))\n",
    "    return to_add"
   ]
  },
  {
   "cell_type": "code",
   "execution_count": 323,
   "id": "2f5d4e81",
   "metadata": {},
   "outputs": [],
   "source": [
    "def process_data_num_times(num, data):\n",
    "    big_list = process(data)\n",
    "    \n",
    "    for _ in range(num - 1):\n",
    "        big_list = process(big_list)\n",
    "        \n",
    "    return big_list"
   ]
  },
  {
   "cell_type": "code",
   "execution_count": 327,
   "id": "0ce4925e",
   "metadata": {
    "scrolled": true
   },
   "outputs": [
    {
     "data": {
      "text/plain": [
       "120"
      ]
     },
     "execution_count": 327,
     "metadata": {},
     "output_type": "execute_result"
    }
   ],
   "source": [
    "# There are 120 different unique sets of orders, when each individual can order one out of 4 pizzas and there are 7 individuals.\n",
    "sum(process_data_num_times(5, [4,3,2,1]))"
   ]
  },
  {
   "cell_type": "markdown",
   "id": "ec09f716",
   "metadata": {},
   "source": [
    "### 2.\n",
    "What is the probability that the delivery boy has the right order?"
   ]
  },
  {
   "cell_type": "code",
   "execution_count": 374,
   "id": "838c5a08",
   "metadata": {},
   "outputs": [],
   "source": [
    "num_sims = 10_000\n",
    "num_friends = 7\n",
    "friend_1 = np.where(np.random.multinomial(1, pvals=[0.25, 0.25, 0.25, 0.25], size=num_sims))[1]"
   ]
  },
  {
   "cell_type": "code",
   "execution_count": 375,
   "id": "ad6336fe",
   "metadata": {},
   "outputs": [],
   "source": [
    "pizza_choices_by_friends = np.random.multinomial(1, pvals=[0.25, 0.25, 0.25, 0.25], size=(num_sims, num_friends))\n",
    "pizza_choices_by_chef = np.random.multinomial(1, pvals=[0.25, 0.25, 0.25, 0.25], size=(num_sims, num_friends))"
   ]
  },
  {
   "cell_type": "code",
   "execution_count": 377,
   "id": "b9e362d0",
   "metadata": {},
   "outputs": [],
   "source": [
    "friends = np.where(pizza_choices_by_friends)[1]"
   ]
  },
  {
   "cell_type": "code",
   "execution_count": 378,
   "id": "2465a78e",
   "metadata": {},
   "outputs": [],
   "source": [
    "pizza_choice = np.where(pizza_choices_by_friends)[2]\n",
    "chef_pizza_choice = np.where(pizza_choices_by_chef)[2]"
   ]
  },
  {
   "cell_type": "code",
   "execution_count": 382,
   "id": "b3b6f7f5",
   "metadata": {},
   "outputs": [],
   "source": [
    "def compute_proba_chef_correct(pizza_choice, chef_pizza_choice, num_sims, num_friends):\n",
    "    count = 0\n",
    "    for i in range(0, num_sims, num_friends):\n",
    "        set_1 = set(pizza_choice[i:i+num_friends])\n",
    "        set_2 = set(chef_pizza_choice[i:i+num_friends])\n",
    "\n",
    "        if set_1 == set_2:\n",
    "            count += 1\n",
    "    \n",
    "    return count / num_sims"
   ]
  },
  {
   "cell_type": "code",
   "execution_count": 385,
   "id": "3f42c091",
   "metadata": {
    "scrolled": false
   },
   "outputs": [
    {
     "data": {
      "text/plain": [
       "0.046"
      ]
     },
     "execution_count": 385,
     "metadata": {},
     "output_type": "execute_result"
    }
   ],
   "source": [
    "# Probability that the delivery boy has the right order\n",
    "compute_proba_chef_correct(pizza_choice, chef_pizza_choice, num_sims, num_friends)"
   ]
  },
  {
   "cell_type": "markdown",
   "id": "2a5b76a6",
   "metadata": {},
   "source": [
    "## Ex 1.18\n",
    "\n",
    "Sally is new to the area and listens to some friends discussing about another female friend. Sally knows that they are talking about either Alice or Bella but doesn’t know which. From previous conversations Sally knows some independent pieces of information: She’s 90% sure that Alice has a white car, but doesn’t know if Bella’s car is white or black. Similarly, she’s 90% sure that Bella likes sushi, but doesn’t know if Alice likes sushi. Sally hears from the conversation that the person being discussed hates sushi and drives a white car. What is the probability that the friends are talking about Alice? Assume maximal uncertainty in the absence of any knowledge of the probabilities."
   ]
  },
  {
   "cell_type": "markdown",
   "id": "4da74fb4",
   "metadata": {},
   "source": [
    "### Ans\n",
    "$$\n",
    "\\begin{equation}\n",
    "\\begin{aligned}\n",
    "P(A = 1 \\mid C = w, S = h) &= \\frac{P(C = w, S=h \\mid A = 1) \\cdot P(A=1)}{P(S=h, C = w)} \\\\\n",
    "&= \\frac{P(C = w, S=h \\mid A = 1) \\cdot P(A=1)}{P(C = w, S=h \\mid A = 1) \\cdot P(A=1) + P(C = w, S=h \\mid A = 0) \\cdot P(A=0)} \\\\\n",
    "&= \\frac{P(C = w, S=h \\mid A = 1)}{P(C = w, S=h \\mid A = 1) + P(C = w, S=h \\mid A = 0)} \\\\\n",
    "&= \\frac{P(C = w \\mid A=1) \\cdot P(S=h \\mid A = 1)}{P(C = w \\mid A=1) \\cdot P(S=h \\mid A = 1) + P(C = w \\mid A= 0) \\cdot P(S=h \\mid A = 0)} & \\text{Once we know if it's Alice, then the value of $S$ and the value of $C$ is independent from each other} \\\\\n",
    "&= \\frac{0.9 \\cdot 0.5}{0.9 \\cdot 0.5 + 0.5 \\cdot 0.1} \\\\\n",
    "&= \\frac{0.45}{0.5} \\\\\n",
    "&= 90\\% \\\\\n",
    "\\end{aligned}\n",
    "\\end{equation}\n",
    "$$"
   ]
  },
  {
   "cell_type": "markdown",
   "id": "709621f7",
   "metadata": {},
   "source": [
    "## Ex 1.19\n",
    "\n",
    "The weather in London can be summarised as: if it rains one day there’s a 70% chance it will rain the following day; if it’s sunny one day there’s a 40% chance it will be sunny the following day.\n",
    "\n",
    "### Part I\n",
    "1. Assuming that the prior probability it rained yesterday is 0.5, what is the probability that it was raining yesterday given that it’s sunny today?"
   ]
  },
  {
   "cell_type": "markdown",
   "id": "f603254b",
   "metadata": {},
   "source": [
    "#### Ans\n",
    "$$\n",
    "\\begin{equation}\n",
    "\\begin{aligned}\n",
    "P(D_{yesterday}=r \\mid D_{today}=s) &= \\frac{P(D_{today}=s \\mid D_{yesterday}=r) \\cdot P(D_{yesterday}=r)}{P(D_{today}=s \\mid D_{yesterday}=r) \\cdot P(D_{yesterday}=r) + P(D_{today}=s \\mid D_{yesterday}=s) \\cdot P(D_{yesterday}=s)} \\\\\n",
    "&= \\frac{0.3}{0.3 + 0.4} \\\\\n",
    "&=\\frac{3}{7}\n",
    "\\end{aligned}\n",
    "\\end{equation}\n",
    "$$\n",
    "\n"
   ]
  },
  {
   "cell_type": "markdown",
   "id": "c86d3278",
   "metadata": {},
   "source": [
    "### Part II\n",
    "2. If the weather follows the same pattern as above, day after day, what is the probability that it will rain on any day (based on an effectively infinite number of days of observing the weather)?\n"
   ]
  },
  {
   "cell_type": "code",
   "execution_count": 418,
   "id": "eb1fe818",
   "metadata": {},
   "outputs": [],
   "source": [
    "import numpy as np\n",
    "num_samples = 100_000\n",
    "\n",
    "def simulate_chain():\n",
    "    rain_given_rained = np.random.binomial(n=1, p=0.7, size=num_samples)\n",
    "    sunny_given_sunny = np.random.binomial(n=1, p=0.4, size=num_samples)\n",
    "    rain = np.random.binomial(n=1, p=0.5, size=num_samples)\n",
    "    \n",
    "    for i in range(num_samples-1):\n",
    "        rain[i+1] = rain[i] * rain_given_rained[i] + (1 - rain[i]) * (1 - sunny_given_sunny[i]) \n",
    "    \n",
    "    return rain"
   ]
  },
  {
   "cell_type": "code",
   "execution_count": 419,
   "id": "d5bc8d2e",
   "metadata": {},
   "outputs": [
    {
     "data": {
      "text/plain": [
       "0.66692"
      ]
     },
     "execution_count": 419,
     "metadata": {},
     "output_type": "execute_result"
    }
   ],
   "source": [
    "rain_events = simulate_chain()\n",
    "\n",
    "# Probability of raining on any given day\n",
    "rain_events.mean()"
   ]
  },
  {
   "cell_type": "markdown",
   "id": "cbd64399",
   "metadata": {},
   "source": [
    "### Part III\n",
    "3. Use the result from part 2 above as a new prior probability of rain yesterday and recompute the probability that it was raining yesterday given that it’s sunny today."
   ]
  },
  {
   "cell_type": "markdown",
   "id": "3db5146b",
   "metadata": {},
   "source": [
    "#### Ans\n",
    "$$\n",
    "\\begin{equation}\n",
    "\\begin{aligned}\n",
    "P(D_{yesterday}=r \\mid D_{today}=s) &= \\frac{P(D_{today}=s \\mid D_{yesterday}=r) \\cdot P(D_{yesterday}=r)}{P(D_{today}=s \\mid D_{yesterday}=r) \\cdot P(D_{yesterday}=r) + P(D_{today}=s \\mid D_{yesterday}=s) \\cdot P(D_{yesterday}=s)} \\\\\n",
    "&= \\frac{0.3 \\cdot \\frac{2}{3}}{0.3 \\cdot \\frac{2}{3} + 0.4 \\cdot \\frac{1}{3}} \\\\\n",
    "&= 0.6\n",
    "\\end{aligned}\n",
    "\\end{equation}\n",
    "$$\n",
    "\n"
   ]
  },
  {
   "cell_type": "markdown",
   "id": "802d1d49",
   "metadata": {},
   "source": [
    "## Ex 1.20\n",
    "\n",
    "A game of Battleships is played on a 10 × 10 pixel grid. There are two 5-pixel length ships placed uniformly at random on the grid, subject to the constraints that (i) the ships cannot overlap and (ii) one ship is vertical and the other horizontal. After 10 unsuccessful ‘misses’ in locations (1,10),(2,2),(3,8),(4,4),(5,6),(6,5),(7,4),(7,7),(9,2),(9,9) calculate which pixel has the highest proba- bility of containing a ship. State this pixel and the value of the highest probability."
   ]
  },
  {
   "cell_type": "code",
   "execution_count": 20,
   "id": "183cf24d",
   "metadata": {},
   "outputs": [],
   "source": [
    "import numpy as np\n",
    "PLACE_SHIP = 2\n",
    "\n",
    "class Ship:\n",
    "    def __init__(self, length):\n",
    "        self.length = length\n",
    "        \n",
    "    def place(self, x0, y0, vert, sea):\n",
    "        if vert:\n",
    "            x1 = x0 + self.length\n",
    "            y1 = y0\n",
    "        else:\n",
    "            x1 = x0\n",
    "            y1 = y0 + self.length\n",
    "            \n",
    "        xs, ys = Ship.get_pixels(x0, y0, x1, y1)\n",
    "        \n",
    "        sea[xs, ys] *= PLACE_SHIP\n",
    "        \n",
    "    def generate_potential_location(width, height):\n",
    "        for i in range(width):\n",
    "            for j in range(height):\n",
    "                for vert in [True, False]:\n",
    "                    yield (i, j, vert)\n",
    "                    \n",
    "    def get_pixels(x0, y0, x1, y1):\n",
    "        xs = []\n",
    "        ys = []\n",
    "        \n",
    "        #import pdb; pdb.set_trace()\n",
    "        \n",
    "        if x0 == x1:\n",
    "            y = y0\n",
    "            \n",
    "            while y < y1:\n",
    "                xs.append(x0)\n",
    "                ys.append(y)\n",
    "                y += 1\n",
    "    \n",
    "        if y0 == y1:\n",
    "            x = x0\n",
    "            \n",
    "            while x < x1:\n",
    "                xs.append(x)\n",
    "                ys.append(y0)\n",
    "                x += 1         \n",
    "        \n",
    "        return xs, ys\n",
    "class ProbaPixels:\n",
    "    DROP_BOMB = 3\n",
    "    PLACE_SHIP = 2\n",
    "    def __init__(self, size, attempts, ships):\n",
    "        self.attempts = attempts\n",
    "        self.ships = ships\n",
    "        self.size = size\n",
    "    \n",
    "    def create(width, height, attempts):\n",
    "        sea = np.ones((width, height))\n",
    "        for attempt in attempts:\n",
    "            try:\n",
    "                sea[attempt[0]-1, attempt[1]-1] *= ProbaPixels.DROP_BOMB\n",
    "            except IndexError:\n",
    "                import pdb; pdb.set_trace()\n",
    "        \n",
    "        return sea\n",
    "    \n",
    "    def calculate(self, func):\n",
    "        legal_count = 0 \n",
    "        proba_pixels = np.zeros((self.size[1], self.size[2]))\n",
    "        \n",
    "        probs_pix, leg_count = func(self.size[1], self.size[2], legal_count, proba_pixels, self.attempts)\n",
    "        return probs_pix / leg_count"
   ]
  },
  {
   "cell_type": "code",
   "execution_count": 23,
   "id": "6ffcf09e",
   "metadata": {},
   "outputs": [],
   "source": [
    "def sample_1(width, height, legal_count, proba_pixels, attempts):\n",
    "    ship_a = Ship(length=5)\n",
    "    ship_b = Ship(length=5)\n",
    "\n",
    "    for x0_a, y0_a, vert_a in Ship.generate_potential_location(width, height):\n",
    "        for x0_b, y0_b, vert_b in Ship.generate_potential_location(width, height):\n",
    "            sea = ProbaPixels.create(width, height, attempts)\n",
    "            try:\n",
    "                ship_a.place(x0=x0_a, y0=y0_a, vert=vert_a, sea=sea)\n",
    "                ship_b.place(x0=x0_b, y0=y0_b, vert=vert_b, sea=sea)\n",
    "            except IndexError:\n",
    "                continue\n",
    "            # If there are no hits\n",
    "            # and if no ships overlap\n",
    "            # and if no ships overlap and were hit,\n",
    "            # then it's a legal configuration\n",
    "            #import pdb; pdb.set_trace()\n",
    "            #if (sea[(5, 6, 7, 8, 9), (5, 5, 5, 5, 5)] == ProbaPixels.PLACE_SHIP).sum() == 5:\n",
    "            #    import pdb; pdb.set_trace()\n",
    "            if ((sea == ProbaPixels.PLACE_SHIP * ProbaPixels.DROP_BOMB) \\\n",
    "                | (sea == ProbaPixels.PLACE_SHIP * ProbaPixels.PLACE_SHIP) \\\n",
    "                | (sea == ProbaPixels.PLACE_SHIP * ProbaPixels.PLACE_SHIP * ProbaPixels.DROP_BOMB)).sum() == 0:\n",
    "                \n",
    "                # if (sea[(5, 6, 7, 8, 9), (5, 5, 5, 5, 5)] == ProbaPixels.PLACE_SHIP).sum() == 5:\n",
    "                #      import pdb; pdb.set_trace()\n",
    "                legal_count += 1\n",
    "                x, y = np.where(sea == PLACE_SHIP)\n",
    "                proba_pixels[x,y] += 1\n",
    "                \n",
    "    return proba_pixels, legal_count"
   ]
  },
  {
   "cell_type": "code",
   "execution_count": 24,
   "id": "753eb34c",
   "metadata": {},
   "outputs": [],
   "source": [
    "ship_1 = Ship(length=5)\n",
    "ship_2 = Ship(length=5)\n",
    "ships = [ship_1, ship_2]\n",
    "attempts = [(1,10),(2,2),(3,8),(4,4),(5,6),(6,5),(7,4),(7,7),(9,2),(9,9)]\n",
    "size = (10_000, 10, 10)\n",
    "proba_pixels = ProbaPixels(size=size, attempts=attempts, ships=ships)\n",
    "probas = proba_pixels.calculate(sample_1)"
   ]
  },
  {
   "cell_type": "code",
   "execution_count": 25,
   "id": "9ca0ac0a",
   "metadata": {},
   "outputs": [
    {
     "data": {
      "text/plain": [
       "[Text(0, 0.5, '1'),\n",
       " Text(0, 1.5, '2'),\n",
       " Text(0, 2.5, '3'),\n",
       " Text(0, 3.5, '4'),\n",
       " Text(0, 4.5, '5'),\n",
       " Text(0, 5.5, '6'),\n",
       " Text(0, 6.5, '7'),\n",
       " Text(0, 7.5, '8'),\n",
       " Text(0, 8.5, '9'),\n",
       " Text(0, 9.5, '10')]"
      ]
     },
     "execution_count": 25,
     "metadata": {},
     "output_type": "execute_result"
    },
    {
     "data": {
      "image/png": "[encoded data removed]",
      "text/plain": [
       "<Figure size 720x720 with 2 Axes>"
      ]
     },
     "metadata": {
      "needs_background": "light"
     },
     "output_type": "display_data"
    }
   ],
   "source": [
    "import seaborn as sns\n",
    "import matplotlib.pyplot as plt\n",
    "fig, ax = plt.subplots(figsize=(10,10))\n",
    "sns.heatmap(probas, annot=True, ax=ax)\n",
    "ax.set_title(\"Posterior Distribution\")\n",
    "ax.set_xlabel(\"Y-axis\")\n",
    "ax.set_ylabel(\"X-axis\")\n",
    "ax.set_xticklabels(list(range(1,11)))\n",
    "ax.set_yticklabels(list(range(1,11)))"
   ]
  },
  {
   "cell_type": "code",
   "execution_count": 32,
   "id": "0cb7e674",
   "metadata": {},
   "outputs": [
    {
     "data": {
      "text/plain": [
       "0.2018348623853211"
      ]
     },
     "execution_count": 32,
     "metadata": {},
     "output_type": "execute_result"
    }
   ],
   "source": [
    "probas.max()"
   ]
  },
  {
   "cell_type": "code",
   "execution_count": 31,
   "id": "239e809f",
   "metadata": {},
   "outputs": [
    {
     "data": {
      "text/plain": [
       "(array([0, 5]), array([4, 9]))"
      ]
     },
     "execution_count": 31,
     "metadata": {},
     "output_type": "execute_result"
    }
   ],
   "source": [
    "np.where(probas == probas.max())"
   ]
  },
  {
   "cell_type": "markdown",
   "id": "f62ffe5e",
   "metadata": {},
   "source": [
    "The most likely spots are (1,6) and (5,10) with 20.18% probability."
   ]
  },
  {
   "cell_type": "markdown",
   "id": "38a8a3c8",
   "metadata": {},
   "source": [
    "## Ex 1.21\n",
    "\n",
    "A game of Battleships is played on a 8 × 8 grid. There are two 5-pixel length ships placed horizontally and two 5-pixel length ships placed vertically, subject to the same constraints as in the previous question. Given ‘misses’ in locations (1, 1), (2, 2) and a ‘hit’ in location (5, 5), which pixel most likely contains\n",
    "a ship and what is that probability?"
   ]
  },
  {
   "cell_type": "code",
   "execution_count": 35,
   "id": "1f5db0f3",
   "metadata": {},
   "outputs": [],
   "source": [
    "def ex_1_21(width, height, legal_count, proba_pixels, attempts):\n",
    "    ship_a = Ship(length=5)\n",
    "    ship_b = Ship(length=5)\n",
    "\n",
    "    for x0_a, y0_a, vert_a in Ship.generate_potential_location(width, height):\n",
    "        for x0_b, y0_b, vert_b in Ship.generate_potential_location(width, height):\n",
    "            sea = ProbaPixels.create(width, height, attempts)\n",
    "            try:\n",
    "                ship_a.place(x0=x0_a, y0=y0_a, vert=vert_a, sea=sea)\n",
    "                ship_b.place(x0=x0_b, y0=y0_b, vert=vert_b, sea=sea)\n",
    "            except IndexError:\n",
    "                continue\n",
    "            \n",
    "            mask = np.ones(sea.shape, bool)\n",
    "            mask[4,4] = False\n",
    "            # If there's a hit at (5,5) (where our indexing starts at 1),\n",
    "            # and there's no other hit,\n",
    "            # and there's no overlap and hit,\n",
    "            # and there's no overlap and no hit\n",
    "            if (sea[4,4] == ProbaPixels.PLACE_SHIP * ProbaPixels.DROP_BOMB) and \\\n",
    "                ((sea[mask] != ProbaPixels.PLACE_SHIP * ProbaPixels.DROP_BOMB).sum() == sea[mask].shape[0]) \\\n",
    "                and ((sea == ProbaPixels.PLACE_SHIP * ProbaPixels.PLACE_SHIP * ProbaPixels.DROP_BOMB)).sum() == 0 \\\n",
    "                and (sea == ProbaPixels.PLACE_SHIP * ProbaPixels.PLACE_SHIP).sum() == 0:\n",
    "                legal_count += 1\n",
    "                x, y = np.where(sea == PLACE_SHIP)\n",
    "                proba_pixels[x,y] += 1\n",
    "                \n",
    "    return proba_pixels, legal_count\n",
    "    "
   ]
  },
  {
   "cell_type": "code",
   "execution_count": 36,
   "id": "2fca40cf",
   "metadata": {},
   "outputs": [],
   "source": [
    "ship_1 = Ship(length=5)\n",
    "ship_2 = Ship(length=5)\n",
    "ships = [ship_1, ship_2]\n",
    "attempts = [(1,1),(2,2),(5,5)]\n",
    "size = (10_000, 8, 8)\n",
    "proba_pixels = ProbaPixels(size=size, attempts=attempts, ships=ships)\n",
    "probas_1_21 = proba_pixels.calculate(ex_1_21)"
   ]
  },
  {
   "cell_type": "code",
   "execution_count": 37,
   "id": "185986d9",
   "metadata": {},
   "outputs": [
    {
     "data": {
      "text/plain": [
       "[Text(0, 0.5, '1'),\n",
       " Text(0, 1.5, '2'),\n",
       " Text(0, 2.5, '3'),\n",
       " Text(0, 3.5, '4'),\n",
       " Text(0, 4.5, '5'),\n",
       " Text(0, 5.5, '6'),\n",
       " Text(0, 6.5, '7'),\n",
       " Text(0, 7.5, '8')]"
      ]
     },
     "execution_count": 37,
     "metadata": {},
     "output_type": "execute_result"
    },
    {
     "data": {
      "image/png": "[encoded data removed]",
      "text/plain": [
       "<Figure size 720x720 with 2 Axes>"
      ]
     },
     "metadata": {
      "needs_background": "light"
     },
     "output_type": "display_data"
    }
   ],
   "source": [
    "import seaborn as sns\n",
    "import matplotlib.pyplot as plt\n",
    "fig, ax = plt.subplots(figsize=(10,10))\n",
    "sns.heatmap(probas_1_21, annot=True, ax=ax)\n",
    "ax.set_title(\"Posterior Distribution\")\n",
    "ax.set_xlabel(\"Y-axis\")\n",
    "ax.set_ylabel(\"X-axis\")\n",
    "ax.set_xticklabels(list(range(1,9)))\n",
    "ax.set_yticklabels(list(range(1,9)))"
   ]
  },
  {
   "cell_type": "code",
   "execution_count": 38,
   "id": "8eacb19f",
   "metadata": {},
   "outputs": [
    {
     "data": {
      "text/plain": [
       "(array([3, 4]), array([4, 3]))"
      ]
     },
     "execution_count": 38,
     "metadata": {},
     "output_type": "execute_result"
    }
   ],
   "source": [
    "np.where(probas_1_21 == probas_1_21.max())"
   ]
  },
  {
   "cell_type": "code",
   "execution_count": 39,
   "id": "01b9cbf8",
   "metadata": {},
   "outputs": [
    {
     "data": {
      "text/plain": [
       "0.5567375886524822"
      ]
     },
     "execution_count": 39,
     "metadata": {},
     "output_type": "execute_result"
    }
   ],
   "source": [
    "probas_1_21.max()"
   ]
  },
  {
   "cell_type": "markdown",
   "id": "1b2ea941",
   "metadata": {},
   "source": [
    "The most likely squares are (5,4), (4,5), each one with 56% probability."
   ]
  },
  {
   "cell_type": "markdown",
   "id": "45c905a9",
   "metadata": {},
   "source": [
    "## Ex 1.22\n",
    "\n"
   ]
  },
  {
   "cell_type": "code",
   "execution_count": 357,
   "id": "f507f41d",
   "metadata": {},
   "outputs": [],
   "source": [
    "def sample_explosions(num_samples=10_000):\n",
    "    radius_mult = np.random.rand(num_samples)\n",
    "    x_deg, y_deg = np.random.rand(2, num_samples) * 2 * np.pi\n",
    "    \n",
    "    x = radius_mult * np.sin(x_deg)\n",
    "    y = radius_mult * np.cos(y_deg)\n",
    "\n",
    "    return (x,y)"
   ]
  },
  {
   "cell_type": "code",
   "execution_count": 359,
   "id": "e0dc36ad",
   "metadata": {},
   "outputs": [],
   "source": [
    "def discretized_sample_explosions():\n",
    "    radius_mult_range = np.arange(0, 1, 0.02)\n",
    "    rotation_range = np.arange(0, 2 * np.pi, 2 * np.pi / 144)\n",
    "    \n",
    "    xs = []\n",
    "    ys = []\n",
    "    \n",
    "    for radius_mult in radius_mult_range:\n",
    "        for rot in rotation_range:\n",
    "            xs.append(radius_mult * np.sin(rot))\n",
    "            ys.append(radius_mult * np.cos(rot))\n",
    "    \n",
    "    return (np.array(xs), np.array(ys))"
   ]
  },
  {
   "cell_type": "code",
   "execution_count": 360,
   "id": "f89d4b3b",
   "metadata": {},
   "outputs": [],
   "source": [
    "real_explosions_x, real_explosions_y = sample_explosions(num_samples=2)"
   ]
  },
  {
   "cell_type": "code",
   "execution_count": 361,
   "id": "a49eeab4",
   "metadata": {},
   "outputs": [
    {
     "data": {
      "text/plain": [
       "(array([-0.39763565,  0.48491629]),)"
      ]
     },
     "execution_count": 361,
     "metadata": {},
     "output_type": "execute_result"
    }
   ],
   "source": [
    "real_explosions_x,"
   ]
  },
  {
   "cell_type": "code",
   "execution_count": 362,
   "id": "8eabc340",
   "metadata": {},
   "outputs": [],
   "source": [
    "sensors_x = np.sin(2 * np.pi / 12 * np.arange(12))\n",
    "sensors_y = np.cos(2 * np.pi / 12 * np.arange(12))"
   ]
  },
  {
   "cell_type": "code",
   "execution_count": 363,
   "id": "5dd0744b",
   "metadata": {},
   "outputs": [],
   "source": [
    "def distance(x0, y0, x1, y1):\n",
    "    return (x0 - x1) ** 2 + (y0 - y1) ** 2"
   ]
  },
  {
   "cell_type": "code",
   "execution_count": 426,
   "id": "6609ff71",
   "metadata": {},
   "outputs": [],
   "source": [
    "def sensor_value_additive(explosions_x, explosions_y, sensor_x, sensor_y, sigma):\n",
    "    d1, d2 = distance(explosions_x, explosions_y, sensor_x, sensor_y)\n",
    "    \n",
    "    #return 1.0 / (d1 + 0.1) + 1.0 / (d2 + 0.1) + sigma * np.random.normal(loc=0, scale=1)\n",
    "    return 1.0 / (d1 + 0.1) + sigma * np.random.normal(loc=0, scale=1)\n",
    "    "
   ]
  },
  {
   "cell_type": "code",
   "execution_count": 427,
   "id": "988438d3",
   "metadata": {},
   "outputs": [
    {
     "data": {
      "text/plain": [
       "array([ 0.00000000e+00,  5.00000000e-01,  8.66025404e-01,  1.00000000e+00,\n",
       "        8.66025404e-01,  5.00000000e-01,  1.22464680e-16, -5.00000000e-01,\n",
       "       -8.66025404e-01, -1.00000000e+00, -8.66025404e-01, -5.00000000e-01])"
      ]
     },
     "execution_count": 427,
     "metadata": {},
     "output_type": "execute_result"
    }
   ],
   "source": [
    "sensors_x"
   ]
  },
  {
   "cell_type": "code",
   "execution_count": 428,
   "id": "9f775dc8",
   "metadata": {},
   "outputs": [
    {
     "data": {
      "text/plain": [
       "array([ 1.00000000e+00,  8.66025404e-01,  5.00000000e-01,  6.12323400e-17,\n",
       "       -5.00000000e-01, -8.66025404e-01, -1.00000000e+00, -8.66025404e-01,\n",
       "       -5.00000000e-01, -1.83697020e-16,  5.00000000e-01,  8.66025404e-01])"
      ]
     },
     "execution_count": 428,
     "metadata": {},
     "output_type": "execute_result"
    }
   ],
   "source": [
    "sensors_y"
   ]
  },
  {
   "cell_type": "code",
   "execution_count": 429,
   "id": "373ddd96",
   "metadata": {},
   "outputs": [],
   "source": [
    "recorded_sensor_values = \\\n",
    "    [sensor_value_additive(real_explosions_x, real_explosions_y, sensors_x[i], sensors_y[i], sigma=0.2) for i in range(12)]"
   ]
  },
  {
   "cell_type": "code",
   "execution_count": 430,
   "id": "12c6599d",
   "metadata": {},
   "outputs": [
    {
     "data": {
      "text/plain": [
       "[0.3560808587016877,\n",
       " 0.657226476480846,\n",
       " 0.6028703971826677,\n",
       " 0.580392788934442,\n",
       " 0.1681352020582897,\n",
       " 0.872588349608572,\n",
       " 1.434517188902943,\n",
       " 2.297198551649991,\n",
       " 2.618569085618946,\n",
       " 1.6956973703895133,\n",
       " 0.7578207841165142,\n",
       " 0.645844289054761]"
      ]
     },
     "execution_count": 430,
     "metadata": {},
     "output_type": "execute_result"
    }
   ],
   "source": [
    "recorded_sensor_values"
   ]
  },
  {
   "cell_type": "code",
   "execution_count": null,
   "id": "56e10ab4",
   "metadata": {},
   "outputs": [],
   "source": []
  },
  {
   "cell_type": "code",
   "execution_count": 411,
   "id": "f67befe2",
   "metadata": {},
   "outputs": [],
   "source": [
    "def likelihood_ex_1_21(d1, d2):\n",
    "    loc = 1.0 / (0.1 + d1) + 1.0 / (0.1 + d2)\n",
    "    scale = 0.2\n",
    "    return loc, scale"
   ]
  },
  {
   "cell_type": "code",
   "execution_count": 412,
   "id": "1086854f",
   "metadata": {},
   "outputs": [],
   "source": [
    "def likelihood_ex_1_12(d1, d2):\n",
    "    loc = 1.0 / (0.1 + d1)\n",
    "    scale = 0.2\n",
    "    return loc, scale"
   ]
  },
  {
   "cell_type": "code",
   "execution_count": 421,
   "id": "461417d9",
   "metadata": {},
   "outputs": [],
   "source": [
    "explosions_x0, explosions_y0 = discretized_sample_explosions()\n",
    "explosions_x1, explosions_y1 = discretized_sample_explosions()\n",
    "\n",
    "def compute_likelihood(\n",
    "    explosions_x0, \n",
    "    explosions_y0, \n",
    "    explosions_x1, \n",
    "    explosions_y1, \n",
    "    recorded_sensor_values,\n",
    "    likelihood_func\n",
    "):\n",
    "    #summation = np.zeros(len(explosions_x0))\n",
    "    prod = 1.0\n",
    "    for sensor_x, sensor_y, sensor_val in zip(sensors_x, sensors_y, recorded_sensor_values):\n",
    "        d1 = distance(explosions_x0, explosions_y0, sensor_x, sensor_y)\n",
    "        d2 = distance(explosions_x1, explosions_y1, sensor_x, sensor_y)\n",
    "\n",
    "        loc, scale = likelihood_func(d1, d2)\n",
    "        normal = st.norm(loc=loc, scale=scale)\n",
    "        \n",
    "        import pdb; pdb.set_trace()\n",
    "        prod *= normal.cdf(sensor_val + 0.3) - normal.cdf(sensor_val - 0.3)\n",
    "\n",
    "    return prod\n",
    "\n",
    "    "
   ]
  },
  {
   "cell_type": "code",
   "execution_count": null,
   "id": "a7b05e0d",
   "metadata": {},
   "outputs": [],
   "source": [
    "explosions_x0, explosions_y0 = discretized_sample_explosions()\n",
    "explosions_x1, explosions_y1 = discretized_sample_explosions()\n",
    "\n",
    "def compute_likelihood_example_1_12(\n",
    "    explosions_x0, \n",
    "    explosions_y0, \n",
    "    explosions_x1, \n",
    "    explosions_y1, \n",
    "    recorded_sensor_values,\n",
    "    likelihood_func\n",
    "):\n",
    "    #summation = np.zeros(len(explosions_x0))\n",
    "    prod = 1.0\n",
    "    for sensor_x, sensor_y, sensor_val in zip(sensors_x, sensors_y, recorded_sensor_values):\n",
    "        d1 = distance(explosions_x0, explosions_y0, sensor_x, sensor_y)\n",
    "        loc, scale = likelihood_func(d1, d2)\n",
    "        normal = st.norm(loc=loc, scale=scale)\n",
    "        #summation += np.log(normal.cdf(sensor_val + 0.1) - normal.cdf(sensor_val - 0.1))\n",
    "        prod *= normal.cdf(sensor_val + 0.3) - normal.cdf(sensor_val - 0.3)\n",
    "\n",
    "    return prod\n",
    "\n",
    "    "
   ]
  },
  {
   "cell_type": "code",
   "execution_count": 422,
   "id": "85450528",
   "metadata": {},
   "outputs": [
    {
     "name": "stdout",
     "output_type": "stream",
     "text": [
      "> \u001b[0;32m<ipython-input-421-922ca3938ced>\u001b[0m(22)\u001b[0;36mcompute_likelihood\u001b[0;34m()\u001b[0m\n",
      "\u001b[0;32m     20 \u001b[0;31m\u001b[0;34m\u001b[0m\u001b[0m\n",
      "\u001b[0m\u001b[0;32m     21 \u001b[0;31m        \u001b[0;32mimport\u001b[0m \u001b[0mpdb\u001b[0m\u001b[0;34m;\u001b[0m \u001b[0mpdb\u001b[0m\u001b[0;34m.\u001b[0m\u001b[0mset_trace\u001b[0m\u001b[0;34m(\u001b[0m\u001b[0;34m)\u001b[0m\u001b[0;34m\u001b[0m\u001b[0;34m\u001b[0m\u001b[0m\n",
      "\u001b[0m\u001b[0;32m---> 22 \u001b[0;31m        \u001b[0mprod\u001b[0m \u001b[0;34m*=\u001b[0m \u001b[0mnormal\u001b[0m\u001b[0;34m.\u001b[0m\u001b[0mcdf\u001b[0m\u001b[0;34m(\u001b[0m\u001b[0msensor_val\u001b[0m \u001b[0;34m+\u001b[0m \u001b[0;36m0.3\u001b[0m\u001b[0;34m)\u001b[0m \u001b[0;34m-\u001b[0m \u001b[0mnormal\u001b[0m\u001b[0;34m.\u001b[0m\u001b[0mcdf\u001b[0m\u001b[0;34m(\u001b[0m\u001b[0msensor_val\u001b[0m \u001b[0;34m-\u001b[0m \u001b[0;36m0.3\u001b[0m\u001b[0;34m)\u001b[0m\u001b[0;34m\u001b[0m\u001b[0;34m\u001b[0m\u001b[0m\n",
      "\u001b[0m\u001b[0;32m     23 \u001b[0;31m\u001b[0;34m\u001b[0m\u001b[0m\n",
      "\u001b[0m\u001b[0;32m     24 \u001b[0;31m    \u001b[0;32mreturn\u001b[0m \u001b[0mprod\u001b[0m\u001b[0;34m\u001b[0m\u001b[0;34m\u001b[0m\u001b[0m\n",
      "\u001b[0m\n",
      "ipdb> normal\n",
      "<scipy.stats._distn_infrastructure.rv_frozen object at 0x17c5d1820>\n",
      "ipdb> sensor_val\n",
      "0.6542304218112867\n",
      "ipdb> normal.cdf(sensor_val + 0.3)\n",
      "array([0.99051643])\n",
      "ipdb> normal.cdf(sensor_val - 0.3)\n",
      "array([0.25661266])\n",
      "ipdb> prod\n",
      "1.0\n",
      "ipdb> c\n",
      "> \u001b[0;32m<ipython-input-421-922ca3938ced>\u001b[0m(21)\u001b[0;36mcompute_likelihood\u001b[0;34m()\u001b[0m\n",
      "\u001b[0;32m     19 \u001b[0;31m        \u001b[0mnormal\u001b[0m \u001b[0;34m=\u001b[0m \u001b[0mst\u001b[0m\u001b[0;34m.\u001b[0m\u001b[0mnorm\u001b[0m\u001b[0;34m(\u001b[0m\u001b[0mloc\u001b[0m\u001b[0;34m=\u001b[0m\u001b[0mloc\u001b[0m\u001b[0;34m,\u001b[0m \u001b[0mscale\u001b[0m\u001b[0;34m=\u001b[0m\u001b[0mscale\u001b[0m\u001b[0;34m)\u001b[0m\u001b[0;34m\u001b[0m\u001b[0;34m\u001b[0m\u001b[0m\n",
      "\u001b[0m\u001b[0;32m     20 \u001b[0;31m\u001b[0;34m\u001b[0m\u001b[0m\n",
      "\u001b[0m\u001b[0;32m---> 21 \u001b[0;31m        \u001b[0;32mimport\u001b[0m \u001b[0mpdb\u001b[0m\u001b[0;34m;\u001b[0m \u001b[0mpdb\u001b[0m\u001b[0;34m.\u001b[0m\u001b[0mset_trace\u001b[0m\u001b[0;34m(\u001b[0m\u001b[0;34m)\u001b[0m\u001b[0;34m\u001b[0m\u001b[0;34m\u001b[0m\u001b[0m\n",
      "\u001b[0m\u001b[0;32m     22 \u001b[0;31m        \u001b[0mprod\u001b[0m \u001b[0;34m*=\u001b[0m \u001b[0mnormal\u001b[0m\u001b[0;34m.\u001b[0m\u001b[0mcdf\u001b[0m\u001b[0;34m(\u001b[0m\u001b[0msensor_val\u001b[0m \u001b[0;34m+\u001b[0m \u001b[0;36m0.3\u001b[0m\u001b[0;34m)\u001b[0m \u001b[0;34m-\u001b[0m \u001b[0mnormal\u001b[0m\u001b[0;34m.\u001b[0m\u001b[0mcdf\u001b[0m\u001b[0;34m(\u001b[0m\u001b[0msensor_val\u001b[0m \u001b[0;34m-\u001b[0m \u001b[0;36m0.3\u001b[0m\u001b[0;34m)\u001b[0m\u001b[0;34m\u001b[0m\u001b[0;34m\u001b[0m\u001b[0m\n",
      "\u001b[0m\u001b[0;32m     23 \u001b[0;31m\u001b[0;34m\u001b[0m\u001b[0m\n",
      "\u001b[0m\n",
      "ipdb> prod\n",
      "array([0.73390377])\n",
      "ipdb> normal.cdf(sensor_val + 0.3)\n",
      "array([0.99984488])\n",
      "ipdb> normal.cdf(sensor_val - 0.3)\n",
      "array([0.72794055])\n",
      "ipdb> c\n",
      "> \u001b[0;32m<ipython-input-421-922ca3938ced>\u001b[0m(22)\u001b[0;36mcompute_likelihood\u001b[0;34m()\u001b[0m\n",
      "\u001b[0;32m     20 \u001b[0;31m\u001b[0;34m\u001b[0m\u001b[0m\n",
      "\u001b[0m\u001b[0;32m     21 \u001b[0;31m        \u001b[0;32mimport\u001b[0m \u001b[0mpdb\u001b[0m\u001b[0;34m;\u001b[0m \u001b[0mpdb\u001b[0m\u001b[0;34m.\u001b[0m\u001b[0mset_trace\u001b[0m\u001b[0;34m(\u001b[0m\u001b[0;34m)\u001b[0m\u001b[0;34m\u001b[0m\u001b[0;34m\u001b[0m\u001b[0m\n",
      "\u001b[0m\u001b[0;32m---> 22 \u001b[0;31m        \u001b[0mprod\u001b[0m \u001b[0;34m*=\u001b[0m \u001b[0mnormal\u001b[0m\u001b[0;34m.\u001b[0m\u001b[0mcdf\u001b[0m\u001b[0;34m(\u001b[0m\u001b[0msensor_val\u001b[0m \u001b[0;34m+\u001b[0m \u001b[0;36m0.3\u001b[0m\u001b[0;34m)\u001b[0m \u001b[0;34m-\u001b[0m \u001b[0mnormal\u001b[0m\u001b[0;34m.\u001b[0m\u001b[0mcdf\u001b[0m\u001b[0;34m(\u001b[0m\u001b[0msensor_val\u001b[0m \u001b[0;34m-\u001b[0m \u001b[0;36m0.3\u001b[0m\u001b[0;34m)\u001b[0m\u001b[0;34m\u001b[0m\u001b[0;34m\u001b[0m\u001b[0m\n",
      "\u001b[0m\u001b[0;32m     23 \u001b[0;31m\u001b[0;34m\u001b[0m\u001b[0m\n",
      "\u001b[0m\u001b[0;32m     24 \u001b[0;31m    \u001b[0;32mreturn\u001b[0m \u001b[0mprod\u001b[0m\u001b[0;34m\u001b[0m\u001b[0;34m\u001b[0m\u001b[0m\n",
      "\u001b[0m\n",
      "ipdb> prod\n",
      "array([0.19955161])\n",
      "ipdb> normal.cdf(sensor_val + 0.3) - normal.cdf(sensor_val - 0.3)\n",
      "array([0.00021299])\n",
      "ipdb> exit\n"
     ]
    },
    {
     "ename": "BdbQuit",
     "evalue": "",
     "output_type": "error",
     "traceback": [
      "\u001b[0;31m---------------------------------------------------------------------------\u001b[0m",
      "\u001b[0;31mBdbQuit\u001b[0m                                   Traceback (most recent call last)",
      "\u001b[0;32m<ipython-input-422-e1463be6e659>\u001b[0m in \u001b[0;36m<module>\u001b[0;34m\u001b[0m\n\u001b[0;32m----> 1\u001b[0;31m compute_likelihood(\n\u001b[0m\u001b[1;32m      2\u001b[0m     \u001b[0mreal_explosions_x\u001b[0m\u001b[0;34m[\u001b[0m\u001b[0;34m[\u001b[0m\u001b[0;36m0\u001b[0m\u001b[0;34m]\u001b[0m\u001b[0;34m]\u001b[0m\u001b[0;34m,\u001b[0m\u001b[0;34m\u001b[0m\u001b[0;34m\u001b[0m\u001b[0m\n\u001b[1;32m      3\u001b[0m     \u001b[0mreal_explosions_y\u001b[0m\u001b[0;34m[\u001b[0m\u001b[0;34m[\u001b[0m\u001b[0;36m0\u001b[0m\u001b[0;34m]\u001b[0m\u001b[0;34m]\u001b[0m\u001b[0;34m,\u001b[0m\u001b[0;34m\u001b[0m\u001b[0;34m\u001b[0m\u001b[0m\n\u001b[1;32m      4\u001b[0m     \u001b[0;34m[\u001b[0m\u001b[0;36m0\u001b[0m\u001b[0;34m]\u001b[0m\u001b[0;34m,\u001b[0m\u001b[0;34m\u001b[0m\u001b[0;34m\u001b[0m\u001b[0m\n\u001b[1;32m      5\u001b[0m     \u001b[0;34m[\u001b[0m\u001b[0;36m0\u001b[0m\u001b[0;34m]\u001b[0m\u001b[0;34m,\u001b[0m\u001b[0;34m\u001b[0m\u001b[0;34m\u001b[0m\u001b[0m\n",
      "\u001b[0;32m<ipython-input-421-922ca3938ced>\u001b[0m in \u001b[0;36mcompute_likelihood\u001b[0;34m(explosions_x0, explosions_y0, explosions_x1, explosions_y1, recorded_sensor_values, likelihood_func)\u001b[0m\n\u001b[1;32m     20\u001b[0m \u001b[0;34m\u001b[0m\u001b[0m\n\u001b[1;32m     21\u001b[0m         \u001b[0;32mimport\u001b[0m \u001b[0mpdb\u001b[0m\u001b[0;34m;\u001b[0m \u001b[0mpdb\u001b[0m\u001b[0;34m.\u001b[0m\u001b[0mset_trace\u001b[0m\u001b[0;34m(\u001b[0m\u001b[0;34m)\u001b[0m\u001b[0;34m\u001b[0m\u001b[0;34m\u001b[0m\u001b[0m\n\u001b[0;32m---> 22\u001b[0;31m         \u001b[0mprod\u001b[0m \u001b[0;34m*=\u001b[0m \u001b[0mnormal\u001b[0m\u001b[0;34m.\u001b[0m\u001b[0mcdf\u001b[0m\u001b[0;34m(\u001b[0m\u001b[0msensor_val\u001b[0m \u001b[0;34m+\u001b[0m \u001b[0;36m0.3\u001b[0m\u001b[0;34m)\u001b[0m \u001b[0;34m-\u001b[0m \u001b[0mnormal\u001b[0m\u001b[0;34m.\u001b[0m\u001b[0mcdf\u001b[0m\u001b[0;34m(\u001b[0m\u001b[0msensor_val\u001b[0m \u001b[0;34m-\u001b[0m \u001b[0;36m0.3\u001b[0m\u001b[0;34m)\u001b[0m\u001b[0;34m\u001b[0m\u001b[0;34m\u001b[0m\u001b[0m\n\u001b[0m\u001b[1;32m     23\u001b[0m \u001b[0;34m\u001b[0m\u001b[0m\n\u001b[1;32m     24\u001b[0m     \u001b[0;32mreturn\u001b[0m \u001b[0mprod\u001b[0m\u001b[0;34m\u001b[0m\u001b[0;34m\u001b[0m\u001b[0m\n",
      "\u001b[0;32m<ipython-input-421-922ca3938ced>\u001b[0m in \u001b[0;36mcompute_likelihood\u001b[0;34m(explosions_x0, explosions_y0, explosions_x1, explosions_y1, recorded_sensor_values, likelihood_func)\u001b[0m\n\u001b[1;32m     20\u001b[0m \u001b[0;34m\u001b[0m\u001b[0m\n\u001b[1;32m     21\u001b[0m         \u001b[0;32mimport\u001b[0m \u001b[0mpdb\u001b[0m\u001b[0;34m;\u001b[0m \u001b[0mpdb\u001b[0m\u001b[0;34m.\u001b[0m\u001b[0mset_trace\u001b[0m\u001b[0;34m(\u001b[0m\u001b[0;34m)\u001b[0m\u001b[0;34m\u001b[0m\u001b[0;34m\u001b[0m\u001b[0m\n\u001b[0;32m---> 22\u001b[0;31m         \u001b[0mprod\u001b[0m \u001b[0;34m*=\u001b[0m \u001b[0mnormal\u001b[0m\u001b[0;34m.\u001b[0m\u001b[0mcdf\u001b[0m\u001b[0;34m(\u001b[0m\u001b[0msensor_val\u001b[0m \u001b[0;34m+\u001b[0m \u001b[0;36m0.3\u001b[0m\u001b[0;34m)\u001b[0m \u001b[0;34m-\u001b[0m \u001b[0mnormal\u001b[0m\u001b[0;34m.\u001b[0m\u001b[0mcdf\u001b[0m\u001b[0;34m(\u001b[0m\u001b[0msensor_val\u001b[0m \u001b[0;34m-\u001b[0m \u001b[0;36m0.3\u001b[0m\u001b[0;34m)\u001b[0m\u001b[0;34m\u001b[0m\u001b[0;34m\u001b[0m\u001b[0m\n\u001b[0m\u001b[1;32m     23\u001b[0m \u001b[0;34m\u001b[0m\u001b[0m\n\u001b[1;32m     24\u001b[0m     \u001b[0;32mreturn\u001b[0m \u001b[0mprod\u001b[0m\u001b[0;34m\u001b[0m\u001b[0;34m\u001b[0m\u001b[0m\n",
      "\u001b[0;32m~/miniconda3/envs/brml/lib/python3.8/bdb.py\u001b[0m in \u001b[0;36mtrace_dispatch\u001b[0;34m(self, frame, event, arg)\u001b[0m\n\u001b[1;32m     86\u001b[0m             \u001b[0;32mreturn\u001b[0m \u001b[0;31m# None\u001b[0m\u001b[0;34m\u001b[0m\u001b[0;34m\u001b[0m\u001b[0m\n\u001b[1;32m     87\u001b[0m         \u001b[0;32mif\u001b[0m \u001b[0mevent\u001b[0m \u001b[0;34m==\u001b[0m \u001b[0;34m'line'\u001b[0m\u001b[0;34m:\u001b[0m\u001b[0;34m\u001b[0m\u001b[0;34m\u001b[0m\u001b[0m\n\u001b[0;32m---> 88\u001b[0;31m             \u001b[0;32mreturn\u001b[0m \u001b[0mself\u001b[0m\u001b[0;34m.\u001b[0m\u001b[0mdispatch_line\u001b[0m\u001b[0;34m(\u001b[0m\u001b[0mframe\u001b[0m\u001b[0;34m)\u001b[0m\u001b[0;34m\u001b[0m\u001b[0;34m\u001b[0m\u001b[0m\n\u001b[0m\u001b[1;32m     89\u001b[0m         \u001b[0;32mif\u001b[0m \u001b[0mevent\u001b[0m \u001b[0;34m==\u001b[0m \u001b[0;34m'call'\u001b[0m\u001b[0;34m:\u001b[0m\u001b[0;34m\u001b[0m\u001b[0;34m\u001b[0m\u001b[0m\n\u001b[1;32m     90\u001b[0m             \u001b[0;32mreturn\u001b[0m \u001b[0mself\u001b[0m\u001b[0;34m.\u001b[0m\u001b[0mdispatch_call\u001b[0m\u001b[0;34m(\u001b[0m\u001b[0mframe\u001b[0m\u001b[0;34m,\u001b[0m \u001b[0marg\u001b[0m\u001b[0;34m)\u001b[0m\u001b[0;34m\u001b[0m\u001b[0;34m\u001b[0m\u001b[0m\n",
      "\u001b[0;32m~/miniconda3/envs/brml/lib/python3.8/bdb.py\u001b[0m in \u001b[0;36mdispatch_line\u001b[0;34m(self, frame)\u001b[0m\n\u001b[1;32m    111\u001b[0m         \u001b[0;32mif\u001b[0m \u001b[0mself\u001b[0m\u001b[0;34m.\u001b[0m\u001b[0mstop_here\u001b[0m\u001b[0;34m(\u001b[0m\u001b[0mframe\u001b[0m\u001b[0;34m)\u001b[0m \u001b[0;32mor\u001b[0m \u001b[0mself\u001b[0m\u001b[0;34m.\u001b[0m\u001b[0mbreak_here\u001b[0m\u001b[0;34m(\u001b[0m\u001b[0mframe\u001b[0m\u001b[0;34m)\u001b[0m\u001b[0;34m:\u001b[0m\u001b[0;34m\u001b[0m\u001b[0;34m\u001b[0m\u001b[0m\n\u001b[1;32m    112\u001b[0m             \u001b[0mself\u001b[0m\u001b[0;34m.\u001b[0m\u001b[0muser_line\u001b[0m\u001b[0;34m(\u001b[0m\u001b[0mframe\u001b[0m\u001b[0;34m)\u001b[0m\u001b[0;34m\u001b[0m\u001b[0;34m\u001b[0m\u001b[0m\n\u001b[0;32m--> 113\u001b[0;31m             \u001b[0;32mif\u001b[0m \u001b[0mself\u001b[0m\u001b[0;34m.\u001b[0m\u001b[0mquitting\u001b[0m\u001b[0;34m:\u001b[0m \u001b[0;32mraise\u001b[0m \u001b[0mBdbQuit\u001b[0m\u001b[0;34m\u001b[0m\u001b[0;34m\u001b[0m\u001b[0m\n\u001b[0m\u001b[1;32m    114\u001b[0m         \u001b[0;32mreturn\u001b[0m \u001b[0mself\u001b[0m\u001b[0;34m.\u001b[0m\u001b[0mtrace_dispatch\u001b[0m\u001b[0;34m\u001b[0m\u001b[0;34m\u001b[0m\u001b[0m\n\u001b[1;32m    115\u001b[0m \u001b[0;34m\u001b[0m\u001b[0m\n",
      "\u001b[0;31mBdbQuit\u001b[0m: "
     ]
    }
   ],
   "source": [
    "compute_likelihood(\n",
    "    real_explosions_x[[0]],\n",
    "    real_explosions_y[[0]],\n",
    "    [0],\n",
    "    [0],\n",
    "    recorded_sensor_values,\n",
    "    likelihood_func=likelihood_ex_1_12\n",
    ")"
   ]
  },
  {
   "cell_type": "code",
   "execution_count": 414,
   "id": "aa27c860",
   "metadata": {},
   "outputs": [
    {
     "data": {
      "text/plain": [
       "12"
      ]
     },
     "execution_count": 414,
     "metadata": {},
     "output_type": "execute_result"
    }
   ],
   "source": [
    "len(recorded_sensor_values)"
   ]
  },
  {
   "cell_type": "code",
   "execution_count": 415,
   "id": "4c9e31c9",
   "metadata": {},
   "outputs": [],
   "source": [
    "probas_1_12 = compute_likelihood(\n",
    "    explosions_x0, \n",
    "    explosions_y0, \n",
    "    explosions_x1,\n",
    "    explosions_y1, \n",
    "    recorded_sensor_values,\n",
    "    likelihood_func=likelihood_ex_1_12\n",
    ")\n"
   ]
  },
  {
   "cell_type": "code",
   "execution_count": 417,
   "id": "b8ce98ee",
   "metadata": {},
   "outputs": [
    {
     "data": {
      "text/plain": [
       "0.0"
      ]
     },
     "execution_count": 417,
     "metadata": {},
     "output_type": "execute_result"
    }
   ],
   "source": [
    "probas_1_12.max()"
   ]
  },
  {
   "cell_type": "code",
   "execution_count": null,
   "id": "430a4724",
   "metadata": {},
   "outputs": [],
   "source": []
  },
  {
   "cell_type": "code",
   "execution_count": 386,
   "id": "cf591ebf",
   "metadata": {},
   "outputs": [],
   "source": [
    "probas_1_21 = compute_likelihood(\n",
    "    explosions_x0, \n",
    "    explosions_y0, \n",
    "    explosions_x1, \n",
    "    explosions_y1, \n",
    "    recorded_sensor_values,\n",
    "    likelihood_func=likelihood_ex_1_21\n",
    ")\n"
   ]
  },
  {
   "cell_type": "code",
   "execution_count": 418,
   "id": "98ac8b39",
   "metadata": {},
   "outputs": [
    {
     "data": {
      "text/plain": [
       "(array([-0.39763565]), array([-0.34304207]))"
      ]
     },
     "execution_count": 418,
     "metadata": {},
     "output_type": "execute_result"
    }
   ],
   "source": [
    "real_explosions_x[[0]], real_explosions_y[[0]]"
   ]
  },
  {
   "cell_type": "code",
   "execution_count": 420,
   "id": "03079017",
   "metadata": {},
   "outputs": [
    {
     "data": {
      "text/plain": [
       "array([0.])"
      ]
     },
     "execution_count": 420,
     "metadata": {},
     "output_type": "execute_result"
    }
   ],
   "source": [
    "compute_likelihood(\n",
    "    real_explosions_x[[0]],\n",
    "    real_explosions_y[[0]],\n",
    "    [0],\n",
    "    [0],\n",
    "    recorded_sensor_values,\n",
    "    likelihood_func=likelihood_ex_1_12\n",
    ")"
   ]
  },
  {
   "cell_type": "raw",
   "id": "511912b0",
   "metadata": {},
   "source": []
  },
  {
   "cell_type": "code",
   "execution_count": 387,
   "id": "1653f186",
   "metadata": {},
   "outputs": [],
   "source": [
    "if probas_1_21.max() > 1:\n",
    "    rescaled_probas_1_21 = probas_1_21 / probas_1_21.max()"
   ]
  },
  {
   "cell_type": "code",
   "execution_count": 388,
   "id": "3283f41e",
   "metadata": {},
   "outputs": [
    {
     "data": {
      "text/plain": [
       "0.0076089563301648105"
      ]
     },
     "execution_count": 388,
     "metadata": {},
     "output_type": "execute_result"
    }
   ],
   "source": [
    "rescaled_probas_1_21.max()"
   ]
  },
  {
   "cell_type": "code",
   "execution_count": 389,
   "id": "99a790e2",
   "metadata": {},
   "outputs": [
    {
     "data": {
      "text/plain": [
       "array([0., 0., 0., ..., 0., 0., 0.])"
      ]
     },
     "execution_count": 389,
     "metadata": {},
     "output_type": "execute_result"
    }
   ],
   "source": [
    "probas_1_21"
   ]
  },
  {
   "cell_type": "code",
   "execution_count": 390,
   "id": "0478669e",
   "metadata": {},
   "outputs": [
    {
     "data": {
      "text/plain": [
       "3.9351409007604034e-50"
      ]
     },
     "execution_count": 390,
     "metadata": {},
     "output_type": "execute_result"
    }
   ],
   "source": [
    "probas_1_21.max()"
   ]
  },
  {
   "cell_type": "code",
   "execution_count": 391,
   "id": "406d1fe8",
   "metadata": {},
   "outputs": [
    {
     "data": {
      "text/plain": [
       "array([2.70262354e-007, 2.70262354e-007, 2.70262354e-007, ...,\n",
       "       6.82886960e-265, 5.57786346e-297, 0.00000000e+000])"
      ]
     },
     "execution_count": 391,
     "metadata": {},
     "output_type": "execute_result"
    }
   ],
   "source": [
    "rescaled_probas_1_21"
   ]
  },
  {
   "cell_type": "code",
   "execution_count": 392,
   "id": "8ff92cbc",
   "metadata": {},
   "outputs": [
    {
     "data": {
      "text/plain": [
       "2.8769477285086737e-49"
      ]
     },
     "execution_count": 392,
     "metadata": {},
     "output_type": "execute_result"
    }
   ],
   "source": [
    "probas_1_21.sum()"
   ]
  },
  {
   "cell_type": "code",
   "execution_count": 394,
   "id": "d43c57f3",
   "metadata": {},
   "outputs": [
    {
     "data": {
      "text/plain": [
       "array([ 0.        ,  0.        ,  0.        , ..., -0.12791567,\n",
       "       -0.08541263, -0.042747  ])"
      ]
     },
     "execution_count": 394,
     "metadata": {},
     "output_type": "execute_result"
    }
   ],
   "source": []
  },
  {
   "cell_type": "code",
   "execution_count": 402,
   "id": "027e09df",
   "metadata": {
    "scrolled": false
   },
   "outputs": [],
   "source": [
    "import matplotlib.pyplot as plt\n",
    "from matplotlib.patches import Circle\n",
    "\n",
    "def plot_explosions(real_explosions_x, real_explosions_y):\n",
    "    # Create a figure. Equal aspect so circles look circular\n",
    "    fig,ax = plt.subplots(1, figsize=(10,10))\n",
    "    ax.set_aspect('equal')\n",
    "    ax.set_xlim((-1.25,1.25))\n",
    "    ax.set_ylim((-1.25,1.25))\n",
    "    \n",
    "    sensor_circle = Circle((0, 0), 1, fill=False)\n",
    "    ax.add_patch(sensor_circle)\n",
    "    \n",
    "    # Show the location of the 12 sensors\n",
    "    for i in range(12):\n",
    "        ax.add_patch(Circle((np.sin(2 * np.pi / 12 * i), np.cos(2 * np.pi / 12 * i)), radius=0.02))\n",
    "\n",
    "    # Mark the real explosions\n",
    "    for j in range(len(real_explosions_x)):\n",
    "        ax.add_patch(Circle((real_explosions_x[j], real_explosions_y[j]), radius=0.02, color='r'))\n",
    "\n",
    "    return fig, ax\n",
    "\n",
    "def plot_probas_2_explosions(probas, fig, ax):\n",
    "    rescaled_probas = probas / probas.sum()\n",
    "    \n",
    "    for x0, y0, x1, y1, proba in zip(explosions_x0, explosions_y0, explosions_x1, explosions_y1, rescaled_probas):\n",
    "        ax.add_patch(Circle((x0, y0), radius=0.02, color='black', alpha=proba))\n",
    "        ax.add_patch(Circle((x1, y1), radius=0.02, color='black', alpha=proba))\n",
    "        \n",
    "    plt.show()\n",
    "\n",
    "def plot_probas_1_explosion(probas, fig, ax):\n",
    "    rescaled_probas = probas / probas.sum()\n",
    "    \n",
    "    for x0, y0, proba in zip(explosions_x0, explosions_y0, rescaled_probas):\n",
    "        ax.add_patch(Circle((x0, y0), radius=0.02, color='black', alpha=proba))\n",
    "        \n",
    "    plt.show()"
   ]
  },
  {
   "cell_type": "code",
   "execution_count": 403,
   "id": "63e980a8",
   "metadata": {},
   "outputs": [
    {
     "name": "stderr",
     "output_type": "stream",
     "text": [
      "<ipython-input-402-cbb439529ec2>:34: RuntimeWarning: invalid value encountered in true_divide\n",
      "  rescaled_probas = probas / probas.sum()\n"
     ]
    },
    {
     "data": {
      "image/png": "[encoded data removed]",
      "text/plain": [
       "<Figure size 720x720 with 1 Axes>"
      ]
     },
     "metadata": {
      "needs_background": "light"
     },
     "output_type": "display_data"
    }
   ],
   "source": [
    "\n",
    "\n",
    "#fig, ax = plot_explosions(real_explosions_x, real_explosions_y)\n",
    "\n",
    "#plot_probas_2_explosions(probas_1_21, fig, ax)\n",
    "\n",
    "fig, ax = plot_explosions(real_explosions_x[[0]], real_explosions_y[[1]])\n",
    "plot_probas_1_explosion(probas_1_12, fig, ax)"
   ]
  },
  {
   "cell_type": "code",
   "execution_count": 405,
   "id": "0cde8005",
   "metadata": {},
   "outputs": [
    {
     "data": {
      "text/plain": [
       "0.0"
      ]
     },
     "execution_count": 405,
     "metadata": {},
     "output_type": "execute_result"
    }
   ],
   "source": [
    "probas_1_12.sum()"
   ]
  },
  {
   "cell_type": "code",
   "execution_count": null,
   "id": "a0fbe997",
   "metadata": {},
   "outputs": [],
   "source": []
  }
 ],
 "metadata": {
  "kernelspec": {
   "display_name": "Python 3",
   "language": "python",
   "name": "python3"
  },
  "language_info": {
   "codemirror_mode": {
    "name": "ipython",
    "version": 3
   },
   "file_extension": ".py",
   "mimetype": "text/x-python",
   "name": "python",
   "nbconvert_exporter": "python",
   "pygments_lexer": "ipython3",
   "version": "3.8.10"
  },
  "toc": {
   "base_numbering": 1,
   "colors": {
    "hover_highlight": "#DAA520",
    "navigate_num": "#000000",
    "navigate_text": "#333333",
    "running_highlight": "#FF0000",
    "selected_highlight": "#FFD700",
    "sidebar_border": "#EEEEEE",
    "wrapper_background": "#FFFFFF"
   },
   "moveMenuLeft": true,
   "nav_menu": {
    "height": "93.9333px",
    "width": "253.8px"
   },
   "navigate_menu": true,
   "number_sections": true,
   "sideBar": true,
   "skip_h1_title": false,
   "threshold": "5",
   "title_cell": "Table of Contents",
   "title_sidebar": "Contents",
   "toc_cell": true,
   "toc_position": {},
   "toc_section_display": "block",
   "toc_window_display": true,
   "widenNotebook": false
  }
 },
 "nbformat": 4,
 "nbformat_minor": 5
}
