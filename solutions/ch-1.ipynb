{
 "cells": [
  {
   "cell_type": "markdown",
   "id": "e6c904d5",
   "metadata": {
    "toc": "true"
   },
   "source": [
    "# Table of Contents\n",
    " <p><div class=\"lev1 toc-item\"><a href=\"#Chapter-1\" data-toc-modified-id=\"Chapter-1-1\"><span class=\"toc-item-num\">1&nbsp;&nbsp;</span>Chapter 1</a></div><div class=\"lev2 toc-item\"><a href=\"#Ex-1.1\" data-toc-modified-id=\"Ex-1.1-11\"><span class=\"toc-item-num\">1.1&nbsp;&nbsp;</span>Ex 1.1</a></div><div class=\"lev2 toc-item\"><a href=\"#Ans-1.1\" data-toc-modified-id=\"Ans-1.1-12\"><span class=\"toc-item-num\">1.2&nbsp;&nbsp;</span>Ans 1.1</a></div><div class=\"lev1 toc-item\"><a href=\"#Ex-1.2\" data-toc-modified-id=\"Ex-1.2-2\"><span class=\"toc-item-num\">2&nbsp;&nbsp;</span>Ex 1.2</a></div><div class=\"lev3 toc-item\"><a href=\"#Ans\" data-toc-modified-id=\"Ans-201\"><span class=\"toc-item-num\">2.0.1&nbsp;&nbsp;</span>Ans</a></div><div class=\"lev2 toc-item\"><a href=\"#Ex-1.3\" data-toc-modified-id=\"Ex-1.3-21\"><span class=\"toc-item-num\">2.1&nbsp;&nbsp;</span>Ex 1.3</a></div><div class=\"lev3 toc-item\"><a href=\"#Ans\" data-toc-modified-id=\"Ans-211\"><span class=\"toc-item-num\">2.1.1&nbsp;&nbsp;</span>Ans</a></div><div class=\"lev2 toc-item\"><a href=\"#Ex-1.4\" data-toc-modified-id=\"Ex-1.4-22\"><span class=\"toc-item-num\">2.2&nbsp;&nbsp;</span>Ex 1.4</a></div><div class=\"lev3 toc-item\"><a href=\"#Ans\" data-toc-modified-id=\"Ans-221\"><span class=\"toc-item-num\">2.2.1&nbsp;&nbsp;</span>Ans</a></div><div class=\"lev2 toc-item\"><a href=\"#Ex-1.5\" data-toc-modified-id=\"Ex-1.5-23\"><span class=\"toc-item-num\">2.3&nbsp;&nbsp;</span>Ex 1.5</a></div><div class=\"lev3 toc-item\"><a href=\"#Ans\" data-toc-modified-id=\"Ans-231\"><span class=\"toc-item-num\">2.3.1&nbsp;&nbsp;</span>Ans</a></div>"
   ]
  },
  {
   "cell_type": "markdown",
   "id": "70685eef",
   "metadata": {},
   "source": [
    "# Chapter 1"
   ]
  },
  {
   "cell_type": "markdown",
   "id": "16000c78",
   "metadata": {},
   "source": [
    "## Ex 1.1\n",
    "\n",
    "Prove \n",
    "\n",
    "$\n",
    "p(x,y \\mid z) = p(x \\mid z)p(y \\mid x,z)\n",
    "$\n",
    "\n",
    "and also\n",
    "\n",
    "$\n",
    "p(x \\mid y,z) = \\frac{p(y \\mid x, z)p(x \\mid z)}{p(y \\mid z)}\n",
    "$"
   ]
  },
  {
   "cell_type": "markdown",
   "id": "3aee6eb3",
   "metadata": {},
   "source": [
    "## Ans 1.1\n",
    "\n",
    "$$\n",
    "\\begin{equation}\n",
    "\\begin{aligned}\n",
    "p(x,y \\mid z) &= p(x \\mid z)p(y \\mid x,z) \\\\\n",
    "  &= \\frac{p(x,z)}{p(z)} \\cdot \\frac{p(y,x,z)}{p(x,z)} \\\\\n",
    "  &= \\frac{p(y,x,z)}{p(z)} \\\\\n",
    "  &= p(y,x \\mid z)\n",
    "\\end{aligned}\n",
    "\\end{equation}\n",
    "$$\n"
   ]
  },
  {
   "cell_type": "markdown",
   "id": "6ff492c5",
   "metadata": {},
   "source": [
    "\n",
    "$$\n",
    "\\begin{equation}\n",
    "\\begin{aligned}\n",
    "p(x \\mid y,z) &= \\frac{p(y \\mid x, z)p(x \\mid z)}{p(y \\mid z)} \\\\ \n",
    "  &= \\frac{ \\frac{p(y, x, z)}{p(x,z)} \\cdot \\frac{p(x, z)}{p(z)} }{\\frac{p(y, z)}{p(z)}} \\\\ \n",
    "  &= \\frac{\\frac{p(y, x, z)}{p(z)}}{\\frac{p(y, z)}{p(z)}} \\\\ \n",
    "  &= \\frac{p(y,x,z)}{p(y,z)} \\\\ \n",
    "  &= p(x \\mid y,z)\n",
    "\\end{aligned}\n",
    "\\end{equation}\n",
    "$$\n"
   ]
  },
  {
   "cell_type": "markdown",
   "id": "c79b8591",
   "metadata": {},
   "source": [
    "# Ex 1.2 \n",
    "\n",
    "Prove the Bonferroni inequality.\n",
    "$\n",
    "p(a,b) \\geq p(a) + p(b) - 1\n",
    "$"
   ]
  },
  {
   "cell_type": "markdown",
   "id": "fef08c5e",
   "metadata": {},
   "source": [
    "### Ans\n",
    "<img src='img/prove-bonferroni-ineq.jpg'>"
   ]
  },
  {
   "cell_type": "markdown",
   "id": "2a8afbef",
   "metadata": {},
   "source": [
    "## Ex 1.3\n",
    "\n",
    "There are two boxes. Box 1 contains three red and five white balls and box 2 contains two red and five white balls. A box is chosen at random $p(box=1)=p(box=2) = 0.5$ and a ball chosen at random from this box turns out to be red. What is the posterior probability that the red ball came from box 1?"
   ]
  },
  {
   "cell_type": "markdown",
   "id": "964ed1ab",
   "metadata": {},
   "source": [
    "### Ans\n",
    "\n",
    "$$\n",
    "\\begin{equation}\n",
    "\\begin{aligned}\n",
    "p(box = 1 \\mid ball = r) &= \\frac{p(ball = r \\mid box = 1) \\cdot p(box = 1)}{p(ball=r)} \\\\\n",
    "&= \\frac{p(ball = r \\mid box = 1) \\cdot p(box = 1)}{p(ball = r \\mid box = 1) \\cdot p(box = 1) + p(ball = r \\mid box = 2) \\cdot p(box = 2)} \\\\\n",
    "&= \\frac{\\frac{3}{8} \\cdot \\frac{1}{2}}{\\frac{3}{8} \\cdot \\frac{1}{2} + \\frac{2}{7} \\cdot \\frac{1}{2}} \\\\\n",
    "&= \\frac{\\frac{3}{8}}{\\frac{21 + 16}{56}} \\\\\n",
    "&= \\frac{\\frac{3}{1}}{\\frac{37}{7}} \\\\\n",
    "&= \\frac{21}{37}\n",
    "\\end{aligned}\n",
    "\\end{equation}\n",
    "$$\n"
   ]
  },
  {
   "cell_type": "markdown",
   "id": "16bbeef3",
   "metadata": {},
   "source": [
    "## Ex 1.4\n",
    "\n",
    "Two balls are placed in a box as follows: A fair coin is tossed and a white ball is placed in the box if a head occurs, otherwise a red ball is placed in the box. The coin is tossed again and a red ball is placed in the box if a tail occurs, otherwise a white ball is placed in the box. Balls are drawn from the box three times in succession (always with replacing the drawn ball in the box). It is found that on all three occasions a red ball is drawn. What is the probability that both balls in the box are red?"
   ]
  },
  {
   "cell_type": "markdown",
   "id": "55afd4b0",
   "metadata": {},
   "source": [
    "### Ans"
   ]
  },
  {
   "cell_type": "code",
   "execution_count": 1,
   "id": "61804a57",
   "metadata": {},
   "outputs": [
    {
     "data": {
      "image/svg+xml": [
       "<?xml version=\"1.0\" encoding=\"UTF-8\" standalone=\"no\"?>\n",
       "<!DOCTYPE svg PUBLIC \"-//W3C//DTD SVG 1.1//EN\"\n",
       " \"http://www.w3.org/Graphics/SVG/1.1/DTD/svg11.dtd\">\n",
       "<!-- Generated by graphviz version 2.47.0 (0)\n",
       " -->\n",
       "<!-- Title: Ex 1.4 Pages: 1 -->\n",
       "<svg width=\"413pt\" height=\"188pt\"\n",
       " viewBox=\"0.00 0.00 413.49 188.00\" xmlns=\"http://www.w3.org/2000/svg\" xmlns:xlink=\"http://www.w3.org/1999/xlink\">\n",
       "<g id=\"graph0\" class=\"graph\" transform=\"scale(1 1) rotate(0) translate(4 184)\">\n",
       "<title>Ex 1.4</title>\n",
       "<polygon fill=\"white\" stroke=\"transparent\" points=\"-4,4 -4,-184 409.49,-184 409.49,4 -4,4\"/>\n",
       "<!-- Coin 1 -->\n",
       "<g id=\"node1\" class=\"node\">\n",
       "<title>Coin 1</title>\n",
       "<ellipse fill=\"none\" stroke=\"black\" cx=\"158.74\" cy=\"-162\" rx=\"35.19\" ry=\"18\"/>\n",
       "<text text-anchor=\"middle\" x=\"158.74\" y=\"-158.3\" font-family=\"Times,serif\" font-size=\"14.00\">Coin 1</text>\n",
       "</g>\n",
       "<!-- Ball 1 -->\n",
       "<g id=\"node2\" class=\"node\">\n",
       "<title>Ball 1</title>\n",
       "<ellipse fill=\"none\" stroke=\"black\" cx=\"160.74\" cy=\"-90\" rx=\"32.49\" ry=\"18\"/>\n",
       "<text text-anchor=\"middle\" x=\"160.74\" y=\"-86.3\" font-family=\"Times,serif\" font-size=\"14.00\">Ball 1</text>\n",
       "</g>\n",
       "<!-- Coin 1&#45;&gt;Ball 1 -->\n",
       "<g id=\"edge1\" class=\"edge\">\n",
       "<title>Coin 1&#45;&gt;Ball 1</title>\n",
       "<path fill=\"none\" stroke=\"black\" d=\"M159.24,-143.7C159.46,-135.98 159.72,-126.71 159.97,-118.11\"/>\n",
       "<polygon fill=\"black\" stroke=\"black\" points=\"163.47,-118.2 160.26,-108.1 156.47,-118 163.47,-118.2\"/>\n",
       "</g>\n",
       "<!-- Sample 1=red -->\n",
       "<g id=\"node5\" class=\"node\">\n",
       "<title>Sample 1=red</title>\n",
       "<ellipse fill=\"none\" stroke=\"black\" cx=\"61.74\" cy=\"-18\" rx=\"61.99\" ry=\"18\"/>\n",
       "<text text-anchor=\"middle\" x=\"61.74\" y=\"-14.3\" font-family=\"Times,serif\" font-size=\"14.00\">Sample 1=red</text>\n",
       "</g>\n",
       "<!-- Ball 1&#45;&gt;Sample 1=red -->\n",
       "<g id=\"edge3\" class=\"edge\">\n",
       "<title>Ball 1&#45;&gt;Sample 1=red</title>\n",
       "<path fill=\"none\" stroke=\"black\" d=\"M141.19,-75.17C127.4,-65.42 108.64,-52.16 92.82,-40.97\"/>\n",
       "<polygon fill=\"black\" stroke=\"black\" points=\"94.57,-37.92 84.38,-35.01 90.53,-43.64 94.57,-37.92\"/>\n",
       "</g>\n",
       "<!-- Sample 2=red -->\n",
       "<g id=\"node6\" class=\"node\">\n",
       "<title>Sample 2=red</title>\n",
       "<ellipse fill=\"none\" stroke=\"black\" cx=\"202.74\" cy=\"-18\" rx=\"61.99\" ry=\"18\"/>\n",
       "<text text-anchor=\"middle\" x=\"202.74\" y=\"-14.3\" font-family=\"Times,serif\" font-size=\"14.00\">Sample 2=red</text>\n",
       "</g>\n",
       "<!-- Ball 1&#45;&gt;Sample 2=red -->\n",
       "<g id=\"edge5\" class=\"edge\">\n",
       "<title>Ball 1&#45;&gt;Sample 2=red</title>\n",
       "<path fill=\"none\" stroke=\"black\" d=\"M170.49,-72.76C175.48,-64.44 181.68,-54.1 187.31,-44.73\"/>\n",
       "<polygon fill=\"black\" stroke=\"black\" points=\"190.33,-46.5 192.47,-36.12 184.32,-42.9 190.33,-46.5\"/>\n",
       "</g>\n",
       "<!-- Sample 3=red -->\n",
       "<g id=\"node7\" class=\"node\">\n",
       "<title>Sample 3=red</title>\n",
       "<ellipse fill=\"none\" stroke=\"black\" cx=\"343.74\" cy=\"-18\" rx=\"61.99\" ry=\"18\"/>\n",
       "<text text-anchor=\"middle\" x=\"343.74\" y=\"-14.3\" font-family=\"Times,serif\" font-size=\"14.00\">Sample 3=red</text>\n",
       "</g>\n",
       "<!-- Ball 1&#45;&gt;Sample 3=red -->\n",
       "<g id=\"edge7\" class=\"edge\">\n",
       "<title>Ball 1&#45;&gt;Sample 3=red</title>\n",
       "<path fill=\"none\" stroke=\"black\" d=\"M186.64,-78.69C192.27,-76.47 198.2,-74.14 203.74,-72 235.05,-59.89 270.39,-46.51 297.74,-36.22\"/>\n",
       "<polygon fill=\"black\" stroke=\"black\" points=\"299.3,-39.38 307.43,-32.58 296.84,-32.82 299.3,-39.38\"/>\n",
       "</g>\n",
       "<!-- Coin 2 -->\n",
       "<g id=\"node3\" class=\"node\">\n",
       "<title>Coin 2</title>\n",
       "<ellipse fill=\"none\" stroke=\"black\" cx=\"246.74\" cy=\"-162\" rx=\"35.19\" ry=\"18\"/>\n",
       "<text text-anchor=\"middle\" x=\"246.74\" y=\"-158.3\" font-family=\"Times,serif\" font-size=\"14.00\">Coin 2</text>\n",
       "</g>\n",
       "<!-- Ball 2 -->\n",
       "<g id=\"node4\" class=\"node\">\n",
       "<title>Ball 2</title>\n",
       "<ellipse fill=\"none\" stroke=\"black\" cx=\"244.74\" cy=\"-90\" rx=\"32.49\" ry=\"18\"/>\n",
       "<text text-anchor=\"middle\" x=\"244.74\" y=\"-86.3\" font-family=\"Times,serif\" font-size=\"14.00\">Ball 2</text>\n",
       "</g>\n",
       "<!-- Coin 2&#45;&gt;Ball 2 -->\n",
       "<g id=\"edge2\" class=\"edge\">\n",
       "<title>Coin 2&#45;&gt;Ball 2</title>\n",
       "<path fill=\"none\" stroke=\"black\" d=\"M246.25,-143.7C246.03,-135.98 245.76,-126.71 245.52,-118.11\"/>\n",
       "<polygon fill=\"black\" stroke=\"black\" points=\"249.02,-118 245.23,-108.1 242.02,-118.2 249.02,-118\"/>\n",
       "</g>\n",
       "<!-- Ball 2&#45;&gt;Sample 1=red -->\n",
       "<g id=\"edge4\" class=\"edge\">\n",
       "<title>Ball 2&#45;&gt;Sample 1=red</title>\n",
       "<path fill=\"none\" stroke=\"black\" d=\"M218.85,-78.69C213.21,-76.47 207.28,-74.14 201.74,-72 170.44,-59.89 135.1,-46.51 107.75,-36.22\"/>\n",
       "<polygon fill=\"black\" stroke=\"black\" points=\"108.65,-32.82 98.06,-32.58 106.19,-39.38 108.65,-32.82\"/>\n",
       "</g>\n",
       "<!-- Ball 2&#45;&gt;Sample 2=red -->\n",
       "<g id=\"edge6\" class=\"edge\">\n",
       "<title>Ball 2&#45;&gt;Sample 2=red</title>\n",
       "<path fill=\"none\" stroke=\"black\" d=\"M235,-72.76C230.01,-64.44 223.81,-54.1 218.18,-44.73\"/>\n",
       "<polygon fill=\"black\" stroke=\"black\" points=\"221.17,-42.9 213.02,-36.12 215.16,-46.5 221.17,-42.9\"/>\n",
       "</g>\n",
       "<!-- Ball 2&#45;&gt;Sample 3=red -->\n",
       "<g id=\"edge8\" class=\"edge\">\n",
       "<title>Ball 2&#45;&gt;Sample 3=red</title>\n",
       "<path fill=\"none\" stroke=\"black\" d=\"M264.3,-75.17C278.09,-65.42 296.85,-52.16 312.67,-40.97\"/>\n",
       "<polygon fill=\"black\" stroke=\"black\" points=\"314.96,-43.64 321.11,-35.01 310.92,-37.92 314.96,-43.64\"/>\n",
       "</g>\n",
       "</g>\n",
       "</svg>\n"
      ],
      "text/plain": [
       "<graphviz.dot.Digraph at 0x109f33970>"
      ]
     },
     "execution_count": 1,
     "metadata": {},
     "output_type": "execute_result"
    }
   ],
   "source": [
    "from graphviz import Digraph\n",
    "dot = Digraph('Ex 1.4')\n",
    "dot.edge('Coin 1', 'Ball 1')\n",
    "dot.edge('Coin 2', 'Ball 2')\n",
    "dot.edge('Ball 1', 'Sample 1=red')\n",
    "dot.edge('Ball 2', 'Sample 1=red')\n",
    "dot.edge('Ball 1', 'Sample 2=red')\n",
    "dot.edge('Ball 2', 'Sample 2=red')\n",
    "dot.edge('Ball 1', 'Sample 3=red')\n",
    "dot.edge('Ball 2', 'Sample 3=red')\n",
    "dot"
   ]
  },
  {
   "cell_type": "markdown",
   "id": "4ebe637e",
   "metadata": {},
   "source": [
    "\n",
    "$$\n",
    " \\begin{equation}\n",
    "\\begin{aligned}\n",
    "P(B_1 = r, B_2 = r \\mid S_1 = r, S_2 = r, S_3 = r)\n",
    "&= \\frac{ P(S_1 = r, S_2 = r, S_3 = r \\mid B_1 = r, B_2 = r)\n",
    "  \\cdot P(B_1 = r, B_2 = r) }{ P(S_1=r, S_2=r, S_3=r)} \\\\\n",
    "&= \\frac{ P(S_1 = r \\mid B_1 = r, B_2 = r) \\cdot P(S_2 = r \\mid B_1 = r, B_2 = r) \\cdot P(S_3 = r \\mid B_1 = r, B_2 = r) \\cdot P(B_1 = r, B_2 = r) }{ P(S_1=r, S_2=r, S_3=r) } \n",
    "&\\text{Samples are independent from each other, given we know what the actual types of balls are.} \\\\\n",
    "&= \\frac{P(B_1=r, B_2=r)}{ P(S_1=r, S_2=r, S_3=r) } &\\text{If both balls are red, then each sample will certainly be red} \\\\\n",
    "&= \\frac{P(B_1=r)P(B_2=r)}{ P(S_1=r, S_2=r, S_3=r) } &\\text{$B_1$ is marginally independent from $B_2$.} \\\\\n",
    "&= \\frac{\\frac{1}{2} \\cdot \\frac{1}{2}}{ P(S_1=r, S_2=r, S_3=r) } &\\text{Ball type is determined by a fair coin flip.} \\\\\n",
    "&= \\frac{\\frac{1}{4}}{ P(S_1=r, S_2=r, S_3=r) } &\\text{Simplify} \\\\\n",
    "&= \\frac{\\frac{1}{4}}{ P(S_1 = r \\mid B_1 = r, B_2 = r) \\cdot P(S_2 = r \\mid B_1 = r, B_2 = r) \\cdot P(S_3 = r \\mid B_1 = r, B_2 = r) \\cdot P(B_1=r, B_2=r) \n",
    "+ 2 \\cdot P(S_1 = r \\mid B_1 = r, B_2 = w) \\cdot P(S_2 = r \\mid B_1 = r, B_2 = w) \\cdot P(S_3 = r \\mid B_1 = r, B_2 = w) \\cdot P(B_1=r, B_2=w) \n",
    "+ P(S_1 = r \\mid B_1 = w, B_2 = w) \\cdot P(S_2 = r \\mid B_1 = w, B_2 = w) \\cdot P(S_3 = r \\mid B_1 = w, B_2 = w) \\cdot P(B_1=w, B_2=w) \n",
    " } \\\\\n",
    "&= \\frac{\\frac{1}{4}}{ \\frac{1}{4}\n",
    "+ 2 \\cdot P(S_1 = r \\mid B_1 = r, B_2 = w) \\cdot P(S_2 = r \\mid B_1 = r, B_2 = w) \\cdot P(S_3 = r \\mid B_1 = r, B_2 = w) \\cdot P(B_1=r, B_2=w) \n",
    "+ P(S_1 = r \\mid B_1 = w, B_2 = w) \\cdot P(S_2 = r \\mid B_1 = w, B_2 = w) \\cdot P(S_3 = r \\mid B_1 = w, B_2 = w) \\cdot P(B_1=w, B_2=w) \n",
    " } &\\text{Same computation as before.}\\\\\n",
    "&= \\frac{\\frac{1}{4}}{ \\frac{1}{4}\n",
    "+ 2 \\cdot P(S_1 = r \\mid B_1 = r, B_2 = w) \\cdot P(S_2 = r \\mid B_1 = r, B_2 = w) \\cdot P(S_3 = r \\mid B_1 = r, B_2 = w) \\cdot P(B_1=r, B_2=w) \n",
    "+ 0\n",
    " } &\\text{Impossible to get a red sample when both balls are white.}\\\\\n",
    "&= \\frac{\\frac{1}{4}}{ \\frac{1}{4}\n",
    "+ 2 \\cdot \\frac{1}{2} \\cdot \\frac{1}{2} \\cdot \\frac{1}{2} \\cdot \\frac{1}{4}\n",
    "+ 0\n",
    " } &\\text{$50$% chance to sample a red ball when one is red and the other is white.} \\\\\n",
    "&= \\frac{\\frac{1}{4}}{\\frac{1}{4} + \\frac{1}{16}} \\\\\n",
    "&= \\frac{\\frac{1}{4}}{\\frac{5}{16}} \\\\\n",
    "&= \\frac{16}{4 \\cdot 5} \\\\\n",
    "&= \\frac{4}{5}\n",
    "\\end{aligned}\n",
    "\\end{equation}\n",
    "$$\n"
   ]
  },
  {
   "cell_type": "markdown",
   "id": "230a10a2",
   "metadata": {},
   "source": [
    "## Ex 1.5\n",
    "\n",
    "A secret agency has developed a scanner which determines a person is a terrorist. The scanner is fairly reliable; 95% of all scanned terrorists are identified as terrorists, and 95% of all upstanding citizens are identified as such. An informant tells the agency that exactly one passenger of 100 abroad an aeroplane in which you are seated is a terrorist. The police haul off the plane the first person for which the scanner tests positive. What is the probability that this person is a terrorist?"
   ]
  },
  {
   "cell_type": "markdown",
   "id": "2c1dc36b",
   "metadata": {},
   "source": [
    "### Ans\n",
    "\n",
    "Let $T_k \\in\\{0,1\\}$ describe whether or not person $k$ is a terrorist. Let $S_k \\in \\{0,1\\}$ describe the result of the scanner for person $k$, with 0 as a negative result and 1 as a positive result. Let $H_k \\in \\{0,1\\}$ describe the person $k$ having been hauled off. Similarly, let $H_{k-1}=0,...,H_1=0$ describe people $0,...,k-1$ not being hauled off."
   ]
  },
  {
   "cell_type": "code",
   "execution_count": 12,
   "id": "a0bed7c0",
   "metadata": {},
   "outputs": [
    {
     "data": {
      "image/svg+xml": [
       "<?xml version=\"1.0\" encoding=\"UTF-8\" standalone=\"no\"?>\n",
       "<!DOCTYPE svg PUBLIC \"-//W3C//DTD SVG 1.1//EN\"\n",
       " \"http://www.w3.org/Graphics/SVG/1.1/DTD/svg11.dtd\">\n",
       "<!-- Generated by graphviz version 2.47.0 (0)\n",
       " -->\n",
       "<!-- Title: Ex 1.5 Pages: 1 -->\n",
       "<svg width=\"256pt\" height=\"188pt\"\n",
       " viewBox=\"0.00 0.00 256.04 188.00\" xmlns=\"http://www.w3.org/2000/svg\" xmlns:xlink=\"http://www.w3.org/1999/xlink\">\n",
       "<g id=\"graph0\" class=\"graph\" transform=\"scale(1 1) rotate(0) translate(4 184)\">\n",
       "<title>Ex 1.5</title>\n",
       "<polygon fill=\"white\" stroke=\"transparent\" points=\"-4,4 -4,-184 252.04,-184 252.04,4 -4,4\"/>\n",
       "<!-- T_k -->\n",
       "<g id=\"node1\" class=\"node\">\n",
       "<title>T_k</title>\n",
       "<ellipse fill=\"none\" stroke=\"black\" cx=\"34.45\" cy=\"-162\" rx=\"27\" ry=\"18\"/>\n",
       "<text text-anchor=\"middle\" x=\"34.45\" y=\"-158.3\" font-family=\"Times,serif\" font-size=\"14.00\">T_k</text>\n",
       "</g>\n",
       "<!-- S_k=1 -->\n",
       "<g id=\"node2\" class=\"node\">\n",
       "<title>S_k=1</title>\n",
       "<ellipse fill=\"none\" stroke=\"black\" cx=\"34.45\" cy=\"-90\" rx=\"34.39\" ry=\"18\"/>\n",
       "<text text-anchor=\"middle\" x=\"34.45\" y=\"-86.3\" font-family=\"Times,serif\" font-size=\"14.00\">S_k=1</text>\n",
       "</g>\n",
       "<!-- T_k&#45;&gt;S_k=1 -->\n",
       "<g id=\"edge1\" class=\"edge\">\n",
       "<title>T_k&#45;&gt;S_k=1</title>\n",
       "<path fill=\"none\" stroke=\"black\" d=\"M34.45,-143.7C34.45,-135.98 34.45,-126.71 34.45,-118.11\"/>\n",
       "<polygon fill=\"black\" stroke=\"black\" points=\"37.95,-118.1 34.45,-108.1 30.95,-118.1 37.95,-118.1\"/>\n",
       "</g>\n",
       "<!-- H_k=1 -->\n",
       "<g id=\"node3\" class=\"node\">\n",
       "<title>H_k=1</title>\n",
       "<ellipse fill=\"none\" stroke=\"black\" cx=\"100.45\" cy=\"-18\" rx=\"36.29\" ry=\"18\"/>\n",
       "<text text-anchor=\"middle\" x=\"100.45\" y=\"-14.3\" font-family=\"Times,serif\" font-size=\"14.00\">H_k=1</text>\n",
       "</g>\n",
       "<!-- S_k=1&#45;&gt;H_k=1 -->\n",
       "<g id=\"edge2\" class=\"edge\">\n",
       "<title>S_k=1&#45;&gt;H_k=1</title>\n",
       "<path fill=\"none\" stroke=\"black\" d=\"M49.09,-73.46C57.81,-64.22 69.03,-52.32 78.76,-42\"/>\n",
       "<polygon fill=\"black\" stroke=\"black\" points=\"81.53,-44.17 85.84,-34.49 76.43,-39.37 81.53,-44.17\"/>\n",
       "</g>\n",
       "<!-- H_k&#45;1=0,...,H_1=0 -->\n",
       "<g id=\"node4\" class=\"node\">\n",
       "<title>H_k&#45;1=0,...,H_1=0</title>\n",
       "<ellipse fill=\"none\" stroke=\"black\" cx=\"167.45\" cy=\"-90\" rx=\"80.69\" ry=\"18\"/>\n",
       "<text text-anchor=\"middle\" x=\"167.45\" y=\"-86.3\" font-family=\"Times,serif\" font-size=\"14.00\">H_k&#45;1=0,...,H_1=0</text>\n",
       "</g>\n",
       "<!-- H_k&#45;1=0,...,H_1=0&#45;&gt;H_k=1 -->\n",
       "<g id=\"edge3\" class=\"edge\">\n",
       "<title>H_k&#45;1=0,...,H_1=0&#45;&gt;H_k=1</title>\n",
       "<path fill=\"none\" stroke=\"black\" d=\"M151.23,-72.05C142.67,-63.12 132.04,-52.01 122.73,-42.28\"/>\n",
       "<polygon fill=\"black\" stroke=\"black\" points=\"125.04,-39.63 115.6,-34.83 119.98,-44.47 125.04,-39.63\"/>\n",
       "</g>\n",
       "</g>\n",
       "</svg>\n"
      ],
      "text/plain": [
       "<graphviz.dot.Digraph at 0x10d7d9d30>"
      ]
     },
     "execution_count": 12,
     "metadata": {},
     "output_type": "execute_result"
    }
   ],
   "source": [
    "from graphviz import Digraph\n",
    "dot = Digraph('Ex 1.5')\n",
    "dot.node('T_k') # Whether or not a person k is a terrorist.\n",
    "dot.edge('T_k', 'S_k=1') # \n",
    "dot.edge('S_k=1', 'H_k=1')\n",
    "# H_j reprents whether or not the jth person got hauled off. \n",
    "# 'H_k-1=0,...,H_1=0' represents the idea that people earlier \n",
    "# in line did not get hauled off.\n",
    "dot.edge('H_k-1=0,...,H_1=0', 'H_k=1') \n",
    "dot"
   ]
  },
  {
   "cell_type": "markdown",
   "id": "dad770e5",
   "metadata": {},
   "source": [
    "$$\n",
    "\\begin{equation}\n",
    "\\begin{aligned}\n",
    "P(T_k=1 \\mid H_k=1) &= \\sum_{s_k} P(T_k=1, S_k=s_k \\mid H_k=1) \\\\\n",
    "&= \\sum_{s_k} P(T_k=1 \\mid S_k=s_k, H_k=1) \\cdot P(S_k=s_k \\mid H_k=1) \\\\\n",
    "&= \\sum_{s_k} P(T_k=1 \\mid S_k=s_k) \\cdot P(S_k=s_k \\mid H_k=1) &\\text{Once we know of a person's scan value, getting hauled off doesn't tell us anything about if that person is a terrorist or not. In other words, $T_k \\perp H_k \\mid S_k$}\\\\\n",
    "&= P(T_k=1 \\mid S_k=1) \\cdot P(S_k=1 \\mid H_k=1) & P(S_k=0 \\mid H_k=1) = 0. \\qquad \\text{If a person got hauled off, then it must be that the scanner must have considered the person a terrorist.}\\\\\n",
    "&= P(T_k=1 \\mid S_k=1) & \\text{Simplify}\\\\\n",
    "&= \\frac{P(S_k=1 \\mid T_k=1) \\cdot P(T_k=1)}{P(S_k=1)} & \\text{Simplify}\\\\\n",
    "&= \\frac{P(S_k=1 \\mid T_k=1) \\cdot P(T_k=1)}{P(S_k=1 \\mid T_k=1) \\cdot P(T_k=1) + P(S_k=1 \\mid T_k=0) \\cdot P(T_k=0)} & \\text{Simplify}\\\\\n",
    "&= \\frac{\\frac{95}{100} \\cdot \\frac{1}{100}}{\\frac{95}{100} \\cdot \\frac{1}{100} + \\frac{5}{100} \\cdot \\frac{99}{100}} & \\text{We use the informant's claim that exactly 1 out of 100 passengers is a terrorist.}\\\\\n",
    "&= \\frac{\\frac{95}{100}}{\\frac{95}{100} + \\frac{5}{100} \\cdot 99} & \\text{Multiply numerator and denominator by $\\frac{1}{100}$}\\\\\n",
    "&= \\frac{\\frac{95}{100}}{\\frac{95}{100} + \\frac{495}{100}} \\\\\n",
    "&= \\frac{\\frac{95}{100}}{\\frac{590}{100}} \\\\\n",
    "&= \\frac{95}{590} \\\\\n",
    "&\\approx 0.16 \\\\\n",
    "\\end{aligned}\n",
    "\\end{equation}\n",
    "$$"
   ]
  },
  {
   "cell_type": "code",
   "execution_count": 129,
   "id": "40b956a8",
   "metadata": {},
   "outputs": [],
   "source": [
    "import numpy as np\n",
    "import pandas as pd\n",
    "num_sim = 1000000\n",
    "num_passengers = 100"
   ]
  },
  {
   "cell_type": "code",
   "execution_count": 130,
   "id": "a1fcc7be",
   "metadata": {},
   "outputs": [],
   "source": [
    "is_terrorist = np.random.multinomial(n=1, pvals=np.ones(num_passengers) * 0.01, size=num_sim)"
   ]
  },
  {
   "cell_type": "code",
   "execution_count": 131,
   "id": "c301afe7",
   "metadata": {
    "scrolled": true
   },
   "outputs": [
    {
     "data": {
      "text/plain": [
       "(1000000, 100)"
      ]
     },
     "execution_count": 131,
     "metadata": {},
     "output_type": "execute_result"
    }
   ],
   "source": [
    "is_terrorist.shape"
   ]
  },
  {
   "cell_type": "code",
   "execution_count": 132,
   "id": "f5502c86",
   "metadata": {},
   "outputs": [
    {
     "data": {
      "text/plain": [
       "array([[0.05, 0.05, 0.05, ..., 0.05, 0.05, 0.05],\n",
       "       [0.05, 0.05, 0.05, ..., 0.05, 0.05, 0.05],\n",
       "       [0.05, 0.05, 0.05, ..., 0.05, 0.05, 0.05],\n",
       "       ...,\n",
       "       [0.05, 0.05, 0.05, ..., 0.05, 0.05, 0.05],\n",
       "       [0.05, 0.05, 0.05, ..., 0.05, 0.05, 0.05],\n",
       "       [0.05, 0.05, 0.05, ..., 0.05, 0.95, 0.05]])"
      ]
     },
     "execution_count": 132,
     "metadata": {},
     "output_type": "execute_result"
    }
   ],
   "source": [
    "scan_positive_proba = is_terrorist * 0.95 + (is_terrorist == 0) * 0.05\n",
    "scan_positive_proba"
   ]
  },
  {
   "cell_type": "code",
   "execution_count": 133,
   "id": "dbc468ba",
   "metadata": {},
   "outputs": [],
   "source": [
    "scan_positive = np.random.binomial(n=1, p=scan_positive_proba)"
   ]
  },
  {
   "cell_type": "code",
   "execution_count": 134,
   "id": "250d29c1",
   "metadata": {},
   "outputs": [
    {
     "data": {
      "text/plain": [
       "array([[0, 0, 0, ..., 0, 0, 0],\n",
       "       [0, 1, 1, ..., 1, 0, 0],\n",
       "       [0, 0, 0, ..., 0, 0, 0],\n",
       "       ...,\n",
       "       [0, 0, 0, ..., 0, 0, 1],\n",
       "       [0, 0, 0, ..., 0, 0, 0],\n",
       "       [0, 0, 0, ..., 0, 1, 0]])"
      ]
     },
     "execution_count": 134,
     "metadata": {},
     "output_type": "execute_result"
    }
   ],
   "source": [
    "scan_positive"
   ]
  },
  {
   "cell_type": "code",
   "execution_count": 135,
   "id": "e7b4fda4",
   "metadata": {},
   "outputs": [
    {
     "data": {
      "text/plain": [
       "(1000000, 100)"
      ]
     },
     "execution_count": 135,
     "metadata": {},
     "output_type": "execute_result"
    }
   ],
   "source": [
    "scan_positive.shape"
   ]
  },
  {
   "cell_type": "code",
   "execution_count": 136,
   "id": "c6356507",
   "metadata": {
    "scrolled": true
   },
   "outputs": [
    {
     "data": {
      "text/plain": [
       "array([0, 0, 0, 0, 0, 0, 0, 0, 0, 0, 0, 0, 0, 0, 0, 0, 0, 0, 0, 0, 0, 0,\n",
       "       0, 0, 0, 0, 0, 0, 0, 0, 0, 0, 1, 0, 0, 0, 0, 0, 0, 0, 0, 0, 0, 0,\n",
       "       1, 0, 0, 0, 0, 0, 0, 0, 0, 0, 1, 0, 0, 0, 1, 1, 0, 0, 0, 0, 0, 1,\n",
       "       0, 0, 0, 0, 0, 0, 1, 0, 0, 0, 0, 0, 0, 0, 0, 0, 0, 0, 0, 0, 0, 1,\n",
       "       0, 0, 0, 0, 0, 1, 0, 1, 0, 0, 0, 0])"
      ]
     },
     "execution_count": 136,
     "metadata": {},
     "output_type": "execute_result"
    }
   ],
   "source": [
    "scan_positive[0]"
   ]
  },
  {
   "cell_type": "code",
   "execution_count": 137,
   "id": "95804c4e",
   "metadata": {},
   "outputs": [
    {
     "data": {
      "text/plain": [
       "array([10,  8,  5, ...,  9,  2,  8])"
      ]
     },
     "execution_count": 137,
     "metadata": {},
     "output_type": "execute_result"
    }
   ],
   "source": [
    "scan_positive.sum(axis=1)"
   ]
  },
  {
   "cell_type": "code",
   "execution_count": 138,
   "id": "d6c2db96",
   "metadata": {},
   "outputs": [],
   "source": [
    "x, y = np.where(scan_positive == 1)"
   ]
  },
  {
   "cell_type": "code",
   "execution_count": 139,
   "id": "8b5816f6",
   "metadata": {},
   "outputs": [],
   "source": [
    "hauled_x_y = pd.DataFrame({'x': x, 'y': y}).drop_duplicates(subset='x')"
   ]
  },
  {
   "cell_type": "code",
   "execution_count": 140,
   "id": "6e2e3316",
   "metadata": {},
   "outputs": [
    {
     "data": {
      "text/html": [
       "<div>\n",
       "<style scoped>\n",
       "    .dataframe tbody tr th:only-of-type {\n",
       "        vertical-align: middle;\n",
       "    }\n",
       "\n",
       "    .dataframe tbody tr th {\n",
       "        vertical-align: top;\n",
       "    }\n",
       "\n",
       "    .dataframe thead th {\n",
       "        text-align: right;\n",
       "    }\n",
       "</style>\n",
       "<table border=\"1\" class=\"dataframe\">\n",
       "  <thead>\n",
       "    <tr style=\"text-align: right;\">\n",
       "      <th></th>\n",
       "      <th>x</th>\n",
       "      <th>y</th>\n",
       "    </tr>\n",
       "  </thead>\n",
       "  <tbody>\n",
       "    <tr>\n",
       "      <th>0</th>\n",
       "      <td>0</td>\n",
       "      <td>32</td>\n",
       "    </tr>\n",
       "    <tr>\n",
       "      <th>10</th>\n",
       "      <td>1</td>\n",
       "      <td>1</td>\n",
       "    </tr>\n",
       "    <tr>\n",
       "      <th>18</th>\n",
       "      <td>2</td>\n",
       "      <td>10</td>\n",
       "    </tr>\n",
       "    <tr>\n",
       "      <th>23</th>\n",
       "      <td>3</td>\n",
       "      <td>1</td>\n",
       "    </tr>\n",
       "    <tr>\n",
       "      <th>27</th>\n",
       "      <td>4</td>\n",
       "      <td>5</td>\n",
       "    </tr>\n",
       "    <tr>\n",
       "      <th>...</th>\n",
       "      <td>...</td>\n",
       "      <td>...</td>\n",
       "    </tr>\n",
       "    <tr>\n",
       "      <th>5898943</th>\n",
       "      <td>999995</td>\n",
       "      <td>29</td>\n",
       "    </tr>\n",
       "    <tr>\n",
       "      <th>5898954</th>\n",
       "      <td>999996</td>\n",
       "      <td>0</td>\n",
       "    </tr>\n",
       "    <tr>\n",
       "      <th>5898959</th>\n",
       "      <td>999997</td>\n",
       "      <td>13</td>\n",
       "    </tr>\n",
       "    <tr>\n",
       "      <th>5898968</th>\n",
       "      <td>999998</td>\n",
       "      <td>7</td>\n",
       "    </tr>\n",
       "    <tr>\n",
       "      <th>5898970</th>\n",
       "      <td>999999</td>\n",
       "      <td>4</td>\n",
       "    </tr>\n",
       "  </tbody>\n",
       "</table>\n",
       "<p>999680 rows × 2 columns</p>\n",
       "</div>"
      ],
      "text/plain": [
       "              x   y\n",
       "0             0  32\n",
       "10            1   1\n",
       "18            2  10\n",
       "23            3   1\n",
       "27            4   5\n",
       "...         ...  ..\n",
       "5898943  999995  29\n",
       "5898954  999996   0\n",
       "5898959  999997  13\n",
       "5898968  999998   7\n",
       "5898970  999999   4\n",
       "\n",
       "[999680 rows x 2 columns]"
      ]
     },
     "execution_count": 140,
     "metadata": {},
     "output_type": "execute_result"
    }
   ],
   "source": [
    "hauled_x_y"
   ]
  },
  {
   "cell_type": "code",
   "execution_count": 141,
   "id": "84403701",
   "metadata": {},
   "outputs": [
    {
     "data": {
      "text/plain": [
       "99"
      ]
     },
     "execution_count": 141,
     "metadata": {},
     "output_type": "execute_result"
    }
   ],
   "source": [
    "hauled_x_y['y'].max()"
   ]
  },
  {
   "cell_type": "code",
   "execution_count": 142,
   "id": "c37958f2",
   "metadata": {},
   "outputs": [
    {
     "data": {
      "text/plain": [
       "999999"
      ]
     },
     "execution_count": 142,
     "metadata": {},
     "output_type": "execute_result"
    }
   ],
   "source": [
    "hauled_x_y['x'].max()"
   ]
  },
  {
   "cell_type": "code",
   "execution_count": 143,
   "id": "f1ee4c89",
   "metadata": {},
   "outputs": [
    {
     "data": {
      "text/plain": [
       "(1000000, 100)"
      ]
     },
     "execution_count": 143,
     "metadata": {},
     "output_type": "execute_result"
    }
   ],
   "source": [
    "is_terrorist.shape"
   ]
  },
  {
   "cell_type": "code",
   "execution_count": 144,
   "id": "d083b6ab",
   "metadata": {},
   "outputs": [],
   "source": [
    "terrorist_count = 0\n",
    "for index, row in hauled_x_y.iterrows():\n",
    "    terrorist_count += is_terrorist[row['x'], row['y']]"
   ]
  },
  {
   "cell_type": "code",
   "execution_count": 145,
   "id": "02f41c41",
   "metadata": {
    "scrolled": true
   },
   "outputs": [
    {
     "data": {
      "text/plain": [
       "0.18868737996158771"
      ]
     },
     "execution_count": 145,
     "metadata": {},
     "output_type": "execute_result"
    }
   ],
   "source": [
    "terrorist_count / hauled_x_y.shape[0]"
   ]
  },
  {
   "cell_type": "code",
   "execution_count": 146,
   "id": "c25c7eaf",
   "metadata": {
    "scrolled": true
   },
   "outputs": [
    {
     "data": {
      "text/plain": [
       "0.188627"
      ]
     },
     "execution_count": 146,
     "metadata": {},
     "output_type": "execute_result"
    }
   ],
   "source": [
    "terrorist_count / num_sim"
   ]
  },
  {
   "cell_type": "code",
   "execution_count": 78,
   "id": "998a051a",
   "metadata": {},
   "outputs": [
    {
     "data": {
      "text/plain": [
       "array([0, 0, 0, 0, 0, 0, 0, 0, 0, 0, 0, 1, 0, 0, 0, 0, 0, 0, 0, 0, 0, 0,\n",
       "       0, 0, 1, 0, 0, 0, 0, 0, 0, 0, 0, 0, 0, 0, 0, 0, 0, 0, 0, 0, 0, 0,\n",
       "       1, 0, 0, 0, 0, 0, 0, 0, 0, 1, 0, 1, 0, 0, 0, 0, 0, 0, 0, 0, 0, 0,\n",
       "       0, 0, 0, 0, 0, 0, 0, 0, 1, 0, 0, 0, 0, 0, 0, 0, 0, 0, 0, 1, 0, 0,\n",
       "       0, 0, 0, 0, 1, 0, 0, 0, 0, 0, 0, 1])"
      ]
     },
     "execution_count": 78,
     "metadata": {},
     "output_type": "execute_result"
    }
   ],
   "source": [
    "scan_positive[0]"
   ]
  },
  {
   "cell_type": "code",
   "execution_count": 75,
   "id": "2f1e87f0",
   "metadata": {},
   "outputs": [
    {
     "data": {
      "text/plain": [
       "array([[0, 0, 0, ..., 0, 0, 1],\n",
       "       [0, 0, 0, ..., 0, 0, 0],\n",
       "       [0, 1, 0, ..., 0, 1, 0],\n",
       "       ...,\n",
       "       [0, 0, 0, ..., 0, 0, 0],\n",
       "       [0, 0, 0, ..., 0, 0, 0],\n",
       "       [0, 0, 0, ..., 0, 0, 0]])"
      ]
     },
     "execution_count": 75,
     "metadata": {},
     "output_type": "execute_result"
    }
   ],
   "source": [
    "scan_positive"
   ]
  },
  {
   "cell_type": "code",
   "execution_count": 80,
   "id": "c670bb5e",
   "metadata": {},
   "outputs": [
    {
     "data": {
      "text/plain": [
       "array([0, 0, 0, 0, 0, 0, 0, 0, 0, 0, 0, 1, 1, 1, 1, 1, 1, 1, 1, 1, 1, 1,\n",
       "       1, 1, 2, 2, 2, 2, 2, 2, 2, 2, 2, 2, 2, 2, 2, 2, 2, 2, 2, 2, 2, 2,\n",
       "       3, 3, 3, 3, 3, 3, 3, 3, 3, 4, 4, 5, 5, 5, 5, 5, 5, 5, 5, 5, 5, 5,\n",
       "       5, 5, 5, 5, 5, 5, 5, 5, 6, 6, 6, 6, 6, 6, 6, 6, 6, 6, 6, 7, 7, 7,\n",
       "       7, 7, 7, 7, 8, 8, 8, 8, 8, 8, 8, 9])"
      ]
     },
     "execution_count": 80,
     "metadata": {},
     "output_type": "execute_result"
    }
   ],
   "source": [
    "np.cumsum(scan_positive, axis=1)[0]"
   ]
  },
  {
   "cell_type": "code",
   "execution_count": 50,
   "id": "4c84db4e",
   "metadata": {},
   "outputs": [
    {
     "data": {
      "text/plain": [
       "(array([   0,    0,    0, ..., 9999, 9999, 9999]),\n",
       " array([ 0,  1,  2, ..., 97, 98, 99]))"
      ]
     },
     "execution_count": 50,
     "metadata": {},
     "output_type": "execute_result"
    }
   ],
   "source": [
    "np.where(is_terrorist == 0)"
   ]
  },
  {
   "cell_type": "code",
   "execution_count": 49,
   "id": "9d263921",
   "metadata": {},
   "outputs": [
    {
     "data": {
      "text/plain": [
       "array([0, 0, 0, 0, 0, 0, 0, 0, 0, 0, 0, 0, 0, 0, 0, 0, 0, 0, 0, 0, 0, 0,\n",
       "       0, 0, 0, 0, 0, 0, 0, 0, 0, 0, 0, 0, 0, 0, 0, 0, 0, 0, 0, 0, 0, 0,\n",
       "       0, 0, 0, 0, 0, 0, 0, 0, 0, 1, 0, 0, 0, 0, 0, 0, 0, 0, 0, 0, 0, 0,\n",
       "       0, 0, 0, 0, 0, 0, 0, 0, 0, 0, 0, 0, 0, 0, 0, 0, 0, 0, 0, 0, 0, 0,\n",
       "       0, 0, 0, 0, 0, 0, 0, 0, 0, 0, 0, 0])"
      ]
     },
     "execution_count": 49,
     "metadata": {},
     "output_type": "execute_result"
    }
   ],
   "source": [
    "np.random.multinomial(n=1, pvals=is_terrorist[0])"
   ]
  },
  {
   "cell_type": "code",
   "execution_count": 29,
   "id": "d0f5f364",
   "metadata": {},
   "outputs": [
    {
     "data": {
      "text/plain": [
       "(10000, 100)"
      ]
     },
     "execution_count": 29,
     "metadata": {},
     "output_type": "execute_result"
    }
   ],
   "source": [
    "np.where(is_terrorist)"
   ]
  },
  {
   "cell_type": "code",
   "execution_count": null,
   "id": "4dd75350",
   "metadata": {},
   "outputs": [],
   "source": []
  }
 ],
 "metadata": {
  "kernelspec": {
   "display_name": "Python 3",
   "language": "python",
   "name": "python3"
  },
  "language_info": {
   "codemirror_mode": {
    "name": "ipython",
    "version": 3
   },
   "file_extension": ".py",
   "mimetype": "text/x-python",
   "name": "python",
   "nbconvert_exporter": "python",
   "pygments_lexer": "ipython3",
   "version": "3.8.10"
  },
  "toc": {
   "base_numbering": 1,
   "colors": {
    "hover_highlight": "#DAA520",
    "navigate_num": "#000000",
    "navigate_text": "#333333",
    "running_highlight": "#FF0000",
    "selected_highlight": "#FFD700",
    "sidebar_border": "#EEEEEE",
    "wrapper_background": "#FFFFFF"
   },
   "moveMenuLeft": true,
   "nav_menu": {
    "height": "93.9333px",
    "width": "253.8px"
   },
   "navigate_menu": true,
   "number_sections": true,
   "sideBar": true,
   "skip_h1_title": false,
   "threshold": "5",
   "title_cell": "Table of Contents",
   "title_sidebar": "Contents",
   "toc_cell": true,
   "toc_position": {},
   "toc_section_display": "block",
   "toc_window_display": true,
   "widenNotebook": false
  }
 },
 "nbformat": 4,
 "nbformat_minor": 5
}
